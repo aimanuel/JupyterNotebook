{
  "nbformat": 4,
  "nbformat_minor": 5,
  "metadata": {
    "kernelspec": {
      "display_name": "Python 3",
      "language": "python",
      "name": "python3"
    },
    "language_info": {
      "codemirror_mode": {
        "name": "ipython",
        "version": 3
      },
      "file_extension": ".py",
      "mimetype": "text/x-python",
      "name": "python",
      "nbconvert_exporter": "python",
      "pygments_lexer": "ipython3",
      "version": "3.8.8"
    },
    "colab": {
      "name": "3. Codility Linear Regression.ipynb",
      "provenance": [],
      "include_colab_link": true
    }
  },
  "cells": [
    {
      "cell_type": "markdown",
      "metadata": {
        "id": "view-in-github",
        "colab_type": "text"
      },
      "source": [
        "<a href=\"https://colab.research.google.com/github/aimanuel/JupyterNotebook/blob/main/3_Codility_Linear_Regression.ipynb\" target=\"_parent\"><img src=\"https://colab.research.google.com/assets/colab-badge.svg\" alt=\"Open In Colab\"/></a>"
      ]
    },
    {
      "cell_type": "code",
      "metadata": {
        "id": "6731f2e2"
      },
      "source": [
        "import pandas as pd\n",
        "import numpy as np"
      ],
      "id": "6731f2e2",
      "execution_count": null,
      "outputs": []
    },
    {
      "cell_type": "code",
      "metadata": {
        "id": "919f8e5e"
      },
      "source": [
        "import matplotlib.pyplot as plt\n",
        "import seaborn as sns"
      ],
      "id": "919f8e5e",
      "execution_count": null,
      "outputs": []
    },
    {
      "cell_type": "code",
      "metadata": {
        "id": "45e248d3"
      },
      "source": [
        "%matplotlib inline"
      ],
      "id": "45e248d3",
      "execution_count": null,
      "outputs": []
    },
    {
      "cell_type": "code",
      "metadata": {
        "id": "140655cc"
      },
      "source": [
        "filename = 'C:\\\\Users\\\\Adrian Imanuel\\\\Google Drive\\\\13. Python\\\\Machine Learning\\\\DataWow\\\\realest.csv'"
      ],
      "id": "140655cc",
      "execution_count": null,
      "outputs": []
    },
    {
      "cell_type": "code",
      "metadata": {
        "id": "e8128950",
        "outputId": "c093604f-a82f-4948-9064-668664b44c60"
      },
      "source": [
        "data = pd.read_csv(filename)\n",
        "data.head()"
      ],
      "id": "e8128950",
      "execution_count": null,
      "outputs": [
        {
          "data": {
            "text/html": [
              "<div>\n",
              "<style scoped>\n",
              "    .dataframe tbody tr th:only-of-type {\n",
              "        vertical-align: middle;\n",
              "    }\n",
              "\n",
              "    .dataframe tbody tr th {\n",
              "        vertical-align: top;\n",
              "    }\n",
              "\n",
              "    .dataframe thead th {\n",
              "        text-align: right;\n",
              "    }\n",
              "</style>\n",
              "<table border=\"1\" class=\"dataframe\">\n",
              "  <thead>\n",
              "    <tr style=\"text-align: right;\">\n",
              "      <th></th>\n",
              "      <th>Price</th>\n",
              "      <th>Bedroom</th>\n",
              "      <th>Space</th>\n",
              "      <th>Room</th>\n",
              "      <th>Lot</th>\n",
              "      <th>Tax</th>\n",
              "      <th>Bathroom</th>\n",
              "      <th>Garage</th>\n",
              "      <th>Condition</th>\n",
              "    </tr>\n",
              "  </thead>\n",
              "  <tbody>\n",
              "    <tr>\n",
              "      <th>0</th>\n",
              "      <td>53.0</td>\n",
              "      <td>2.0</td>\n",
              "      <td>967.0</td>\n",
              "      <td>5.0</td>\n",
              "      <td>39.0</td>\n",
              "      <td>652.0</td>\n",
              "      <td>1.5</td>\n",
              "      <td>0.0</td>\n",
              "      <td>0.0</td>\n",
              "    </tr>\n",
              "    <tr>\n",
              "      <th>1</th>\n",
              "      <td>55.0</td>\n",
              "      <td>2.0</td>\n",
              "      <td>815.0</td>\n",
              "      <td>5.0</td>\n",
              "      <td>33.0</td>\n",
              "      <td>1000.0</td>\n",
              "      <td>1.0</td>\n",
              "      <td>2.0</td>\n",
              "      <td>1.0</td>\n",
              "    </tr>\n",
              "    <tr>\n",
              "      <th>2</th>\n",
              "      <td>56.0</td>\n",
              "      <td>3.0</td>\n",
              "      <td>900.0</td>\n",
              "      <td>5.0</td>\n",
              "      <td>35.0</td>\n",
              "      <td>897.0</td>\n",
              "      <td>1.5</td>\n",
              "      <td>1.0</td>\n",
              "      <td>0.0</td>\n",
              "    </tr>\n",
              "    <tr>\n",
              "      <th>3</th>\n",
              "      <td>58.0</td>\n",
              "      <td>3.0</td>\n",
              "      <td>1007.0</td>\n",
              "      <td>6.0</td>\n",
              "      <td>24.0</td>\n",
              "      <td>964.0</td>\n",
              "      <td>1.5</td>\n",
              "      <td>2.0</td>\n",
              "      <td>0.0</td>\n",
              "    </tr>\n",
              "    <tr>\n",
              "      <th>4</th>\n",
              "      <td>64.0</td>\n",
              "      <td>3.0</td>\n",
              "      <td>1100.0</td>\n",
              "      <td>7.0</td>\n",
              "      <td>50.0</td>\n",
              "      <td>1099.0</td>\n",
              "      <td>1.5</td>\n",
              "      <td>1.5</td>\n",
              "      <td>0.0</td>\n",
              "    </tr>\n",
              "  </tbody>\n",
              "</table>\n",
              "</div>"
            ],
            "text/plain": [
              "   Price  Bedroom   Space  Room   Lot     Tax  Bathroom  Garage  Condition\n",
              "0   53.0      2.0   967.0   5.0  39.0   652.0       1.5     0.0        0.0\n",
              "1   55.0      2.0   815.0   5.0  33.0  1000.0       1.0     2.0        1.0\n",
              "2   56.0      3.0   900.0   5.0  35.0   897.0       1.5     1.0        0.0\n",
              "3   58.0      3.0  1007.0   6.0  24.0   964.0       1.5     2.0        0.0\n",
              "4   64.0      3.0  1100.0   7.0  50.0  1099.0       1.5     1.5        0.0"
            ]
          },
          "execution_count": 62,
          "metadata": {},
          "output_type": "execute_result"
        }
      ]
    },
    {
      "cell_type": "code",
      "metadata": {
        "id": "5ffca26a"
      },
      "source": [
        ""
      ],
      "id": "5ffca26a",
      "execution_count": null,
      "outputs": []
    },
    {
      "cell_type": "code",
      "metadata": {
        "id": "d69c6ae6",
        "outputId": "94378dc7-a8b5-4672-945c-b9010664f951"
      },
      "source": [
        "data.info()"
      ],
      "id": "d69c6ae6",
      "execution_count": null,
      "outputs": [
        {
          "name": "stdout",
          "output_type": "stream",
          "text": [
            "<class 'pandas.core.frame.DataFrame'>\n",
            "RangeIndex: 157 entries, 0 to 156\n",
            "Data columns (total 9 columns):\n",
            " #   Column     Non-Null Count  Dtype  \n",
            "---  ------     --------------  -----  \n",
            " 0   Price      156 non-null    float64\n",
            " 1   Bedroom    156 non-null    float64\n",
            " 2   Space      146 non-null    float64\n",
            " 3   Room       156 non-null    float64\n",
            " 4   Lot        146 non-null    float64\n",
            " 5   Tax        147 non-null    float64\n",
            " 6   Bathroom   156 non-null    float64\n",
            " 7   Garage     156 non-null    float64\n",
            " 8   Condition  156 non-null    float64\n",
            "dtypes: float64(9)\n",
            "memory usage: 11.2 KB\n"
          ]
        }
      ]
    },
    {
      "cell_type": "code",
      "metadata": {
        "id": "b6dcee47",
        "outputId": "8993993f-58c4-4e79-c2af-105ecfa8ffce"
      },
      "source": [
        "data.isnull().sum()"
      ],
      "id": "b6dcee47",
      "execution_count": null,
      "outputs": [
        {
          "data": {
            "text/plain": [
              "Price         1\n",
              "Bedroom       1\n",
              "Space        11\n",
              "Room          1\n",
              "Lot          11\n",
              "Tax          10\n",
              "Bathroom      1\n",
              "Garage        1\n",
              "Condition     1\n",
              "dtype: int64"
            ]
          },
          "execution_count": 64,
          "metadata": {},
          "output_type": "execute_result"
        }
      ]
    },
    {
      "cell_type": "code",
      "metadata": {
        "id": "33a0610c"
      },
      "source": [
        "data.dropna(inplace=True)"
      ],
      "id": "33a0610c",
      "execution_count": null,
      "outputs": []
    },
    {
      "cell_type": "code",
      "metadata": {
        "id": "eb3e9868",
        "outputId": "c890aa63-5c7a-4412-ea15-0a735d0b0ded"
      },
      "source": [
        "data.isnull().sum()"
      ],
      "id": "eb3e9868",
      "execution_count": null,
      "outputs": [
        {
          "data": {
            "text/plain": [
              "Price        0\n",
              "Bedroom      0\n",
              "Space        0\n",
              "Room         0\n",
              "Lot          0\n",
              "Tax          0\n",
              "Bathroom     0\n",
              "Garage       0\n",
              "Condition    0\n",
              "dtype: int64"
            ]
          },
          "execution_count": 66,
          "metadata": {},
          "output_type": "execute_result"
        }
      ]
    },
    {
      "cell_type": "code",
      "metadata": {
        "id": "904faa36",
        "outputId": "325b9e39-9f21-4481-ea85-e2bb4887d4b0"
      },
      "source": [
        "data"
      ],
      "id": "904faa36",
      "execution_count": null,
      "outputs": [
        {
          "data": {
            "text/html": [
              "<div>\n",
              "<style scoped>\n",
              "    .dataframe tbody tr th:only-of-type {\n",
              "        vertical-align: middle;\n",
              "    }\n",
              "\n",
              "    .dataframe tbody tr th {\n",
              "        vertical-align: top;\n",
              "    }\n",
              "\n",
              "    .dataframe thead th {\n",
              "        text-align: right;\n",
              "    }\n",
              "</style>\n",
              "<table border=\"1\" class=\"dataframe\">\n",
              "  <thead>\n",
              "    <tr style=\"text-align: right;\">\n",
              "      <th></th>\n",
              "      <th>Price</th>\n",
              "      <th>Bedroom</th>\n",
              "      <th>Space</th>\n",
              "      <th>Room</th>\n",
              "      <th>Lot</th>\n",
              "      <th>Tax</th>\n",
              "      <th>Bathroom</th>\n",
              "      <th>Garage</th>\n",
              "      <th>Condition</th>\n",
              "    </tr>\n",
              "  </thead>\n",
              "  <tbody>\n",
              "    <tr>\n",
              "      <th>0</th>\n",
              "      <td>53.0</td>\n",
              "      <td>2.0</td>\n",
              "      <td>967.0</td>\n",
              "      <td>5.0</td>\n",
              "      <td>39.0</td>\n",
              "      <td>652.0</td>\n",
              "      <td>1.5</td>\n",
              "      <td>0.0</td>\n",
              "      <td>0.0</td>\n",
              "    </tr>\n",
              "    <tr>\n",
              "      <th>1</th>\n",
              "      <td>55.0</td>\n",
              "      <td>2.0</td>\n",
              "      <td>815.0</td>\n",
              "      <td>5.0</td>\n",
              "      <td>33.0</td>\n",
              "      <td>1000.0</td>\n",
              "      <td>1.0</td>\n",
              "      <td>2.0</td>\n",
              "      <td>1.0</td>\n",
              "    </tr>\n",
              "    <tr>\n",
              "      <th>2</th>\n",
              "      <td>56.0</td>\n",
              "      <td>3.0</td>\n",
              "      <td>900.0</td>\n",
              "      <td>5.0</td>\n",
              "      <td>35.0</td>\n",
              "      <td>897.0</td>\n",
              "      <td>1.5</td>\n",
              "      <td>1.0</td>\n",
              "      <td>0.0</td>\n",
              "    </tr>\n",
              "    <tr>\n",
              "      <th>3</th>\n",
              "      <td>58.0</td>\n",
              "      <td>3.0</td>\n",
              "      <td>1007.0</td>\n",
              "      <td>6.0</td>\n",
              "      <td>24.0</td>\n",
              "      <td>964.0</td>\n",
              "      <td>1.5</td>\n",
              "      <td>2.0</td>\n",
              "      <td>0.0</td>\n",
              "    </tr>\n",
              "    <tr>\n",
              "      <th>4</th>\n",
              "      <td>64.0</td>\n",
              "      <td>3.0</td>\n",
              "      <td>1100.0</td>\n",
              "      <td>7.0</td>\n",
              "      <td>50.0</td>\n",
              "      <td>1099.0</td>\n",
              "      <td>1.5</td>\n",
              "      <td>1.5</td>\n",
              "      <td>0.0</td>\n",
              "    </tr>\n",
              "    <tr>\n",
              "      <th>...</th>\n",
              "      <td>...</td>\n",
              "      <td>...</td>\n",
              "      <td>...</td>\n",
              "      <td>...</td>\n",
              "      <td>...</td>\n",
              "      <td>...</td>\n",
              "      <td>...</td>\n",
              "      <td>...</td>\n",
              "      <td>...</td>\n",
              "    </tr>\n",
              "    <tr>\n",
              "      <th>149</th>\n",
              "      <td>32.0</td>\n",
              "      <td>4.0</td>\n",
              "      <td>1065.0</td>\n",
              "      <td>7.0</td>\n",
              "      <td>25.0</td>\n",
              "      <td>492.0</td>\n",
              "      <td>1.5</td>\n",
              "      <td>0.0</td>\n",
              "      <td>0.0</td>\n",
              "    </tr>\n",
              "    <tr>\n",
              "      <th>151</th>\n",
              "      <td>42.0</td>\n",
              "      <td>3.0</td>\n",
              "      <td>585.0</td>\n",
              "      <td>5.0</td>\n",
              "      <td>50.0</td>\n",
              "      <td>713.0</td>\n",
              "      <td>1.0</td>\n",
              "      <td>0.0</td>\n",
              "      <td>0.0</td>\n",
              "    </tr>\n",
              "    <tr>\n",
              "      <th>153</th>\n",
              "      <td>43.0</td>\n",
              "      <td>2.0</td>\n",
              "      <td>593.0</td>\n",
              "      <td>4.0</td>\n",
              "      <td>30.0</td>\n",
              "      <td>465.0</td>\n",
              "      <td>2.0</td>\n",
              "      <td>1.0</td>\n",
              "      <td>0.0</td>\n",
              "    </tr>\n",
              "    <tr>\n",
              "      <th>154</th>\n",
              "      <td>53.0</td>\n",
              "      <td>3.0</td>\n",
              "      <td>716.0</td>\n",
              "      <td>6.0</td>\n",
              "      <td>30.0</td>\n",
              "      <td>585.0</td>\n",
              "      <td>1.0</td>\n",
              "      <td>2.0</td>\n",
              "      <td>1.0</td>\n",
              "    </tr>\n",
              "    <tr>\n",
              "      <th>155</th>\n",
              "      <td>62.0</td>\n",
              "      <td>4.0</td>\n",
              "      <td>951.0</td>\n",
              "      <td>7.0</td>\n",
              "      <td>30.0</td>\n",
              "      <td>895.0</td>\n",
              "      <td>2.0</td>\n",
              "      <td>1.0</td>\n",
              "      <td>0.0</td>\n",
              "    </tr>\n",
              "  </tbody>\n",
              "</table>\n",
              "<p>128 rows × 9 columns</p>\n",
              "</div>"
            ],
            "text/plain": [
              "     Price  Bedroom   Space  Room   Lot     Tax  Bathroom  Garage  Condition\n",
              "0     53.0      2.0   967.0   5.0  39.0   652.0       1.5     0.0        0.0\n",
              "1     55.0      2.0   815.0   5.0  33.0  1000.0       1.0     2.0        1.0\n",
              "2     56.0      3.0   900.0   5.0  35.0   897.0       1.5     1.0        0.0\n",
              "3     58.0      3.0  1007.0   6.0  24.0   964.0       1.5     2.0        0.0\n",
              "4     64.0      3.0  1100.0   7.0  50.0  1099.0       1.5     1.5        0.0\n",
              "..     ...      ...     ...   ...   ...     ...       ...     ...        ...\n",
              "149   32.0      4.0  1065.0   7.0  25.0   492.0       1.5     0.0        0.0\n",
              "151   42.0      3.0   585.0   5.0  50.0   713.0       1.0     0.0        0.0\n",
              "153   43.0      2.0   593.0   4.0  30.0   465.0       2.0     1.0        0.0\n",
              "154   53.0      3.0   716.0   6.0  30.0   585.0       1.0     2.0        1.0\n",
              "155   62.0      4.0   951.0   7.0  30.0   895.0       2.0     1.0        0.0\n",
              "\n",
              "[128 rows x 9 columns]"
            ]
          },
          "execution_count": 67,
          "metadata": {},
          "output_type": "execute_result"
        }
      ]
    },
    {
      "cell_type": "code",
      "metadata": {
        "id": "19f4380e",
        "outputId": "9365f2aa-2c4d-45bc-dd99-ba75da2ce047"
      },
      "source": [
        "data[(data['Bathroom']==2)|(data['Bedroom']==4)].describe(percentiles=None)"
      ],
      "id": "19f4380e",
      "execution_count": null,
      "outputs": [
        {
          "data": {
            "text/html": [
              "<div>\n",
              "<style scoped>\n",
              "    .dataframe tbody tr th:only-of-type {\n",
              "        vertical-align: middle;\n",
              "    }\n",
              "\n",
              "    .dataframe tbody tr th {\n",
              "        vertical-align: top;\n",
              "    }\n",
              "\n",
              "    .dataframe thead th {\n",
              "        text-align: right;\n",
              "    }\n",
              "</style>\n",
              "<table border=\"1\" class=\"dataframe\">\n",
              "  <thead>\n",
              "    <tr style=\"text-align: right;\">\n",
              "      <th></th>\n",
              "      <th>Price</th>\n",
              "      <th>Bedroom</th>\n",
              "      <th>Space</th>\n",
              "      <th>Room</th>\n",
              "      <th>Lot</th>\n",
              "      <th>Tax</th>\n",
              "      <th>Bathroom</th>\n",
              "      <th>Garage</th>\n",
              "      <th>Condition</th>\n",
              "    </tr>\n",
              "  </thead>\n",
              "  <tbody>\n",
              "    <tr>\n",
              "      <th>count</th>\n",
              "      <td>37.000000</td>\n",
              "      <td>37.000000</td>\n",
              "      <td>37.000000</td>\n",
              "      <td>37.000000</td>\n",
              "      <td>37.000000</td>\n",
              "      <td>37.000000</td>\n",
              "      <td>37.000000</td>\n",
              "      <td>37.000000</td>\n",
              "      <td>37.000000</td>\n",
              "    </tr>\n",
              "    <tr>\n",
              "      <th>mean</th>\n",
              "      <td>53.324324</td>\n",
              "      <td>3.486486</td>\n",
              "      <td>1090.783784</td>\n",
              "      <td>6.972973</td>\n",
              "      <td>30.324324</td>\n",
              "      <td>765.081081</td>\n",
              "      <td>1.770270</td>\n",
              "      <td>0.635135</td>\n",
              "      <td>0.243243</td>\n",
              "    </tr>\n",
              "    <tr>\n",
              "      <th>std</th>\n",
              "      <td>13.220468</td>\n",
              "      <td>0.768173</td>\n",
              "      <td>310.888434</td>\n",
              "      <td>1.117698</td>\n",
              "      <td>6.298386</td>\n",
              "      <td>221.155096</td>\n",
              "      <td>0.401293</td>\n",
              "      <td>0.608375</td>\n",
              "      <td>0.434959</td>\n",
              "    </tr>\n",
              "    <tr>\n",
              "      <th>min</th>\n",
              "      <td>32.000000</td>\n",
              "      <td>2.000000</td>\n",
              "      <td>593.000000</td>\n",
              "      <td>4.000000</td>\n",
              "      <td>25.000000</td>\n",
              "      <td>418.000000</td>\n",
              "      <td>1.000000</td>\n",
              "      <td>0.000000</td>\n",
              "      <td>0.000000</td>\n",
              "    </tr>\n",
              "    <tr>\n",
              "      <th>25%</th>\n",
              "      <td>44.000000</td>\n",
              "      <td>3.000000</td>\n",
              "      <td>897.000000</td>\n",
              "      <td>7.000000</td>\n",
              "      <td>25.000000</td>\n",
              "      <td>584.000000</td>\n",
              "      <td>1.500000</td>\n",
              "      <td>0.000000</td>\n",
              "      <td>0.000000</td>\n",
              "    </tr>\n",
              "    <tr>\n",
              "      <th>50%</th>\n",
              "      <td>51.000000</td>\n",
              "      <td>4.000000</td>\n",
              "      <td>1053.000000</td>\n",
              "      <td>7.000000</td>\n",
              "      <td>30.000000</td>\n",
              "      <td>725.000000</td>\n",
              "      <td>2.000000</td>\n",
              "      <td>1.000000</td>\n",
              "      <td>0.000000</td>\n",
              "    </tr>\n",
              "    <tr>\n",
              "      <th>75%</th>\n",
              "      <td>64.000000</td>\n",
              "      <td>4.000000</td>\n",
              "      <td>1137.000000</td>\n",
              "      <td>7.000000</td>\n",
              "      <td>30.000000</td>\n",
              "      <td>941.000000</td>\n",
              "      <td>2.000000</td>\n",
              "      <td>1.000000</td>\n",
              "      <td>0.000000</td>\n",
              "    </tr>\n",
              "    <tr>\n",
              "      <th>max</th>\n",
              "      <td>82.000000</td>\n",
              "      <td>4.000000</td>\n",
              "      <td>2104.000000</td>\n",
              "      <td>9.000000</td>\n",
              "      <td>50.000000</td>\n",
              "      <td>1287.000000</td>\n",
              "      <td>2.500000</td>\n",
              "      <td>2.000000</td>\n",
              "      <td>1.000000</td>\n",
              "    </tr>\n",
              "  </tbody>\n",
              "</table>\n",
              "</div>"
            ],
            "text/plain": [
              "           Price    Bedroom        Space       Room        Lot          Tax  \\\n",
              "count  37.000000  37.000000    37.000000  37.000000  37.000000    37.000000   \n",
              "mean   53.324324   3.486486  1090.783784   6.972973  30.324324   765.081081   \n",
              "std    13.220468   0.768173   310.888434   1.117698   6.298386   221.155096   \n",
              "min    32.000000   2.000000   593.000000   4.000000  25.000000   418.000000   \n",
              "25%    44.000000   3.000000   897.000000   7.000000  25.000000   584.000000   \n",
              "50%    51.000000   4.000000  1053.000000   7.000000  30.000000   725.000000   \n",
              "75%    64.000000   4.000000  1137.000000   7.000000  30.000000   941.000000   \n",
              "max    82.000000   4.000000  2104.000000   9.000000  50.000000  1287.000000   \n",
              "\n",
              "        Bathroom     Garage  Condition  \n",
              "count  37.000000  37.000000  37.000000  \n",
              "mean    1.770270   0.635135   0.243243  \n",
              "std     0.401293   0.608375   0.434959  \n",
              "min     1.000000   0.000000   0.000000  \n",
              "25%     1.500000   0.000000   0.000000  \n",
              "50%     2.000000   1.000000   0.000000  \n",
              "75%     2.000000   1.000000   0.000000  \n",
              "max     2.500000   2.000000   1.000000  "
            ]
          },
          "execution_count": 73,
          "metadata": {},
          "output_type": "execute_result"
        }
      ]
    },
    {
      "cell_type": "code",
      "metadata": {
        "id": "94926014",
        "outputId": "9805e202-6d2b-4c68-8730-2a378ca1f126"
      },
      "source": [
        "# ANSWER\n",
        "data[(data['Bathroom']==2)|(data['Bedroom']==4)].describe().transpose().drop(['25%','75%','count'],axis=1)"
      ],
      "id": "94926014",
      "execution_count": null,
      "outputs": [
        {
          "data": {
            "text/html": [
              "<div>\n",
              "<style scoped>\n",
              "    .dataframe tbody tr th:only-of-type {\n",
              "        vertical-align: middle;\n",
              "    }\n",
              "\n",
              "    .dataframe tbody tr th {\n",
              "        vertical-align: top;\n",
              "    }\n",
              "\n",
              "    .dataframe thead th {\n",
              "        text-align: right;\n",
              "    }\n",
              "</style>\n",
              "<table border=\"1\" class=\"dataframe\">\n",
              "  <thead>\n",
              "    <tr style=\"text-align: right;\">\n",
              "      <th></th>\n",
              "      <th>mean</th>\n",
              "      <th>std</th>\n",
              "      <th>min</th>\n",
              "      <th>50%</th>\n",
              "      <th>max</th>\n",
              "    </tr>\n",
              "  </thead>\n",
              "  <tbody>\n",
              "    <tr>\n",
              "      <th>Price</th>\n",
              "      <td>53.324324</td>\n",
              "      <td>13.220468</td>\n",
              "      <td>32.0</td>\n",
              "      <td>51.0</td>\n",
              "      <td>82.0</td>\n",
              "    </tr>\n",
              "    <tr>\n",
              "      <th>Bedroom</th>\n",
              "      <td>3.486486</td>\n",
              "      <td>0.768173</td>\n",
              "      <td>2.0</td>\n",
              "      <td>4.0</td>\n",
              "      <td>4.0</td>\n",
              "    </tr>\n",
              "    <tr>\n",
              "      <th>Space</th>\n",
              "      <td>1090.783784</td>\n",
              "      <td>310.888434</td>\n",
              "      <td>593.0</td>\n",
              "      <td>1053.0</td>\n",
              "      <td>2104.0</td>\n",
              "    </tr>\n",
              "    <tr>\n",
              "      <th>Room</th>\n",
              "      <td>6.972973</td>\n",
              "      <td>1.117698</td>\n",
              "      <td>4.0</td>\n",
              "      <td>7.0</td>\n",
              "      <td>9.0</td>\n",
              "    </tr>\n",
              "    <tr>\n",
              "      <th>Lot</th>\n",
              "      <td>30.324324</td>\n",
              "      <td>6.298386</td>\n",
              "      <td>25.0</td>\n",
              "      <td>30.0</td>\n",
              "      <td>50.0</td>\n",
              "    </tr>\n",
              "    <tr>\n",
              "      <th>Tax</th>\n",
              "      <td>765.081081</td>\n",
              "      <td>221.155096</td>\n",
              "      <td>418.0</td>\n",
              "      <td>725.0</td>\n",
              "      <td>1287.0</td>\n",
              "    </tr>\n",
              "    <tr>\n",
              "      <th>Bathroom</th>\n",
              "      <td>1.770270</td>\n",
              "      <td>0.401293</td>\n",
              "      <td>1.0</td>\n",
              "      <td>2.0</td>\n",
              "      <td>2.5</td>\n",
              "    </tr>\n",
              "    <tr>\n",
              "      <th>Garage</th>\n",
              "      <td>0.635135</td>\n",
              "      <td>0.608375</td>\n",
              "      <td>0.0</td>\n",
              "      <td>1.0</td>\n",
              "      <td>2.0</td>\n",
              "    </tr>\n",
              "    <tr>\n",
              "      <th>Condition</th>\n",
              "      <td>0.243243</td>\n",
              "      <td>0.434959</td>\n",
              "      <td>0.0</td>\n",
              "      <td>0.0</td>\n",
              "      <td>1.0</td>\n",
              "    </tr>\n",
              "  </tbody>\n",
              "</table>\n",
              "</div>"
            ],
            "text/plain": [
              "                  mean         std    min     50%     max\n",
              "Price        53.324324   13.220468   32.0    51.0    82.0\n",
              "Bedroom       3.486486    0.768173    2.0     4.0     4.0\n",
              "Space      1090.783784  310.888434  593.0  1053.0  2104.0\n",
              "Room          6.972973    1.117698    4.0     7.0     9.0\n",
              "Lot          30.324324    6.298386   25.0    30.0    50.0\n",
              "Tax         765.081081  221.155096  418.0   725.0  1287.0\n",
              "Bathroom      1.770270    0.401293    1.0     2.0     2.5\n",
              "Garage        0.635135    0.608375    0.0     1.0     2.0\n",
              "Condition     0.243243    0.434959    0.0     0.0     1.0"
            ]
          },
          "execution_count": 68,
          "metadata": {},
          "output_type": "execute_result"
        }
      ]
    },
    {
      "cell_type": "code",
      "metadata": {
        "id": "503342d1",
        "outputId": "eb43b680-5917-445f-a5f7-92c4ba64e8d4"
      },
      "source": [
        "## ANSWER\n",
        "data[data['Space']>800].sort_values('Price',ascending=False)"
      ],
      "id": "503342d1",
      "execution_count": null,
      "outputs": [
        {
          "data": {
            "text/html": [
              "<div>\n",
              "<style scoped>\n",
              "    .dataframe tbody tr th:only-of-type {\n",
              "        vertical-align: middle;\n",
              "    }\n",
              "\n",
              "    .dataframe tbody tr th {\n",
              "        vertical-align: top;\n",
              "    }\n",
              "\n",
              "    .dataframe thead th {\n",
              "        text-align: right;\n",
              "    }\n",
              "</style>\n",
              "<table border=\"1\" class=\"dataframe\">\n",
              "  <thead>\n",
              "    <tr style=\"text-align: right;\">\n",
              "      <th></th>\n",
              "      <th>Price</th>\n",
              "      <th>Bedroom</th>\n",
              "      <th>Space</th>\n",
              "      <th>Room</th>\n",
              "      <th>Lot</th>\n",
              "      <th>Tax</th>\n",
              "      <th>Bathroom</th>\n",
              "      <th>Garage</th>\n",
              "      <th>Condition</th>\n",
              "    </tr>\n",
              "  </thead>\n",
              "  <tbody>\n",
              "    <tr>\n",
              "      <th>114</th>\n",
              "      <td>90.0</td>\n",
              "      <td>8.0</td>\n",
              "      <td>2293.0</td>\n",
              "      <td>12.0</td>\n",
              "      <td>50.0</td>\n",
              "      <td>1181.0</td>\n",
              "      <td>3.0</td>\n",
              "      <td>2.0</td>\n",
              "      <td>0.0</td>\n",
              "    </tr>\n",
              "    <tr>\n",
              "      <th>36</th>\n",
              "      <td>88.0</td>\n",
              "      <td>8.0</td>\n",
              "      <td>2278.0</td>\n",
              "      <td>12.0</td>\n",
              "      <td>50.0</td>\n",
              "      <td>1183.0</td>\n",
              "      <td>3.0</td>\n",
              "      <td>2.0</td>\n",
              "      <td>0.0</td>\n",
              "    </tr>\n",
              "    <tr>\n",
              "      <th>140</th>\n",
              "      <td>88.0</td>\n",
              "      <td>7.0</td>\n",
              "      <td>2277.0</td>\n",
              "      <td>12.0</td>\n",
              "      <td>50.0</td>\n",
              "      <td>1248.0</td>\n",
              "      <td>3.0</td>\n",
              "      <td>2.0</td>\n",
              "      <td>0.0</td>\n",
              "    </tr>\n",
              "    <tr>\n",
              "      <th>88</th>\n",
              "      <td>88.0</td>\n",
              "      <td>8.0</td>\n",
              "      <td>2228.0</td>\n",
              "      <td>12.0</td>\n",
              "      <td>50.0</td>\n",
              "      <td>1208.0</td>\n",
              "      <td>3.0</td>\n",
              "      <td>2.0</td>\n",
              "      <td>0.0</td>\n",
              "    </tr>\n",
              "    <tr>\n",
              "      <th>62</th>\n",
              "      <td>85.0</td>\n",
              "      <td>7.0</td>\n",
              "      <td>2295.0</td>\n",
              "      <td>12.0</td>\n",
              "      <td>50.0</td>\n",
              "      <td>1233.0</td>\n",
              "      <td>3.0</td>\n",
              "      <td>2.0</td>\n",
              "      <td>0.0</td>\n",
              "    </tr>\n",
              "    <tr>\n",
              "      <th>...</th>\n",
              "      <td>...</td>\n",
              "      <td>...</td>\n",
              "      <td>...</td>\n",
              "      <td>...</td>\n",
              "      <td>...</td>\n",
              "      <td>...</td>\n",
              "      <td>...</td>\n",
              "      <td>...</td>\n",
              "      <td>...</td>\n",
              "    </tr>\n",
              "    <tr>\n",
              "      <th>19</th>\n",
              "      <td>35.0</td>\n",
              "      <td>4.0</td>\n",
              "      <td>1137.0</td>\n",
              "      <td>7.0</td>\n",
              "      <td>25.0</td>\n",
              "      <td>561.0</td>\n",
              "      <td>1.5</td>\n",
              "      <td>0.0</td>\n",
              "      <td>0.0</td>\n",
              "    </tr>\n",
              "    <tr>\n",
              "      <th>45</th>\n",
              "      <td>35.0</td>\n",
              "      <td>5.0</td>\n",
              "      <td>1142.0</td>\n",
              "      <td>7.0</td>\n",
              "      <td>25.0</td>\n",
              "      <td>543.0</td>\n",
              "      <td>1.5</td>\n",
              "      <td>0.0</td>\n",
              "      <td>0.0</td>\n",
              "    </tr>\n",
              "    <tr>\n",
              "      <th>71</th>\n",
              "      <td>34.0</td>\n",
              "      <td>4.0</td>\n",
              "      <td>1095.0</td>\n",
              "      <td>7.0</td>\n",
              "      <td>25.0</td>\n",
              "      <td>530.0</td>\n",
              "      <td>1.5</td>\n",
              "      <td>0.0</td>\n",
              "      <td>0.0</td>\n",
              "    </tr>\n",
              "    <tr>\n",
              "      <th>97</th>\n",
              "      <td>34.0</td>\n",
              "      <td>4.0</td>\n",
              "      <td>1087.0</td>\n",
              "      <td>7.0</td>\n",
              "      <td>25.0</td>\n",
              "      <td>584.0</td>\n",
              "      <td>1.5</td>\n",
              "      <td>0.0</td>\n",
              "      <td>0.0</td>\n",
              "    </tr>\n",
              "    <tr>\n",
              "      <th>149</th>\n",
              "      <td>32.0</td>\n",
              "      <td>4.0</td>\n",
              "      <td>1065.0</td>\n",
              "      <td>7.0</td>\n",
              "      <td>25.0</td>\n",
              "      <td>492.0</td>\n",
              "      <td>1.5</td>\n",
              "      <td>0.0</td>\n",
              "      <td>0.0</td>\n",
              "    </tr>\n",
              "  </tbody>\n",
              "</table>\n",
              "<p>97 rows × 9 columns</p>\n",
              "</div>"
            ],
            "text/plain": [
              "     Price  Bedroom   Space  Room   Lot     Tax  Bathroom  Garage  Condition\n",
              "114   90.0      8.0  2293.0  12.0  50.0  1181.0       3.0     2.0        0.0\n",
              "36    88.0      8.0  2278.0  12.0  50.0  1183.0       3.0     2.0        0.0\n",
              "140   88.0      7.0  2277.0  12.0  50.0  1248.0       3.0     2.0        0.0\n",
              "88    88.0      8.0  2228.0  12.0  50.0  1208.0       3.0     2.0        0.0\n",
              "62    85.0      7.0  2295.0  12.0  50.0  1233.0       3.0     2.0        0.0\n",
              "..     ...      ...     ...   ...   ...     ...       ...     ...        ...\n",
              "19    35.0      4.0  1137.0   7.0  25.0   561.0       1.5     0.0        0.0\n",
              "45    35.0      5.0  1142.0   7.0  25.0   543.0       1.5     0.0        0.0\n",
              "71    34.0      4.0  1095.0   7.0  25.0   530.0       1.5     0.0        0.0\n",
              "97    34.0      4.0  1087.0   7.0  25.0   584.0       1.5     0.0        0.0\n",
              "149   32.0      4.0  1065.0   7.0  25.0   492.0       1.5     0.0        0.0\n",
              "\n",
              "[97 rows x 9 columns]"
            ]
          },
          "execution_count": 80,
          "metadata": {},
          "output_type": "execute_result"
        }
      ]
    },
    {
      "cell_type": "code",
      "metadata": {
        "id": "d4fdab27",
        "outputId": "4b96e6e2-159b-4404-aca0-cd01b5f47568"
      },
      "source": [
        "type(data['Lot'].quantile(4/5))"
      ],
      "id": "d4fdab27",
      "execution_count": null,
      "outputs": [
        {
          "data": {
            "text/plain": [
              "numpy.float64"
            ]
          },
          "execution_count": 88,
          "metadata": {},
          "output_type": "execute_result"
        }
      ]
    },
    {
      "cell_type": "code",
      "metadata": {
        "id": "df5660df",
        "outputId": "f50a6643-cd9d-4a0f-b769-61ed1a692cfd"
      },
      "source": [
        "## Answer\n",
        "data[data['Lot']>data['Lot'].quantile(4/5)]"
      ],
      "id": "df5660df",
      "execution_count": null,
      "outputs": [
        {
          "data": {
            "text/html": [
              "<div>\n",
              "<style scoped>\n",
              "    .dataframe tbody tr th:only-of-type {\n",
              "        vertical-align: middle;\n",
              "    }\n",
              "\n",
              "    .dataframe tbody tr th {\n",
              "        vertical-align: top;\n",
              "    }\n",
              "\n",
              "    .dataframe thead th {\n",
              "        text-align: right;\n",
              "    }\n",
              "</style>\n",
              "<table border=\"1\" class=\"dataframe\">\n",
              "  <thead>\n",
              "    <tr style=\"text-align: right;\">\n",
              "      <th></th>\n",
              "      <th>Price</th>\n",
              "      <th>Bedroom</th>\n",
              "      <th>Space</th>\n",
              "      <th>Room</th>\n",
              "      <th>Lot</th>\n",
              "      <th>Tax</th>\n",
              "      <th>Bathroom</th>\n",
              "      <th>Garage</th>\n",
              "      <th>Condition</th>\n",
              "    </tr>\n",
              "  </thead>\n",
              "  <tbody>\n",
              "    <tr>\n",
              "      <th>4</th>\n",
              "      <td>64.0</td>\n",
              "      <td>3.0</td>\n",
              "      <td>1100.0</td>\n",
              "      <td>7.0</td>\n",
              "      <td>50.0</td>\n",
              "      <td>1099.0</td>\n",
              "      <td>1.5</td>\n",
              "      <td>1.5</td>\n",
              "      <td>0.0</td>\n",
              "    </tr>\n",
              "    <tr>\n",
              "      <th>9</th>\n",
              "      <td>82.0</td>\n",
              "      <td>4.0</td>\n",
              "      <td>2104.0</td>\n",
              "      <td>9.0</td>\n",
              "      <td>40.0</td>\n",
              "      <td>1038.0</td>\n",
              "      <td>2.5</td>\n",
              "      <td>1.0</td>\n",
              "      <td>1.0</td>\n",
              "    </tr>\n",
              "    <tr>\n",
              "      <th>10</th>\n",
              "      <td>85.0</td>\n",
              "      <td>8.0</td>\n",
              "      <td>2240.0</td>\n",
              "      <td>12.0</td>\n",
              "      <td>50.0</td>\n",
              "      <td>1200.0</td>\n",
              "      <td>3.0</td>\n",
              "      <td>2.0</td>\n",
              "      <td>0.0</td>\n",
              "    </tr>\n",
              "    <tr>\n",
              "      <th>14</th>\n",
              "      <td>56.0</td>\n",
              "      <td>4.0</td>\n",
              "      <td>1325.0</td>\n",
              "      <td>8.0</td>\n",
              "      <td>50.0</td>\n",
              "      <td>1287.0</td>\n",
              "      <td>1.5</td>\n",
              "      <td>0.0</td>\n",
              "      <td>0.0</td>\n",
              "    </tr>\n",
              "    <tr>\n",
              "      <th>30</th>\n",
              "      <td>62.0</td>\n",
              "      <td>3.0</td>\n",
              "      <td>1124.0</td>\n",
              "      <td>7.0</td>\n",
              "      <td>50.0</td>\n",
              "      <td>1129.0</td>\n",
              "      <td>1.5</td>\n",
              "      <td>1.5</td>\n",
              "      <td>0.0</td>\n",
              "    </tr>\n",
              "    <tr>\n",
              "      <th>35</th>\n",
              "      <td>81.0</td>\n",
              "      <td>5.0</td>\n",
              "      <td>2173.0</td>\n",
              "      <td>9.0</td>\n",
              "      <td>40.0</td>\n",
              "      <td>1074.0</td>\n",
              "      <td>2.5</td>\n",
              "      <td>1.0</td>\n",
              "      <td>1.0</td>\n",
              "    </tr>\n",
              "    <tr>\n",
              "      <th>36</th>\n",
              "      <td>88.0</td>\n",
              "      <td>8.0</td>\n",
              "      <td>2278.0</td>\n",
              "      <td>12.0</td>\n",
              "      <td>50.0</td>\n",
              "      <td>1183.0</td>\n",
              "      <td>3.0</td>\n",
              "      <td>2.0</td>\n",
              "      <td>0.0</td>\n",
              "    </tr>\n",
              "    <tr>\n",
              "      <th>40</th>\n",
              "      <td>55.0</td>\n",
              "      <td>5.0</td>\n",
              "      <td>1255.0</td>\n",
              "      <td>8.0</td>\n",
              "      <td>50.0</td>\n",
              "      <td>1278.0</td>\n",
              "      <td>1.5</td>\n",
              "      <td>0.0</td>\n",
              "      <td>0.0</td>\n",
              "    </tr>\n",
              "    <tr>\n",
              "      <th>47</th>\n",
              "      <td>42.0</td>\n",
              "      <td>2.0</td>\n",
              "      <td>539.0</td>\n",
              "      <td>5.0</td>\n",
              "      <td>50.0</td>\n",
              "      <td>721.0</td>\n",
              "      <td>1.0</td>\n",
              "      <td>0.0</td>\n",
              "      <td>0.0</td>\n",
              "    </tr>\n",
              "    <tr>\n",
              "      <th>61</th>\n",
              "      <td>84.0</td>\n",
              "      <td>3.0</td>\n",
              "      <td>2171.0</td>\n",
              "      <td>9.0</td>\n",
              "      <td>40.0</td>\n",
              "      <td>1075.0</td>\n",
              "      <td>2.5</td>\n",
              "      <td>1.0</td>\n",
              "      <td>1.0</td>\n",
              "    </tr>\n",
              "    <tr>\n",
              "      <th>62</th>\n",
              "      <td>85.0</td>\n",
              "      <td>7.0</td>\n",
              "      <td>2295.0</td>\n",
              "      <td>12.0</td>\n",
              "      <td>50.0</td>\n",
              "      <td>1233.0</td>\n",
              "      <td>3.0</td>\n",
              "      <td>2.0</td>\n",
              "      <td>0.0</td>\n",
              "    </tr>\n",
              "    <tr>\n",
              "      <th>66</th>\n",
              "      <td>55.0</td>\n",
              "      <td>3.0</td>\n",
              "      <td>1379.0</td>\n",
              "      <td>8.0</td>\n",
              "      <td>50.0</td>\n",
              "      <td>1309.0</td>\n",
              "      <td>1.5</td>\n",
              "      <td>0.0</td>\n",
              "      <td>0.0</td>\n",
              "    </tr>\n",
              "    <tr>\n",
              "      <th>82</th>\n",
              "      <td>66.0</td>\n",
              "      <td>3.0</td>\n",
              "      <td>1080.0</td>\n",
              "      <td>7.0</td>\n",
              "      <td>50.0</td>\n",
              "      <td>1127.0</td>\n",
              "      <td>1.5</td>\n",
              "      <td>1.5</td>\n",
              "      <td>0.0</td>\n",
              "    </tr>\n",
              "    <tr>\n",
              "      <th>87</th>\n",
              "      <td>80.0</td>\n",
              "      <td>4.0</td>\n",
              "      <td>2045.0</td>\n",
              "      <td>9.0</td>\n",
              "      <td>40.0</td>\n",
              "      <td>1045.0</td>\n",
              "      <td>2.5</td>\n",
              "      <td>1.0</td>\n",
              "      <td>1.0</td>\n",
              "    </tr>\n",
              "    <tr>\n",
              "      <th>88</th>\n",
              "      <td>88.0</td>\n",
              "      <td>8.0</td>\n",
              "      <td>2228.0</td>\n",
              "      <td>12.0</td>\n",
              "      <td>50.0</td>\n",
              "      <td>1208.0</td>\n",
              "      <td>3.0</td>\n",
              "      <td>2.0</td>\n",
              "      <td>0.0</td>\n",
              "    </tr>\n",
              "    <tr>\n",
              "      <th>92</th>\n",
              "      <td>58.0</td>\n",
              "      <td>4.0</td>\n",
              "      <td>1382.0</td>\n",
              "      <td>8.0</td>\n",
              "      <td>50.0</td>\n",
              "      <td>1267.0</td>\n",
              "      <td>1.5</td>\n",
              "      <td>0.0</td>\n",
              "      <td>0.0</td>\n",
              "    </tr>\n",
              "    <tr>\n",
              "      <th>99</th>\n",
              "      <td>46.0</td>\n",
              "      <td>3.0</td>\n",
              "      <td>643.0</td>\n",
              "      <td>5.0</td>\n",
              "      <td>50.0</td>\n",
              "      <td>756.0</td>\n",
              "      <td>1.0</td>\n",
              "      <td>0.0</td>\n",
              "      <td>0.0</td>\n",
              "    </tr>\n",
              "    <tr>\n",
              "      <th>108</th>\n",
              "      <td>63.0</td>\n",
              "      <td>3.0</td>\n",
              "      <td>1178.0</td>\n",
              "      <td>7.0</td>\n",
              "      <td>50.0</td>\n",
              "      <td>1124.0</td>\n",
              "      <td>1.5</td>\n",
              "      <td>1.5</td>\n",
              "      <td>0.0</td>\n",
              "    </tr>\n",
              "    <tr>\n",
              "      <th>113</th>\n",
              "      <td>81.0</td>\n",
              "      <td>5.0</td>\n",
              "      <td>2170.0</td>\n",
              "      <td>9.0</td>\n",
              "      <td>40.0</td>\n",
              "      <td>1065.0</td>\n",
              "      <td>2.5</td>\n",
              "      <td>1.0</td>\n",
              "      <td>1.0</td>\n",
              "    </tr>\n",
              "    <tr>\n",
              "      <th>114</th>\n",
              "      <td>90.0</td>\n",
              "      <td>8.0</td>\n",
              "      <td>2293.0</td>\n",
              "      <td>12.0</td>\n",
              "      <td>50.0</td>\n",
              "      <td>1181.0</td>\n",
              "      <td>3.0</td>\n",
              "      <td>2.0</td>\n",
              "      <td>0.0</td>\n",
              "    </tr>\n",
              "    <tr>\n",
              "      <th>118</th>\n",
              "      <td>57.0</td>\n",
              "      <td>5.0</td>\n",
              "      <td>1198.0</td>\n",
              "      <td>8.0</td>\n",
              "      <td>50.0</td>\n",
              "      <td>1244.0</td>\n",
              "      <td>1.5</td>\n",
              "      <td>0.0</td>\n",
              "      <td>0.0</td>\n",
              "    </tr>\n",
              "    <tr>\n",
              "      <th>125</th>\n",
              "      <td>39.0</td>\n",
              "      <td>2.0</td>\n",
              "      <td>563.0</td>\n",
              "      <td>5.0</td>\n",
              "      <td>50.0</td>\n",
              "      <td>755.0</td>\n",
              "      <td>1.0</td>\n",
              "      <td>0.0</td>\n",
              "      <td>0.0</td>\n",
              "    </tr>\n",
              "    <tr>\n",
              "      <th>139</th>\n",
              "      <td>85.0</td>\n",
              "      <td>3.0</td>\n",
              "      <td>2240.0</td>\n",
              "      <td>9.0</td>\n",
              "      <td>40.0</td>\n",
              "      <td>1101.0</td>\n",
              "      <td>2.5</td>\n",
              "      <td>1.0</td>\n",
              "      <td>1.0</td>\n",
              "    </tr>\n",
              "    <tr>\n",
              "      <th>140</th>\n",
              "      <td>88.0</td>\n",
              "      <td>7.0</td>\n",
              "      <td>2277.0</td>\n",
              "      <td>12.0</td>\n",
              "      <td>50.0</td>\n",
              "      <td>1248.0</td>\n",
              "      <td>3.0</td>\n",
              "      <td>2.0</td>\n",
              "      <td>0.0</td>\n",
              "    </tr>\n",
              "    <tr>\n",
              "      <th>144</th>\n",
              "      <td>55.0</td>\n",
              "      <td>3.0</td>\n",
              "      <td>1438.0</td>\n",
              "      <td>8.0</td>\n",
              "      <td>50.0</td>\n",
              "      <td>1294.0</td>\n",
              "      <td>1.5</td>\n",
              "      <td>0.0</td>\n",
              "      <td>0.0</td>\n",
              "    </tr>\n",
              "    <tr>\n",
              "      <th>151</th>\n",
              "      <td>42.0</td>\n",
              "      <td>3.0</td>\n",
              "      <td>585.0</td>\n",
              "      <td>5.0</td>\n",
              "      <td>50.0</td>\n",
              "      <td>713.0</td>\n",
              "      <td>1.0</td>\n",
              "      <td>0.0</td>\n",
              "      <td>0.0</td>\n",
              "    </tr>\n",
              "  </tbody>\n",
              "</table>\n",
              "</div>"
            ],
            "text/plain": [
              "     Price  Bedroom   Space  Room   Lot     Tax  Bathroom  Garage  Condition\n",
              "4     64.0      3.0  1100.0   7.0  50.0  1099.0       1.5     1.5        0.0\n",
              "9     82.0      4.0  2104.0   9.0  40.0  1038.0       2.5     1.0        1.0\n",
              "10    85.0      8.0  2240.0  12.0  50.0  1200.0       3.0     2.0        0.0\n",
              "14    56.0      4.0  1325.0   8.0  50.0  1287.0       1.5     0.0        0.0\n",
              "30    62.0      3.0  1124.0   7.0  50.0  1129.0       1.5     1.5        0.0\n",
              "35    81.0      5.0  2173.0   9.0  40.0  1074.0       2.5     1.0        1.0\n",
              "36    88.0      8.0  2278.0  12.0  50.0  1183.0       3.0     2.0        0.0\n",
              "40    55.0      5.0  1255.0   8.0  50.0  1278.0       1.5     0.0        0.0\n",
              "47    42.0      2.0   539.0   5.0  50.0   721.0       1.0     0.0        0.0\n",
              "61    84.0      3.0  2171.0   9.0  40.0  1075.0       2.5     1.0        1.0\n",
              "62    85.0      7.0  2295.0  12.0  50.0  1233.0       3.0     2.0        0.0\n",
              "66    55.0      3.0  1379.0   8.0  50.0  1309.0       1.5     0.0        0.0\n",
              "82    66.0      3.0  1080.0   7.0  50.0  1127.0       1.5     1.5        0.0\n",
              "87    80.0      4.0  2045.0   9.0  40.0  1045.0       2.5     1.0        1.0\n",
              "88    88.0      8.0  2228.0  12.0  50.0  1208.0       3.0     2.0        0.0\n",
              "92    58.0      4.0  1382.0   8.0  50.0  1267.0       1.5     0.0        0.0\n",
              "99    46.0      3.0   643.0   5.0  50.0   756.0       1.0     0.0        0.0\n",
              "108   63.0      3.0  1178.0   7.0  50.0  1124.0       1.5     1.5        0.0\n",
              "113   81.0      5.0  2170.0   9.0  40.0  1065.0       2.5     1.0        1.0\n",
              "114   90.0      8.0  2293.0  12.0  50.0  1181.0       3.0     2.0        0.0\n",
              "118   57.0      5.0  1198.0   8.0  50.0  1244.0       1.5     0.0        0.0\n",
              "125   39.0      2.0   563.0   5.0  50.0   755.0       1.0     0.0        0.0\n",
              "139   85.0      3.0  2240.0   9.0  40.0  1101.0       2.5     1.0        1.0\n",
              "140   88.0      7.0  2277.0  12.0  50.0  1248.0       3.0     2.0        0.0\n",
              "144   55.0      3.0  1438.0   8.0  50.0  1294.0       1.5     0.0        0.0\n",
              "151   42.0      3.0   585.0   5.0  50.0   713.0       1.0     0.0        0.0"
            ]
          },
          "execution_count": 90,
          "metadata": {},
          "output_type": "execute_result"
        }
      ]
    },
    {
      "cell_type": "code",
      "metadata": {
        "id": "ba9a9063"
      },
      "source": [
        "from sklearn.model_selection import train_test_split"
      ],
      "id": "ba9a9063",
      "execution_count": null,
      "outputs": []
    },
    {
      "cell_type": "code",
      "metadata": {
        "id": "376a9478",
        "outputId": "523803e7-307f-4362-a8c8-cf70a25adbcb"
      },
      "source": [
        "data.columns"
      ],
      "id": "376a9478",
      "execution_count": null,
      "outputs": [
        {
          "data": {
            "text/plain": [
              "Index(['Price', 'Bedroom', 'Space', 'Room', 'Lot', 'Tax', 'Bathroom', 'Garage',\n",
              "       'Condition'],\n",
              "      dtype='object')"
            ]
          },
          "execution_count": 104,
          "metadata": {},
          "output_type": "execute_result"
        }
      ]
    },
    {
      "cell_type": "code",
      "metadata": {
        "id": "8fe2c052"
      },
      "source": [
        "X = data.drop('Price',axis=1)\n",
        "y = data['Price']"
      ],
      "id": "8fe2c052",
      "execution_count": null,
      "outputs": []
    },
    {
      "cell_type": "code",
      "metadata": {
        "id": "baa72443"
      },
      "source": [
        "X_train, X_test, y_train, y_test = train_test_split(X, y, test_size=0.3, random_state=101)"
      ],
      "id": "baa72443",
      "execution_count": null,
      "outputs": []
    },
    {
      "cell_type": "code",
      "metadata": {
        "id": "de6bd7d5"
      },
      "source": [
        "from sklearn.linear_model import LinearRegression"
      ],
      "id": "de6bd7d5",
      "execution_count": null,
      "outputs": []
    },
    {
      "cell_type": "code",
      "metadata": {
        "id": "29e209a5"
      },
      "source": [
        "lm = LinearRegression()"
      ],
      "id": "29e209a5",
      "execution_count": null,
      "outputs": []
    },
    {
      "cell_type": "code",
      "metadata": {
        "id": "436a1c50",
        "outputId": "5d36702a-1cc9-4e46-a865-c67d851c64c3"
      },
      "source": [
        "lm.fit(X_train,y_train)"
      ],
      "id": "436a1c50",
      "execution_count": null,
      "outputs": [
        {
          "data": {
            "text/plain": [
              "LinearRegression()"
            ]
          },
          "execution_count": 109,
          "metadata": {},
          "output_type": "execute_result"
        }
      ]
    },
    {
      "cell_type": "code",
      "metadata": {
        "id": "043bd179",
        "outputId": "511a9818-07b4-48fc-f8d3-6fe631be7240"
      },
      "source": [
        "lm.intercept_"
      ],
      "id": "043bd179",
      "execution_count": null,
      "outputs": [
        {
          "data": {
            "text/plain": [
              "19.18980914638655"
            ]
          },
          "execution_count": 110,
          "metadata": {},
          "output_type": "execute_result"
        }
      ]
    },
    {
      "cell_type": "code",
      "metadata": {
        "id": "fec74a44",
        "outputId": "da1ee191-e96d-4c1b-ffbd-ec6fc0535b1e"
      },
      "source": [
        "list(lm.coef_)"
      ],
      "id": "fec74a44",
      "execution_count": null,
      "outputs": [
        {
          "data": {
            "text/plain": [
              "[-3.23610562974219,\n",
              " 0.013015501594142853,\n",
              " 1.093385962946433,\n",
              " 0.4270405806388263,\n",
              " 0.0007883283581730661,\n",
              " 4.768145848827374,\n",
              " 4.538741466395259,\n",
              " 1.2434969624441914]"
            ]
          },
          "execution_count": 112,
          "metadata": {},
          "output_type": "execute_result"
        }
      ]
    },
    {
      "cell_type": "code",
      "metadata": {
        "id": "b44d2f32"
      },
      "source": [
        "a = ['coef1','coef2','coef3','coef4','coef5','coef6','coef7','coef8']"
      ],
      "id": "b44d2f32",
      "execution_count": null,
      "outputs": []
    },
    {
      "cell_type": "code",
      "metadata": {
        "id": "aea0c62d"
      },
      "source": [
        "b = list(lm.coef_)"
      ],
      "id": "aea0c62d",
      "execution_count": null,
      "outputs": []
    },
    {
      "cell_type": "code",
      "metadata": {
        "id": "bc0ebca3"
      },
      "source": [
        "coef_dict = dict(zip(a, b))"
      ],
      "id": "bc0ebca3",
      "execution_count": null,
      "outputs": []
    },
    {
      "cell_type": "code",
      "metadata": {
        "id": "35190b27",
        "outputId": "9163ae77-750a-4774-85d8-d83aafbce6f9"
      },
      "source": [
        "coef_dict"
      ],
      "id": "35190b27",
      "execution_count": null,
      "outputs": [
        {
          "data": {
            "text/plain": [
              "{'coef1': -3.23610562974219,\n",
              " 'coef2': 0.013015501594142853,\n",
              " 'coef3': 1.093385962946433,\n",
              " 'coef4': 0.4270405806388263,\n",
              " 'coef5': 0.0007883283581730661,\n",
              " 'coef6': 4.768145848827374,\n",
              " 'coef7': 4.538741466395259,\n",
              " 'coef8': 1.2434969624441914}"
            ]
          },
          "execution_count": 116,
          "metadata": {},
          "output_type": "execute_result"
        }
      ]
    },
    {
      "cell_type": "code",
      "metadata": {
        "id": "f64817ba"
      },
      "source": [
        "d = {'Intercept':lm.intercept_}"
      ],
      "id": "f64817ba",
      "execution_count": null,
      "outputs": []
    },
    {
      "cell_type": "code",
      "metadata": {
        "id": "96b07678"
      },
      "source": [
        "# answer\n",
        "x = {**d, **coef_dict}"
      ],
      "id": "96b07678",
      "execution_count": null,
      "outputs": []
    },
    {
      "cell_type": "code",
      "metadata": {
        "id": "f187c47b",
        "outputId": "104a9848-feeb-4764-ccd3-c873a503040c"
      },
      "source": [
        "x"
      ],
      "id": "f187c47b",
      "execution_count": null,
      "outputs": [
        {
          "data": {
            "text/plain": [
              "{'Intercept': 19.18980914638655,\n",
              " 'coef1': -3.23610562974219,\n",
              " 'coef2': 0.013015501594142853,\n",
              " 'coef3': 1.093385962946433,\n",
              " 'coef4': 0.4270405806388263,\n",
              " 'coef5': 0.0007883283581730661,\n",
              " 'coef6': 4.768145848827374,\n",
              " 'coef7': 4.538741466395259,\n",
              " 'coef8': 1.2434969624441914}"
            ]
          },
          "execution_count": 145,
          "metadata": {},
          "output_type": "execute_result"
        }
      ]
    },
    {
      "cell_type": "code",
      "metadata": {
        "id": "d2352b72"
      },
      "source": [
        ""
      ],
      "id": "d2352b72",
      "execution_count": null,
      "outputs": []
    },
    {
      "cell_type": "code",
      "metadata": {
        "id": "4d2b42f9"
      },
      "source": [
        ""
      ],
      "id": "4d2b42f9",
      "execution_count": null,
      "outputs": []
    },
    {
      "cell_type": "code",
      "metadata": {
        "id": "42517cd9"
      },
      "source": [
        "predictions = lm.predict(X_test)"
      ],
      "id": "42517cd9",
      "execution_count": null,
      "outputs": []
    },
    {
      "cell_type": "code",
      "metadata": {
        "id": "5a332ff4",
        "outputId": "6ec41214-bfb8-4990-dd0a-e92b23971550"
      },
      "source": [
        "plt.scatter(x=y_test,y=predictions,marker='+',alpha=0.5)\n",
        "\n",
        "plt.xlabel('prediction model')\n",
        "plt.ylabel('y test (True Values)')"
      ],
      "id": "5a332ff4",
      "execution_count": null,
      "outputs": [
        {
          "data": {
            "text/plain": [
              "Text(0, 0.5, 'y test (True Values)')"
            ]
          },
          "execution_count": 111,
          "metadata": {},
          "output_type": "execute_result"
        },
        {
          "data": {
            "image/png": "[encoded data removed]",
            "text/plain": [
              "<Figure size 432x288 with 1 Axes>"
            ]
          },
          "metadata": {
            "needs_background": "light"
          },
          "output_type": "display_data"
        }
      ]
    },
    {
      "cell_type": "code",
      "metadata": {
        "id": "fef9e983"
      },
      "source": [
        "from sklearn import metrics"
      ],
      "id": "fef9e983",
      "execution_count": null,
      "outputs": []
    },
    {
      "cell_type": "code",
      "metadata": {
        "id": "1eabbbf5",
        "outputId": "2ea5c544-142b-4ffe-8c92-78f0943c60b0"
      },
      "source": [
        "print('MAE: ', metrics.mean_absolute_error(y_test,predictions))\n",
        "print('MSE: ', metrics.mean_squared_error(y_test,predictions))\n",
        "print('RMSE: ', np.sqrt(metrics.mean_squared_error(y_test,predictions)))"
      ],
      "id": "1eabbbf5",
      "execution_count": null,
      "outputs": [
        {
          "name": "stdout",
          "output_type": "stream",
          "text": [
            "MAE:  7.046464120582616\n",
            "MSE:  67.17140333974594\n",
            "RMSE:  8.19581620949042\n"
          ]
        }
      ]
    },
    {
      "cell_type": "code",
      "metadata": {
        "id": "7599a39c",
        "outputId": "c92490c4-a56b-424d-b322-3832c4c493dc"
      },
      "source": [
        "metrics.explained_variance_score(y_test,predictions)"
      ],
      "id": "7599a39c",
      "execution_count": null,
      "outputs": [
        {
          "data": {
            "text/plain": [
              "0.6661453718475125"
            ]
          },
          "execution_count": 62,
          "metadata": {},
          "output_type": "execute_result"
        }
      ]
    },
    {
      "cell_type": "code",
      "metadata": {
        "id": "bdbf05a5"
      },
      "source": [
        "3 bedrooms\n",
        "1500 sqft space\n",
        "8 rooms\n",
        "40 lot\n",
        "1000 tax\n",
        "2 bathrooms\n",
        "1 garage\n",
        "0 condition\n"
      ],
      "id": "bdbf05a5",
      "execution_count": null,
      "outputs": []
    },
    {
      "cell_type": "code",
      "metadata": {
        "id": "4a812052",
        "outputId": "adc59ce5-af2f-4c0c-913b-8ecdbcc25b08"
      },
      "source": [
        "data[:1]"
      ],
      "id": "4a812052",
      "execution_count": null,
      "outputs": [
        {
          "data": {
            "text/html": [
              "<div>\n",
              "<style scoped>\n",
              "    .dataframe tbody tr th:only-of-type {\n",
              "        vertical-align: middle;\n",
              "    }\n",
              "\n",
              "    .dataframe tbody tr th {\n",
              "        vertical-align: top;\n",
              "    }\n",
              "\n",
              "    .dataframe thead th {\n",
              "        text-align: right;\n",
              "    }\n",
              "</style>\n",
              "<table border=\"1\" class=\"dataframe\">\n",
              "  <thead>\n",
              "    <tr style=\"text-align: right;\">\n",
              "      <th></th>\n",
              "      <th>Price</th>\n",
              "      <th>Bedroom</th>\n",
              "      <th>Space</th>\n",
              "      <th>Room</th>\n",
              "      <th>Lot</th>\n",
              "      <th>Tax</th>\n",
              "      <th>Bathroom</th>\n",
              "      <th>Garage</th>\n",
              "      <th>Condition</th>\n",
              "    </tr>\n",
              "  </thead>\n",
              "  <tbody>\n",
              "    <tr>\n",
              "      <th>0</th>\n",
              "      <td>53.0</td>\n",
              "      <td>2.0</td>\n",
              "      <td>967.0</td>\n",
              "      <td>5.0</td>\n",
              "      <td>39.0</td>\n",
              "      <td>652.0</td>\n",
              "      <td>1.5</td>\n",
              "      <td>0.0</td>\n",
              "      <td>0.0</td>\n",
              "    </tr>\n",
              "  </tbody>\n",
              "</table>\n",
              "</div>"
            ],
            "text/plain": [
              "   Price  Bedroom  Space  Room   Lot    Tax  Bathroom  Garage  Condition\n",
              "0   53.0      2.0  967.0   5.0  39.0  652.0       1.5     0.0        0.0"
            ]
          },
          "execution_count": 99,
          "metadata": {},
          "output_type": "execute_result"
        }
      ]
    },
    {
      "cell_type": "code",
      "metadata": {
        "id": "76a9a16d"
      },
      "source": [
        "test = {'Bedroom':3,'Space':1500,\n",
        "                     'Room':8,'Lot':40,\n",
        "                     'Tax':1000,'Bathroom':2,\n",
        "                     'Garage':1,'Condition':0}"
      ],
      "id": "76a9a16d",
      "execution_count": null,
      "outputs": []
    },
    {
      "cell_type": "code",
      "metadata": {
        "id": "1561618b",
        "outputId": "51ee1946-a6ec-4a28-c7e2-5f407663b488"
      },
      "source": [
        "predict_test = lm.predict(test.reshape(1,1))"
      ],
      "id": "1561618b",
      "execution_count": null,
      "outputs": [
        {
          "ename": "AttributeError",
          "evalue": "'dict' object has no attribute 'reshape'",
          "output_type": "error",
          "traceback": [
            "\u001b[1;31m---------------------------------------------------------------------------\u001b[0m",
            "\u001b[1;31mAttributeError\u001b[0m                            Traceback (most recent call last)",
            "\u001b[1;32m<ipython-input-118-6bf0eeef82c6>\u001b[0m in \u001b[0;36m<module>\u001b[1;34m\u001b[0m\n\u001b[1;32m----> 1\u001b[1;33m \u001b[0mpredict_test\u001b[0m \u001b[1;33m=\u001b[0m \u001b[0mlm\u001b[0m\u001b[1;33m.\u001b[0m\u001b[0mpredict\u001b[0m\u001b[1;33m(\u001b[0m\u001b[0mtest\u001b[0m\u001b[1;33m.\u001b[0m\u001b[0mreshape\u001b[0m\u001b[1;33m(\u001b[0m\u001b[1;36m1\u001b[0m\u001b[1;33m,\u001b[0m\u001b[1;36m1\u001b[0m\u001b[1;33m)\u001b[0m\u001b[1;33m)\u001b[0m\u001b[1;33m\u001b[0m\u001b[1;33m\u001b[0m\u001b[0m\n\u001b[0m",
            "\u001b[1;31mAttributeError\u001b[0m: 'dict' object has no attribute 'reshape'"
          ]
        }
      ]
    },
    {
      "cell_type": "code",
      "metadata": {
        "id": "a2ca1c3e"
      },
      "source": [
        ""
      ],
      "id": "a2ca1c3e",
      "execution_count": null,
      "outputs": []
    },
    {
      "cell_type": "code",
      "metadata": {
        "id": "62b898bc"
      },
      "source": [
        "test = pd.DataFrame({'Bedroom':3,'Space':1500,\n",
        "                     'Room':8,'Lot':40,\n",
        "                     'Tax':1000,'Bathroom':2,\n",
        "                     'Garage':1,'Condition':0},index=[0])"
      ],
      "id": "62b898bc",
      "execution_count": null,
      "outputs": []
    },
    {
      "cell_type": "code",
      "metadata": {
        "id": "3b6e1589"
      },
      "source": [
        "predict_test = lm.predict(test)"
      ],
      "id": "3b6e1589",
      "execution_count": null,
      "outputs": []
    },
    {
      "cell_type": "code",
      "metadata": {
        "id": "8235ef40",
        "outputId": "cee191bf-6931-49c1-d436-b39d29f6c4c4"
      },
      "source": [
        "## Answer\n",
        "predict_test"
      ],
      "id": "8235ef40",
      "execution_count": null,
      "outputs": [
        {
          "data": {
            "text/plain": [
              "array([69.6968171])"
            ]
          },
          "execution_count": 129,
          "metadata": {},
          "output_type": "execute_result"
        }
      ]
    },
    {
      "cell_type": "code",
      "metadata": {
        "id": "dd639b38",
        "outputId": "43305fd5-bd69-4632-a97c-6f750799dbd1"
      },
      "source": [
        "print(predict_test[0])"
      ],
      "id": "dd639b38",
      "execution_count": null,
      "outputs": [
        {
          "name": "stdout",
          "output_type": "stream",
          "text": [
            "69.69681709972186\n"
          ]
        }
      ]
    },
    {
      "cell_type": "code",
      "metadata": {
        "id": "0d762add"
      },
      "source": [
        ""
      ],
      "id": "0d762add",
      "execution_count": null,
      "outputs": []
    },
    {
      "cell_type": "code",
      "metadata": {
        "id": "0bc73fda"
      },
      "source": [
        ""
      ],
      "id": "0bc73fda",
      "execution_count": null,
      "outputs": []
    },
    {
      "cell_type": "code",
      "metadata": {
        "id": "379e388d"
      },
      "source": [
        "import pandas as pd\n",
        "import numpy as np\n",
        "from sklearn.model_selection import train_test_split\n",
        "from sklearn.linear_model import LinearRegression\n",
        "from sklearn import metrics"
      ],
      "id": "379e388d",
      "execution_count": null,
      "outputs": []
    },
    {
      "cell_type": "code",
      "metadata": {
        "id": "0b7619c6"
      },
      "source": [
        ""
      ],
      "id": "0b7619c6",
      "execution_count": null,
      "outputs": []
    },
    {
      "cell_type": "code",
      "metadata": {
        "id": "f59f9277"
      },
      "source": [
        "class RealestDF():\n",
        "\n",
        "    def  __init__(self,source):\n",
        "        self.df = pd.read_csv(source)\n",
        "        self.dropna = self.df.dropna(inplace=True)\n",
        "        \n",
        "    def cust_describe(self,bathroom,bedroom):\n",
        "        return self.df[(self.df['Bathroom']==int(bathroom))|(self.df['Bedroom']==int(bedroom))].describe().transpose().drop(['25%','75%','count'],axis=1)\n",
        "    \n",
        "    def greater_space(self,spacegreater):\n",
        "        return self.df[self.df['Space']>int(spacegreater)].sort_values('Price',ascending=False)\n",
        "    \n",
        "    def n_5th_quantile(self,n):\n",
        "        return self.df[self.df['Lot']>self.df['Lot'].quantile(int(n)/5)]\n",
        "    \n",
        "    def coef(self):\n",
        "        X = self.df.drop('Price',axis=1)\n",
        "        y = self.df['Price']\n",
        "        X_train, X_test, y_train, y_test = train_test_split(X, y, test_size=0.3, random_state=101)\n",
        "        lm = LinearRegression()\n",
        "        lm.fit(X_train,y_train)\n",
        "        a = ['coef1','coef2','coef3','coef4','coef5','coef6','coef7','coef8']\n",
        "        b = list(lm.coef_)\n",
        "        coef_dict = dict(zip(a, b))\n",
        "        d = {'Intercept':lm.intercept_}\n",
        "        return {**d, **coef_dict}\n",
        "    \n",
        "    def predicting(self,Bedroom,Space,Room,Lot,Tax,Bathroom,Garage,Condition):\n",
        "        test = pd.DataFrame({'Bedroom':int(Bedroom),'Space':int(Space),\n",
        "                             'Room':int(Room),'Lot':int(Lot),'Tax':int(Tax),\n",
        "                             'Bathroom':int(Bathroom),'Garage':int(Garage),\n",
        "                             'Condition':int(Condition)},index=[0])\n",
        "        return lm.predict(test)[0]\n",
        "        "
      ],
      "id": "f59f9277",
      "execution_count": null,
      "outputs": []
    },
    {
      "cell_type": "code",
      "metadata": {
        "id": "ef882e60"
      },
      "source": [
        "test = RealestDF(source=filename)"
      ],
      "id": "ef882e60",
      "execution_count": null,
      "outputs": []
    },
    {
      "cell_type": "code",
      "metadata": {
        "id": "1dd6c638",
        "outputId": "7a25ccd5-ca79-4e66-8fb5-33d48e96367c"
      },
      "source": [
        "test.cust_describe(bathroom=2,bedroom=4)"
      ],
      "id": "1dd6c638",
      "execution_count": null,
      "outputs": [
        {
          "data": {
            "text/html": [
              "<div>\n",
              "<style scoped>\n",
              "    .dataframe tbody tr th:only-of-type {\n",
              "        vertical-align: middle;\n",
              "    }\n",
              "\n",
              "    .dataframe tbody tr th {\n",
              "        vertical-align: top;\n",
              "    }\n",
              "\n",
              "    .dataframe thead th {\n",
              "        text-align: right;\n",
              "    }\n",
              "</style>\n",
              "<table border=\"1\" class=\"dataframe\">\n",
              "  <thead>\n",
              "    <tr style=\"text-align: right;\">\n",
              "      <th></th>\n",
              "      <th>mean</th>\n",
              "      <th>std</th>\n",
              "      <th>min</th>\n",
              "      <th>50%</th>\n",
              "      <th>max</th>\n",
              "    </tr>\n",
              "  </thead>\n",
              "  <tbody>\n",
              "    <tr>\n",
              "      <th>Price</th>\n",
              "      <td>53.324324</td>\n",
              "      <td>13.220468</td>\n",
              "      <td>32.0</td>\n",
              "      <td>51.0</td>\n",
              "      <td>82.0</td>\n",
              "    </tr>\n",
              "    <tr>\n",
              "      <th>Bedroom</th>\n",
              "      <td>3.486486</td>\n",
              "      <td>0.768173</td>\n",
              "      <td>2.0</td>\n",
              "      <td>4.0</td>\n",
              "      <td>4.0</td>\n",
              "    </tr>\n",
              "    <tr>\n",
              "      <th>Space</th>\n",
              "      <td>1090.783784</td>\n",
              "      <td>310.888434</td>\n",
              "      <td>593.0</td>\n",
              "      <td>1053.0</td>\n",
              "      <td>2104.0</td>\n",
              "    </tr>\n",
              "    <tr>\n",
              "      <th>Room</th>\n",
              "      <td>6.972973</td>\n",
              "      <td>1.117698</td>\n",
              "      <td>4.0</td>\n",
              "      <td>7.0</td>\n",
              "      <td>9.0</td>\n",
              "    </tr>\n",
              "    <tr>\n",
              "      <th>Lot</th>\n",
              "      <td>30.324324</td>\n",
              "      <td>6.298386</td>\n",
              "      <td>25.0</td>\n",
              "      <td>30.0</td>\n",
              "      <td>50.0</td>\n",
              "    </tr>\n",
              "    <tr>\n",
              "      <th>Tax</th>\n",
              "      <td>765.081081</td>\n",
              "      <td>221.155096</td>\n",
              "      <td>418.0</td>\n",
              "      <td>725.0</td>\n",
              "      <td>1287.0</td>\n",
              "    </tr>\n",
              "    <tr>\n",
              "      <th>Bathroom</th>\n",
              "      <td>1.770270</td>\n",
              "      <td>0.401293</td>\n",
              "      <td>1.0</td>\n",
              "      <td>2.0</td>\n",
              "      <td>2.5</td>\n",
              "    </tr>\n",
              "    <tr>\n",
              "      <th>Garage</th>\n",
              "      <td>0.635135</td>\n",
              "      <td>0.608375</td>\n",
              "      <td>0.0</td>\n",
              "      <td>1.0</td>\n",
              "      <td>2.0</td>\n",
              "    </tr>\n",
              "    <tr>\n",
              "      <th>Condition</th>\n",
              "      <td>0.243243</td>\n",
              "      <td>0.434959</td>\n",
              "      <td>0.0</td>\n",
              "      <td>0.0</td>\n",
              "      <td>1.0</td>\n",
              "    </tr>\n",
              "  </tbody>\n",
              "</table>\n",
              "</div>"
            ],
            "text/plain": [
              "                  mean         std    min     50%     max\n",
              "Price        53.324324   13.220468   32.0    51.0    82.0\n",
              "Bedroom       3.486486    0.768173    2.0     4.0     4.0\n",
              "Space      1090.783784  310.888434  593.0  1053.0  2104.0\n",
              "Room          6.972973    1.117698    4.0     7.0     9.0\n",
              "Lot          30.324324    6.298386   25.0    30.0    50.0\n",
              "Tax         765.081081  221.155096  418.0   725.0  1287.0\n",
              "Bathroom      1.770270    0.401293    1.0     2.0     2.5\n",
              "Garage        0.635135    0.608375    0.0     1.0     2.0\n",
              "Condition     0.243243    0.434959    0.0     0.0     1.0"
            ]
          },
          "execution_count": 153,
          "metadata": {},
          "output_type": "execute_result"
        }
      ]
    },
    {
      "cell_type": "code",
      "metadata": {
        "id": "0be03453"
      },
      "source": [
        "a = test.cust_describe(bathroom=2,bedroom=4).values.tolist()"
      ],
      "id": "0be03453",
      "execution_count": null,
      "outputs": []
    },
    {
      "cell_type": "code",
      "metadata": {
        "id": "a22b36e9",
        "outputId": "a77a9dba-51b4-4a3b-c77a-e6c31fcaa0b4"
      },
      "source": [
        "a"
      ],
      "id": "a22b36e9",
      "execution_count": null,
      "outputs": [
        {
          "data": {
            "text/plain": [
              "[[53.32432432432432, 13.220468251192193, 32.0, 51.0, 82.0],\n",
              " [3.4864864864864864, 0.7681732162019776, 2.0, 4.0, 4.0],\n",
              " [1090.7837837837837, 310.888434359689, 593.0, 1053.0, 2104.0],\n",
              " [6.972972972972973, 1.1176981923798792, 4.0, 7.0, 9.0],\n",
              " [30.324324324324323, 6.29838627504456, 25.0, 30.0, 50.0],\n",
              " [765.081081081081, 221.15509620304155, 418.0, 725.0, 1287.0],\n",
              " [1.7702702702702702, 0.40129295537803317, 1.0, 2.0, 2.5],\n",
              " [0.6351351351351351, 0.6083749831478282, 0.0, 1.0, 2.0],\n",
              " [0.24324324324324326, 0.43495883620083997, 0.0, 0.0, 1.0]]"
            ]
          },
          "execution_count": 157,
          "metadata": {},
          "output_type": "execute_result"
        }
      ]
    },
    {
      "cell_type": "code",
      "metadata": {
        "id": "f36a3bf1"
      },
      "source": [
        ""
      ],
      "id": "f36a3bf1",
      "execution_count": null,
      "outputs": []
    },
    {
      "cell_type": "code",
      "metadata": {
        "id": "f0d05f57"
      },
      "source": [
        ""
      ],
      "id": "f0d05f57",
      "execution_count": null,
      "outputs": []
    },
    {
      "cell_type": "code",
      "metadata": {
        "id": "7216d958",
        "outputId": "a28a680d-61b5-4ae4-892d-8e6233284774"
      },
      "source": [
        "test.greater_space(spacegreater=800)"
      ],
      "id": "7216d958",
      "execution_count": null,
      "outputs": [
        {
          "data": {
            "text/html": [
              "<div>\n",
              "<style scoped>\n",
              "    .dataframe tbody tr th:only-of-type {\n",
              "        vertical-align: middle;\n",
              "    }\n",
              "\n",
              "    .dataframe tbody tr th {\n",
              "        vertical-align: top;\n",
              "    }\n",
              "\n",
              "    .dataframe thead th {\n",
              "        text-align: right;\n",
              "    }\n",
              "</style>\n",
              "<table border=\"1\" class=\"dataframe\">\n",
              "  <thead>\n",
              "    <tr style=\"text-align: right;\">\n",
              "      <th></th>\n",
              "      <th>Price</th>\n",
              "      <th>Bedroom</th>\n",
              "      <th>Space</th>\n",
              "      <th>Room</th>\n",
              "      <th>Lot</th>\n",
              "      <th>Tax</th>\n",
              "      <th>Bathroom</th>\n",
              "      <th>Garage</th>\n",
              "      <th>Condition</th>\n",
              "    </tr>\n",
              "  </thead>\n",
              "  <tbody>\n",
              "    <tr>\n",
              "      <th>114</th>\n",
              "      <td>90.0</td>\n",
              "      <td>8.0</td>\n",
              "      <td>2293.0</td>\n",
              "      <td>12.0</td>\n",
              "      <td>50.0</td>\n",
              "      <td>1181.0</td>\n",
              "      <td>3.0</td>\n",
              "      <td>2.0</td>\n",
              "      <td>0.0</td>\n",
              "    </tr>\n",
              "    <tr>\n",
              "      <th>36</th>\n",
              "      <td>88.0</td>\n",
              "      <td>8.0</td>\n",
              "      <td>2278.0</td>\n",
              "      <td>12.0</td>\n",
              "      <td>50.0</td>\n",
              "      <td>1183.0</td>\n",
              "      <td>3.0</td>\n",
              "      <td>2.0</td>\n",
              "      <td>0.0</td>\n",
              "    </tr>\n",
              "    <tr>\n",
              "      <th>140</th>\n",
              "      <td>88.0</td>\n",
              "      <td>7.0</td>\n",
              "      <td>2277.0</td>\n",
              "      <td>12.0</td>\n",
              "      <td>50.0</td>\n",
              "      <td>1248.0</td>\n",
              "      <td>3.0</td>\n",
              "      <td>2.0</td>\n",
              "      <td>0.0</td>\n",
              "    </tr>\n",
              "    <tr>\n",
              "      <th>88</th>\n",
              "      <td>88.0</td>\n",
              "      <td>8.0</td>\n",
              "      <td>2228.0</td>\n",
              "      <td>12.0</td>\n",
              "      <td>50.0</td>\n",
              "      <td>1208.0</td>\n",
              "      <td>3.0</td>\n",
              "      <td>2.0</td>\n",
              "      <td>0.0</td>\n",
              "    </tr>\n",
              "    <tr>\n",
              "      <th>62</th>\n",
              "      <td>85.0</td>\n",
              "      <td>7.0</td>\n",
              "      <td>2295.0</td>\n",
              "      <td>12.0</td>\n",
              "      <td>50.0</td>\n",
              "      <td>1233.0</td>\n",
              "      <td>3.0</td>\n",
              "      <td>2.0</td>\n",
              "      <td>0.0</td>\n",
              "    </tr>\n",
              "    <tr>\n",
              "      <th>...</th>\n",
              "      <td>...</td>\n",
              "      <td>...</td>\n",
              "      <td>...</td>\n",
              "      <td>...</td>\n",
              "      <td>...</td>\n",
              "      <td>...</td>\n",
              "      <td>...</td>\n",
              "      <td>...</td>\n",
              "      <td>...</td>\n",
              "    </tr>\n",
              "    <tr>\n",
              "      <th>19</th>\n",
              "      <td>35.0</td>\n",
              "      <td>4.0</td>\n",
              "      <td>1137.0</td>\n",
              "      <td>7.0</td>\n",
              "      <td>25.0</td>\n",
              "      <td>561.0</td>\n",
              "      <td>1.5</td>\n",
              "      <td>0.0</td>\n",
              "      <td>0.0</td>\n",
              "    </tr>\n",
              "    <tr>\n",
              "      <th>45</th>\n",
              "      <td>35.0</td>\n",
              "      <td>5.0</td>\n",
              "      <td>1142.0</td>\n",
              "      <td>7.0</td>\n",
              "      <td>25.0</td>\n",
              "      <td>543.0</td>\n",
              "      <td>1.5</td>\n",
              "      <td>0.0</td>\n",
              "      <td>0.0</td>\n",
              "    </tr>\n",
              "    <tr>\n",
              "      <th>71</th>\n",
              "      <td>34.0</td>\n",
              "      <td>4.0</td>\n",
              "      <td>1095.0</td>\n",
              "      <td>7.0</td>\n",
              "      <td>25.0</td>\n",
              "      <td>530.0</td>\n",
              "      <td>1.5</td>\n",
              "      <td>0.0</td>\n",
              "      <td>0.0</td>\n",
              "    </tr>\n",
              "    <tr>\n",
              "      <th>97</th>\n",
              "      <td>34.0</td>\n",
              "      <td>4.0</td>\n",
              "      <td>1087.0</td>\n",
              "      <td>7.0</td>\n",
              "      <td>25.0</td>\n",
              "      <td>584.0</td>\n",
              "      <td>1.5</td>\n",
              "      <td>0.0</td>\n",
              "      <td>0.0</td>\n",
              "    </tr>\n",
              "    <tr>\n",
              "      <th>149</th>\n",
              "      <td>32.0</td>\n",
              "      <td>4.0</td>\n",
              "      <td>1065.0</td>\n",
              "      <td>7.0</td>\n",
              "      <td>25.0</td>\n",
              "      <td>492.0</td>\n",
              "      <td>1.5</td>\n",
              "      <td>0.0</td>\n",
              "      <td>0.0</td>\n",
              "    </tr>\n",
              "  </tbody>\n",
              "</table>\n",
              "<p>97 rows × 9 columns</p>\n",
              "</div>"
            ],
            "text/plain": [
              "     Price  Bedroom   Space  Room   Lot     Tax  Bathroom  Garage  Condition\n",
              "114   90.0      8.0  2293.0  12.0  50.0  1181.0       3.0     2.0        0.0\n",
              "36    88.0      8.0  2278.0  12.0  50.0  1183.0       3.0     2.0        0.0\n",
              "140   88.0      7.0  2277.0  12.0  50.0  1248.0       3.0     2.0        0.0\n",
              "88    88.0      8.0  2228.0  12.0  50.0  1208.0       3.0     2.0        0.0\n",
              "62    85.0      7.0  2295.0  12.0  50.0  1233.0       3.0     2.0        0.0\n",
              "..     ...      ...     ...   ...   ...     ...       ...     ...        ...\n",
              "19    35.0      4.0  1137.0   7.0  25.0   561.0       1.5     0.0        0.0\n",
              "45    35.0      5.0  1142.0   7.0  25.0   543.0       1.5     0.0        0.0\n",
              "71    34.0      4.0  1095.0   7.0  25.0   530.0       1.5     0.0        0.0\n",
              "97    34.0      4.0  1087.0   7.0  25.0   584.0       1.5     0.0        0.0\n",
              "149   32.0      4.0  1065.0   7.0  25.0   492.0       1.5     0.0        0.0\n",
              "\n",
              "[97 rows x 9 columns]"
            ]
          },
          "execution_count": 140,
          "metadata": {},
          "output_type": "execute_result"
        }
      ]
    },
    {
      "cell_type": "code",
      "metadata": {
        "id": "f2f0494c",
        "outputId": "6f9a6627-9081-47c2-ff73-d352175424d0"
      },
      "source": [
        "test.n_5th_quantile(n=4)"
      ],
      "id": "f2f0494c",
      "execution_count": null,
      "outputs": [
        {
          "data": {
            "text/html": [
              "<div>\n",
              "<style scoped>\n",
              "    .dataframe tbody tr th:only-of-type {\n",
              "        vertical-align: middle;\n",
              "    }\n",
              "\n",
              "    .dataframe tbody tr th {\n",
              "        vertical-align: top;\n",
              "    }\n",
              "\n",
              "    .dataframe thead th {\n",
              "        text-align: right;\n",
              "    }\n",
              "</style>\n",
              "<table border=\"1\" class=\"dataframe\">\n",
              "  <thead>\n",
              "    <tr style=\"text-align: right;\">\n",
              "      <th></th>\n",
              "      <th>Price</th>\n",
              "      <th>Bedroom</th>\n",
              "      <th>Space</th>\n",
              "      <th>Room</th>\n",
              "      <th>Lot</th>\n",
              "      <th>Tax</th>\n",
              "      <th>Bathroom</th>\n",
              "      <th>Garage</th>\n",
              "      <th>Condition</th>\n",
              "    </tr>\n",
              "  </thead>\n",
              "  <tbody>\n",
              "    <tr>\n",
              "      <th>4</th>\n",
              "      <td>64.0</td>\n",
              "      <td>3.0</td>\n",
              "      <td>1100.0</td>\n",
              "      <td>7.0</td>\n",
              "      <td>50.0</td>\n",
              "      <td>1099.0</td>\n",
              "      <td>1.5</td>\n",
              "      <td>1.5</td>\n",
              "      <td>0.0</td>\n",
              "    </tr>\n",
              "    <tr>\n",
              "      <th>9</th>\n",
              "      <td>82.0</td>\n",
              "      <td>4.0</td>\n",
              "      <td>2104.0</td>\n",
              "      <td>9.0</td>\n",
              "      <td>40.0</td>\n",
              "      <td>1038.0</td>\n",
              "      <td>2.5</td>\n",
              "      <td>1.0</td>\n",
              "      <td>1.0</td>\n",
              "    </tr>\n",
              "    <tr>\n",
              "      <th>10</th>\n",
              "      <td>85.0</td>\n",
              "      <td>8.0</td>\n",
              "      <td>2240.0</td>\n",
              "      <td>12.0</td>\n",
              "      <td>50.0</td>\n",
              "      <td>1200.0</td>\n",
              "      <td>3.0</td>\n",
              "      <td>2.0</td>\n",
              "      <td>0.0</td>\n",
              "    </tr>\n",
              "    <tr>\n",
              "      <th>14</th>\n",
              "      <td>56.0</td>\n",
              "      <td>4.0</td>\n",
              "      <td>1325.0</td>\n",
              "      <td>8.0</td>\n",
              "      <td>50.0</td>\n",
              "      <td>1287.0</td>\n",
              "      <td>1.5</td>\n",
              "      <td>0.0</td>\n",
              "      <td>0.0</td>\n",
              "    </tr>\n",
              "    <tr>\n",
              "      <th>30</th>\n",
              "      <td>62.0</td>\n",
              "      <td>3.0</td>\n",
              "      <td>1124.0</td>\n",
              "      <td>7.0</td>\n",
              "      <td>50.0</td>\n",
              "      <td>1129.0</td>\n",
              "      <td>1.5</td>\n",
              "      <td>1.5</td>\n",
              "      <td>0.0</td>\n",
              "    </tr>\n",
              "    <tr>\n",
              "      <th>35</th>\n",
              "      <td>81.0</td>\n",
              "      <td>5.0</td>\n",
              "      <td>2173.0</td>\n",
              "      <td>9.0</td>\n",
              "      <td>40.0</td>\n",
              "      <td>1074.0</td>\n",
              "      <td>2.5</td>\n",
              "      <td>1.0</td>\n",
              "      <td>1.0</td>\n",
              "    </tr>\n",
              "    <tr>\n",
              "      <th>36</th>\n",
              "      <td>88.0</td>\n",
              "      <td>8.0</td>\n",
              "      <td>2278.0</td>\n",
              "      <td>12.0</td>\n",
              "      <td>50.0</td>\n",
              "      <td>1183.0</td>\n",
              "      <td>3.0</td>\n",
              "      <td>2.0</td>\n",
              "      <td>0.0</td>\n",
              "    </tr>\n",
              "    <tr>\n",
              "      <th>40</th>\n",
              "      <td>55.0</td>\n",
              "      <td>5.0</td>\n",
              "      <td>1255.0</td>\n",
              "      <td>8.0</td>\n",
              "      <td>50.0</td>\n",
              "      <td>1278.0</td>\n",
              "      <td>1.5</td>\n",
              "      <td>0.0</td>\n",
              "      <td>0.0</td>\n",
              "    </tr>\n",
              "    <tr>\n",
              "      <th>47</th>\n",
              "      <td>42.0</td>\n",
              "      <td>2.0</td>\n",
              "      <td>539.0</td>\n",
              "      <td>5.0</td>\n",
              "      <td>50.0</td>\n",
              "      <td>721.0</td>\n",
              "      <td>1.0</td>\n",
              "      <td>0.0</td>\n",
              "      <td>0.0</td>\n",
              "    </tr>\n",
              "    <tr>\n",
              "      <th>61</th>\n",
              "      <td>84.0</td>\n",
              "      <td>3.0</td>\n",
              "      <td>2171.0</td>\n",
              "      <td>9.0</td>\n",
              "      <td>40.0</td>\n",
              "      <td>1075.0</td>\n",
              "      <td>2.5</td>\n",
              "      <td>1.0</td>\n",
              "      <td>1.0</td>\n",
              "    </tr>\n",
              "    <tr>\n",
              "      <th>62</th>\n",
              "      <td>85.0</td>\n",
              "      <td>7.0</td>\n",
              "      <td>2295.0</td>\n",
              "      <td>12.0</td>\n",
              "      <td>50.0</td>\n",
              "      <td>1233.0</td>\n",
              "      <td>3.0</td>\n",
              "      <td>2.0</td>\n",
              "      <td>0.0</td>\n",
              "    </tr>\n",
              "    <tr>\n",
              "      <th>66</th>\n",
              "      <td>55.0</td>\n",
              "      <td>3.0</td>\n",
              "      <td>1379.0</td>\n",
              "      <td>8.0</td>\n",
              "      <td>50.0</td>\n",
              "      <td>1309.0</td>\n",
              "      <td>1.5</td>\n",
              "      <td>0.0</td>\n",
              "      <td>0.0</td>\n",
              "    </tr>\n",
              "    <tr>\n",
              "      <th>82</th>\n",
              "      <td>66.0</td>\n",
              "      <td>3.0</td>\n",
              "      <td>1080.0</td>\n",
              "      <td>7.0</td>\n",
              "      <td>50.0</td>\n",
              "      <td>1127.0</td>\n",
              "      <td>1.5</td>\n",
              "      <td>1.5</td>\n",
              "      <td>0.0</td>\n",
              "    </tr>\n",
              "    <tr>\n",
              "      <th>87</th>\n",
              "      <td>80.0</td>\n",
              "      <td>4.0</td>\n",
              "      <td>2045.0</td>\n",
              "      <td>9.0</td>\n",
              "      <td>40.0</td>\n",
              "      <td>1045.0</td>\n",
              "      <td>2.5</td>\n",
              "      <td>1.0</td>\n",
              "      <td>1.0</td>\n",
              "    </tr>\n",
              "    <tr>\n",
              "      <th>88</th>\n",
              "      <td>88.0</td>\n",
              "      <td>8.0</td>\n",
              "      <td>2228.0</td>\n",
              "      <td>12.0</td>\n",
              "      <td>50.0</td>\n",
              "      <td>1208.0</td>\n",
              "      <td>3.0</td>\n",
              "      <td>2.0</td>\n",
              "      <td>0.0</td>\n",
              "    </tr>\n",
              "    <tr>\n",
              "      <th>92</th>\n",
              "      <td>58.0</td>\n",
              "      <td>4.0</td>\n",
              "      <td>1382.0</td>\n",
              "      <td>8.0</td>\n",
              "      <td>50.0</td>\n",
              "      <td>1267.0</td>\n",
              "      <td>1.5</td>\n",
              "      <td>0.0</td>\n",
              "      <td>0.0</td>\n",
              "    </tr>\n",
              "    <tr>\n",
              "      <th>99</th>\n",
              "      <td>46.0</td>\n",
              "      <td>3.0</td>\n",
              "      <td>643.0</td>\n",
              "      <td>5.0</td>\n",
              "      <td>50.0</td>\n",
              "      <td>756.0</td>\n",
              "      <td>1.0</td>\n",
              "      <td>0.0</td>\n",
              "      <td>0.0</td>\n",
              "    </tr>\n",
              "    <tr>\n",
              "      <th>108</th>\n",
              "      <td>63.0</td>\n",
              "      <td>3.0</td>\n",
              "      <td>1178.0</td>\n",
              "      <td>7.0</td>\n",
              "      <td>50.0</td>\n",
              "      <td>1124.0</td>\n",
              "      <td>1.5</td>\n",
              "      <td>1.5</td>\n",
              "      <td>0.0</td>\n",
              "    </tr>\n",
              "    <tr>\n",
              "      <th>113</th>\n",
              "      <td>81.0</td>\n",
              "      <td>5.0</td>\n",
              "      <td>2170.0</td>\n",
              "      <td>9.0</td>\n",
              "      <td>40.0</td>\n",
              "      <td>1065.0</td>\n",
              "      <td>2.5</td>\n",
              "      <td>1.0</td>\n",
              "      <td>1.0</td>\n",
              "    </tr>\n",
              "    <tr>\n",
              "      <th>114</th>\n",
              "      <td>90.0</td>\n",
              "      <td>8.0</td>\n",
              "      <td>2293.0</td>\n",
              "      <td>12.0</td>\n",
              "      <td>50.0</td>\n",
              "      <td>1181.0</td>\n",
              "      <td>3.0</td>\n",
              "      <td>2.0</td>\n",
              "      <td>0.0</td>\n",
              "    </tr>\n",
              "    <tr>\n",
              "      <th>118</th>\n",
              "      <td>57.0</td>\n",
              "      <td>5.0</td>\n",
              "      <td>1198.0</td>\n",
              "      <td>8.0</td>\n",
              "      <td>50.0</td>\n",
              "      <td>1244.0</td>\n",
              "      <td>1.5</td>\n",
              "      <td>0.0</td>\n",
              "      <td>0.0</td>\n",
              "    </tr>\n",
              "    <tr>\n",
              "      <th>125</th>\n",
              "      <td>39.0</td>\n",
              "      <td>2.0</td>\n",
              "      <td>563.0</td>\n",
              "      <td>5.0</td>\n",
              "      <td>50.0</td>\n",
              "      <td>755.0</td>\n",
              "      <td>1.0</td>\n",
              "      <td>0.0</td>\n",
              "      <td>0.0</td>\n",
              "    </tr>\n",
              "    <tr>\n",
              "      <th>139</th>\n",
              "      <td>85.0</td>\n",
              "      <td>3.0</td>\n",
              "      <td>2240.0</td>\n",
              "      <td>9.0</td>\n",
              "      <td>40.0</td>\n",
              "      <td>1101.0</td>\n",
              "      <td>2.5</td>\n",
              "      <td>1.0</td>\n",
              "      <td>1.0</td>\n",
              "    </tr>\n",
              "    <tr>\n",
              "      <th>140</th>\n",
              "      <td>88.0</td>\n",
              "      <td>7.0</td>\n",
              "      <td>2277.0</td>\n",
              "      <td>12.0</td>\n",
              "      <td>50.0</td>\n",
              "      <td>1248.0</td>\n",
              "      <td>3.0</td>\n",
              "      <td>2.0</td>\n",
              "      <td>0.0</td>\n",
              "    </tr>\n",
              "    <tr>\n",
              "      <th>144</th>\n",
              "      <td>55.0</td>\n",
              "      <td>3.0</td>\n",
              "      <td>1438.0</td>\n",
              "      <td>8.0</td>\n",
              "      <td>50.0</td>\n",
              "      <td>1294.0</td>\n",
              "      <td>1.5</td>\n",
              "      <td>0.0</td>\n",
              "      <td>0.0</td>\n",
              "    </tr>\n",
              "    <tr>\n",
              "      <th>151</th>\n",
              "      <td>42.0</td>\n",
              "      <td>3.0</td>\n",
              "      <td>585.0</td>\n",
              "      <td>5.0</td>\n",
              "      <td>50.0</td>\n",
              "      <td>713.0</td>\n",
              "      <td>1.0</td>\n",
              "      <td>0.0</td>\n",
              "      <td>0.0</td>\n",
              "    </tr>\n",
              "  </tbody>\n",
              "</table>\n",
              "</div>"
            ],
            "text/plain": [
              "     Price  Bedroom   Space  Room   Lot     Tax  Bathroom  Garage  Condition\n",
              "4     64.0      3.0  1100.0   7.0  50.0  1099.0       1.5     1.5        0.0\n",
              "9     82.0      4.0  2104.0   9.0  40.0  1038.0       2.5     1.0        1.0\n",
              "10    85.0      8.0  2240.0  12.0  50.0  1200.0       3.0     2.0        0.0\n",
              "14    56.0      4.0  1325.0   8.0  50.0  1287.0       1.5     0.0        0.0\n",
              "30    62.0      3.0  1124.0   7.0  50.0  1129.0       1.5     1.5        0.0\n",
              "35    81.0      5.0  2173.0   9.0  40.0  1074.0       2.5     1.0        1.0\n",
              "36    88.0      8.0  2278.0  12.0  50.0  1183.0       3.0     2.0        0.0\n",
              "40    55.0      5.0  1255.0   8.0  50.0  1278.0       1.5     0.0        0.0\n",
              "47    42.0      2.0   539.0   5.0  50.0   721.0       1.0     0.0        0.0\n",
              "61    84.0      3.0  2171.0   9.0  40.0  1075.0       2.5     1.0        1.0\n",
              "62    85.0      7.0  2295.0  12.0  50.0  1233.0       3.0     2.0        0.0\n",
              "66    55.0      3.0  1379.0   8.0  50.0  1309.0       1.5     0.0        0.0\n",
              "82    66.0      3.0  1080.0   7.0  50.0  1127.0       1.5     1.5        0.0\n",
              "87    80.0      4.0  2045.0   9.0  40.0  1045.0       2.5     1.0        1.0\n",
              "88    88.0      8.0  2228.0  12.0  50.0  1208.0       3.0     2.0        0.0\n",
              "92    58.0      4.0  1382.0   8.0  50.0  1267.0       1.5     0.0        0.0\n",
              "99    46.0      3.0   643.0   5.0  50.0   756.0       1.0     0.0        0.0\n",
              "108   63.0      3.0  1178.0   7.0  50.0  1124.0       1.5     1.5        0.0\n",
              "113   81.0      5.0  2170.0   9.0  40.0  1065.0       2.5     1.0        1.0\n",
              "114   90.0      8.0  2293.0  12.0  50.0  1181.0       3.0     2.0        0.0\n",
              "118   57.0      5.0  1198.0   8.0  50.0  1244.0       1.5     0.0        0.0\n",
              "125   39.0      2.0   563.0   5.0  50.0   755.0       1.0     0.0        0.0\n",
              "139   85.0      3.0  2240.0   9.0  40.0  1101.0       2.5     1.0        1.0\n",
              "140   88.0      7.0  2277.0  12.0  50.0  1248.0       3.0     2.0        0.0\n",
              "144   55.0      3.0  1438.0   8.0  50.0  1294.0       1.5     0.0        0.0\n",
              "151   42.0      3.0   585.0   5.0  50.0   713.0       1.0     0.0        0.0"
            ]
          },
          "execution_count": 141,
          "metadata": {},
          "output_type": "execute_result"
        }
      ]
    },
    {
      "cell_type": "code",
      "metadata": {
        "id": "8e91d79f",
        "outputId": "1d84d1f1-a71f-4680-b635-a0c4da8d4cd7"
      },
      "source": [
        "test.coef()"
      ],
      "id": "8e91d79f",
      "execution_count": null,
      "outputs": [
        {
          "data": {
            "text/plain": [
              "{'Intercept': 19.18980914638655,\n",
              " 'coef1': -3.23610562974219,\n",
              " 'coef2': 0.013015501594142853,\n",
              " 'coef3': 1.093385962946433,\n",
              " 'coef4': 0.4270405806388263,\n",
              " 'coef5': 0.0007883283581730661,\n",
              " 'coef6': 4.768145848827374,\n",
              " 'coef7': 4.538741466395259,\n",
              " 'coef8': 1.2434969624441914}"
            ]
          },
          "execution_count": 146,
          "metadata": {},
          "output_type": "execute_result"
        }
      ]
    },
    {
      "cell_type": "code",
      "metadata": {
        "id": "5a8c5294",
        "outputId": "aacbdf0e-89e1-442e-8330-ef34a1e099dd"
      },
      "source": [
        "test.predicting(Bedroom=3,Space=1500,Room=8,Lot=40,Tax=1000,Bathroom=2,Garage=1,Condition=0)"
      ],
      "id": "5a8c5294",
      "execution_count": null,
      "outputs": [
        {
          "data": {
            "text/plain": [
              "69.69681709972186"
            ]
          },
          "execution_count": 147,
          "metadata": {},
          "output_type": "execute_result"
        }
      ]
    },
    {
      "cell_type": "code",
      "metadata": {
        "id": "f0e9b583"
      },
      "source": [
        ""
      ],
      "id": "f0e9b583",
      "execution_count": null,
      "outputs": []
    },
    {
      "cell_type": "markdown",
      "metadata": {
        "id": "GU48dtaYilbm"
      },
      "source": [
        "# ANSWER IS HERE"
      ],
      "id": "GU48dtaYilbm"
    },
    {
      "cell_type": "code",
      "metadata": {
        "id": "9d82759d"
      },
      "source": [
        "path = 'C:\\\\Users\\\\Adrian Imanuel\\\\Google Drive\\\\13. Python\\\\Machine Learning\\\\DataWow\\\\realest.csv'"
      ],
      "id": "9d82759d",
      "execution_count": null,
      "outputs": []
    },
    {
      "cell_type": "code",
      "metadata": {
        "id": "f55a8bb5"
      },
      "source": [
        "class AnalysisDataAndFitLinearRegression:\n",
        "\n",
        "    def __init__(self):\n",
        "        self.version = 1\n",
        "\n",
        "    def analyse_and_fit_lrm(self, path):\n",
        "        # a path to a dataset is \"./data/realest.csv\"\n",
        "        # dataset can be loaded by uncommenting the line bellow\n",
        "        data = pd.read_csv(path)\n",
        "        model_parameters = {}\n",
        "        price_prediction = {}\n",
        "\n",
        "        return {\n",
        "            'model_parameters': model_parameters,\n",
        "            'price_prediction': price_prediction\n",
        "        }\n",
        "\n",
        "    def __listwise_deletion(self, data: pd.DataFrame):\n",
        "        return data.dropna()\n"
      ],
      "id": "f55a8bb5",
      "execution_count": null,
      "outputs": []
    },
    {
      "cell_type": "code",
      "metadata": {
        "id": "95cc8c92"
      },
      "source": [
        "class AnalysisDataAndFitLinearRegression:\n",
        "\n",
        "    def __init__(self):\n",
        "        self.version = 1\n",
        "        \n",
        "\n",
        "    def analyse_and_fit_lrm(self, path):\n",
        "        # a path to a dataset is \"./data/realest.csv\"\n",
        "        # dataset can be loaded by uncommenting the line bellow\n",
        "        data = pd.read_csv(path)\n",
        "        data = data.dropna()\n",
        "\n",
        "        summary_dict = {}\n",
        "        regression_dict = {}\n",
        "\n",
        "        a = data[(data['Bathroom']==2)|(data['Bedroom']==4)].describe().transpose().drop(['25%','75%','count'],axis=1)\n",
        "        a = a.values.tolist()\n",
        "        \n",
        "        b = data[data['Space']>800].sort_values('Price',ascending=False)\n",
        "        \n",
        "        c = data[data['Lot']>data['Lot'].quantile(4/5)]\n",
        "\n",
        "        summary_dict = {'statistics':a,'data_frame':b,'number_of_observations':c}\n",
        "\n",
        "        model_parameters = {}\n",
        "        price_prediction = {}\n",
        "\n",
        "        X = data.drop('Price',axis=1)\n",
        "        y = data['Price']\n",
        "        X_train, X_test, y_train, y_test = train_test_split(X, y, test_size=0.3, random_state=101)\n",
        "        lm = LinearRegression()\n",
        "        lm.fit(X_train,y_train)\n",
        "        a = ['coef1','coef2','coef3','coef4','coef5','coef6','coef7','coef8']\n",
        "        b = list(lm.coef_)\n",
        "        coef_dict = dict(zip(a, b))\n",
        "        d = {'Intercept':lm.intercept_}\n",
        "        e = {**d, **coef_dict}\n",
        "        model_parameters = {'model_parameters':e}\n",
        "\n",
        "        test = pd.DataFrame({'Bedroom':3,'Space':1500,\n",
        "                             'Room':8,'Lot':40,'Tax':1000,\n",
        "                             'Bathroom':2,'Garage':1,\n",
        "                             'Condition':0},index=[0])\n",
        "        price_prediction = {'price_prediction':lm.predict(test)[0]}\n",
        "\n",
        "        regression_dict = {**model_parameters, **price_prediction}\n",
        "        \n",
        "        return {\n",
        "            'summary_dict': summary_dict,\n",
        "            'regression_dict': regression_dict\n",
        "        }\n",
        "\n",
        "    def __listwise_deletion(self, data: pd.DataFrame):\n",
        "        return data.dropna()\n"
      ],
      "id": "95cc8c92",
      "execution_count": null,
      "outputs": []
    },
    {
      "cell_type": "code",
      "metadata": {
        "id": "6739dde5"
      },
      "source": [
        "a = AnalysisDataAndFitLinearRegression()"
      ],
      "id": "6739dde5",
      "execution_count": null,
      "outputs": []
    },
    {
      "cell_type": "code",
      "metadata": {
        "id": "c89d295f",
        "outputId": "9dd802d7-0cde-43c4-b1f9-a22895461be7"
      },
      "source": [
        "a.analyse_and_fit_lrm(path)"
      ],
      "id": "c89d295f",
      "execution_count": null,
      "outputs": [
        {
          "data": {
            "text/plain": [
              "{'summary_dict': {'statistics': [[53.32432432432432,\n",
              "    13.220468251192193,\n",
              "    32.0,\n",
              "    51.0,\n",
              "    82.0],\n",
              "   [3.4864864864864864, 0.7681732162019776, 2.0, 4.0, 4.0],\n",
              "   [1090.7837837837837, 310.888434359689, 593.0, 1053.0, 2104.0],\n",
              "   [6.972972972972973, 1.1176981923798792, 4.0, 7.0, 9.0],\n",
              "   [30.324324324324323, 6.29838627504456, 25.0, 30.0, 50.0],\n",
              "   [765.081081081081, 221.15509620304155, 418.0, 725.0, 1287.0],\n",
              "   [1.7702702702702702, 0.40129295537803317, 1.0, 2.0, 2.5],\n",
              "   [0.6351351351351351, 0.6083749831478282, 0.0, 1.0, 2.0],\n",
              "   [0.24324324324324326, 0.43495883620083997, 0.0, 0.0, 1.0]],\n",
              "  'data_frame':      Price  Bedroom   Space  Room   Lot     Tax  Bathroom  Garage  Condition\n",
              "  114   90.0      8.0  2293.0  12.0  50.0  1181.0       3.0     2.0        0.0\n",
              "  36    88.0      8.0  2278.0  12.0  50.0  1183.0       3.0     2.0        0.0\n",
              "  140   88.0      7.0  2277.0  12.0  50.0  1248.0       3.0     2.0        0.0\n",
              "  88    88.0      8.0  2228.0  12.0  50.0  1208.0       3.0     2.0        0.0\n",
              "  62    85.0      7.0  2295.0  12.0  50.0  1233.0       3.0     2.0        0.0\n",
              "  ..     ...      ...     ...   ...   ...     ...       ...     ...        ...\n",
              "  19    35.0      4.0  1137.0   7.0  25.0   561.0       1.5     0.0        0.0\n",
              "  45    35.0      5.0  1142.0   7.0  25.0   543.0       1.5     0.0        0.0\n",
              "  71    34.0      4.0  1095.0   7.0  25.0   530.0       1.5     0.0        0.0\n",
              "  97    34.0      4.0  1087.0   7.0  25.0   584.0       1.5     0.0        0.0\n",
              "  149   32.0      4.0  1065.0   7.0  25.0   492.0       1.5     0.0        0.0\n",
              "  \n",
              "  [97 rows x 9 columns],\n",
              "  'number_of_observations':      Price  Bedroom   Space  Room   Lot     Tax  Bathroom  Garage  Condition\n",
              "  4     64.0      3.0  1100.0   7.0  50.0  1099.0       1.5     1.5        0.0\n",
              "  9     82.0      4.0  2104.0   9.0  40.0  1038.0       2.5     1.0        1.0\n",
              "  10    85.0      8.0  2240.0  12.0  50.0  1200.0       3.0     2.0        0.0\n",
              "  14    56.0      4.0  1325.0   8.0  50.0  1287.0       1.5     0.0        0.0\n",
              "  30    62.0      3.0  1124.0   7.0  50.0  1129.0       1.5     1.5        0.0\n",
              "  35    81.0      5.0  2173.0   9.0  40.0  1074.0       2.5     1.0        1.0\n",
              "  36    88.0      8.0  2278.0  12.0  50.0  1183.0       3.0     2.0        0.0\n",
              "  40    55.0      5.0  1255.0   8.0  50.0  1278.0       1.5     0.0        0.0\n",
              "  47    42.0      2.0   539.0   5.0  50.0   721.0       1.0     0.0        0.0\n",
              "  61    84.0      3.0  2171.0   9.0  40.0  1075.0       2.5     1.0        1.0\n",
              "  62    85.0      7.0  2295.0  12.0  50.0  1233.0       3.0     2.0        0.0\n",
              "  66    55.0      3.0  1379.0   8.0  50.0  1309.0       1.5     0.0        0.0\n",
              "  82    66.0      3.0  1080.0   7.0  50.0  1127.0       1.5     1.5        0.0\n",
              "  87    80.0      4.0  2045.0   9.0  40.0  1045.0       2.5     1.0        1.0\n",
              "  88    88.0      8.0  2228.0  12.0  50.0  1208.0       3.0     2.0        0.0\n",
              "  92    58.0      4.0  1382.0   8.0  50.0  1267.0       1.5     0.0        0.0\n",
              "  99    46.0      3.0   643.0   5.0  50.0   756.0       1.0     0.0        0.0\n",
              "  108   63.0      3.0  1178.0   7.0  50.0  1124.0       1.5     1.5        0.0\n",
              "  113   81.0      5.0  2170.0   9.0  40.0  1065.0       2.5     1.0        1.0\n",
              "  114   90.0      8.0  2293.0  12.0  50.0  1181.0       3.0     2.0        0.0\n",
              "  118   57.0      5.0  1198.0   8.0  50.0  1244.0       1.5     0.0        0.0\n",
              "  125   39.0      2.0   563.0   5.0  50.0   755.0       1.0     0.0        0.0\n",
              "  139   85.0      3.0  2240.0   9.0  40.0  1101.0       2.5     1.0        1.0\n",
              "  140   88.0      7.0  2277.0  12.0  50.0  1248.0       3.0     2.0        0.0\n",
              "  144   55.0      3.0  1438.0   8.0  50.0  1294.0       1.5     0.0        0.0\n",
              "  151   42.0      3.0   585.0   5.0  50.0   713.0       1.0     0.0        0.0},\n",
              " 'regression_dict': {'model_parameters': {'Intercept': 19.18980914638655,\n",
              "   'coef1': -3.23610562974219,\n",
              "   'coef2': 0.013015501594142853,\n",
              "   'coef3': 1.093385962946433,\n",
              "   'coef4': 0.4270405806388263,\n",
              "   'coef5': 0.0007883283581730661,\n",
              "   'coef6': 4.768145848827374,\n",
              "   'coef7': 4.538741466395259,\n",
              "   'coef8': 1.2434969624441914},\n",
              "  'price_prediction': 69.69681709972186}}"
            ]
          },
          "execution_count": 166,
          "metadata": {},
          "output_type": "execute_result"
        }
      ]
    },
    {
      "cell_type": "code",
      "metadata": {
        "id": "d493246d",
        "outputId": "2375353e-adba-478b-c72b-d5a3b57731d1"
      },
      "source": [
        "len(a.analyse_and_fit_lrm(path))"
      ],
      "id": "d493246d",
      "execution_count": null,
      "outputs": [
        {
          "data": {
            "text/plain": [
              "2"
            ]
          },
          "execution_count": 167,
          "metadata": {},
          "output_type": "execute_result"
        }
      ]
    },
    {
      "cell_type": "code",
      "metadata": {
        "id": "de2dc032"
      },
      "source": [
        "a = {'z':1}\n",
        "b = {'x':2}"
      ],
      "id": "de2dc032",
      "execution_count": null,
      "outputs": []
    },
    {
      "cell_type": "code",
      "metadata": {
        "id": "a0237d20"
      },
      "source": [
        "c = {**a, **b}"
      ],
      "id": "a0237d20",
      "execution_count": null,
      "outputs": []
    },
    {
      "cell_type": "code",
      "metadata": {
        "id": "661c29d8",
        "outputId": "8df56472-54ee-4c55-f312-3d3b6a043a20"
      },
      "source": [
        "c"
      ],
      "id": "661c29d8",
      "execution_count": null,
      "outputs": [
        {
          "data": {
            "text/plain": [
              "{'z': 1, 'x': 2}"
            ]
          },
          "execution_count": 143,
          "metadata": {},
          "output_type": "execute_result"
        }
      ]
    },
    {
      "cell_type": "code",
      "metadata": {
        "id": "285f99db"
      },
      "source": [
        "select distinct t1.name\n",
        "from participation t1 join\n",
        "     participation t1_1\n",
        "     on t1.name = t1_1.name and\n",
        "        t1.year = t1_1.year + 1 join\n",
        "     participation t1_2\n",
        "     on t1.name = t1_2.name and\n",
        "        t1.year = t1_2.year + 2;\n",
        "        \n",
        "https://stackoverflow.com/questions/64572373/sql-display-name-id-from-consecutive-occurrences-of-values-in-a-table"
      ],
      "id": "285f99db",
      "execution_count": null,
      "outputs": []
    }
  ]
}