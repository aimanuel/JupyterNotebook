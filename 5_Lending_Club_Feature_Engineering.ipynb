{
  "nbformat": 4,
  "nbformat_minor": 0,
  "metadata": {
    "colab": {
      "name": "5. Lending Club Feature Engineering.ipynb",
      "provenance": [],
      "collapsed_sections": [
        "g9BfDdrkgHti",
        "dhDAmC7kngEN",
        "KY7_GEzFHJ8y",
        "METTWLgbS4rI"
      ],
      "toc_visible": true,
      "mount_file_id": "1T7ZeL84LWq_ta4zC1cWZyNoTLb9fxsPG",
      "authorship_tag": "ABX9TyMLuP0tsE7AAIX0JaxyrKuC",
      "include_colab_link": true
    },
    "kernelspec": {
      "name": "python3",
      "display_name": "Python 3"
    },
    "language_info": {
      "name": "python"
    }
  },
  "cells": [
    {
      "cell_type": "markdown",
      "metadata": {
        "id": "view-in-github",
        "colab_type": "text"
      },
      "source": [
        "<a href=\"https://colab.research.google.com/github/aimanuel/JupyterNotebook/blob/main/5_Lending_Club_Feature_Engineering.ipynb\" target=\"_parent\"><img src=\"https://colab.research.google.com/assets/colab-badge.svg\" alt=\"Open In Colab\"/></a>"
      ]
    },
    {
      "cell_type": "markdown",
      "metadata": {
        "id": "UhWAHNgww_jc"
      },
      "source": [
        "# Import & Exploratory Data"
      ]
    },
    {
      "cell_type": "code",
      "metadata": {
        "id": "BdfHctiGN6UZ"
      },
      "source": [
        "filepath ='/content/drive/MyDrive/13. Python/Machine Learning/TensorFlow_FILES/DATA/lending_club_exclude_outlier.csv'"
      ],
      "execution_count": null,
      "outputs": []
    },
    {
      "cell_type": "code",
      "metadata": {
        "id": "OIoQv8PpSGgk"
      },
      "source": [
        "import pandas as pd\n",
        "import numpy as np\n",
        "import matplotlib.pyplot as plt\n",
        "import seaborn as sns\n",
        "\n",
        "%matplotlib inline"
      ],
      "execution_count": null,
      "outputs": []
    },
    {
      "cell_type": "code",
      "metadata": {
        "id": "lXIEdxLtOoDO",
        "colab": {
          "base_uri": "https://localhost:8080/",
          "height": 469
        },
        "outputId": "8a65dcc5-f244-4cbb-c23d-add99aa97ae3"
      },
      "source": [
        "df = pd.read_csv(filepath)\n",
        "df.head()"
      ],
      "execution_count": null,
      "outputs": [
        {
          "output_type": "execute_result",
          "data": {
            "text/html": [
              "<div>\n",
              "<style scoped>\n",
              "    .dataframe tbody tr th:only-of-type {\n",
              "        vertical-align: middle;\n",
              "    }\n",
              "\n",
              "    .dataframe tbody tr th {\n",
              "        vertical-align: top;\n",
              "    }\n",
              "\n",
              "    .dataframe thead th {\n",
              "        text-align: right;\n",
              "    }\n",
              "</style>\n",
              "<table border=\"1\" class=\"dataframe\">\n",
              "  <thead>\n",
              "    <tr style=\"text-align: right;\">\n",
              "      <th></th>\n",
              "      <th>loan_amnt</th>\n",
              "      <th>term</th>\n",
              "      <th>int_rate</th>\n",
              "      <th>installment</th>\n",
              "      <th>grade</th>\n",
              "      <th>sub_grade</th>\n",
              "      <th>emp_title</th>\n",
              "      <th>emp_length</th>\n",
              "      <th>home_ownership</th>\n",
              "      <th>annual_inc</th>\n",
              "      <th>verification_status</th>\n",
              "      <th>issue_d</th>\n",
              "      <th>loan_status</th>\n",
              "      <th>purpose</th>\n",
              "      <th>title</th>\n",
              "      <th>dti</th>\n",
              "      <th>earliest_cr_line</th>\n",
              "      <th>open_acc</th>\n",
              "      <th>pub_rec</th>\n",
              "      <th>revol_bal</th>\n",
              "      <th>revol_util</th>\n",
              "      <th>total_acc</th>\n",
              "      <th>initial_list_status</th>\n",
              "      <th>application_type</th>\n",
              "      <th>mort_acc</th>\n",
              "      <th>pub_rec_bankruptcies</th>\n",
              "      <th>address</th>\n",
              "    </tr>\n",
              "  </thead>\n",
              "  <tbody>\n",
              "    <tr>\n",
              "      <th>0</th>\n",
              "      <td>35000.0</td>\n",
              "      <td>36 months</td>\n",
              "      <td>25.83</td>\n",
              "      <td>1407.01</td>\n",
              "      <td>G</td>\n",
              "      <td>G2</td>\n",
              "      <td>HR Director</td>\n",
              "      <td>10+ years</td>\n",
              "      <td>RENT</td>\n",
              "      <td>165800.0</td>\n",
              "      <td>Verified</td>\n",
              "      <td>Mar-2014</td>\n",
              "      <td>Fully Paid</td>\n",
              "      <td>debt_consolidation</td>\n",
              "      <td>Debt consolidation</td>\n",
              "      <td>7.42</td>\n",
              "      <td>Jul-2005</td>\n",
              "      <td>5.0</td>\n",
              "      <td>0.0</td>\n",
              "      <td>16521.0</td>\n",
              "      <td>153.0</td>\n",
              "      <td>5.0</td>\n",
              "      <td>f</td>\n",
              "      <td>INDIVIDUAL</td>\n",
              "      <td>0.0</td>\n",
              "      <td>0.0</td>\n",
              "      <td>7421 Pamela Pines Suite 835\\nSouth Kyletown, O...</td>\n",
              "    </tr>\n",
              "    <tr>\n",
              "      <th>1</th>\n",
              "      <td>12000.0</td>\n",
              "      <td>60 months</td>\n",
              "      <td>16.55</td>\n",
              "      <td>295.34</td>\n",
              "      <td>D</td>\n",
              "      <td>D2</td>\n",
              "      <td>NaN</td>\n",
              "      <td>NaN</td>\n",
              "      <td>MORTGAGE</td>\n",
              "      <td>45600.0</td>\n",
              "      <td>Verified</td>\n",
              "      <td>Nov-2015</td>\n",
              "      <td>Fully Paid</td>\n",
              "      <td>other</td>\n",
              "      <td>Other</td>\n",
              "      <td>38.98</td>\n",
              "      <td>Apr-2002</td>\n",
              "      <td>5.0</td>\n",
              "      <td>0.0</td>\n",
              "      <td>13880.0</td>\n",
              "      <td>152.5</td>\n",
              "      <td>11.0</td>\n",
              "      <td>f</td>\n",
              "      <td>INDIVIDUAL</td>\n",
              "      <td>5.0</td>\n",
              "      <td>0.0</td>\n",
              "      <td>595 Hall Flat\\nPort Heatherbury, NE 48052</td>\n",
              "    </tr>\n",
              "    <tr>\n",
              "      <th>2</th>\n",
              "      <td>10000.0</td>\n",
              "      <td>36 months</td>\n",
              "      <td>14.16</td>\n",
              "      <td>342.56</td>\n",
              "      <td>C</td>\n",
              "      <td>C2</td>\n",
              "      <td>Superintendent</td>\n",
              "      <td>10+ years</td>\n",
              "      <td>OWN</td>\n",
              "      <td>91000.0</td>\n",
              "      <td>Not Verified</td>\n",
              "      <td>Apr-2014</td>\n",
              "      <td>Fully Paid</td>\n",
              "      <td>debt_consolidation</td>\n",
              "      <td>Debt consolidation</td>\n",
              "      <td>20.94</td>\n",
              "      <td>Jul-1997</td>\n",
              "      <td>9.0</td>\n",
              "      <td>0.0</td>\n",
              "      <td>9344.0</td>\n",
              "      <td>150.7</td>\n",
              "      <td>37.0</td>\n",
              "      <td>f</td>\n",
              "      <td>INDIVIDUAL</td>\n",
              "      <td>6.0</td>\n",
              "      <td>0.0</td>\n",
              "      <td>159 Melanie Rue Suite 337\\nJenniferview, WI 70466</td>\n",
              "    </tr>\n",
              "    <tr>\n",
              "      <th>3</th>\n",
              "      <td>25000.0</td>\n",
              "      <td>60 months</td>\n",
              "      <td>20.49</td>\n",
              "      <td>669.19</td>\n",
              "      <td>E</td>\n",
              "      <td>E2</td>\n",
              "      <td>VP of MultiFamily Investments</td>\n",
              "      <td>5 years</td>\n",
              "      <td>RENT</td>\n",
              "      <td>100000.0</td>\n",
              "      <td>Source Verified</td>\n",
              "      <td>Apr-2014</td>\n",
              "      <td>Charged Off</td>\n",
              "      <td>debt_consolidation</td>\n",
              "      <td>Debt consolidation</td>\n",
              "      <td>15.16</td>\n",
              "      <td>Nov-2001</td>\n",
              "      <td>5.0</td>\n",
              "      <td>0.0</td>\n",
              "      <td>20133.0</td>\n",
              "      <td>148.0</td>\n",
              "      <td>7.0</td>\n",
              "      <td>w</td>\n",
              "      <td>INDIVIDUAL</td>\n",
              "      <td>0.0</td>\n",
              "      <td>0.0</td>\n",
              "      <td>175 Martinez Corners Apt. 773\\nNicholsland, VA...</td>\n",
              "    </tr>\n",
              "    <tr>\n",
              "      <th>4</th>\n",
              "      <td>12600.0</td>\n",
              "      <td>36 months</td>\n",
              "      <td>8.39</td>\n",
              "      <td>397.11</td>\n",
              "      <td>A</td>\n",
              "      <td>A5</td>\n",
              "      <td>AVP, Senior Leasing Assistant</td>\n",
              "      <td>8 years</td>\n",
              "      <td>MORTGAGE</td>\n",
              "      <td>96011.0</td>\n",
              "      <td>Not Verified</td>\n",
              "      <td>Oct-2014</td>\n",
              "      <td>Fully Paid</td>\n",
              "      <td>debt_consolidation</td>\n",
              "      <td>Debt consolidation</td>\n",
              "      <td>11.56</td>\n",
              "      <td>Apr-1981</td>\n",
              "      <td>9.0</td>\n",
              "      <td>0.0</td>\n",
              "      <td>20033.0</td>\n",
              "      <td>146.1</td>\n",
              "      <td>22.0</td>\n",
              "      <td>w</td>\n",
              "      <td>INDIVIDUAL</td>\n",
              "      <td>4.0</td>\n",
              "      <td>0.0</td>\n",
              "      <td>47969 Davis Divide Suite 571\\nLake Daniel, OK ...</td>\n",
              "    </tr>\n",
              "  </tbody>\n",
              "</table>\n",
              "</div>"
            ],
            "text/plain": [
              "   loan_amnt  ...                                            address\n",
              "0    35000.0  ...  7421 Pamela Pines Suite 835\\nSouth Kyletown, O...\n",
              "1    12000.0  ...          595 Hall Flat\\nPort Heatherbury, NE 48052\n",
              "2    10000.0  ...  159 Melanie Rue Suite 337\\nJenniferview, WI 70466\n",
              "3    25000.0  ...  175 Martinez Corners Apt. 773\\nNicholsland, VA...\n",
              "4    12600.0  ...  47969 Davis Divide Suite 571\\nLake Daniel, OK ...\n",
              "\n",
              "[5 rows x 27 columns]"
            ]
          },
          "metadata": {},
          "execution_count": 3
        }
      ]
    },
    {
      "cell_type": "code",
      "metadata": {
        "colab": {
          "base_uri": "https://localhost:8080/"
        },
        "id": "1vSNVrKaSEma",
        "outputId": "a521fd5e-2a06-4c73-9538-cb08e8f0ffb8"
      },
      "source": [
        "# categorical, using pd.dummies\n",
        "df['term'].value_counts()"
      ],
      "execution_count": null,
      "outputs": [
        {
          "output_type": "execute_result",
          "data": {
            "text/plain": [
              " 36 months    298840\n",
              " 60 months     92929\n",
              "Name: term, dtype: int64"
            ]
          },
          "metadata": {},
          "execution_count": 4
        }
      ]
    },
    {
      "cell_type": "code",
      "metadata": {
        "colab": {
          "base_uri": "https://localhost:8080/"
        },
        "id": "47FhIRpmTHL4",
        "outputId": "d46390f5-06ae-4439-b533-8df07928dbab"
      },
      "source": [
        "# categorical, but convert into numerical or continuous\n",
        "# because Grade A higher than grade G (each grade has different weight), so the continuous most fit to the model\n",
        "df['grade'].nunique()"
      ],
      "execution_count": null,
      "outputs": [
        {
          "output_type": "execute_result",
          "data": {
            "text/plain": [
              "7"
            ]
          },
          "metadata": {},
          "execution_count": 5
        }
      ]
    },
    {
      "cell_type": "code",
      "metadata": {
        "colab": {
          "base_uri": "https://localhost:8080/"
        },
        "id": "ojOrB8LfXklg",
        "outputId": "ee786beb-3df1-4e6d-86f0-38ad4af77804"
      },
      "source": [
        "df['grade'].unique()"
      ],
      "execution_count": null,
      "outputs": [
        {
          "output_type": "execute_result",
          "data": {
            "text/plain": [
              "array(['G', 'D', 'C', 'E', 'A', 'B', 'F'], dtype=object)"
            ]
          },
          "metadata": {},
          "execution_count": 6
        }
      ]
    },
    {
      "cell_type": "code",
      "metadata": {
        "colab": {
          "base_uri": "https://localhost:8080/",
          "height": 387
        },
        "id": "42DXAWSMYARt",
        "outputId": "0bdabc8f-c72c-4654-ba42-62a429a83943"
      },
      "source": [
        "# assumed grade from A-G, best - worst, let's check it\n",
        "sns.displot(data=df,x='grade')"
      ],
      "execution_count": null,
      "outputs": [
        {
          "output_type": "execute_result",
          "data": {
            "text/plain": [
              "<seaborn.axisgrid.FacetGrid at 0x7f858081da50>"
            ]
          },
          "metadata": {},
          "execution_count": 7
        },
        {
          "output_type": "display_data",
          "data": {
            "image/png": "[encoded data removed]",
            "text/plain": [
              "<Figure size 360x360 with 1 Axes>"
            ]
          },
          "metadata": {
            "needs_background": "light"
          }
        }
      ]
    },
    {
      "cell_type": "code",
      "metadata": {
        "colab": {
          "base_uri": "https://localhost:8080/"
        },
        "id": "JP2XpZRoYs6-",
        "outputId": "a1245c73-8e3c-4a5e-88c9-c6e3efb8af78"
      },
      "source": [
        "# Grade A = 6.3% default\n",
        "df[df['grade']=='A']['loan_status'].value_counts()"
      ],
      "execution_count": null,
      "outputs": [
        {
          "output_type": "execute_result",
          "data": {
            "text/plain": [
              "Fully Paid     59238\n",
              "Charged Off     4005\n",
              "Name: loan_status, dtype: int64"
            ]
          },
          "metadata": {},
          "execution_count": 8
        }
      ]
    },
    {
      "cell_type": "code",
      "metadata": {
        "colab": {
          "base_uri": "https://localhost:8080/"
        },
        "id": "jBXZp5VdYYTL",
        "outputId": "4cede4e2-b4d1-4d2f-97af-1b21f8190102"
      },
      "source": [
        "# Grade D = 28.9% default\n",
        "df[df['grade']=='D']['loan_status'].value_counts()"
      ],
      "execution_count": null,
      "outputs": [
        {
          "output_type": "execute_result",
          "data": {
            "text/plain": [
              "Fully Paid     44706\n",
              "Charged Off    18212\n",
              "Name: loan_status, dtype: int64"
            ]
          },
          "metadata": {},
          "execution_count": 9
        }
      ]
    },
    {
      "cell_type": "code",
      "metadata": {
        "colab": {
          "base_uri": "https://localhost:8080/"
        },
        "id": "ZJxYy_6zYyVi",
        "outputId": "bc81d3e1-9b35-4706-f569-15aa37908c81"
      },
      "source": [
        "# Grade G = 47.8% default\n",
        "df[df['grade']=='G']['loan_status'].value_counts()"
      ],
      "execution_count": null,
      "outputs": [
        {
          "output_type": "execute_result",
          "data": {
            "text/plain": [
              "Fully Paid     1557\n",
              "Charged Off    1444\n",
              "Name: loan_status, dtype: int64"
            ]
          },
          "metadata": {},
          "execution_count": 10
        }
      ]
    },
    {
      "cell_type": "code",
      "metadata": {
        "colab": {
          "base_uri": "https://localhost:8080/"
        },
        "id": "1sDT91e7SnRk",
        "outputId": "ab451c5c-0a6b-418e-f898-57a3bae6a25f"
      },
      "source": [
        "# because Grade A higher than grade G (each grade has different weight), so the continuous most fit to the model\n",
        "df['sub_grade'].nunique()"
      ],
      "execution_count": null,
      "outputs": [
        {
          "output_type": "execute_result",
          "data": {
            "text/plain": [
              "35"
            ]
          },
          "metadata": {},
          "execution_count": 11
        }
      ]
    },
    {
      "cell_type": "code",
      "metadata": {
        "colab": {
          "base_uri": "https://localhost:8080/"
        },
        "id": "1J8sIaFKXOtW",
        "outputId": "69ea853d-0c62-454f-e18d-90916bacf07e"
      },
      "source": [
        "df['sub_grade'].unique()"
      ],
      "execution_count": null,
      "outputs": [
        {
          "output_type": "execute_result",
          "data": {
            "text/plain": [
              "array(['G2', 'D2', 'C2', 'E2', 'A5', 'C1', 'D5', 'D4', 'D3', 'B4', 'C3',\n",
              "       'C5', 'E5', 'D1', 'B2', 'B5', 'B1', 'C4', 'E1', 'F1', 'F3', 'B3',\n",
              "       'E4', 'E3', 'F4', 'F2', 'G1', 'F5', 'G3', 'A2', 'A4', 'G4', 'G5',\n",
              "       'A3', 'A1'], dtype=object)"
            ]
          },
          "metadata": {},
          "execution_count": 12
        }
      ]
    },
    {
      "cell_type": "code",
      "metadata": {
        "colab": {
          "base_uri": "https://localhost:8080/"
        },
        "id": "umJ2TJiWTrNy",
        "outputId": "28d00daa-3c25-442b-dd8c-a8b61ea276e5"
      },
      "source": [
        "# categorical, but convert into numerical or continuous\n",
        "df['emp_length'].nunique()"
      ],
      "execution_count": null,
      "outputs": [
        {
          "output_type": "execute_result",
          "data": {
            "text/plain": [
              "11"
            ]
          },
          "metadata": {},
          "execution_count": 13
        }
      ]
    },
    {
      "cell_type": "code",
      "metadata": {
        "colab": {
          "base_uri": "https://localhost:8080/"
        },
        "id": "Qp5aDaGWT0JM",
        "outputId": "2000cef0-8e28-4fe7-9404-8578b83d9807"
      },
      "source": [
        "# categorical, could use pd.dummies\n",
        "# because each of these, has the same weights\n",
        "# we couldn't rank which better than the other.\n",
        "df['home_ownership'].value_counts()"
      ],
      "execution_count": null,
      "outputs": [
        {
          "output_type": "execute_result",
          "data": {
            "text/plain": [
              "MORTGAGE    195471\n",
              "RENT        158834\n",
              "OWN          37319\n",
              "OTHER          111\n",
              "NONE            31\n",
              "ANY              3\n",
              "Name: home_ownership, dtype: int64"
            ]
          },
          "metadata": {},
          "execution_count": 14
        }
      ]
    },
    {
      "cell_type": "code",
      "metadata": {
        "colab": {
          "base_uri": "https://localhost:8080/"
        },
        "id": "Z5AasWLtUEeO",
        "outputId": "2abb4ddd-8a35-4051-bf4a-614bd3eeca7d"
      },
      "source": [
        "# categorical, could use pd.dummies\n",
        "# because each of these, has the same weights\n",
        "# we couldn't rank which better than the other. \n",
        "df['verification_status'].value_counts()"
      ],
      "execution_count": null,
      "outputs": [
        {
          "output_type": "execute_result",
          "data": {
            "text/plain": [
              "Verified           137640\n",
              "Source Verified    129343\n",
              "Not Verified       124786\n",
              "Name: verification_status, dtype: int64"
            ]
          },
          "metadata": {},
          "execution_count": 15
        }
      ]
    },
    {
      "cell_type": "code",
      "metadata": {
        "colab": {
          "base_uri": "https://localhost:8080/"
        },
        "id": "SN1NxApxVURl",
        "outputId": "3eb5045f-775e-4a4d-bb9d-26beea0c86a3"
      },
      "source": [
        "# categorical, can use pd.dummies\n",
        "# fully_paid = 1, charde off = 0\n",
        "df['loan_status'].value_counts()"
      ],
      "execution_count": null,
      "outputs": [
        {
          "output_type": "execute_result",
          "data": {
            "text/plain": [
              "Fully Paid     314662\n",
              "Charged Off     77107\n",
              "Name: loan_status, dtype: int64"
            ]
          },
          "metadata": {},
          "execution_count": 16
        }
      ]
    },
    {
      "cell_type": "code",
      "metadata": {
        "colab": {
          "base_uri": "https://localhost:8080/"
        },
        "id": "3uCoNwgiUbk0",
        "outputId": "7222e027-e5f0-4007-cd4d-d2dd2ed366b4"
      },
      "source": [
        "# categorical, can use pd.dummies\n",
        "# because each of these, has the same weights\n",
        "# we couldn't rank which better than the other.\n",
        "df['purpose'].nunique()"
      ],
      "execution_count": null,
      "outputs": [
        {
          "output_type": "execute_result",
          "data": {
            "text/plain": [
              "14"
            ]
          },
          "metadata": {},
          "execution_count": 17
        }
      ]
    },
    {
      "cell_type": "code",
      "metadata": {
        "colab": {
          "base_uri": "https://localhost:8080/",
          "height": 369
        },
        "id": "WwWBj-ws_LZo",
        "outputId": "d2528a78-67d5-4bcf-9b0c-886b37cd062f"
      },
      "source": [
        "#plt.figure(figsize=(15,5))\n",
        "chart = sns.countplot(x='purpose',data=df);\n",
        "\n",
        "chart.set_xticklabels(chart.get_xticklabels(), rotation=90);"
      ],
      "execution_count": null,
      "outputs": [
        {
          "output_type": "display_data",
          "data": {
            "image/png": "[encoded data removed]",
            "text/plain": [
              "<Figure size 432x288 with 1 Axes>"
            ]
          },
          "metadata": {
            "needs_background": "light"
          }
        }
      ]
    },
    {
      "cell_type": "code",
      "metadata": {
        "colab": {
          "base_uri": "https://localhost:8080/"
        },
        "id": "I87r-_rxWQtJ",
        "outputId": "70a3da33-73c5-4fa5-b037-34395036ede5"
      },
      "source": [
        "# categorical, can be converted using pd dummies\n",
        "# f = 1, w = 0\n",
        "df['initial_list_status'].value_counts()"
      ],
      "execution_count": null,
      "outputs": [
        {
          "output_type": "execute_result",
          "data": {
            "text/plain": [
              "f    235747\n",
              "w    156022\n",
              "Name: initial_list_status, dtype: int64"
            ]
          },
          "metadata": {},
          "execution_count": 19
        }
      ]
    },
    {
      "cell_type": "code",
      "metadata": {
        "colab": {
          "base_uri": "https://localhost:8080/"
        },
        "id": "-IvVkaD8Us1v",
        "outputId": "4277a643-bdda-4fea-eafb-73485cd19a30"
      },
      "source": [
        "# categorical, can be converted using pd dummies\n",
        "# because each of these, has the same weights\n",
        "# we couldn't rank which better than the other.\n",
        "df['application_type'].value_counts()"
      ],
      "execution_count": null,
      "outputs": [
        {
          "output_type": "execute_result",
          "data": {
            "text/plain": [
              "INDIVIDUAL    391072\n",
              "JOINT            412\n",
              "DIRECT_PAY       285\n",
              "Name: application_type, dtype: int64"
            ]
          },
          "metadata": {},
          "execution_count": 20
        }
      ]
    },
    {
      "cell_type": "code",
      "metadata": {
        "id": "UdekcmnGVzOp"
      },
      "source": [
        "# DELETE column Address\n",
        "# we could extract the state & zip code, but it'll be too overkill, doesn't it?"
      ],
      "execution_count": null,
      "outputs": []
    },
    {
      "cell_type": "markdown",
      "metadata": {
        "id": "g9BfDdrkgHti"
      },
      "source": [
        "# Testing Replace 'Grade' col with numerical"
      ]
    },
    {
      "cell_type": "markdown",
      "metadata": {
        "id": "DOoCsb6PgR34"
      },
      "source": [
        "we're testing using separate dictionary, and matched it with Grade col\n",
        "\n",
        "https://stackoverflow.com/questions/34962104/how-can-i-use-the-apply-function-for-a-single-column"
      ]
    },
    {
      "cell_type": "code",
      "metadata": {
        "id": "MEXvmmiGc1Cy"
      },
      "source": [
        "dict_grade = {'A':1,'B':2,'C':3,'D':4,'E':5,'F':6,'G':7}"
      ],
      "execution_count": null,
      "outputs": []
    },
    {
      "cell_type": "code",
      "metadata": {
        "id": "2H9IIvChc-Ld"
      },
      "source": [
        "test_df = pd.DataFrame(df['grade'])"
      ],
      "execution_count": null,
      "outputs": []
    },
    {
      "cell_type": "code",
      "metadata": {
        "colab": {
          "base_uri": "https://localhost:8080/"
        },
        "id": "xOIK2ODndQrv",
        "outputId": "ae2e7679-ad49-4f6b-c7b2-0247c9d5bd87"
      },
      "source": [
        "test_df['num_grade']=test_df['grade'].apply(lambda i: dict_grade[i])\n",
        "test_df.head(10)"
      ],
      "execution_count": null,
      "outputs": [
        {
          "output_type": "execute_result",
          "data": {
            "text/html": [
              "<div>\n",
              "<style scoped>\n",
              "    .dataframe tbody tr th:only-of-type {\n",
              "        vertical-align: middle;\n",
              "    }\n",
              "\n",
              "    .dataframe tbody tr th {\n",
              "        vertical-align: top;\n",
              "    }\n",
              "\n",
              "    .dataframe thead th {\n",
              "        text-align: right;\n",
              "    }\n",
              "</style>\n",
              "<table border=\"1\" class=\"dataframe\">\n",
              "  <thead>\n",
              "    <tr style=\"text-align: right;\">\n",
              "      <th></th>\n",
              "      <th>grade</th>\n",
              "      <th>num_grade</th>\n",
              "    </tr>\n",
              "  </thead>\n",
              "  <tbody>\n",
              "    <tr>\n",
              "      <th>0</th>\n",
              "      <td>G</td>\n",
              "      <td>7</td>\n",
              "    </tr>\n",
              "    <tr>\n",
              "      <th>1</th>\n",
              "      <td>D</td>\n",
              "      <td>4</td>\n",
              "    </tr>\n",
              "    <tr>\n",
              "      <th>2</th>\n",
              "      <td>C</td>\n",
              "      <td>3</td>\n",
              "    </tr>\n",
              "    <tr>\n",
              "      <th>3</th>\n",
              "      <td>E</td>\n",
              "      <td>5</td>\n",
              "    </tr>\n",
              "    <tr>\n",
              "      <th>4</th>\n",
              "      <td>A</td>\n",
              "      <td>1</td>\n",
              "    </tr>\n",
              "    <tr>\n",
              "      <th>5</th>\n",
              "      <td>C</td>\n",
              "      <td>3</td>\n",
              "    </tr>\n",
              "    <tr>\n",
              "      <th>6</th>\n",
              "      <td>D</td>\n",
              "      <td>4</td>\n",
              "    </tr>\n",
              "    <tr>\n",
              "      <th>7</th>\n",
              "      <td>D</td>\n",
              "      <td>4</td>\n",
              "    </tr>\n",
              "    <tr>\n",
              "      <th>8</th>\n",
              "      <td>D</td>\n",
              "      <td>4</td>\n",
              "    </tr>\n",
              "    <tr>\n",
              "      <th>9</th>\n",
              "      <td>D</td>\n",
              "      <td>4</td>\n",
              "    </tr>\n",
              "  </tbody>\n",
              "</table>\n",
              "</div>"
            ],
            "text/plain": [
              "  grade  num_grade\n",
              "0     G          7\n",
              "1     D          4\n",
              "2     C          3\n",
              "3     E          5\n",
              "4     A          1\n",
              "5     C          3\n",
              "6     D          4\n",
              "7     D          4\n",
              "8     D          4\n",
              "9     D          4"
            ]
          },
          "metadata": {},
          "execution_count": 24
        }
      ]
    },
    {
      "cell_type": "markdown",
      "metadata": {
        "id": "o3iPbtFMgcuK"
      },
      "source": [
        "Create a list of possible combination Grade A-G, and subgrade 1-5\n",
        "\n",
        "https://stackoverflow.com/questions/59100354/python-how-to-concatenate-all-possible-combinations-in-two-lists"
      ]
    },
    {
      "cell_type": "code",
      "metadata": {
        "id": "9NK7C-nhf7pO"
      },
      "source": [
        "from itertools import product"
      ],
      "execution_count": null,
      "outputs": []
    },
    {
      "cell_type": "code",
      "metadata": {
        "id": "yVrtPGELhmTY"
      },
      "source": [
        "grade = ['A','B','C','D','E','F','G']"
      ],
      "execution_count": null,
      "outputs": []
    },
    {
      "cell_type": "code",
      "metadata": {
        "id": "5vJVmBykiCiE"
      },
      "source": [
        "sub_grade = []\n",
        "for g1,g2 in product(grade, list(range(1,6))):\n",
        "  sub_grade.append(g1+str(g2))"
      ],
      "execution_count": null,
      "outputs": []
    },
    {
      "cell_type": "markdown",
      "metadata": {
        "id": "G6wGvAmjkjlU"
      },
      "source": [
        "Combine 2 list Sub_grade & list(range(1,36), into dictionary using zip\n",
        "\n",
        "https://www.geeksforgeeks.org/python-convert-two-lists-into-a-dictionary/"
      ]
    },
    {
      "cell_type": "code",
      "metadata": {
        "id": "fkkS7u5hiGkS"
      },
      "source": [
        "dict_sub_grade = dict(zip(sub_grade, list(range(1,36))))"
      ],
      "execution_count": null,
      "outputs": []
    },
    {
      "cell_type": "code",
      "metadata": {
        "colab": {
          "base_uri": "https://localhost:8080/"
        },
        "id": "vN6bB2AKiUqb",
        "outputId": "bacdf535-9689-461d-abe8-57140b5ada4f"
      },
      "source": [
        "dict_sub_grade"
      ],
      "execution_count": null,
      "outputs": [
        {
          "output_type": "execute_result",
          "data": {
            "text/plain": [
              "{'A1': 1,\n",
              " 'A2': 2,\n",
              " 'A3': 3,\n",
              " 'A4': 4,\n",
              " 'A5': 5,\n",
              " 'B1': 6,\n",
              " 'B2': 7,\n",
              " 'B3': 8,\n",
              " 'B4': 9,\n",
              " 'B5': 10,\n",
              " 'C1': 11,\n",
              " 'C2': 12,\n",
              " 'C3': 13,\n",
              " 'C4': 14,\n",
              " 'C5': 15,\n",
              " 'D1': 16,\n",
              " 'D2': 17,\n",
              " 'D3': 18,\n",
              " 'D4': 19,\n",
              " 'D5': 20,\n",
              " 'E1': 21,\n",
              " 'E2': 22,\n",
              " 'E3': 23,\n",
              " 'E4': 24,\n",
              " 'E5': 25,\n",
              " 'F1': 26,\n",
              " 'F2': 27,\n",
              " 'F3': 28,\n",
              " 'F4': 29,\n",
              " 'F5': 30,\n",
              " 'G1': 31,\n",
              " 'G2': 32,\n",
              " 'G3': 33,\n",
              " 'G4': 34,\n",
              " 'G5': 35}"
            ]
          },
          "metadata": {},
          "execution_count": 29
        }
      ]
    },
    {
      "cell_type": "markdown",
      "metadata": {
        "id": "dhDAmC7kngEN"
      },
      "source": [
        "# Back again at df"
      ]
    },
    {
      "cell_type": "code",
      "metadata": {
        "colab": {
          "base_uri": "https://localhost:8080/"
        },
        "id": "x7KNvD50nh1B",
        "outputId": "d29f6e16-9d6b-4517-dcc1-b444e27f2b6b"
      },
      "source": [
        "df.head()"
      ],
      "execution_count": null,
      "outputs": [
        {
          "output_type": "execute_result",
          "data": {
            "text/html": [
              "<div>\n",
              "<style scoped>\n",
              "    .dataframe tbody tr th:only-of-type {\n",
              "        vertical-align: middle;\n",
              "    }\n",
              "\n",
              "    .dataframe tbody tr th {\n",
              "        vertical-align: top;\n",
              "    }\n",
              "\n",
              "    .dataframe thead th {\n",
              "        text-align: right;\n",
              "    }\n",
              "</style>\n",
              "<table border=\"1\" class=\"dataframe\">\n",
              "  <thead>\n",
              "    <tr style=\"text-align: right;\">\n",
              "      <th></th>\n",
              "      <th>loan_amnt</th>\n",
              "      <th>term</th>\n",
              "      <th>int_rate</th>\n",
              "      <th>installment</th>\n",
              "      <th>grade</th>\n",
              "      <th>sub_grade</th>\n",
              "      <th>emp_title</th>\n",
              "      <th>emp_length</th>\n",
              "      <th>home_ownership</th>\n",
              "      <th>annual_inc</th>\n",
              "      <th>verification_status</th>\n",
              "      <th>issue_d</th>\n",
              "      <th>loan_status</th>\n",
              "      <th>purpose</th>\n",
              "      <th>title</th>\n",
              "      <th>dti</th>\n",
              "      <th>earliest_cr_line</th>\n",
              "      <th>open_acc</th>\n",
              "      <th>pub_rec</th>\n",
              "      <th>revol_bal</th>\n",
              "      <th>revol_util</th>\n",
              "      <th>total_acc</th>\n",
              "      <th>initial_list_status</th>\n",
              "      <th>application_type</th>\n",
              "      <th>mort_acc</th>\n",
              "      <th>pub_rec_bankruptcies</th>\n",
              "      <th>address</th>\n",
              "    </tr>\n",
              "  </thead>\n",
              "  <tbody>\n",
              "    <tr>\n",
              "      <th>0</th>\n",
              "      <td>35000.0</td>\n",
              "      <td>36 months</td>\n",
              "      <td>25.83</td>\n",
              "      <td>1407.01</td>\n",
              "      <td>G</td>\n",
              "      <td>G2</td>\n",
              "      <td>HR Director</td>\n",
              "      <td>10+ years</td>\n",
              "      <td>RENT</td>\n",
              "      <td>165800.0</td>\n",
              "      <td>Verified</td>\n",
              "      <td>Mar-2014</td>\n",
              "      <td>Fully Paid</td>\n",
              "      <td>debt_consolidation</td>\n",
              "      <td>Debt consolidation</td>\n",
              "      <td>7.42</td>\n",
              "      <td>Jul-2005</td>\n",
              "      <td>5.0</td>\n",
              "      <td>0.0</td>\n",
              "      <td>16521.0</td>\n",
              "      <td>153.0</td>\n",
              "      <td>5.0</td>\n",
              "      <td>f</td>\n",
              "      <td>INDIVIDUAL</td>\n",
              "      <td>0.0</td>\n",
              "      <td>0.0</td>\n",
              "      <td>7421 Pamela Pines Suite 835\\nSouth Kyletown, O...</td>\n",
              "    </tr>\n",
              "    <tr>\n",
              "      <th>1</th>\n",
              "      <td>12000.0</td>\n",
              "      <td>60 months</td>\n",
              "      <td>16.55</td>\n",
              "      <td>295.34</td>\n",
              "      <td>D</td>\n",
              "      <td>D2</td>\n",
              "      <td>NaN</td>\n",
              "      <td>NaN</td>\n",
              "      <td>MORTGAGE</td>\n",
              "      <td>45600.0</td>\n",
              "      <td>Verified</td>\n",
              "      <td>Nov-2015</td>\n",
              "      <td>Fully Paid</td>\n",
              "      <td>other</td>\n",
              "      <td>Other</td>\n",
              "      <td>38.98</td>\n",
              "      <td>Apr-2002</td>\n",
              "      <td>5.0</td>\n",
              "      <td>0.0</td>\n",
              "      <td>13880.0</td>\n",
              "      <td>152.5</td>\n",
              "      <td>11.0</td>\n",
              "      <td>f</td>\n",
              "      <td>INDIVIDUAL</td>\n",
              "      <td>5.0</td>\n",
              "      <td>0.0</td>\n",
              "      <td>595 Hall Flat\\nPort Heatherbury, NE 48052</td>\n",
              "    </tr>\n",
              "    <tr>\n",
              "      <th>2</th>\n",
              "      <td>10000.0</td>\n",
              "      <td>36 months</td>\n",
              "      <td>14.16</td>\n",
              "      <td>342.56</td>\n",
              "      <td>C</td>\n",
              "      <td>C2</td>\n",
              "      <td>Superintendent</td>\n",
              "      <td>10+ years</td>\n",
              "      <td>OWN</td>\n",
              "      <td>91000.0</td>\n",
              "      <td>Not Verified</td>\n",
              "      <td>Apr-2014</td>\n",
              "      <td>Fully Paid</td>\n",
              "      <td>debt_consolidation</td>\n",
              "      <td>Debt consolidation</td>\n",
              "      <td>20.94</td>\n",
              "      <td>Jul-1997</td>\n",
              "      <td>9.0</td>\n",
              "      <td>0.0</td>\n",
              "      <td>9344.0</td>\n",
              "      <td>150.7</td>\n",
              "      <td>37.0</td>\n",
              "      <td>f</td>\n",
              "      <td>INDIVIDUAL</td>\n",
              "      <td>6.0</td>\n",
              "      <td>0.0</td>\n",
              "      <td>159 Melanie Rue Suite 337\\nJenniferview, WI 70466</td>\n",
              "    </tr>\n",
              "    <tr>\n",
              "      <th>3</th>\n",
              "      <td>25000.0</td>\n",
              "      <td>60 months</td>\n",
              "      <td>20.49</td>\n",
              "      <td>669.19</td>\n",
              "      <td>E</td>\n",
              "      <td>E2</td>\n",
              "      <td>VP of MultiFamily Investments</td>\n",
              "      <td>5 years</td>\n",
              "      <td>RENT</td>\n",
              "      <td>100000.0</td>\n",
              "      <td>Source Verified</td>\n",
              "      <td>Apr-2014</td>\n",
              "      <td>Charged Off</td>\n",
              "      <td>debt_consolidation</td>\n",
              "      <td>Debt consolidation</td>\n",
              "      <td>15.16</td>\n",
              "      <td>Nov-2001</td>\n",
              "      <td>5.0</td>\n",
              "      <td>0.0</td>\n",
              "      <td>20133.0</td>\n",
              "      <td>148.0</td>\n",
              "      <td>7.0</td>\n",
              "      <td>w</td>\n",
              "      <td>INDIVIDUAL</td>\n",
              "      <td>0.0</td>\n",
              "      <td>0.0</td>\n",
              "      <td>175 Martinez Corners Apt. 773\\nNicholsland, VA...</td>\n",
              "    </tr>\n",
              "    <tr>\n",
              "      <th>4</th>\n",
              "      <td>12600.0</td>\n",
              "      <td>36 months</td>\n",
              "      <td>8.39</td>\n",
              "      <td>397.11</td>\n",
              "      <td>A</td>\n",
              "      <td>A5</td>\n",
              "      <td>AVP, Senior Leasing Assistant</td>\n",
              "      <td>8 years</td>\n",
              "      <td>MORTGAGE</td>\n",
              "      <td>96011.0</td>\n",
              "      <td>Not Verified</td>\n",
              "      <td>Oct-2014</td>\n",
              "      <td>Fully Paid</td>\n",
              "      <td>debt_consolidation</td>\n",
              "      <td>Debt consolidation</td>\n",
              "      <td>11.56</td>\n",
              "      <td>Apr-1981</td>\n",
              "      <td>9.0</td>\n",
              "      <td>0.0</td>\n",
              "      <td>20033.0</td>\n",
              "      <td>146.1</td>\n",
              "      <td>22.0</td>\n",
              "      <td>w</td>\n",
              "      <td>INDIVIDUAL</td>\n",
              "      <td>4.0</td>\n",
              "      <td>0.0</td>\n",
              "      <td>47969 Davis Divide Suite 571\\nLake Daniel, OK ...</td>\n",
              "    </tr>\n",
              "  </tbody>\n",
              "</table>\n",
              "</div>"
            ],
            "text/plain": [
              "   loan_amnt  ...                                            address\n",
              "0    35000.0  ...  7421 Pamela Pines Suite 835\\nSouth Kyletown, O...\n",
              "1    12000.0  ...          595 Hall Flat\\nPort Heatherbury, NE 48052\n",
              "2    10000.0  ...  159 Melanie Rue Suite 337\\nJenniferview, WI 70466\n",
              "3    25000.0  ...  175 Martinez Corners Apt. 773\\nNicholsland, VA...\n",
              "4    12600.0  ...  47969 Davis Divide Suite 571\\nLake Daniel, OK ...\n",
              "\n",
              "[5 rows x 27 columns]"
            ]
          },
          "metadata": {},
          "execution_count": 30
        }
      ]
    },
    {
      "cell_type": "markdown",
      "metadata": {
        "id": "jFXLo-ggIhDc"
      },
      "source": [
        "# Start Replacing, Imputing Columns with Numerical or Categorical"
      ]
    },
    {
      "cell_type": "markdown",
      "metadata": {
        "id": "t2rYeiFxoPsj"
      },
      "source": [
        "## Replace 'Grade' with numerical"
      ]
    },
    {
      "cell_type": "code",
      "metadata": {
        "id": "SBX-8Ou6nkVw"
      },
      "source": [
        "df['grade']=df['grade'].apply(lambda i: dict_grade[i])"
      ],
      "execution_count": null,
      "outputs": []
    },
    {
      "cell_type": "code",
      "metadata": {
        "id": "xkN6aoOXNnNt"
      },
      "source": [
        "df = df.drop('grade',axis=1)"
      ],
      "execution_count": null,
      "outputs": []
    },
    {
      "cell_type": "markdown",
      "metadata": {
        "id": "F9KMV5GXob3s"
      },
      "source": [
        "## Replace 'sub_grade' with numerical"
      ]
    },
    {
      "cell_type": "code",
      "metadata": {
        "id": "ESd5FVcjn39k"
      },
      "source": [
        "df['sub_grade']=df['sub_grade'].apply(lambda i: dict_sub_grade[i])"
      ],
      "execution_count": null,
      "outputs": []
    },
    {
      "cell_type": "markdown",
      "metadata": {
        "id": "2KKEXNxapDgN"
      },
      "source": [
        "## Replace 'term' into categorical 1s & 0s"
      ]
    },
    {
      "cell_type": "code",
      "metadata": {
        "id": "YHve1U7YpHe4"
      },
      "source": [
        "df['term'] = df['term'].astype('category')"
      ],
      "execution_count": null,
      "outputs": []
    },
    {
      "cell_type": "code",
      "metadata": {
        "colab": {
          "base_uri": "https://localhost:8080/"
        },
        "id": "8KkeKES5pX5y",
        "outputId": "041b9380-c3bb-4a98-b000-0ea7417b24e6"
      },
      "source": [
        "df['term'].value_counts()"
      ],
      "execution_count": null,
      "outputs": [
        {
          "output_type": "execute_result",
          "data": {
            "text/plain": [
              " 36 months    298840\n",
              " 60 months     92929\n",
              "Name: term, dtype: int64"
            ]
          },
          "metadata": {},
          "execution_count": 37
        }
      ]
    },
    {
      "cell_type": "code",
      "metadata": {
        "colab": {
          "base_uri": "https://localhost:8080/"
        },
        "id": "9E3btoZqqhcL",
        "outputId": "7e9db1e9-6d76-40e2-fe71-29e48ccce8e5"
      },
      "source": [
        "df['term'] = df['term'].cat.codes\n",
        "df['term'].value_counts()"
      ],
      "execution_count": null,
      "outputs": [
        {
          "output_type": "execute_result",
          "data": {
            "text/plain": [
              "0    298840\n",
              "1     92929\n",
              "Name: term, dtype: int64"
            ]
          },
          "metadata": {},
          "execution_count": 38
        }
      ]
    },
    {
      "cell_type": "code",
      "metadata": {
        "colab": {
          "base_uri": "https://localhost:8080/",
          "height": 469
        },
        "id": "6dpckJaQwEce",
        "outputId": "aa19a778-a1c1-4583-dad9-cc200a969cc9"
      },
      "source": [
        "df.rename(columns={'term': '60_mo_term'},inplace=True)\n",
        "df.head()"
      ],
      "execution_count": null,
      "outputs": [
        {
          "output_type": "execute_result",
          "data": {
            "text/html": [
              "<div>\n",
              "<style scoped>\n",
              "    .dataframe tbody tr th:only-of-type {\n",
              "        vertical-align: middle;\n",
              "    }\n",
              "\n",
              "    .dataframe tbody tr th {\n",
              "        vertical-align: top;\n",
              "    }\n",
              "\n",
              "    .dataframe thead th {\n",
              "        text-align: right;\n",
              "    }\n",
              "</style>\n",
              "<table border=\"1\" class=\"dataframe\">\n",
              "  <thead>\n",
              "    <tr style=\"text-align: right;\">\n",
              "      <th></th>\n",
              "      <th>loan_amnt</th>\n",
              "      <th>60_mo_term</th>\n",
              "      <th>int_rate</th>\n",
              "      <th>installment</th>\n",
              "      <th>sub_grade</th>\n",
              "      <th>emp_title</th>\n",
              "      <th>emp_length</th>\n",
              "      <th>home_ownership</th>\n",
              "      <th>annual_inc</th>\n",
              "      <th>verification_status</th>\n",
              "      <th>issue_d</th>\n",
              "      <th>loan_status</th>\n",
              "      <th>purpose</th>\n",
              "      <th>title</th>\n",
              "      <th>dti</th>\n",
              "      <th>earliest_cr_line</th>\n",
              "      <th>open_acc</th>\n",
              "      <th>pub_rec</th>\n",
              "      <th>revol_bal</th>\n",
              "      <th>revol_util</th>\n",
              "      <th>total_acc</th>\n",
              "      <th>initial_list_status</th>\n",
              "      <th>application_type</th>\n",
              "      <th>mort_acc</th>\n",
              "      <th>pub_rec_bankruptcies</th>\n",
              "      <th>address</th>\n",
              "    </tr>\n",
              "  </thead>\n",
              "  <tbody>\n",
              "    <tr>\n",
              "      <th>0</th>\n",
              "      <td>35000.0</td>\n",
              "      <td>0</td>\n",
              "      <td>25.83</td>\n",
              "      <td>1407.01</td>\n",
              "      <td>32</td>\n",
              "      <td>HR Director</td>\n",
              "      <td>10+ years</td>\n",
              "      <td>RENT</td>\n",
              "      <td>165800.0</td>\n",
              "      <td>Verified</td>\n",
              "      <td>Mar-2014</td>\n",
              "      <td>Fully Paid</td>\n",
              "      <td>debt_consolidation</td>\n",
              "      <td>Debt consolidation</td>\n",
              "      <td>7.42</td>\n",
              "      <td>Jul-2005</td>\n",
              "      <td>5.0</td>\n",
              "      <td>0.0</td>\n",
              "      <td>16521.0</td>\n",
              "      <td>153.0</td>\n",
              "      <td>5.0</td>\n",
              "      <td>f</td>\n",
              "      <td>INDIVIDUAL</td>\n",
              "      <td>0.0</td>\n",
              "      <td>0.0</td>\n",
              "      <td>7421 Pamela Pines Suite 835\\nSouth Kyletown, O...</td>\n",
              "    </tr>\n",
              "    <tr>\n",
              "      <th>1</th>\n",
              "      <td>12000.0</td>\n",
              "      <td>1</td>\n",
              "      <td>16.55</td>\n",
              "      <td>295.34</td>\n",
              "      <td>17</td>\n",
              "      <td>NaN</td>\n",
              "      <td>NaN</td>\n",
              "      <td>MORTGAGE</td>\n",
              "      <td>45600.0</td>\n",
              "      <td>Verified</td>\n",
              "      <td>Nov-2015</td>\n",
              "      <td>Fully Paid</td>\n",
              "      <td>other</td>\n",
              "      <td>Other</td>\n",
              "      <td>38.98</td>\n",
              "      <td>Apr-2002</td>\n",
              "      <td>5.0</td>\n",
              "      <td>0.0</td>\n",
              "      <td>13880.0</td>\n",
              "      <td>152.5</td>\n",
              "      <td>11.0</td>\n",
              "      <td>f</td>\n",
              "      <td>INDIVIDUAL</td>\n",
              "      <td>5.0</td>\n",
              "      <td>0.0</td>\n",
              "      <td>595 Hall Flat\\nPort Heatherbury, NE 48052</td>\n",
              "    </tr>\n",
              "    <tr>\n",
              "      <th>2</th>\n",
              "      <td>10000.0</td>\n",
              "      <td>0</td>\n",
              "      <td>14.16</td>\n",
              "      <td>342.56</td>\n",
              "      <td>12</td>\n",
              "      <td>Superintendent</td>\n",
              "      <td>10+ years</td>\n",
              "      <td>OWN</td>\n",
              "      <td>91000.0</td>\n",
              "      <td>Not Verified</td>\n",
              "      <td>Apr-2014</td>\n",
              "      <td>Fully Paid</td>\n",
              "      <td>debt_consolidation</td>\n",
              "      <td>Debt consolidation</td>\n",
              "      <td>20.94</td>\n",
              "      <td>Jul-1997</td>\n",
              "      <td>9.0</td>\n",
              "      <td>0.0</td>\n",
              "      <td>9344.0</td>\n",
              "      <td>150.7</td>\n",
              "      <td>37.0</td>\n",
              "      <td>f</td>\n",
              "      <td>INDIVIDUAL</td>\n",
              "      <td>6.0</td>\n",
              "      <td>0.0</td>\n",
              "      <td>159 Melanie Rue Suite 337\\nJenniferview, WI 70466</td>\n",
              "    </tr>\n",
              "    <tr>\n",
              "      <th>3</th>\n",
              "      <td>25000.0</td>\n",
              "      <td>1</td>\n",
              "      <td>20.49</td>\n",
              "      <td>669.19</td>\n",
              "      <td>22</td>\n",
              "      <td>VP of MultiFamily Investments</td>\n",
              "      <td>5 years</td>\n",
              "      <td>RENT</td>\n",
              "      <td>100000.0</td>\n",
              "      <td>Source Verified</td>\n",
              "      <td>Apr-2014</td>\n",
              "      <td>Charged Off</td>\n",
              "      <td>debt_consolidation</td>\n",
              "      <td>Debt consolidation</td>\n",
              "      <td>15.16</td>\n",
              "      <td>Nov-2001</td>\n",
              "      <td>5.0</td>\n",
              "      <td>0.0</td>\n",
              "      <td>20133.0</td>\n",
              "      <td>148.0</td>\n",
              "      <td>7.0</td>\n",
              "      <td>w</td>\n",
              "      <td>INDIVIDUAL</td>\n",
              "      <td>0.0</td>\n",
              "      <td>0.0</td>\n",
              "      <td>175 Martinez Corners Apt. 773\\nNicholsland, VA...</td>\n",
              "    </tr>\n",
              "    <tr>\n",
              "      <th>4</th>\n",
              "      <td>12600.0</td>\n",
              "      <td>0</td>\n",
              "      <td>8.39</td>\n",
              "      <td>397.11</td>\n",
              "      <td>5</td>\n",
              "      <td>AVP, Senior Leasing Assistant</td>\n",
              "      <td>8 years</td>\n",
              "      <td>MORTGAGE</td>\n",
              "      <td>96011.0</td>\n",
              "      <td>Not Verified</td>\n",
              "      <td>Oct-2014</td>\n",
              "      <td>Fully Paid</td>\n",
              "      <td>debt_consolidation</td>\n",
              "      <td>Debt consolidation</td>\n",
              "      <td>11.56</td>\n",
              "      <td>Apr-1981</td>\n",
              "      <td>9.0</td>\n",
              "      <td>0.0</td>\n",
              "      <td>20033.0</td>\n",
              "      <td>146.1</td>\n",
              "      <td>22.0</td>\n",
              "      <td>w</td>\n",
              "      <td>INDIVIDUAL</td>\n",
              "      <td>4.0</td>\n",
              "      <td>0.0</td>\n",
              "      <td>47969 Davis Divide Suite 571\\nLake Daniel, OK ...</td>\n",
              "    </tr>\n",
              "  </tbody>\n",
              "</table>\n",
              "</div>"
            ],
            "text/plain": [
              "   loan_amnt  ...                                            address\n",
              "0    35000.0  ...  7421 Pamela Pines Suite 835\\nSouth Kyletown, O...\n",
              "1    12000.0  ...          595 Hall Flat\\nPort Heatherbury, NE 48052\n",
              "2    10000.0  ...  159 Melanie Rue Suite 337\\nJenniferview, WI 70466\n",
              "3    25000.0  ...  175 Martinez Corners Apt. 773\\nNicholsland, VA...\n",
              "4    12600.0  ...  47969 Davis Divide Suite 571\\nLake Daniel, OK ...\n",
              "\n",
              "[5 rows x 26 columns]"
            ]
          },
          "metadata": {},
          "execution_count": 39
        }
      ]
    },
    {
      "cell_type": "code",
      "metadata": {
        "colab": {
          "base_uri": "https://localhost:8080/"
        },
        "id": "FWZu8pNUGmgl",
        "outputId": "5f1cb1c1-245b-44a5-dad1-0894eff2ccfd"
      },
      "source": [
        "df.info()"
      ],
      "execution_count": null,
      "outputs": [
        {
          "output_type": "stream",
          "name": "stdout",
          "text": [
            "<class 'pandas.core.frame.DataFrame'>\n",
            "RangeIndex: 391769 entries, 0 to 391768\n",
            "Data columns (total 26 columns):\n",
            " #   Column                Non-Null Count   Dtype  \n",
            "---  ------                --------------   -----  \n",
            " 0   loan_amnt             391769 non-null  float64\n",
            " 1   60_mo_term            391769 non-null  int8   \n",
            " 2   int_rate              391769 non-null  float64\n",
            " 3   installment           391769 non-null  float64\n",
            " 4   sub_grade             391769 non-null  int64  \n",
            " 5   emp_title             369066 non-null  object \n",
            " 6   emp_length            373507 non-null  object \n",
            " 7   home_ownership        391769 non-null  object \n",
            " 8   annual_inc            391769 non-null  float64\n",
            " 9   verification_status   391769 non-null  object \n",
            " 10  issue_d               391769 non-null  object \n",
            " 11  loan_status           391769 non-null  object \n",
            " 12  purpose               391769 non-null  object \n",
            " 13  title                 390033 non-null  object \n",
            " 14  dti                   391769 non-null  float64\n",
            " 15  earliest_cr_line      391769 non-null  object \n",
            " 16  open_acc              391769 non-null  float64\n",
            " 17  pub_rec               391769 non-null  float64\n",
            " 18  revol_bal             391769 non-null  float64\n",
            " 19  revol_util            391502 non-null  float64\n",
            " 20  total_acc             391769 non-null  float64\n",
            " 21  initial_list_status   391769 non-null  object \n",
            " 22  application_type      391769 non-null  object \n",
            " 23  mort_acc              354308 non-null  float64\n",
            " 24  pub_rec_bankruptcies  391238 non-null  float64\n",
            " 25  address               391769 non-null  object \n",
            "dtypes: float64(12), int64(1), int8(1), object(12)\n",
            "memory usage: 75.1+ MB\n"
          ]
        }
      ]
    },
    {
      "cell_type": "markdown",
      "metadata": {
        "id": "H5FJvVDLvHQw"
      },
      "source": [
        "## Replace 'home ownership' into categorical 1s & 0s"
      ]
    },
    {
      "cell_type": "code",
      "metadata": {
        "colab": {
          "base_uri": "https://localhost:8080/",
          "height": 112
        },
        "id": "TEeauokOq9p2",
        "outputId": "2d0911a1-d6db-4f30-c051-7778dba49c10"
      },
      "source": [
        "cat_home_own = pd.get_dummies(df['home_ownership'])\n",
        "cat_home_own.rename(columns={'ANY': 'HO_ANY', 'MORTGAGE':'HO_MORTGAGE','NONE':'HO_NONE',\n",
        "                             'OTHER':'HO_OTHER','OWN':'HO_OWN','RENT':'HO_RENT'},inplace=True)\n",
        "cat_home_own.head(2)"
      ],
      "execution_count": null,
      "outputs": [
        {
          "output_type": "execute_result",
          "data": {
            "text/html": [
              "<div>\n",
              "<style scoped>\n",
              "    .dataframe tbody tr th:only-of-type {\n",
              "        vertical-align: middle;\n",
              "    }\n",
              "\n",
              "    .dataframe tbody tr th {\n",
              "        vertical-align: top;\n",
              "    }\n",
              "\n",
              "    .dataframe thead th {\n",
              "        text-align: right;\n",
              "    }\n",
              "</style>\n",
              "<table border=\"1\" class=\"dataframe\">\n",
              "  <thead>\n",
              "    <tr style=\"text-align: right;\">\n",
              "      <th></th>\n",
              "      <th>HO_ANY</th>\n",
              "      <th>HO_MORTGAGE</th>\n",
              "      <th>HO_NONE</th>\n",
              "      <th>HO_OTHER</th>\n",
              "      <th>HO_OWN</th>\n",
              "      <th>HO_RENT</th>\n",
              "    </tr>\n",
              "  </thead>\n",
              "  <tbody>\n",
              "    <tr>\n",
              "      <th>0</th>\n",
              "      <td>0</td>\n",
              "      <td>0</td>\n",
              "      <td>0</td>\n",
              "      <td>0</td>\n",
              "      <td>0</td>\n",
              "      <td>1</td>\n",
              "    </tr>\n",
              "    <tr>\n",
              "      <th>1</th>\n",
              "      <td>0</td>\n",
              "      <td>1</td>\n",
              "      <td>0</td>\n",
              "      <td>0</td>\n",
              "      <td>0</td>\n",
              "      <td>0</td>\n",
              "    </tr>\n",
              "  </tbody>\n",
              "</table>\n",
              "</div>"
            ],
            "text/plain": [
              "   HO_ANY  HO_MORTGAGE  HO_NONE  HO_OTHER  HO_OWN  HO_RENT\n",
              "0       0            0        0         0       0        1\n",
              "1       0            1        0         0       0        0"
            ]
          },
          "metadata": {},
          "execution_count": 41
        }
      ]
    },
    {
      "cell_type": "code",
      "metadata": {
        "id": "Rljig52SvkJU",
        "colab": {
          "base_uri": "https://localhost:8080/",
          "height": 469
        },
        "outputId": "79d528cd-6bb3-4dae-d6a4-47e0054dcf2c"
      },
      "source": [
        "df = pd.concat([df,cat_home_own],axis=1)\n",
        "df.head()"
      ],
      "execution_count": null,
      "outputs": [
        {
          "output_type": "execute_result",
          "data": {
            "text/html": [
              "<div>\n",
              "<style scoped>\n",
              "    .dataframe tbody tr th:only-of-type {\n",
              "        vertical-align: middle;\n",
              "    }\n",
              "\n",
              "    .dataframe tbody tr th {\n",
              "        vertical-align: top;\n",
              "    }\n",
              "\n",
              "    .dataframe thead th {\n",
              "        text-align: right;\n",
              "    }\n",
              "</style>\n",
              "<table border=\"1\" class=\"dataframe\">\n",
              "  <thead>\n",
              "    <tr style=\"text-align: right;\">\n",
              "      <th></th>\n",
              "      <th>loan_amnt</th>\n",
              "      <th>60_mo_term</th>\n",
              "      <th>int_rate</th>\n",
              "      <th>installment</th>\n",
              "      <th>sub_grade</th>\n",
              "      <th>emp_title</th>\n",
              "      <th>emp_length</th>\n",
              "      <th>home_ownership</th>\n",
              "      <th>annual_inc</th>\n",
              "      <th>verification_status</th>\n",
              "      <th>issue_d</th>\n",
              "      <th>loan_status</th>\n",
              "      <th>purpose</th>\n",
              "      <th>title</th>\n",
              "      <th>dti</th>\n",
              "      <th>earliest_cr_line</th>\n",
              "      <th>open_acc</th>\n",
              "      <th>pub_rec</th>\n",
              "      <th>revol_bal</th>\n",
              "      <th>revol_util</th>\n",
              "      <th>total_acc</th>\n",
              "      <th>initial_list_status</th>\n",
              "      <th>application_type</th>\n",
              "      <th>mort_acc</th>\n",
              "      <th>pub_rec_bankruptcies</th>\n",
              "      <th>address</th>\n",
              "      <th>HO_ANY</th>\n",
              "      <th>HO_MORTGAGE</th>\n",
              "      <th>HO_NONE</th>\n",
              "      <th>HO_OTHER</th>\n",
              "      <th>HO_OWN</th>\n",
              "      <th>HO_RENT</th>\n",
              "    </tr>\n",
              "  </thead>\n",
              "  <tbody>\n",
              "    <tr>\n",
              "      <th>0</th>\n",
              "      <td>35000.0</td>\n",
              "      <td>0</td>\n",
              "      <td>25.83</td>\n",
              "      <td>1407.01</td>\n",
              "      <td>32</td>\n",
              "      <td>HR Director</td>\n",
              "      <td>10+ years</td>\n",
              "      <td>RENT</td>\n",
              "      <td>165800.0</td>\n",
              "      <td>Verified</td>\n",
              "      <td>Mar-2014</td>\n",
              "      <td>Fully Paid</td>\n",
              "      <td>debt_consolidation</td>\n",
              "      <td>Debt consolidation</td>\n",
              "      <td>7.42</td>\n",
              "      <td>Jul-2005</td>\n",
              "      <td>5.0</td>\n",
              "      <td>0.0</td>\n",
              "      <td>16521.0</td>\n",
              "      <td>153.0</td>\n",
              "      <td>5.0</td>\n",
              "      <td>f</td>\n",
              "      <td>INDIVIDUAL</td>\n",
              "      <td>0.0</td>\n",
              "      <td>0.0</td>\n",
              "      <td>7421 Pamela Pines Suite 835\\nSouth Kyletown, O...</td>\n",
              "      <td>0</td>\n",
              "      <td>0</td>\n",
              "      <td>0</td>\n",
              "      <td>0</td>\n",
              "      <td>0</td>\n",
              "      <td>1</td>\n",
              "    </tr>\n",
              "    <tr>\n",
              "      <th>1</th>\n",
              "      <td>12000.0</td>\n",
              "      <td>1</td>\n",
              "      <td>16.55</td>\n",
              "      <td>295.34</td>\n",
              "      <td>17</td>\n",
              "      <td>NaN</td>\n",
              "      <td>NaN</td>\n",
              "      <td>MORTGAGE</td>\n",
              "      <td>45600.0</td>\n",
              "      <td>Verified</td>\n",
              "      <td>Nov-2015</td>\n",
              "      <td>Fully Paid</td>\n",
              "      <td>other</td>\n",
              "      <td>Other</td>\n",
              "      <td>38.98</td>\n",
              "      <td>Apr-2002</td>\n",
              "      <td>5.0</td>\n",
              "      <td>0.0</td>\n",
              "      <td>13880.0</td>\n",
              "      <td>152.5</td>\n",
              "      <td>11.0</td>\n",
              "      <td>f</td>\n",
              "      <td>INDIVIDUAL</td>\n",
              "      <td>5.0</td>\n",
              "      <td>0.0</td>\n",
              "      <td>595 Hall Flat\\nPort Heatherbury, NE 48052</td>\n",
              "      <td>0</td>\n",
              "      <td>1</td>\n",
              "      <td>0</td>\n",
              "      <td>0</td>\n",
              "      <td>0</td>\n",
              "      <td>0</td>\n",
              "    </tr>\n",
              "    <tr>\n",
              "      <th>2</th>\n",
              "      <td>10000.0</td>\n",
              "      <td>0</td>\n",
              "      <td>14.16</td>\n",
              "      <td>342.56</td>\n",
              "      <td>12</td>\n",
              "      <td>Superintendent</td>\n",
              "      <td>10+ years</td>\n",
              "      <td>OWN</td>\n",
              "      <td>91000.0</td>\n",
              "      <td>Not Verified</td>\n",
              "      <td>Apr-2014</td>\n",
              "      <td>Fully Paid</td>\n",
              "      <td>debt_consolidation</td>\n",
              "      <td>Debt consolidation</td>\n",
              "      <td>20.94</td>\n",
              "      <td>Jul-1997</td>\n",
              "      <td>9.0</td>\n",
              "      <td>0.0</td>\n",
              "      <td>9344.0</td>\n",
              "      <td>150.7</td>\n",
              "      <td>37.0</td>\n",
              "      <td>f</td>\n",
              "      <td>INDIVIDUAL</td>\n",
              "      <td>6.0</td>\n",
              "      <td>0.0</td>\n",
              "      <td>159 Melanie Rue Suite 337\\nJenniferview, WI 70466</td>\n",
              "      <td>0</td>\n",
              "      <td>0</td>\n",
              "      <td>0</td>\n",
              "      <td>0</td>\n",
              "      <td>1</td>\n",
              "      <td>0</td>\n",
              "    </tr>\n",
              "    <tr>\n",
              "      <th>3</th>\n",
              "      <td>25000.0</td>\n",
              "      <td>1</td>\n",
              "      <td>20.49</td>\n",
              "      <td>669.19</td>\n",
              "      <td>22</td>\n",
              "      <td>VP of MultiFamily Investments</td>\n",
              "      <td>5 years</td>\n",
              "      <td>RENT</td>\n",
              "      <td>100000.0</td>\n",
              "      <td>Source Verified</td>\n",
              "      <td>Apr-2014</td>\n",
              "      <td>Charged Off</td>\n",
              "      <td>debt_consolidation</td>\n",
              "      <td>Debt consolidation</td>\n",
              "      <td>15.16</td>\n",
              "      <td>Nov-2001</td>\n",
              "      <td>5.0</td>\n",
              "      <td>0.0</td>\n",
              "      <td>20133.0</td>\n",
              "      <td>148.0</td>\n",
              "      <td>7.0</td>\n",
              "      <td>w</td>\n",
              "      <td>INDIVIDUAL</td>\n",
              "      <td>0.0</td>\n",
              "      <td>0.0</td>\n",
              "      <td>175 Martinez Corners Apt. 773\\nNicholsland, VA...</td>\n",
              "      <td>0</td>\n",
              "      <td>0</td>\n",
              "      <td>0</td>\n",
              "      <td>0</td>\n",
              "      <td>0</td>\n",
              "      <td>1</td>\n",
              "    </tr>\n",
              "    <tr>\n",
              "      <th>4</th>\n",
              "      <td>12600.0</td>\n",
              "      <td>0</td>\n",
              "      <td>8.39</td>\n",
              "      <td>397.11</td>\n",
              "      <td>5</td>\n",
              "      <td>AVP, Senior Leasing Assistant</td>\n",
              "      <td>8 years</td>\n",
              "      <td>MORTGAGE</td>\n",
              "      <td>96011.0</td>\n",
              "      <td>Not Verified</td>\n",
              "      <td>Oct-2014</td>\n",
              "      <td>Fully Paid</td>\n",
              "      <td>debt_consolidation</td>\n",
              "      <td>Debt consolidation</td>\n",
              "      <td>11.56</td>\n",
              "      <td>Apr-1981</td>\n",
              "      <td>9.0</td>\n",
              "      <td>0.0</td>\n",
              "      <td>20033.0</td>\n",
              "      <td>146.1</td>\n",
              "      <td>22.0</td>\n",
              "      <td>w</td>\n",
              "      <td>INDIVIDUAL</td>\n",
              "      <td>4.0</td>\n",
              "      <td>0.0</td>\n",
              "      <td>47969 Davis Divide Suite 571\\nLake Daniel, OK ...</td>\n",
              "      <td>0</td>\n",
              "      <td>1</td>\n",
              "      <td>0</td>\n",
              "      <td>0</td>\n",
              "      <td>0</td>\n",
              "      <td>0</td>\n",
              "    </tr>\n",
              "  </tbody>\n",
              "</table>\n",
              "</div>"
            ],
            "text/plain": [
              "   loan_amnt  60_mo_term  int_rate  ...  HO_OTHER  HO_OWN HO_RENT\n",
              "0    35000.0           0     25.83  ...         0       0       1\n",
              "1    12000.0           1     16.55  ...         0       0       0\n",
              "2    10000.0           0     14.16  ...         0       1       0\n",
              "3    25000.0           1     20.49  ...         0       0       1\n",
              "4    12600.0           0      8.39  ...         0       0       0\n",
              "\n",
              "[5 rows x 32 columns]"
            ]
          },
          "metadata": {},
          "execution_count": 42
        }
      ]
    },
    {
      "cell_type": "code",
      "metadata": {
        "colab": {
          "base_uri": "https://localhost:8080/",
          "height": 271
        },
        "id": "h7GknTMOHgA5",
        "outputId": "3f535b87-1ffe-4c5a-96a2-82a92ebb036a"
      },
      "source": [
        "df = df.drop('home_ownership',axis=1)\n",
        "df.head(2)"
      ],
      "execution_count": null,
      "outputs": [
        {
          "output_type": "execute_result",
          "data": {
            "text/html": [
              "<div>\n",
              "<style scoped>\n",
              "    .dataframe tbody tr th:only-of-type {\n",
              "        vertical-align: middle;\n",
              "    }\n",
              "\n",
              "    .dataframe tbody tr th {\n",
              "        vertical-align: top;\n",
              "    }\n",
              "\n",
              "    .dataframe thead th {\n",
              "        text-align: right;\n",
              "    }\n",
              "</style>\n",
              "<table border=\"1\" class=\"dataframe\">\n",
              "  <thead>\n",
              "    <tr style=\"text-align: right;\">\n",
              "      <th></th>\n",
              "      <th>loan_amnt</th>\n",
              "      <th>60_mo_term</th>\n",
              "      <th>int_rate</th>\n",
              "      <th>installment</th>\n",
              "      <th>sub_grade</th>\n",
              "      <th>emp_title</th>\n",
              "      <th>emp_length</th>\n",
              "      <th>annual_inc</th>\n",
              "      <th>verification_status</th>\n",
              "      <th>issue_d</th>\n",
              "      <th>loan_status</th>\n",
              "      <th>purpose</th>\n",
              "      <th>title</th>\n",
              "      <th>dti</th>\n",
              "      <th>earliest_cr_line</th>\n",
              "      <th>open_acc</th>\n",
              "      <th>pub_rec</th>\n",
              "      <th>revol_bal</th>\n",
              "      <th>revol_util</th>\n",
              "      <th>total_acc</th>\n",
              "      <th>initial_list_status</th>\n",
              "      <th>application_type</th>\n",
              "      <th>mort_acc</th>\n",
              "      <th>pub_rec_bankruptcies</th>\n",
              "      <th>address</th>\n",
              "      <th>HO_ANY</th>\n",
              "      <th>HO_MORTGAGE</th>\n",
              "      <th>HO_NONE</th>\n",
              "      <th>HO_OTHER</th>\n",
              "      <th>HO_OWN</th>\n",
              "      <th>HO_RENT</th>\n",
              "    </tr>\n",
              "  </thead>\n",
              "  <tbody>\n",
              "    <tr>\n",
              "      <th>0</th>\n",
              "      <td>35000.0</td>\n",
              "      <td>0</td>\n",
              "      <td>25.83</td>\n",
              "      <td>1407.01</td>\n",
              "      <td>32</td>\n",
              "      <td>HR Director</td>\n",
              "      <td>10+ years</td>\n",
              "      <td>165800.0</td>\n",
              "      <td>Verified</td>\n",
              "      <td>Mar-2014</td>\n",
              "      <td>Fully Paid</td>\n",
              "      <td>debt_consolidation</td>\n",
              "      <td>Debt consolidation</td>\n",
              "      <td>7.42</td>\n",
              "      <td>Jul-2005</td>\n",
              "      <td>5.0</td>\n",
              "      <td>0.0</td>\n",
              "      <td>16521.0</td>\n",
              "      <td>153.0</td>\n",
              "      <td>5.0</td>\n",
              "      <td>f</td>\n",
              "      <td>INDIVIDUAL</td>\n",
              "      <td>0.0</td>\n",
              "      <td>0.0</td>\n",
              "      <td>7421 Pamela Pines Suite 835\\nSouth Kyletown, O...</td>\n",
              "      <td>0</td>\n",
              "      <td>0</td>\n",
              "      <td>0</td>\n",
              "      <td>0</td>\n",
              "      <td>0</td>\n",
              "      <td>1</td>\n",
              "    </tr>\n",
              "    <tr>\n",
              "      <th>1</th>\n",
              "      <td>12000.0</td>\n",
              "      <td>1</td>\n",
              "      <td>16.55</td>\n",
              "      <td>295.34</td>\n",
              "      <td>17</td>\n",
              "      <td>NaN</td>\n",
              "      <td>NaN</td>\n",
              "      <td>45600.0</td>\n",
              "      <td>Verified</td>\n",
              "      <td>Nov-2015</td>\n",
              "      <td>Fully Paid</td>\n",
              "      <td>other</td>\n",
              "      <td>Other</td>\n",
              "      <td>38.98</td>\n",
              "      <td>Apr-2002</td>\n",
              "      <td>5.0</td>\n",
              "      <td>0.0</td>\n",
              "      <td>13880.0</td>\n",
              "      <td>152.5</td>\n",
              "      <td>11.0</td>\n",
              "      <td>f</td>\n",
              "      <td>INDIVIDUAL</td>\n",
              "      <td>5.0</td>\n",
              "      <td>0.0</td>\n",
              "      <td>595 Hall Flat\\nPort Heatherbury, NE 48052</td>\n",
              "      <td>0</td>\n",
              "      <td>1</td>\n",
              "      <td>0</td>\n",
              "      <td>0</td>\n",
              "      <td>0</td>\n",
              "      <td>0</td>\n",
              "    </tr>\n",
              "  </tbody>\n",
              "</table>\n",
              "</div>"
            ],
            "text/plain": [
              "   loan_amnt  60_mo_term  int_rate  ...  HO_OTHER  HO_OWN HO_RENT\n",
              "0    35000.0           0     25.83  ...         0       0       1\n",
              "1    12000.0           1     16.55  ...         0       0       0\n",
              "\n",
              "[2 rows x 31 columns]"
            ]
          },
          "metadata": {},
          "execution_count": 43
        }
      ]
    },
    {
      "cell_type": "markdown",
      "metadata": {
        "id": "LDZn2fr6IoXZ"
      },
      "source": [
        "## Replace 'Verification Status' into categorical 1s & 0s"
      ]
    },
    {
      "cell_type": "code",
      "metadata": {
        "colab": {
          "base_uri": "https://localhost:8080/"
        },
        "id": "5ji-rUQ6JG8P",
        "outputId": "278ad989-6eb1-42a4-c91c-037faa1b6354"
      },
      "source": [
        "df['verification_status'].value_counts()"
      ],
      "execution_count": null,
      "outputs": [
        {
          "output_type": "execute_result",
          "data": {
            "text/plain": [
              "Verified           137640\n",
              "Source Verified    129343\n",
              "Not Verified       124786\n",
              "Name: verification_status, dtype: int64"
            ]
          },
          "metadata": {},
          "execution_count": 44
        }
      ]
    },
    {
      "cell_type": "code",
      "metadata": {
        "colab": {
          "base_uri": "https://localhost:8080/",
          "height": 112
        },
        "id": "aKThwMmCH9W6",
        "outputId": "828b2f3a-9b7c-448a-c5f6-a5a08d136cfc"
      },
      "source": [
        "cat_ver_stat = pd.get_dummies(df['verification_status'])\n",
        "cat_ver_stat.rename(columns={'Verified': 'VS_Verified', 'Source Verified':'VS_Source Verified',\n",
        "                             'Not Verified':'VS_Not Verified',},inplace=True)\n",
        "cat_ver_stat.head(2)"
      ],
      "execution_count": null,
      "outputs": [
        {
          "output_type": "execute_result",
          "data": {
            "text/html": [
              "<div>\n",
              "<style scoped>\n",
              "    .dataframe tbody tr th:only-of-type {\n",
              "        vertical-align: middle;\n",
              "    }\n",
              "\n",
              "    .dataframe tbody tr th {\n",
              "        vertical-align: top;\n",
              "    }\n",
              "\n",
              "    .dataframe thead th {\n",
              "        text-align: right;\n",
              "    }\n",
              "</style>\n",
              "<table border=\"1\" class=\"dataframe\">\n",
              "  <thead>\n",
              "    <tr style=\"text-align: right;\">\n",
              "      <th></th>\n",
              "      <th>VS_Not Verified</th>\n",
              "      <th>VS_Source Verified</th>\n",
              "      <th>VS_Verified</th>\n",
              "    </tr>\n",
              "  </thead>\n",
              "  <tbody>\n",
              "    <tr>\n",
              "      <th>0</th>\n",
              "      <td>0</td>\n",
              "      <td>0</td>\n",
              "      <td>1</td>\n",
              "    </tr>\n",
              "    <tr>\n",
              "      <th>1</th>\n",
              "      <td>0</td>\n",
              "      <td>0</td>\n",
              "      <td>1</td>\n",
              "    </tr>\n",
              "  </tbody>\n",
              "</table>\n",
              "</div>"
            ],
            "text/plain": [
              "   VS_Not Verified  VS_Source Verified  VS_Verified\n",
              "0                0                   0            1\n",
              "1                0                   0            1"
            ]
          },
          "metadata": {},
          "execution_count": 45
        }
      ]
    },
    {
      "cell_type": "code",
      "metadata": {
        "colab": {
          "base_uri": "https://localhost:8080/",
          "height": 288
        },
        "id": "rMPVqS3BIUcP",
        "outputId": "1b5c418a-398a-47f7-f811-ec5009989e73"
      },
      "source": [
        "df = pd.concat([df,cat_ver_stat],axis=1)\n",
        "df = df.drop('verification_status',axis=1)\n",
        "df.head(2)"
      ],
      "execution_count": null,
      "outputs": [
        {
          "output_type": "execute_result",
          "data": {
            "text/html": [
              "<div>\n",
              "<style scoped>\n",
              "    .dataframe tbody tr th:only-of-type {\n",
              "        vertical-align: middle;\n",
              "    }\n",
              "\n",
              "    .dataframe tbody tr th {\n",
              "        vertical-align: top;\n",
              "    }\n",
              "\n",
              "    .dataframe thead th {\n",
              "        text-align: right;\n",
              "    }\n",
              "</style>\n",
              "<table border=\"1\" class=\"dataframe\">\n",
              "  <thead>\n",
              "    <tr style=\"text-align: right;\">\n",
              "      <th></th>\n",
              "      <th>loan_amnt</th>\n",
              "      <th>60_mo_term</th>\n",
              "      <th>int_rate</th>\n",
              "      <th>installment</th>\n",
              "      <th>sub_grade</th>\n",
              "      <th>emp_title</th>\n",
              "      <th>emp_length</th>\n",
              "      <th>annual_inc</th>\n",
              "      <th>issue_d</th>\n",
              "      <th>loan_status</th>\n",
              "      <th>purpose</th>\n",
              "      <th>title</th>\n",
              "      <th>dti</th>\n",
              "      <th>earliest_cr_line</th>\n",
              "      <th>open_acc</th>\n",
              "      <th>pub_rec</th>\n",
              "      <th>revol_bal</th>\n",
              "      <th>revol_util</th>\n",
              "      <th>total_acc</th>\n",
              "      <th>initial_list_status</th>\n",
              "      <th>application_type</th>\n",
              "      <th>mort_acc</th>\n",
              "      <th>pub_rec_bankruptcies</th>\n",
              "      <th>address</th>\n",
              "      <th>HO_ANY</th>\n",
              "      <th>HO_MORTGAGE</th>\n",
              "      <th>HO_NONE</th>\n",
              "      <th>HO_OTHER</th>\n",
              "      <th>HO_OWN</th>\n",
              "      <th>HO_RENT</th>\n",
              "      <th>VS_Not Verified</th>\n",
              "      <th>VS_Source Verified</th>\n",
              "      <th>VS_Verified</th>\n",
              "    </tr>\n",
              "  </thead>\n",
              "  <tbody>\n",
              "    <tr>\n",
              "      <th>0</th>\n",
              "      <td>35000.0</td>\n",
              "      <td>0</td>\n",
              "      <td>25.83</td>\n",
              "      <td>1407.01</td>\n",
              "      <td>32</td>\n",
              "      <td>HR Director</td>\n",
              "      <td>10+ years</td>\n",
              "      <td>165800.0</td>\n",
              "      <td>Mar-2014</td>\n",
              "      <td>Fully Paid</td>\n",
              "      <td>debt_consolidation</td>\n",
              "      <td>Debt consolidation</td>\n",
              "      <td>7.42</td>\n",
              "      <td>Jul-2005</td>\n",
              "      <td>5.0</td>\n",
              "      <td>0.0</td>\n",
              "      <td>16521.0</td>\n",
              "      <td>153.0</td>\n",
              "      <td>5.0</td>\n",
              "      <td>f</td>\n",
              "      <td>INDIVIDUAL</td>\n",
              "      <td>0.0</td>\n",
              "      <td>0.0</td>\n",
              "      <td>7421 Pamela Pines Suite 835\\nSouth Kyletown, O...</td>\n",
              "      <td>0</td>\n",
              "      <td>0</td>\n",
              "      <td>0</td>\n",
              "      <td>0</td>\n",
              "      <td>0</td>\n",
              "      <td>1</td>\n",
              "      <td>0</td>\n",
              "      <td>0</td>\n",
              "      <td>1</td>\n",
              "    </tr>\n",
              "    <tr>\n",
              "      <th>1</th>\n",
              "      <td>12000.0</td>\n",
              "      <td>1</td>\n",
              "      <td>16.55</td>\n",
              "      <td>295.34</td>\n",
              "      <td>17</td>\n",
              "      <td>NaN</td>\n",
              "      <td>NaN</td>\n",
              "      <td>45600.0</td>\n",
              "      <td>Nov-2015</td>\n",
              "      <td>Fully Paid</td>\n",
              "      <td>other</td>\n",
              "      <td>Other</td>\n",
              "      <td>38.98</td>\n",
              "      <td>Apr-2002</td>\n",
              "      <td>5.0</td>\n",
              "      <td>0.0</td>\n",
              "      <td>13880.0</td>\n",
              "      <td>152.5</td>\n",
              "      <td>11.0</td>\n",
              "      <td>f</td>\n",
              "      <td>INDIVIDUAL</td>\n",
              "      <td>5.0</td>\n",
              "      <td>0.0</td>\n",
              "      <td>595 Hall Flat\\nPort Heatherbury, NE 48052</td>\n",
              "      <td>0</td>\n",
              "      <td>1</td>\n",
              "      <td>0</td>\n",
              "      <td>0</td>\n",
              "      <td>0</td>\n",
              "      <td>0</td>\n",
              "      <td>0</td>\n",
              "      <td>0</td>\n",
              "      <td>1</td>\n",
              "    </tr>\n",
              "  </tbody>\n",
              "</table>\n",
              "</div>"
            ],
            "text/plain": [
              "   loan_amnt  60_mo_term  ...  VS_Source Verified  VS_Verified\n",
              "0    35000.0           0  ...                   0            1\n",
              "1    12000.0           1  ...                   0            1\n",
              "\n",
              "[2 rows x 33 columns]"
            ]
          },
          "metadata": {},
          "execution_count": 46
        }
      ]
    },
    {
      "cell_type": "markdown",
      "metadata": {
        "id": "tfpbALk0K0OS"
      },
      "source": [
        "## Replace 'Loan Status' with 1s & 0s"
      ]
    },
    {
      "cell_type": "code",
      "metadata": {
        "colab": {
          "base_uri": "https://localhost:8080/"
        },
        "id": "KGtOAkpsLIsQ",
        "outputId": "70d9e858-5fe6-4564-f349-53b3ebabf82a"
      },
      "source": [
        "df['loan_status'].value_counts()"
      ],
      "execution_count": null,
      "outputs": [
        {
          "output_type": "execute_result",
          "data": {
            "text/plain": [
              "Fully Paid     314662\n",
              "Charged Off     77107\n",
              "Name: loan_status, dtype: int64"
            ]
          },
          "metadata": {},
          "execution_count": 47
        }
      ]
    },
    {
      "cell_type": "code",
      "metadata": {
        "id": "jOBq7sCLJt0J"
      },
      "source": [
        "dict_loanstat = {'Fully Paid':1,'Charged Off':0}"
      ],
      "execution_count": null,
      "outputs": []
    },
    {
      "cell_type": "code",
      "metadata": {
        "colab": {
          "base_uri": "https://localhost:8080/",
          "height": 486
        },
        "id": "OnzBWRBeLT0V",
        "outputId": "d7120169-6403-4536-ccf1-1a7d3e10060b"
      },
      "source": [
        "df['loan_status']=df['loan_status'].apply(lambda i: dict_loanstat[i])\n",
        "df.head()"
      ],
      "execution_count": null,
      "outputs": [
        {
          "output_type": "execute_result",
          "data": {
            "text/html": [
              "<div>\n",
              "<style scoped>\n",
              "    .dataframe tbody tr th:only-of-type {\n",
              "        vertical-align: middle;\n",
              "    }\n",
              "\n",
              "    .dataframe tbody tr th {\n",
              "        vertical-align: top;\n",
              "    }\n",
              "\n",
              "    .dataframe thead th {\n",
              "        text-align: right;\n",
              "    }\n",
              "</style>\n",
              "<table border=\"1\" class=\"dataframe\">\n",
              "  <thead>\n",
              "    <tr style=\"text-align: right;\">\n",
              "      <th></th>\n",
              "      <th>loan_amnt</th>\n",
              "      <th>60_mo_term</th>\n",
              "      <th>int_rate</th>\n",
              "      <th>installment</th>\n",
              "      <th>sub_grade</th>\n",
              "      <th>emp_title</th>\n",
              "      <th>emp_length</th>\n",
              "      <th>annual_inc</th>\n",
              "      <th>issue_d</th>\n",
              "      <th>loan_status</th>\n",
              "      <th>purpose</th>\n",
              "      <th>title</th>\n",
              "      <th>dti</th>\n",
              "      <th>earliest_cr_line</th>\n",
              "      <th>open_acc</th>\n",
              "      <th>pub_rec</th>\n",
              "      <th>revol_bal</th>\n",
              "      <th>revol_util</th>\n",
              "      <th>total_acc</th>\n",
              "      <th>initial_list_status</th>\n",
              "      <th>application_type</th>\n",
              "      <th>mort_acc</th>\n",
              "      <th>pub_rec_bankruptcies</th>\n",
              "      <th>address</th>\n",
              "      <th>HO_ANY</th>\n",
              "      <th>HO_MORTGAGE</th>\n",
              "      <th>HO_NONE</th>\n",
              "      <th>HO_OTHER</th>\n",
              "      <th>HO_OWN</th>\n",
              "      <th>HO_RENT</th>\n",
              "      <th>VS_Not Verified</th>\n",
              "      <th>VS_Source Verified</th>\n",
              "      <th>VS_Verified</th>\n",
              "    </tr>\n",
              "  </thead>\n",
              "  <tbody>\n",
              "    <tr>\n",
              "      <th>0</th>\n",
              "      <td>35000.0</td>\n",
              "      <td>0</td>\n",
              "      <td>25.83</td>\n",
              "      <td>1407.01</td>\n",
              "      <td>32</td>\n",
              "      <td>HR Director</td>\n",
              "      <td>10+ years</td>\n",
              "      <td>165800.0</td>\n",
              "      <td>Mar-2014</td>\n",
              "      <td>1</td>\n",
              "      <td>debt_consolidation</td>\n",
              "      <td>Debt consolidation</td>\n",
              "      <td>7.42</td>\n",
              "      <td>Jul-2005</td>\n",
              "      <td>5.0</td>\n",
              "      <td>0.0</td>\n",
              "      <td>16521.0</td>\n",
              "      <td>153.0</td>\n",
              "      <td>5.0</td>\n",
              "      <td>f</td>\n",
              "      <td>INDIVIDUAL</td>\n",
              "      <td>0.0</td>\n",
              "      <td>0.0</td>\n",
              "      <td>7421 Pamela Pines Suite 835\\nSouth Kyletown, O...</td>\n",
              "      <td>0</td>\n",
              "      <td>0</td>\n",
              "      <td>0</td>\n",
              "      <td>0</td>\n",
              "      <td>0</td>\n",
              "      <td>1</td>\n",
              "      <td>0</td>\n",
              "      <td>0</td>\n",
              "      <td>1</td>\n",
              "    </tr>\n",
              "    <tr>\n",
              "      <th>1</th>\n",
              "      <td>12000.0</td>\n",
              "      <td>1</td>\n",
              "      <td>16.55</td>\n",
              "      <td>295.34</td>\n",
              "      <td>17</td>\n",
              "      <td>NaN</td>\n",
              "      <td>NaN</td>\n",
              "      <td>45600.0</td>\n",
              "      <td>Nov-2015</td>\n",
              "      <td>1</td>\n",
              "      <td>other</td>\n",
              "      <td>Other</td>\n",
              "      <td>38.98</td>\n",
              "      <td>Apr-2002</td>\n",
              "      <td>5.0</td>\n",
              "      <td>0.0</td>\n",
              "      <td>13880.0</td>\n",
              "      <td>152.5</td>\n",
              "      <td>11.0</td>\n",
              "      <td>f</td>\n",
              "      <td>INDIVIDUAL</td>\n",
              "      <td>5.0</td>\n",
              "      <td>0.0</td>\n",
              "      <td>595 Hall Flat\\nPort Heatherbury, NE 48052</td>\n",
              "      <td>0</td>\n",
              "      <td>1</td>\n",
              "      <td>0</td>\n",
              "      <td>0</td>\n",
              "      <td>0</td>\n",
              "      <td>0</td>\n",
              "      <td>0</td>\n",
              "      <td>0</td>\n",
              "      <td>1</td>\n",
              "    </tr>\n",
              "    <tr>\n",
              "      <th>2</th>\n",
              "      <td>10000.0</td>\n",
              "      <td>0</td>\n",
              "      <td>14.16</td>\n",
              "      <td>342.56</td>\n",
              "      <td>12</td>\n",
              "      <td>Superintendent</td>\n",
              "      <td>10+ years</td>\n",
              "      <td>91000.0</td>\n",
              "      <td>Apr-2014</td>\n",
              "      <td>1</td>\n",
              "      <td>debt_consolidation</td>\n",
              "      <td>Debt consolidation</td>\n",
              "      <td>20.94</td>\n",
              "      <td>Jul-1997</td>\n",
              "      <td>9.0</td>\n",
              "      <td>0.0</td>\n",
              "      <td>9344.0</td>\n",
              "      <td>150.7</td>\n",
              "      <td>37.0</td>\n",
              "      <td>f</td>\n",
              "      <td>INDIVIDUAL</td>\n",
              "      <td>6.0</td>\n",
              "      <td>0.0</td>\n",
              "      <td>159 Melanie Rue Suite 337\\nJenniferview, WI 70466</td>\n",
              "      <td>0</td>\n",
              "      <td>0</td>\n",
              "      <td>0</td>\n",
              "      <td>0</td>\n",
              "      <td>1</td>\n",
              "      <td>0</td>\n",
              "      <td>1</td>\n",
              "      <td>0</td>\n",
              "      <td>0</td>\n",
              "    </tr>\n",
              "    <tr>\n",
              "      <th>3</th>\n",
              "      <td>25000.0</td>\n",
              "      <td>1</td>\n",
              "      <td>20.49</td>\n",
              "      <td>669.19</td>\n",
              "      <td>22</td>\n",
              "      <td>VP of MultiFamily Investments</td>\n",
              "      <td>5 years</td>\n",
              "      <td>100000.0</td>\n",
              "      <td>Apr-2014</td>\n",
              "      <td>0</td>\n",
              "      <td>debt_consolidation</td>\n",
              "      <td>Debt consolidation</td>\n",
              "      <td>15.16</td>\n",
              "      <td>Nov-2001</td>\n",
              "      <td>5.0</td>\n",
              "      <td>0.0</td>\n",
              "      <td>20133.0</td>\n",
              "      <td>148.0</td>\n",
              "      <td>7.0</td>\n",
              "      <td>w</td>\n",
              "      <td>INDIVIDUAL</td>\n",
              "      <td>0.0</td>\n",
              "      <td>0.0</td>\n",
              "      <td>175 Martinez Corners Apt. 773\\nNicholsland, VA...</td>\n",
              "      <td>0</td>\n",
              "      <td>0</td>\n",
              "      <td>0</td>\n",
              "      <td>0</td>\n",
              "      <td>0</td>\n",
              "      <td>1</td>\n",
              "      <td>0</td>\n",
              "      <td>1</td>\n",
              "      <td>0</td>\n",
              "    </tr>\n",
              "    <tr>\n",
              "      <th>4</th>\n",
              "      <td>12600.0</td>\n",
              "      <td>0</td>\n",
              "      <td>8.39</td>\n",
              "      <td>397.11</td>\n",
              "      <td>5</td>\n",
              "      <td>AVP, Senior Leasing Assistant</td>\n",
              "      <td>8 years</td>\n",
              "      <td>96011.0</td>\n",
              "      <td>Oct-2014</td>\n",
              "      <td>1</td>\n",
              "      <td>debt_consolidation</td>\n",
              "      <td>Debt consolidation</td>\n",
              "      <td>11.56</td>\n",
              "      <td>Apr-1981</td>\n",
              "      <td>9.0</td>\n",
              "      <td>0.0</td>\n",
              "      <td>20033.0</td>\n",
              "      <td>146.1</td>\n",
              "      <td>22.0</td>\n",
              "      <td>w</td>\n",
              "      <td>INDIVIDUAL</td>\n",
              "      <td>4.0</td>\n",
              "      <td>0.0</td>\n",
              "      <td>47969 Davis Divide Suite 571\\nLake Daniel, OK ...</td>\n",
              "      <td>0</td>\n",
              "      <td>1</td>\n",
              "      <td>0</td>\n",
              "      <td>0</td>\n",
              "      <td>0</td>\n",
              "      <td>0</td>\n",
              "      <td>1</td>\n",
              "      <td>0</td>\n",
              "      <td>0</td>\n",
              "    </tr>\n",
              "  </tbody>\n",
              "</table>\n",
              "</div>"
            ],
            "text/plain": [
              "   loan_amnt  60_mo_term  ...  VS_Source Verified  VS_Verified\n",
              "0    35000.0           0  ...                   0            1\n",
              "1    12000.0           1  ...                   0            1\n",
              "2    10000.0           0  ...                   0            0\n",
              "3    25000.0           1  ...                   1            0\n",
              "4    12600.0           0  ...                   0            0\n",
              "\n",
              "[5 rows x 33 columns]"
            ]
          },
          "metadata": {},
          "execution_count": 49
        }
      ]
    },
    {
      "cell_type": "code",
      "metadata": {
        "colab": {
          "base_uri": "https://localhost:8080/"
        },
        "id": "ezyUHRrYLj1P",
        "outputId": "3438753a-5528-4926-f663-588e68518595"
      },
      "source": [
        "# I made mistakes it should be 'Fully Paid':1,'Charged Off':0\n",
        "# lambda x : True if (x > 10 and x < 20) else False\n",
        "# df['loan_status']=df['loan_status'].apply(lambda i: i+1 if i==0 else i-1)\n",
        "df.head()"
      ],
      "execution_count": null,
      "outputs": [
        {
          "output_type": "execute_result",
          "data": {
            "text/html": [
              "<div>\n",
              "<style scoped>\n",
              "    .dataframe tbody tr th:only-of-type {\n",
              "        vertical-align: middle;\n",
              "    }\n",
              "\n",
              "    .dataframe tbody tr th {\n",
              "        vertical-align: top;\n",
              "    }\n",
              "\n",
              "    .dataframe thead th {\n",
              "        text-align: right;\n",
              "    }\n",
              "</style>\n",
              "<table border=\"1\" class=\"dataframe\">\n",
              "  <thead>\n",
              "    <tr style=\"text-align: right;\">\n",
              "      <th></th>\n",
              "      <th>loan_amnt</th>\n",
              "      <th>60_mo_term</th>\n",
              "      <th>int_rate</th>\n",
              "      <th>installment</th>\n",
              "      <th>grade</th>\n",
              "      <th>sub_grade</th>\n",
              "      <th>emp_title</th>\n",
              "      <th>emp_length</th>\n",
              "      <th>annual_inc</th>\n",
              "      <th>issue_d</th>\n",
              "      <th>loan_status</th>\n",
              "      <th>purpose</th>\n",
              "      <th>title</th>\n",
              "      <th>dti</th>\n",
              "      <th>earliest_cr_line</th>\n",
              "      <th>open_acc</th>\n",
              "      <th>pub_rec</th>\n",
              "      <th>revol_bal</th>\n",
              "      <th>revol_util</th>\n",
              "      <th>total_acc</th>\n",
              "      <th>initial_list_status</th>\n",
              "      <th>application_type</th>\n",
              "      <th>mort_acc</th>\n",
              "      <th>pub_rec_bankruptcies</th>\n",
              "      <th>address</th>\n",
              "      <th>HO_ANY</th>\n",
              "      <th>HO_MORTGAGE</th>\n",
              "      <th>HO_NONE</th>\n",
              "      <th>HO_OTHER</th>\n",
              "      <th>HO_OWN</th>\n",
              "      <th>HO_RENT</th>\n",
              "      <th>VS_Not Verified</th>\n",
              "      <th>VS_Source Verified</th>\n",
              "      <th>VS_Verified</th>\n",
              "    </tr>\n",
              "  </thead>\n",
              "  <tbody>\n",
              "    <tr>\n",
              "      <th>0</th>\n",
              "      <td>35000.0</td>\n",
              "      <td>0</td>\n",
              "      <td>25.83</td>\n",
              "      <td>1407.01</td>\n",
              "      <td>7</td>\n",
              "      <td>32</td>\n",
              "      <td>HR Director</td>\n",
              "      <td>10+ years</td>\n",
              "      <td>165800.0</td>\n",
              "      <td>Mar-2014</td>\n",
              "      <td>1</td>\n",
              "      <td>debt_consolidation</td>\n",
              "      <td>Debt consolidation</td>\n",
              "      <td>7.42</td>\n",
              "      <td>Jul-2005</td>\n",
              "      <td>5.0</td>\n",
              "      <td>0.0</td>\n",
              "      <td>16521.0</td>\n",
              "      <td>153.0</td>\n",
              "      <td>5.0</td>\n",
              "      <td>f</td>\n",
              "      <td>INDIVIDUAL</td>\n",
              "      <td>0.0</td>\n",
              "      <td>0.0</td>\n",
              "      <td>7421 Pamela Pines Suite 835\\nSouth Kyletown, O...</td>\n",
              "      <td>0</td>\n",
              "      <td>0</td>\n",
              "      <td>0</td>\n",
              "      <td>0</td>\n",
              "      <td>0</td>\n",
              "      <td>1</td>\n",
              "      <td>0</td>\n",
              "      <td>0</td>\n",
              "      <td>1</td>\n",
              "    </tr>\n",
              "    <tr>\n",
              "      <th>1</th>\n",
              "      <td>12000.0</td>\n",
              "      <td>1</td>\n",
              "      <td>16.55</td>\n",
              "      <td>295.34</td>\n",
              "      <td>4</td>\n",
              "      <td>17</td>\n",
              "      <td>NaN</td>\n",
              "      <td>NaN</td>\n",
              "      <td>45600.0</td>\n",
              "      <td>Nov-2015</td>\n",
              "      <td>1</td>\n",
              "      <td>other</td>\n",
              "      <td>Other</td>\n",
              "      <td>38.98</td>\n",
              "      <td>Apr-2002</td>\n",
              "      <td>5.0</td>\n",
              "      <td>0.0</td>\n",
              "      <td>13880.0</td>\n",
              "      <td>152.5</td>\n",
              "      <td>11.0</td>\n",
              "      <td>f</td>\n",
              "      <td>INDIVIDUAL</td>\n",
              "      <td>5.0</td>\n",
              "      <td>0.0</td>\n",
              "      <td>595 Hall Flat\\nPort Heatherbury, NE 48052</td>\n",
              "      <td>0</td>\n",
              "      <td>1</td>\n",
              "      <td>0</td>\n",
              "      <td>0</td>\n",
              "      <td>0</td>\n",
              "      <td>0</td>\n",
              "      <td>0</td>\n",
              "      <td>0</td>\n",
              "      <td>1</td>\n",
              "    </tr>\n",
              "    <tr>\n",
              "      <th>2</th>\n",
              "      <td>10000.0</td>\n",
              "      <td>0</td>\n",
              "      <td>14.16</td>\n",
              "      <td>342.56</td>\n",
              "      <td>3</td>\n",
              "      <td>12</td>\n",
              "      <td>Superintendent</td>\n",
              "      <td>10+ years</td>\n",
              "      <td>91000.0</td>\n",
              "      <td>Apr-2014</td>\n",
              "      <td>1</td>\n",
              "      <td>debt_consolidation</td>\n",
              "      <td>Debt consolidation</td>\n",
              "      <td>20.94</td>\n",
              "      <td>Jul-1997</td>\n",
              "      <td>9.0</td>\n",
              "      <td>0.0</td>\n",
              "      <td>9344.0</td>\n",
              "      <td>150.7</td>\n",
              "      <td>37.0</td>\n",
              "      <td>f</td>\n",
              "      <td>INDIVIDUAL</td>\n",
              "      <td>6.0</td>\n",
              "      <td>0.0</td>\n",
              "      <td>159 Melanie Rue Suite 337\\nJenniferview, WI 70466</td>\n",
              "      <td>0</td>\n",
              "      <td>0</td>\n",
              "      <td>0</td>\n",
              "      <td>0</td>\n",
              "      <td>1</td>\n",
              "      <td>0</td>\n",
              "      <td>1</td>\n",
              "      <td>0</td>\n",
              "      <td>0</td>\n",
              "    </tr>\n",
              "    <tr>\n",
              "      <th>3</th>\n",
              "      <td>25000.0</td>\n",
              "      <td>1</td>\n",
              "      <td>20.49</td>\n",
              "      <td>669.19</td>\n",
              "      <td>5</td>\n",
              "      <td>22</td>\n",
              "      <td>VP of MultiFamily Investments</td>\n",
              "      <td>5 years</td>\n",
              "      <td>100000.0</td>\n",
              "      <td>Apr-2014</td>\n",
              "      <td>0</td>\n",
              "      <td>debt_consolidation</td>\n",
              "      <td>Debt consolidation</td>\n",
              "      <td>15.16</td>\n",
              "      <td>Nov-2001</td>\n",
              "      <td>5.0</td>\n",
              "      <td>0.0</td>\n",
              "      <td>20133.0</td>\n",
              "      <td>148.0</td>\n",
              "      <td>7.0</td>\n",
              "      <td>w</td>\n",
              "      <td>INDIVIDUAL</td>\n",
              "      <td>0.0</td>\n",
              "      <td>0.0</td>\n",
              "      <td>175 Martinez Corners Apt. 773\\nNicholsland, VA...</td>\n",
              "      <td>0</td>\n",
              "      <td>0</td>\n",
              "      <td>0</td>\n",
              "      <td>0</td>\n",
              "      <td>0</td>\n",
              "      <td>1</td>\n",
              "      <td>0</td>\n",
              "      <td>1</td>\n",
              "      <td>0</td>\n",
              "    </tr>\n",
              "    <tr>\n",
              "      <th>4</th>\n",
              "      <td>12600.0</td>\n",
              "      <td>0</td>\n",
              "      <td>8.39</td>\n",
              "      <td>397.11</td>\n",
              "      <td>1</td>\n",
              "      <td>5</td>\n",
              "      <td>AVP, Senior Leasing Assistant</td>\n",
              "      <td>8 years</td>\n",
              "      <td>96011.0</td>\n",
              "      <td>Oct-2014</td>\n",
              "      <td>1</td>\n",
              "      <td>debt_consolidation</td>\n",
              "      <td>Debt consolidation</td>\n",
              "      <td>11.56</td>\n",
              "      <td>Apr-1981</td>\n",
              "      <td>9.0</td>\n",
              "      <td>0.0</td>\n",
              "      <td>20033.0</td>\n",
              "      <td>146.1</td>\n",
              "      <td>22.0</td>\n",
              "      <td>w</td>\n",
              "      <td>INDIVIDUAL</td>\n",
              "      <td>4.0</td>\n",
              "      <td>0.0</td>\n",
              "      <td>47969 Davis Divide Suite 571\\nLake Daniel, OK ...</td>\n",
              "      <td>0</td>\n",
              "      <td>1</td>\n",
              "      <td>0</td>\n",
              "      <td>0</td>\n",
              "      <td>0</td>\n",
              "      <td>0</td>\n",
              "      <td>1</td>\n",
              "      <td>0</td>\n",
              "      <td>0</td>\n",
              "    </tr>\n",
              "  </tbody>\n",
              "</table>\n",
              "</div>"
            ],
            "text/plain": [
              "   loan_amnt  60_mo_term  ...  VS_Source Verified  VS_Verified\n",
              "0    35000.0           0  ...                   0            1\n",
              "1    12000.0           1  ...                   0            1\n",
              "2    10000.0           0  ...                   0            0\n",
              "3    25000.0           1  ...                   1            0\n",
              "4    12600.0           0  ...                   0            0\n",
              "\n",
              "[5 rows x 34 columns]"
            ]
          },
          "metadata": {},
          "execution_count": 139
        }
      ]
    },
    {
      "cell_type": "markdown",
      "metadata": {
        "id": "msANpkgwNbsU"
      },
      "source": [
        "## Replace 'Purpose' with 1s & 0s"
      ]
    },
    {
      "cell_type": "code",
      "metadata": {
        "colab": {
          "base_uri": "https://localhost:8080/"
        },
        "id": "-Sc8V08gMnqq",
        "outputId": "2687840b-a7c6-44e7-9bb1-b4e44b8dfa8d"
      },
      "source": [
        "df['purpose'].unique()"
      ],
      "execution_count": null,
      "outputs": [
        {
          "output_type": "execute_result",
          "data": {
            "text/plain": [
              "array(['debt_consolidation', 'other', 'car', 'credit_card',\n",
              "       'home_improvement', 'moving', 'medical', 'vacation',\n",
              "       'major_purchase', 'house', 'small_business', 'wedding',\n",
              "       'renewable_energy', 'educational'], dtype=object)"
            ]
          },
          "metadata": {},
          "execution_count": 50
        }
      ]
    },
    {
      "cell_type": "code",
      "metadata": {
        "colab": {
          "base_uri": "https://localhost:8080/",
          "height": 226
        },
        "id": "CRJpzclhN59Q",
        "outputId": "2717f309-8067-4bb9-9b64-390be283d487"
      },
      "source": [
        "cat_purpose = pd.get_dummies(df['purpose'])\n",
        "cat_purpose.rename(columns={'vacation':'PPS_vacation', 'debt_consolidation':'PPS_debtcons', \n",
        "                            'credit_card':'PPS_cc','home_improvement':'PPS_homeimp', \n",
        "                            'small_business':'PPS_smallbus', 'major_purchase':'PPS_majorprc', \n",
        "                            'other':'PPS_other','medical':'PPS_medical', \n",
        "                            'wedding':'PPS_wedd', 'car':'PPS_car', \n",
        "                            'moving':'PPS_moving', 'house':'PPS_house', \n",
        "                            'educational':'PPS_edu','renewable_energy':'PPS_reneweng'},inplace=True)\n",
        "cat_purpose.head()"
      ],
      "execution_count": null,
      "outputs": [
        {
          "output_type": "execute_result",
          "data": {
            "text/html": [
              "<div>\n",
              "<style scoped>\n",
              "    .dataframe tbody tr th:only-of-type {\n",
              "        vertical-align: middle;\n",
              "    }\n",
              "\n",
              "    .dataframe tbody tr th {\n",
              "        vertical-align: top;\n",
              "    }\n",
              "\n",
              "    .dataframe thead th {\n",
              "        text-align: right;\n",
              "    }\n",
              "</style>\n",
              "<table border=\"1\" class=\"dataframe\">\n",
              "  <thead>\n",
              "    <tr style=\"text-align: right;\">\n",
              "      <th></th>\n",
              "      <th>PPS_car</th>\n",
              "      <th>PPS_cc</th>\n",
              "      <th>PPS_debtcons</th>\n",
              "      <th>PPS_edu</th>\n",
              "      <th>PPS_homeimp</th>\n",
              "      <th>PPS_house</th>\n",
              "      <th>PPS_majorprc</th>\n",
              "      <th>PPS_medical</th>\n",
              "      <th>PPS_moving</th>\n",
              "      <th>PPS_other</th>\n",
              "      <th>PPS_reneweng</th>\n",
              "      <th>PPS_smallbus</th>\n",
              "      <th>PPS_vacation</th>\n",
              "      <th>PPS_wedd</th>\n",
              "    </tr>\n",
              "  </thead>\n",
              "  <tbody>\n",
              "    <tr>\n",
              "      <th>0</th>\n",
              "      <td>0</td>\n",
              "      <td>0</td>\n",
              "      <td>1</td>\n",
              "      <td>0</td>\n",
              "      <td>0</td>\n",
              "      <td>0</td>\n",
              "      <td>0</td>\n",
              "      <td>0</td>\n",
              "      <td>0</td>\n",
              "      <td>0</td>\n",
              "      <td>0</td>\n",
              "      <td>0</td>\n",
              "      <td>0</td>\n",
              "      <td>0</td>\n",
              "    </tr>\n",
              "    <tr>\n",
              "      <th>1</th>\n",
              "      <td>0</td>\n",
              "      <td>0</td>\n",
              "      <td>0</td>\n",
              "      <td>0</td>\n",
              "      <td>0</td>\n",
              "      <td>0</td>\n",
              "      <td>0</td>\n",
              "      <td>0</td>\n",
              "      <td>0</td>\n",
              "      <td>1</td>\n",
              "      <td>0</td>\n",
              "      <td>0</td>\n",
              "      <td>0</td>\n",
              "      <td>0</td>\n",
              "    </tr>\n",
              "    <tr>\n",
              "      <th>2</th>\n",
              "      <td>0</td>\n",
              "      <td>0</td>\n",
              "      <td>1</td>\n",
              "      <td>0</td>\n",
              "      <td>0</td>\n",
              "      <td>0</td>\n",
              "      <td>0</td>\n",
              "      <td>0</td>\n",
              "      <td>0</td>\n",
              "      <td>0</td>\n",
              "      <td>0</td>\n",
              "      <td>0</td>\n",
              "      <td>0</td>\n",
              "      <td>0</td>\n",
              "    </tr>\n",
              "    <tr>\n",
              "      <th>3</th>\n",
              "      <td>0</td>\n",
              "      <td>0</td>\n",
              "      <td>1</td>\n",
              "      <td>0</td>\n",
              "      <td>0</td>\n",
              "      <td>0</td>\n",
              "      <td>0</td>\n",
              "      <td>0</td>\n",
              "      <td>0</td>\n",
              "      <td>0</td>\n",
              "      <td>0</td>\n",
              "      <td>0</td>\n",
              "      <td>0</td>\n",
              "      <td>0</td>\n",
              "    </tr>\n",
              "    <tr>\n",
              "      <th>4</th>\n",
              "      <td>0</td>\n",
              "      <td>0</td>\n",
              "      <td>1</td>\n",
              "      <td>0</td>\n",
              "      <td>0</td>\n",
              "      <td>0</td>\n",
              "      <td>0</td>\n",
              "      <td>0</td>\n",
              "      <td>0</td>\n",
              "      <td>0</td>\n",
              "      <td>0</td>\n",
              "      <td>0</td>\n",
              "      <td>0</td>\n",
              "      <td>0</td>\n",
              "    </tr>\n",
              "  </tbody>\n",
              "</table>\n",
              "</div>"
            ],
            "text/plain": [
              "   PPS_car  PPS_cc  PPS_debtcons  ...  PPS_smallbus  PPS_vacation  PPS_wedd\n",
              "0        0       0             1  ...             0             0         0\n",
              "1        0       0             0  ...             0             0         0\n",
              "2        0       0             1  ...             0             0         0\n",
              "3        0       0             1  ...             0             0         0\n",
              "4        0       0             1  ...             0             0         0\n",
              "\n",
              "[5 rows x 14 columns]"
            ]
          },
          "metadata": {},
          "execution_count": 51
        }
      ]
    },
    {
      "cell_type": "code",
      "metadata": {
        "colab": {
          "base_uri": "https://localhost:8080/",
          "height": 486
        },
        "id": "0NWZ65qDPHb9",
        "outputId": "4cc91479-45bd-4fa0-d3f1-c2e6eb35dbc5"
      },
      "source": [
        "df = pd.concat([df,cat_purpose],axis=1)\n",
        "df = df.drop('purpose',axis=1)\n",
        "df.head()"
      ],
      "execution_count": null,
      "outputs": [
        {
          "output_type": "execute_result",
          "data": {
            "text/html": [
              "<div>\n",
              "<style scoped>\n",
              "    .dataframe tbody tr th:only-of-type {\n",
              "        vertical-align: middle;\n",
              "    }\n",
              "\n",
              "    .dataframe tbody tr th {\n",
              "        vertical-align: top;\n",
              "    }\n",
              "\n",
              "    .dataframe thead th {\n",
              "        text-align: right;\n",
              "    }\n",
              "</style>\n",
              "<table border=\"1\" class=\"dataframe\">\n",
              "  <thead>\n",
              "    <tr style=\"text-align: right;\">\n",
              "      <th></th>\n",
              "      <th>loan_amnt</th>\n",
              "      <th>60_mo_term</th>\n",
              "      <th>int_rate</th>\n",
              "      <th>installment</th>\n",
              "      <th>sub_grade</th>\n",
              "      <th>emp_title</th>\n",
              "      <th>emp_length</th>\n",
              "      <th>annual_inc</th>\n",
              "      <th>issue_d</th>\n",
              "      <th>loan_status</th>\n",
              "      <th>title</th>\n",
              "      <th>dti</th>\n",
              "      <th>earliest_cr_line</th>\n",
              "      <th>open_acc</th>\n",
              "      <th>pub_rec</th>\n",
              "      <th>revol_bal</th>\n",
              "      <th>revol_util</th>\n",
              "      <th>total_acc</th>\n",
              "      <th>initial_list_status</th>\n",
              "      <th>application_type</th>\n",
              "      <th>mort_acc</th>\n",
              "      <th>pub_rec_bankruptcies</th>\n",
              "      <th>address</th>\n",
              "      <th>HO_ANY</th>\n",
              "      <th>HO_MORTGAGE</th>\n",
              "      <th>HO_NONE</th>\n",
              "      <th>HO_OTHER</th>\n",
              "      <th>HO_OWN</th>\n",
              "      <th>HO_RENT</th>\n",
              "      <th>VS_Not Verified</th>\n",
              "      <th>VS_Source Verified</th>\n",
              "      <th>VS_Verified</th>\n",
              "      <th>PPS_car</th>\n",
              "      <th>PPS_cc</th>\n",
              "      <th>PPS_debtcons</th>\n",
              "      <th>PPS_edu</th>\n",
              "      <th>PPS_homeimp</th>\n",
              "      <th>PPS_house</th>\n",
              "      <th>PPS_majorprc</th>\n",
              "      <th>PPS_medical</th>\n",
              "      <th>PPS_moving</th>\n",
              "      <th>PPS_other</th>\n",
              "      <th>PPS_reneweng</th>\n",
              "      <th>PPS_smallbus</th>\n",
              "      <th>PPS_vacation</th>\n",
              "      <th>PPS_wedd</th>\n",
              "    </tr>\n",
              "  </thead>\n",
              "  <tbody>\n",
              "    <tr>\n",
              "      <th>0</th>\n",
              "      <td>35000.0</td>\n",
              "      <td>0</td>\n",
              "      <td>25.83</td>\n",
              "      <td>1407.01</td>\n",
              "      <td>32</td>\n",
              "      <td>HR Director</td>\n",
              "      <td>10+ years</td>\n",
              "      <td>165800.0</td>\n",
              "      <td>Mar-2014</td>\n",
              "      <td>1</td>\n",
              "      <td>Debt consolidation</td>\n",
              "      <td>7.42</td>\n",
              "      <td>Jul-2005</td>\n",
              "      <td>5.0</td>\n",
              "      <td>0.0</td>\n",
              "      <td>16521.0</td>\n",
              "      <td>153.0</td>\n",
              "      <td>5.0</td>\n",
              "      <td>f</td>\n",
              "      <td>INDIVIDUAL</td>\n",
              "      <td>0.0</td>\n",
              "      <td>0.0</td>\n",
              "      <td>7421 Pamela Pines Suite 835\\nSouth Kyletown, O...</td>\n",
              "      <td>0</td>\n",
              "      <td>0</td>\n",
              "      <td>0</td>\n",
              "      <td>0</td>\n",
              "      <td>0</td>\n",
              "      <td>1</td>\n",
              "      <td>0</td>\n",
              "      <td>0</td>\n",
              "      <td>1</td>\n",
              "      <td>0</td>\n",
              "      <td>0</td>\n",
              "      <td>1</td>\n",
              "      <td>0</td>\n",
              "      <td>0</td>\n",
              "      <td>0</td>\n",
              "      <td>0</td>\n",
              "      <td>0</td>\n",
              "      <td>0</td>\n",
              "      <td>0</td>\n",
              "      <td>0</td>\n",
              "      <td>0</td>\n",
              "      <td>0</td>\n",
              "      <td>0</td>\n",
              "    </tr>\n",
              "    <tr>\n",
              "      <th>1</th>\n",
              "      <td>12000.0</td>\n",
              "      <td>1</td>\n",
              "      <td>16.55</td>\n",
              "      <td>295.34</td>\n",
              "      <td>17</td>\n",
              "      <td>NaN</td>\n",
              "      <td>NaN</td>\n",
              "      <td>45600.0</td>\n",
              "      <td>Nov-2015</td>\n",
              "      <td>1</td>\n",
              "      <td>Other</td>\n",
              "      <td>38.98</td>\n",
              "      <td>Apr-2002</td>\n",
              "      <td>5.0</td>\n",
              "      <td>0.0</td>\n",
              "      <td>13880.0</td>\n",
              "      <td>152.5</td>\n",
              "      <td>11.0</td>\n",
              "      <td>f</td>\n",
              "      <td>INDIVIDUAL</td>\n",
              "      <td>5.0</td>\n",
              "      <td>0.0</td>\n",
              "      <td>595 Hall Flat\\nPort Heatherbury, NE 48052</td>\n",
              "      <td>0</td>\n",
              "      <td>1</td>\n",
              "      <td>0</td>\n",
              "      <td>0</td>\n",
              "      <td>0</td>\n",
              "      <td>0</td>\n",
              "      <td>0</td>\n",
              "      <td>0</td>\n",
              "      <td>1</td>\n",
              "      <td>0</td>\n",
              "      <td>0</td>\n",
              "      <td>0</td>\n",
              "      <td>0</td>\n",
              "      <td>0</td>\n",
              "      <td>0</td>\n",
              "      <td>0</td>\n",
              "      <td>0</td>\n",
              "      <td>0</td>\n",
              "      <td>1</td>\n",
              "      <td>0</td>\n",
              "      <td>0</td>\n",
              "      <td>0</td>\n",
              "      <td>0</td>\n",
              "    </tr>\n",
              "    <tr>\n",
              "      <th>2</th>\n",
              "      <td>10000.0</td>\n",
              "      <td>0</td>\n",
              "      <td>14.16</td>\n",
              "      <td>342.56</td>\n",
              "      <td>12</td>\n",
              "      <td>Superintendent</td>\n",
              "      <td>10+ years</td>\n",
              "      <td>91000.0</td>\n",
              "      <td>Apr-2014</td>\n",
              "      <td>1</td>\n",
              "      <td>Debt consolidation</td>\n",
              "      <td>20.94</td>\n",
              "      <td>Jul-1997</td>\n",
              "      <td>9.0</td>\n",
              "      <td>0.0</td>\n",
              "      <td>9344.0</td>\n",
              "      <td>150.7</td>\n",
              "      <td>37.0</td>\n",
              "      <td>f</td>\n",
              "      <td>INDIVIDUAL</td>\n",
              "      <td>6.0</td>\n",
              "      <td>0.0</td>\n",
              "      <td>159 Melanie Rue Suite 337\\nJenniferview, WI 70466</td>\n",
              "      <td>0</td>\n",
              "      <td>0</td>\n",
              "      <td>0</td>\n",
              "      <td>0</td>\n",
              "      <td>1</td>\n",
              "      <td>0</td>\n",
              "      <td>1</td>\n",
              "      <td>0</td>\n",
              "      <td>0</td>\n",
              "      <td>0</td>\n",
              "      <td>0</td>\n",
              "      <td>1</td>\n",
              "      <td>0</td>\n",
              "      <td>0</td>\n",
              "      <td>0</td>\n",
              "      <td>0</td>\n",
              "      <td>0</td>\n",
              "      <td>0</td>\n",
              "      <td>0</td>\n",
              "      <td>0</td>\n",
              "      <td>0</td>\n",
              "      <td>0</td>\n",
              "      <td>0</td>\n",
              "    </tr>\n",
              "    <tr>\n",
              "      <th>3</th>\n",
              "      <td>25000.0</td>\n",
              "      <td>1</td>\n",
              "      <td>20.49</td>\n",
              "      <td>669.19</td>\n",
              "      <td>22</td>\n",
              "      <td>VP of MultiFamily Investments</td>\n",
              "      <td>5 years</td>\n",
              "      <td>100000.0</td>\n",
              "      <td>Apr-2014</td>\n",
              "      <td>0</td>\n",
              "      <td>Debt consolidation</td>\n",
              "      <td>15.16</td>\n",
              "      <td>Nov-2001</td>\n",
              "      <td>5.0</td>\n",
              "      <td>0.0</td>\n",
              "      <td>20133.0</td>\n",
              "      <td>148.0</td>\n",
              "      <td>7.0</td>\n",
              "      <td>w</td>\n",
              "      <td>INDIVIDUAL</td>\n",
              "      <td>0.0</td>\n",
              "      <td>0.0</td>\n",
              "      <td>175 Martinez Corners Apt. 773\\nNicholsland, VA...</td>\n",
              "      <td>0</td>\n",
              "      <td>0</td>\n",
              "      <td>0</td>\n",
              "      <td>0</td>\n",
              "      <td>0</td>\n",
              "      <td>1</td>\n",
              "      <td>0</td>\n",
              "      <td>1</td>\n",
              "      <td>0</td>\n",
              "      <td>0</td>\n",
              "      <td>0</td>\n",
              "      <td>1</td>\n",
              "      <td>0</td>\n",
              "      <td>0</td>\n",
              "      <td>0</td>\n",
              "      <td>0</td>\n",
              "      <td>0</td>\n",
              "      <td>0</td>\n",
              "      <td>0</td>\n",
              "      <td>0</td>\n",
              "      <td>0</td>\n",
              "      <td>0</td>\n",
              "      <td>0</td>\n",
              "    </tr>\n",
              "    <tr>\n",
              "      <th>4</th>\n",
              "      <td>12600.0</td>\n",
              "      <td>0</td>\n",
              "      <td>8.39</td>\n",
              "      <td>397.11</td>\n",
              "      <td>5</td>\n",
              "      <td>AVP, Senior Leasing Assistant</td>\n",
              "      <td>8 years</td>\n",
              "      <td>96011.0</td>\n",
              "      <td>Oct-2014</td>\n",
              "      <td>1</td>\n",
              "      <td>Debt consolidation</td>\n",
              "      <td>11.56</td>\n",
              "      <td>Apr-1981</td>\n",
              "      <td>9.0</td>\n",
              "      <td>0.0</td>\n",
              "      <td>20033.0</td>\n",
              "      <td>146.1</td>\n",
              "      <td>22.0</td>\n",
              "      <td>w</td>\n",
              "      <td>INDIVIDUAL</td>\n",
              "      <td>4.0</td>\n",
              "      <td>0.0</td>\n",
              "      <td>47969 Davis Divide Suite 571\\nLake Daniel, OK ...</td>\n",
              "      <td>0</td>\n",
              "      <td>1</td>\n",
              "      <td>0</td>\n",
              "      <td>0</td>\n",
              "      <td>0</td>\n",
              "      <td>0</td>\n",
              "      <td>1</td>\n",
              "      <td>0</td>\n",
              "      <td>0</td>\n",
              "      <td>0</td>\n",
              "      <td>0</td>\n",
              "      <td>1</td>\n",
              "      <td>0</td>\n",
              "      <td>0</td>\n",
              "      <td>0</td>\n",
              "      <td>0</td>\n",
              "      <td>0</td>\n",
              "      <td>0</td>\n",
              "      <td>0</td>\n",
              "      <td>0</td>\n",
              "      <td>0</td>\n",
              "      <td>0</td>\n",
              "      <td>0</td>\n",
              "    </tr>\n",
              "  </tbody>\n",
              "</table>\n",
              "</div>"
            ],
            "text/plain": [
              "   loan_amnt  60_mo_term  int_rate  ...  PPS_smallbus  PPS_vacation PPS_wedd\n",
              "0    35000.0           0     25.83  ...             0             0        0\n",
              "1    12000.0           1     16.55  ...             0             0        0\n",
              "2    10000.0           0     14.16  ...             0             0        0\n",
              "3    25000.0           1     20.49  ...             0             0        0\n",
              "4    12600.0           0      8.39  ...             0             0        0\n",
              "\n",
              "[5 rows x 46 columns]"
            ]
          },
          "metadata": {},
          "execution_count": 52
        }
      ]
    },
    {
      "cell_type": "markdown",
      "metadata": {
        "id": "o_ejg-JEdIWP"
      },
      "source": [
        "## Drop 'title' & 'emp_title'"
      ]
    },
    {
      "cell_type": "code",
      "metadata": {
        "id": "XFrbjXjjPi8a"
      },
      "source": [
        "df = df.drop('title',axis=1)"
      ],
      "execution_count": null,
      "outputs": []
    },
    {
      "cell_type": "code",
      "metadata": {
        "colab": {
          "base_uri": "https://localhost:8080/",
          "height": 929
        },
        "id": "6gbaO6CsP9SX",
        "outputId": "64e25b84-94db-4a66-f5e4-c15f2e30d5a4"
      },
      "source": [
        "df = df.drop('emp_title',axis=1)\n",
        "df"
      ],
      "execution_count": null,
      "outputs": [
        {
          "output_type": "execute_result",
          "data": {
            "text/html": [
              "<div>\n",
              "<style scoped>\n",
              "    .dataframe tbody tr th:only-of-type {\n",
              "        vertical-align: middle;\n",
              "    }\n",
              "\n",
              "    .dataframe tbody tr th {\n",
              "        vertical-align: top;\n",
              "    }\n",
              "\n",
              "    .dataframe thead th {\n",
              "        text-align: right;\n",
              "    }\n",
              "</style>\n",
              "<table border=\"1\" class=\"dataframe\">\n",
              "  <thead>\n",
              "    <tr style=\"text-align: right;\">\n",
              "      <th></th>\n",
              "      <th>loan_amnt</th>\n",
              "      <th>60_mo_term</th>\n",
              "      <th>int_rate</th>\n",
              "      <th>installment</th>\n",
              "      <th>sub_grade</th>\n",
              "      <th>emp_length</th>\n",
              "      <th>annual_inc</th>\n",
              "      <th>issue_d</th>\n",
              "      <th>loan_status</th>\n",
              "      <th>dti</th>\n",
              "      <th>earliest_cr_line</th>\n",
              "      <th>open_acc</th>\n",
              "      <th>pub_rec</th>\n",
              "      <th>revol_bal</th>\n",
              "      <th>revol_util</th>\n",
              "      <th>total_acc</th>\n",
              "      <th>initial_list_status</th>\n",
              "      <th>application_type</th>\n",
              "      <th>mort_acc</th>\n",
              "      <th>pub_rec_bankruptcies</th>\n",
              "      <th>address</th>\n",
              "      <th>HO_ANY</th>\n",
              "      <th>HO_MORTGAGE</th>\n",
              "      <th>HO_NONE</th>\n",
              "      <th>HO_OTHER</th>\n",
              "      <th>HO_OWN</th>\n",
              "      <th>HO_RENT</th>\n",
              "      <th>VS_Not Verified</th>\n",
              "      <th>VS_Source Verified</th>\n",
              "      <th>VS_Verified</th>\n",
              "      <th>PPS_car</th>\n",
              "      <th>PPS_cc</th>\n",
              "      <th>PPS_debtcons</th>\n",
              "      <th>PPS_edu</th>\n",
              "      <th>PPS_homeimp</th>\n",
              "      <th>PPS_house</th>\n",
              "      <th>PPS_majorprc</th>\n",
              "      <th>PPS_medical</th>\n",
              "      <th>PPS_moving</th>\n",
              "      <th>PPS_other</th>\n",
              "      <th>PPS_reneweng</th>\n",
              "      <th>PPS_smallbus</th>\n",
              "      <th>PPS_vacation</th>\n",
              "      <th>PPS_wedd</th>\n",
              "    </tr>\n",
              "  </thead>\n",
              "  <tbody>\n",
              "    <tr>\n",
              "      <th>0</th>\n",
              "      <td>35000.0</td>\n",
              "      <td>0</td>\n",
              "      <td>25.83</td>\n",
              "      <td>1407.01</td>\n",
              "      <td>32</td>\n",
              "      <td>10+ years</td>\n",
              "      <td>165800.0</td>\n",
              "      <td>Mar-2014</td>\n",
              "      <td>1</td>\n",
              "      <td>7.42</td>\n",
              "      <td>Jul-2005</td>\n",
              "      <td>5.0</td>\n",
              "      <td>0.0</td>\n",
              "      <td>16521.0</td>\n",
              "      <td>153.0</td>\n",
              "      <td>5.0</td>\n",
              "      <td>f</td>\n",
              "      <td>INDIVIDUAL</td>\n",
              "      <td>0.0</td>\n",
              "      <td>0.0</td>\n",
              "      <td>7421 Pamela Pines Suite 835\\nSouth Kyletown, O...</td>\n",
              "      <td>0</td>\n",
              "      <td>0</td>\n",
              "      <td>0</td>\n",
              "      <td>0</td>\n",
              "      <td>0</td>\n",
              "      <td>1</td>\n",
              "      <td>0</td>\n",
              "      <td>0</td>\n",
              "      <td>1</td>\n",
              "      <td>0</td>\n",
              "      <td>0</td>\n",
              "      <td>1</td>\n",
              "      <td>0</td>\n",
              "      <td>0</td>\n",
              "      <td>0</td>\n",
              "      <td>0</td>\n",
              "      <td>0</td>\n",
              "      <td>0</td>\n",
              "      <td>0</td>\n",
              "      <td>0</td>\n",
              "      <td>0</td>\n",
              "      <td>0</td>\n",
              "      <td>0</td>\n",
              "    </tr>\n",
              "    <tr>\n",
              "      <th>1</th>\n",
              "      <td>12000.0</td>\n",
              "      <td>1</td>\n",
              "      <td>16.55</td>\n",
              "      <td>295.34</td>\n",
              "      <td>17</td>\n",
              "      <td>NaN</td>\n",
              "      <td>45600.0</td>\n",
              "      <td>Nov-2015</td>\n",
              "      <td>1</td>\n",
              "      <td>38.98</td>\n",
              "      <td>Apr-2002</td>\n",
              "      <td>5.0</td>\n",
              "      <td>0.0</td>\n",
              "      <td>13880.0</td>\n",
              "      <td>152.5</td>\n",
              "      <td>11.0</td>\n",
              "      <td>f</td>\n",
              "      <td>INDIVIDUAL</td>\n",
              "      <td>5.0</td>\n",
              "      <td>0.0</td>\n",
              "      <td>595 Hall Flat\\nPort Heatherbury, NE 48052</td>\n",
              "      <td>0</td>\n",
              "      <td>1</td>\n",
              "      <td>0</td>\n",
              "      <td>0</td>\n",
              "      <td>0</td>\n",
              "      <td>0</td>\n",
              "      <td>0</td>\n",
              "      <td>0</td>\n",
              "      <td>1</td>\n",
              "      <td>0</td>\n",
              "      <td>0</td>\n",
              "      <td>0</td>\n",
              "      <td>0</td>\n",
              "      <td>0</td>\n",
              "      <td>0</td>\n",
              "      <td>0</td>\n",
              "      <td>0</td>\n",
              "      <td>0</td>\n",
              "      <td>1</td>\n",
              "      <td>0</td>\n",
              "      <td>0</td>\n",
              "      <td>0</td>\n",
              "      <td>0</td>\n",
              "    </tr>\n",
              "    <tr>\n",
              "      <th>2</th>\n",
              "      <td>10000.0</td>\n",
              "      <td>0</td>\n",
              "      <td>14.16</td>\n",
              "      <td>342.56</td>\n",
              "      <td>12</td>\n",
              "      <td>10+ years</td>\n",
              "      <td>91000.0</td>\n",
              "      <td>Apr-2014</td>\n",
              "      <td>1</td>\n",
              "      <td>20.94</td>\n",
              "      <td>Jul-1997</td>\n",
              "      <td>9.0</td>\n",
              "      <td>0.0</td>\n",
              "      <td>9344.0</td>\n",
              "      <td>150.7</td>\n",
              "      <td>37.0</td>\n",
              "      <td>f</td>\n",
              "      <td>INDIVIDUAL</td>\n",
              "      <td>6.0</td>\n",
              "      <td>0.0</td>\n",
              "      <td>159 Melanie Rue Suite 337\\nJenniferview, WI 70466</td>\n",
              "      <td>0</td>\n",
              "      <td>0</td>\n",
              "      <td>0</td>\n",
              "      <td>0</td>\n",
              "      <td>1</td>\n",
              "      <td>0</td>\n",
              "      <td>1</td>\n",
              "      <td>0</td>\n",
              "      <td>0</td>\n",
              "      <td>0</td>\n",
              "      <td>0</td>\n",
              "      <td>1</td>\n",
              "      <td>0</td>\n",
              "      <td>0</td>\n",
              "      <td>0</td>\n",
              "      <td>0</td>\n",
              "      <td>0</td>\n",
              "      <td>0</td>\n",
              "      <td>0</td>\n",
              "      <td>0</td>\n",
              "      <td>0</td>\n",
              "      <td>0</td>\n",
              "      <td>0</td>\n",
              "    </tr>\n",
              "    <tr>\n",
              "      <th>3</th>\n",
              "      <td>25000.0</td>\n",
              "      <td>1</td>\n",
              "      <td>20.49</td>\n",
              "      <td>669.19</td>\n",
              "      <td>22</td>\n",
              "      <td>5 years</td>\n",
              "      <td>100000.0</td>\n",
              "      <td>Apr-2014</td>\n",
              "      <td>0</td>\n",
              "      <td>15.16</td>\n",
              "      <td>Nov-2001</td>\n",
              "      <td>5.0</td>\n",
              "      <td>0.0</td>\n",
              "      <td>20133.0</td>\n",
              "      <td>148.0</td>\n",
              "      <td>7.0</td>\n",
              "      <td>w</td>\n",
              "      <td>INDIVIDUAL</td>\n",
              "      <td>0.0</td>\n",
              "      <td>0.0</td>\n",
              "      <td>175 Martinez Corners Apt. 773\\nNicholsland, VA...</td>\n",
              "      <td>0</td>\n",
              "      <td>0</td>\n",
              "      <td>0</td>\n",
              "      <td>0</td>\n",
              "      <td>0</td>\n",
              "      <td>1</td>\n",
              "      <td>0</td>\n",
              "      <td>1</td>\n",
              "      <td>0</td>\n",
              "      <td>0</td>\n",
              "      <td>0</td>\n",
              "      <td>1</td>\n",
              "      <td>0</td>\n",
              "      <td>0</td>\n",
              "      <td>0</td>\n",
              "      <td>0</td>\n",
              "      <td>0</td>\n",
              "      <td>0</td>\n",
              "      <td>0</td>\n",
              "      <td>0</td>\n",
              "      <td>0</td>\n",
              "      <td>0</td>\n",
              "      <td>0</td>\n",
              "    </tr>\n",
              "    <tr>\n",
              "      <th>4</th>\n",
              "      <td>12600.0</td>\n",
              "      <td>0</td>\n",
              "      <td>8.39</td>\n",
              "      <td>397.11</td>\n",
              "      <td>5</td>\n",
              "      <td>8 years</td>\n",
              "      <td>96011.0</td>\n",
              "      <td>Oct-2014</td>\n",
              "      <td>1</td>\n",
              "      <td>11.56</td>\n",
              "      <td>Apr-1981</td>\n",
              "      <td>9.0</td>\n",
              "      <td>0.0</td>\n",
              "      <td>20033.0</td>\n",
              "      <td>146.1</td>\n",
              "      <td>22.0</td>\n",
              "      <td>w</td>\n",
              "      <td>INDIVIDUAL</td>\n",
              "      <td>4.0</td>\n",
              "      <td>0.0</td>\n",
              "      <td>47969 Davis Divide Suite 571\\nLake Daniel, OK ...</td>\n",
              "      <td>0</td>\n",
              "      <td>1</td>\n",
              "      <td>0</td>\n",
              "      <td>0</td>\n",
              "      <td>0</td>\n",
              "      <td>0</td>\n",
              "      <td>1</td>\n",
              "      <td>0</td>\n",
              "      <td>0</td>\n",
              "      <td>0</td>\n",
              "      <td>0</td>\n",
              "      <td>1</td>\n",
              "      <td>0</td>\n",
              "      <td>0</td>\n",
              "      <td>0</td>\n",
              "      <td>0</td>\n",
              "      <td>0</td>\n",
              "      <td>0</td>\n",
              "      <td>0</td>\n",
              "      <td>0</td>\n",
              "      <td>0</td>\n",
              "      <td>0</td>\n",
              "      <td>0</td>\n",
              "    </tr>\n",
              "    <tr>\n",
              "      <th>...</th>\n",
              "      <td>...</td>\n",
              "      <td>...</td>\n",
              "      <td>...</td>\n",
              "      <td>...</td>\n",
              "      <td>...</td>\n",
              "      <td>...</td>\n",
              "      <td>...</td>\n",
              "      <td>...</td>\n",
              "      <td>...</td>\n",
              "      <td>...</td>\n",
              "      <td>...</td>\n",
              "      <td>...</td>\n",
              "      <td>...</td>\n",
              "      <td>...</td>\n",
              "      <td>...</td>\n",
              "      <td>...</td>\n",
              "      <td>...</td>\n",
              "      <td>...</td>\n",
              "      <td>...</td>\n",
              "      <td>...</td>\n",
              "      <td>...</td>\n",
              "      <td>...</td>\n",
              "      <td>...</td>\n",
              "      <td>...</td>\n",
              "      <td>...</td>\n",
              "      <td>...</td>\n",
              "      <td>...</td>\n",
              "      <td>...</td>\n",
              "      <td>...</td>\n",
              "      <td>...</td>\n",
              "      <td>...</td>\n",
              "      <td>...</td>\n",
              "      <td>...</td>\n",
              "      <td>...</td>\n",
              "      <td>...</td>\n",
              "      <td>...</td>\n",
              "      <td>...</td>\n",
              "      <td>...</td>\n",
              "      <td>...</td>\n",
              "      <td>...</td>\n",
              "      <td>...</td>\n",
              "      <td>...</td>\n",
              "      <td>...</td>\n",
              "      <td>...</td>\n",
              "    </tr>\n",
              "    <tr>\n",
              "      <th>391764</th>\n",
              "      <td>35000.0</td>\n",
              "      <td>0</td>\n",
              "      <td>24.83</td>\n",
              "      <td>1388.45</td>\n",
              "      <td>32</td>\n",
              "      <td>10+ years</td>\n",
              "      <td>84000.0</td>\n",
              "      <td>Jun-2013</td>\n",
              "      <td>0</td>\n",
              "      <td>28.67</td>\n",
              "      <td>Apr-1989</td>\n",
              "      <td>8.0</td>\n",
              "      <td>0.0</td>\n",
              "      <td>21400.0</td>\n",
              "      <td>NaN</td>\n",
              "      <td>55.0</td>\n",
              "      <td>w</td>\n",
              "      <td>INDIVIDUAL</td>\n",
              "      <td>3.0</td>\n",
              "      <td>0.0</td>\n",
              "      <td>023 Smith Shoal Suite 177\\nSouth Benjaminfort,...</td>\n",
              "      <td>0</td>\n",
              "      <td>1</td>\n",
              "      <td>0</td>\n",
              "      <td>0</td>\n",
              "      <td>0</td>\n",
              "      <td>0</td>\n",
              "      <td>0</td>\n",
              "      <td>0</td>\n",
              "      <td>1</td>\n",
              "      <td>0</td>\n",
              "      <td>0</td>\n",
              "      <td>0</td>\n",
              "      <td>0</td>\n",
              "      <td>0</td>\n",
              "      <td>0</td>\n",
              "      <td>1</td>\n",
              "      <td>0</td>\n",
              "      <td>0</td>\n",
              "      <td>0</td>\n",
              "      <td>0</td>\n",
              "      <td>0</td>\n",
              "      <td>0</td>\n",
              "      <td>0</td>\n",
              "    </tr>\n",
              "    <tr>\n",
              "      <th>391765</th>\n",
              "      <td>15000.0</td>\n",
              "      <td>1</td>\n",
              "      <td>29.96</td>\n",
              "      <td>484.94</td>\n",
              "      <td>34</td>\n",
              "      <td>3 years</td>\n",
              "      <td>75000.0</td>\n",
              "      <td>May-2016</td>\n",
              "      <td>1</td>\n",
              "      <td>23.63</td>\n",
              "      <td>Apr-1996</td>\n",
              "      <td>7.0</td>\n",
              "      <td>0.0</td>\n",
              "      <td>177665.0</td>\n",
              "      <td>NaN</td>\n",
              "      <td>29.0</td>\n",
              "      <td>f</td>\n",
              "      <td>INDIVIDUAL</td>\n",
              "      <td>4.0</td>\n",
              "      <td>0.0</td>\n",
              "      <td>70525 Joseph Loaf Apt. 877\\nJillchester, MN 05113</td>\n",
              "      <td>0</td>\n",
              "      <td>1</td>\n",
              "      <td>0</td>\n",
              "      <td>0</td>\n",
              "      <td>0</td>\n",
              "      <td>0</td>\n",
              "      <td>0</td>\n",
              "      <td>0</td>\n",
              "      <td>1</td>\n",
              "      <td>0</td>\n",
              "      <td>0</td>\n",
              "      <td>1</td>\n",
              "      <td>0</td>\n",
              "      <td>0</td>\n",
              "      <td>0</td>\n",
              "      <td>0</td>\n",
              "      <td>0</td>\n",
              "      <td>0</td>\n",
              "      <td>0</td>\n",
              "      <td>0</td>\n",
              "      <td>0</td>\n",
              "      <td>0</td>\n",
              "      <td>0</td>\n",
              "    </tr>\n",
              "    <tr>\n",
              "      <th>391766</th>\n",
              "      <td>22750.0</td>\n",
              "      <td>0</td>\n",
              "      <td>23.91</td>\n",
              "      <td>891.48</td>\n",
              "      <td>34</td>\n",
              "      <td>10+ years</td>\n",
              "      <td>74000.0</td>\n",
              "      <td>Jan-2012</td>\n",
              "      <td>1</td>\n",
              "      <td>22.33</td>\n",
              "      <td>Mar-2000</td>\n",
              "      <td>2.0</td>\n",
              "      <td>0.0</td>\n",
              "      <td>0.0</td>\n",
              "      <td>NaN</td>\n",
              "      <td>17.0</td>\n",
              "      <td>f</td>\n",
              "      <td>INDIVIDUAL</td>\n",
              "      <td>NaN</td>\n",
              "      <td>0.0</td>\n",
              "      <td>886 Lam Plains Apt. 588\\nEast Georgeport, VT 3...</td>\n",
              "      <td>0</td>\n",
              "      <td>1</td>\n",
              "      <td>0</td>\n",
              "      <td>0</td>\n",
              "      <td>0</td>\n",
              "      <td>0</td>\n",
              "      <td>0</td>\n",
              "      <td>0</td>\n",
              "      <td>1</td>\n",
              "      <td>0</td>\n",
              "      <td>0</td>\n",
              "      <td>0</td>\n",
              "      <td>0</td>\n",
              "      <td>0</td>\n",
              "      <td>0</td>\n",
              "      <td>0</td>\n",
              "      <td>0</td>\n",
              "      <td>1</td>\n",
              "      <td>0</td>\n",
              "      <td>0</td>\n",
              "      <td>0</td>\n",
              "      <td>0</td>\n",
              "      <td>0</td>\n",
              "    </tr>\n",
              "    <tr>\n",
              "      <th>391767</th>\n",
              "      <td>24000.0</td>\n",
              "      <td>1</td>\n",
              "      <td>24.11</td>\n",
              "      <td>691.97</td>\n",
              "      <td>35</td>\n",
              "      <td>10+ years</td>\n",
              "      <td>56000.0</td>\n",
              "      <td>Feb-2012</td>\n",
              "      <td>1</td>\n",
              "      <td>11.96</td>\n",
              "      <td>Nov-1997</td>\n",
              "      <td>4.0</td>\n",
              "      <td>0.0</td>\n",
              "      <td>0.0</td>\n",
              "      <td>NaN</td>\n",
              "      <td>19.0</td>\n",
              "      <td>f</td>\n",
              "      <td>INDIVIDUAL</td>\n",
              "      <td>NaN</td>\n",
              "      <td>0.0</td>\n",
              "      <td>PSC 7212, Box 9412\\nAPO AA 48052</td>\n",
              "      <td>0</td>\n",
              "      <td>1</td>\n",
              "      <td>0</td>\n",
              "      <td>0</td>\n",
              "      <td>0</td>\n",
              "      <td>0</td>\n",
              "      <td>0</td>\n",
              "      <td>0</td>\n",
              "      <td>1</td>\n",
              "      <td>0</td>\n",
              "      <td>0</td>\n",
              "      <td>0</td>\n",
              "      <td>0</td>\n",
              "      <td>1</td>\n",
              "      <td>0</td>\n",
              "      <td>0</td>\n",
              "      <td>0</td>\n",
              "      <td>0</td>\n",
              "      <td>0</td>\n",
              "      <td>0</td>\n",
              "      <td>0</td>\n",
              "      <td>0</td>\n",
              "      <td>0</td>\n",
              "    </tr>\n",
              "    <tr>\n",
              "      <th>391768</th>\n",
              "      <td>20000.0</td>\n",
              "      <td>1</td>\n",
              "      <td>20.48</td>\n",
              "      <td>535.24</td>\n",
              "      <td>32</td>\n",
              "      <td>10+ years</td>\n",
              "      <td>42000.0</td>\n",
              "      <td>Mar-2011</td>\n",
              "      <td>0</td>\n",
              "      <td>18.91</td>\n",
              "      <td>Oct-1996</td>\n",
              "      <td>3.0</td>\n",
              "      <td>0.0</td>\n",
              "      <td>0.0</td>\n",
              "      <td>NaN</td>\n",
              "      <td>18.0</td>\n",
              "      <td>f</td>\n",
              "      <td>INDIVIDUAL</td>\n",
              "      <td>NaN</td>\n",
              "      <td>0.0</td>\n",
              "      <td>02178 Jade Road Apt. 174\\nWalkerburgh, MD 30723</td>\n",
              "      <td>0</td>\n",
              "      <td>0</td>\n",
              "      <td>0</td>\n",
              "      <td>0</td>\n",
              "      <td>0</td>\n",
              "      <td>1</td>\n",
              "      <td>0</td>\n",
              "      <td>0</td>\n",
              "      <td>1</td>\n",
              "      <td>0</td>\n",
              "      <td>0</td>\n",
              "      <td>1</td>\n",
              "      <td>0</td>\n",
              "      <td>0</td>\n",
              "      <td>0</td>\n",
              "      <td>0</td>\n",
              "      <td>0</td>\n",
              "      <td>0</td>\n",
              "      <td>0</td>\n",
              "      <td>0</td>\n",
              "      <td>0</td>\n",
              "      <td>0</td>\n",
              "      <td>0</td>\n",
              "    </tr>\n",
              "  </tbody>\n",
              "</table>\n",
              "<p>391769 rows × 44 columns</p>\n",
              "</div>"
            ],
            "text/plain": [
              "        loan_amnt  60_mo_term  int_rate  ...  PPS_smallbus  PPS_vacation PPS_wedd\n",
              "0         35000.0           0     25.83  ...             0             0        0\n",
              "1         12000.0           1     16.55  ...             0             0        0\n",
              "2         10000.0           0     14.16  ...             0             0        0\n",
              "3         25000.0           1     20.49  ...             0             0        0\n",
              "4         12600.0           0      8.39  ...             0             0        0\n",
              "...           ...         ...       ...  ...           ...           ...      ...\n",
              "391764    35000.0           0     24.83  ...             0             0        0\n",
              "391765    15000.0           1     29.96  ...             0             0        0\n",
              "391766    22750.0           0     23.91  ...             0             0        0\n",
              "391767    24000.0           1     24.11  ...             0             0        0\n",
              "391768    20000.0           1     20.48  ...             0             0        0\n",
              "\n",
              "[391769 rows x 44 columns]"
            ]
          },
          "metadata": {},
          "execution_count": 54
        }
      ]
    },
    {
      "cell_type": "markdown",
      "metadata": {
        "id": "uacGauupdW2o"
      },
      "source": [
        "## Replace 'initial_list_status' with 1 & 0"
      ]
    },
    {
      "cell_type": "code",
      "metadata": {
        "colab": {
          "base_uri": "https://localhost:8080/"
        },
        "id": "VSxMnySlQA3R",
        "outputId": "b60f0972-e06d-48f3-fbb4-5ec6b894ffee"
      },
      "source": [
        "df['initial_list_status'].value_counts()"
      ],
      "execution_count": null,
      "outputs": [
        {
          "output_type": "execute_result",
          "data": {
            "text/plain": [
              "f    235747\n",
              "w    156022\n",
              "Name: initial_list_status, dtype: int64"
            ]
          },
          "metadata": {},
          "execution_count": 55
        }
      ]
    },
    {
      "cell_type": "code",
      "metadata": {
        "id": "daEfnsWHc_L6"
      },
      "source": [
        "dict_initial_list_stat = {'f':1,'w':0}"
      ],
      "execution_count": null,
      "outputs": []
    },
    {
      "cell_type": "code",
      "metadata": {
        "id": "hFEJ5KfXd-mL"
      },
      "source": [
        "df['initial_list_status']=df['initial_list_status'].apply(lambda i: dict_initial_list_stat[i])"
      ],
      "execution_count": null,
      "outputs": []
    },
    {
      "cell_type": "code",
      "metadata": {
        "colab": {
          "base_uri": "https://localhost:8080/",
          "height": 486
        },
        "id": "5_-EjLHIeL-j",
        "outputId": "a44822a9-444e-44e6-b7a4-558774ed1277"
      },
      "source": [
        "df.head()"
      ],
      "execution_count": null,
      "outputs": [
        {
          "output_type": "execute_result",
          "data": {
            "text/html": [
              "<div>\n",
              "<style scoped>\n",
              "    .dataframe tbody tr th:only-of-type {\n",
              "        vertical-align: middle;\n",
              "    }\n",
              "\n",
              "    .dataframe tbody tr th {\n",
              "        vertical-align: top;\n",
              "    }\n",
              "\n",
              "    .dataframe thead th {\n",
              "        text-align: right;\n",
              "    }\n",
              "</style>\n",
              "<table border=\"1\" class=\"dataframe\">\n",
              "  <thead>\n",
              "    <tr style=\"text-align: right;\">\n",
              "      <th></th>\n",
              "      <th>loan_amnt</th>\n",
              "      <th>60_mo_term</th>\n",
              "      <th>int_rate</th>\n",
              "      <th>installment</th>\n",
              "      <th>sub_grade</th>\n",
              "      <th>emp_length</th>\n",
              "      <th>annual_inc</th>\n",
              "      <th>issue_d</th>\n",
              "      <th>loan_status</th>\n",
              "      <th>dti</th>\n",
              "      <th>earliest_cr_line</th>\n",
              "      <th>open_acc</th>\n",
              "      <th>pub_rec</th>\n",
              "      <th>revol_bal</th>\n",
              "      <th>revol_util</th>\n",
              "      <th>total_acc</th>\n",
              "      <th>initial_list_status</th>\n",
              "      <th>application_type</th>\n",
              "      <th>mort_acc</th>\n",
              "      <th>pub_rec_bankruptcies</th>\n",
              "      <th>address</th>\n",
              "      <th>HO_ANY</th>\n",
              "      <th>HO_MORTGAGE</th>\n",
              "      <th>HO_NONE</th>\n",
              "      <th>HO_OTHER</th>\n",
              "      <th>HO_OWN</th>\n",
              "      <th>HO_RENT</th>\n",
              "      <th>VS_Not Verified</th>\n",
              "      <th>VS_Source Verified</th>\n",
              "      <th>VS_Verified</th>\n",
              "      <th>PPS_car</th>\n",
              "      <th>PPS_cc</th>\n",
              "      <th>PPS_debtcons</th>\n",
              "      <th>PPS_edu</th>\n",
              "      <th>PPS_homeimp</th>\n",
              "      <th>PPS_house</th>\n",
              "      <th>PPS_majorprc</th>\n",
              "      <th>PPS_medical</th>\n",
              "      <th>PPS_moving</th>\n",
              "      <th>PPS_other</th>\n",
              "      <th>PPS_reneweng</th>\n",
              "      <th>PPS_smallbus</th>\n",
              "      <th>PPS_vacation</th>\n",
              "      <th>PPS_wedd</th>\n",
              "    </tr>\n",
              "  </thead>\n",
              "  <tbody>\n",
              "    <tr>\n",
              "      <th>0</th>\n",
              "      <td>35000.0</td>\n",
              "      <td>0</td>\n",
              "      <td>25.83</td>\n",
              "      <td>1407.01</td>\n",
              "      <td>32</td>\n",
              "      <td>10+ years</td>\n",
              "      <td>165800.0</td>\n",
              "      <td>Mar-2014</td>\n",
              "      <td>1</td>\n",
              "      <td>7.42</td>\n",
              "      <td>Jul-2005</td>\n",
              "      <td>5.0</td>\n",
              "      <td>0.0</td>\n",
              "      <td>16521.0</td>\n",
              "      <td>153.0</td>\n",
              "      <td>5.0</td>\n",
              "      <td>1</td>\n",
              "      <td>INDIVIDUAL</td>\n",
              "      <td>0.0</td>\n",
              "      <td>0.0</td>\n",
              "      <td>7421 Pamela Pines Suite 835\\nSouth Kyletown, O...</td>\n",
              "      <td>0</td>\n",
              "      <td>0</td>\n",
              "      <td>0</td>\n",
              "      <td>0</td>\n",
              "      <td>0</td>\n",
              "      <td>1</td>\n",
              "      <td>0</td>\n",
              "      <td>0</td>\n",
              "      <td>1</td>\n",
              "      <td>0</td>\n",
              "      <td>0</td>\n",
              "      <td>1</td>\n",
              "      <td>0</td>\n",
              "      <td>0</td>\n",
              "      <td>0</td>\n",
              "      <td>0</td>\n",
              "      <td>0</td>\n",
              "      <td>0</td>\n",
              "      <td>0</td>\n",
              "      <td>0</td>\n",
              "      <td>0</td>\n",
              "      <td>0</td>\n",
              "      <td>0</td>\n",
              "    </tr>\n",
              "    <tr>\n",
              "      <th>1</th>\n",
              "      <td>12000.0</td>\n",
              "      <td>1</td>\n",
              "      <td>16.55</td>\n",
              "      <td>295.34</td>\n",
              "      <td>17</td>\n",
              "      <td>NaN</td>\n",
              "      <td>45600.0</td>\n",
              "      <td>Nov-2015</td>\n",
              "      <td>1</td>\n",
              "      <td>38.98</td>\n",
              "      <td>Apr-2002</td>\n",
              "      <td>5.0</td>\n",
              "      <td>0.0</td>\n",
              "      <td>13880.0</td>\n",
              "      <td>152.5</td>\n",
              "      <td>11.0</td>\n",
              "      <td>1</td>\n",
              "      <td>INDIVIDUAL</td>\n",
              "      <td>5.0</td>\n",
              "      <td>0.0</td>\n",
              "      <td>595 Hall Flat\\nPort Heatherbury, NE 48052</td>\n",
              "      <td>0</td>\n",
              "      <td>1</td>\n",
              "      <td>0</td>\n",
              "      <td>0</td>\n",
              "      <td>0</td>\n",
              "      <td>0</td>\n",
              "      <td>0</td>\n",
              "      <td>0</td>\n",
              "      <td>1</td>\n",
              "      <td>0</td>\n",
              "      <td>0</td>\n",
              "      <td>0</td>\n",
              "      <td>0</td>\n",
              "      <td>0</td>\n",
              "      <td>0</td>\n",
              "      <td>0</td>\n",
              "      <td>0</td>\n",
              "      <td>0</td>\n",
              "      <td>1</td>\n",
              "      <td>0</td>\n",
              "      <td>0</td>\n",
              "      <td>0</td>\n",
              "      <td>0</td>\n",
              "    </tr>\n",
              "    <tr>\n",
              "      <th>2</th>\n",
              "      <td>10000.0</td>\n",
              "      <td>0</td>\n",
              "      <td>14.16</td>\n",
              "      <td>342.56</td>\n",
              "      <td>12</td>\n",
              "      <td>10+ years</td>\n",
              "      <td>91000.0</td>\n",
              "      <td>Apr-2014</td>\n",
              "      <td>1</td>\n",
              "      <td>20.94</td>\n",
              "      <td>Jul-1997</td>\n",
              "      <td>9.0</td>\n",
              "      <td>0.0</td>\n",
              "      <td>9344.0</td>\n",
              "      <td>150.7</td>\n",
              "      <td>37.0</td>\n",
              "      <td>1</td>\n",
              "      <td>INDIVIDUAL</td>\n",
              "      <td>6.0</td>\n",
              "      <td>0.0</td>\n",
              "      <td>159 Melanie Rue Suite 337\\nJenniferview, WI 70466</td>\n",
              "      <td>0</td>\n",
              "      <td>0</td>\n",
              "      <td>0</td>\n",
              "      <td>0</td>\n",
              "      <td>1</td>\n",
              "      <td>0</td>\n",
              "      <td>1</td>\n",
              "      <td>0</td>\n",
              "      <td>0</td>\n",
              "      <td>0</td>\n",
              "      <td>0</td>\n",
              "      <td>1</td>\n",
              "      <td>0</td>\n",
              "      <td>0</td>\n",
              "      <td>0</td>\n",
              "      <td>0</td>\n",
              "      <td>0</td>\n",
              "      <td>0</td>\n",
              "      <td>0</td>\n",
              "      <td>0</td>\n",
              "      <td>0</td>\n",
              "      <td>0</td>\n",
              "      <td>0</td>\n",
              "    </tr>\n",
              "    <tr>\n",
              "      <th>3</th>\n",
              "      <td>25000.0</td>\n",
              "      <td>1</td>\n",
              "      <td>20.49</td>\n",
              "      <td>669.19</td>\n",
              "      <td>22</td>\n",
              "      <td>5 years</td>\n",
              "      <td>100000.0</td>\n",
              "      <td>Apr-2014</td>\n",
              "      <td>0</td>\n",
              "      <td>15.16</td>\n",
              "      <td>Nov-2001</td>\n",
              "      <td>5.0</td>\n",
              "      <td>0.0</td>\n",
              "      <td>20133.0</td>\n",
              "      <td>148.0</td>\n",
              "      <td>7.0</td>\n",
              "      <td>0</td>\n",
              "      <td>INDIVIDUAL</td>\n",
              "      <td>0.0</td>\n",
              "      <td>0.0</td>\n",
              "      <td>175 Martinez Corners Apt. 773\\nNicholsland, VA...</td>\n",
              "      <td>0</td>\n",
              "      <td>0</td>\n",
              "      <td>0</td>\n",
              "      <td>0</td>\n",
              "      <td>0</td>\n",
              "      <td>1</td>\n",
              "      <td>0</td>\n",
              "      <td>1</td>\n",
              "      <td>0</td>\n",
              "      <td>0</td>\n",
              "      <td>0</td>\n",
              "      <td>1</td>\n",
              "      <td>0</td>\n",
              "      <td>0</td>\n",
              "      <td>0</td>\n",
              "      <td>0</td>\n",
              "      <td>0</td>\n",
              "      <td>0</td>\n",
              "      <td>0</td>\n",
              "      <td>0</td>\n",
              "      <td>0</td>\n",
              "      <td>0</td>\n",
              "      <td>0</td>\n",
              "    </tr>\n",
              "    <tr>\n",
              "      <th>4</th>\n",
              "      <td>12600.0</td>\n",
              "      <td>0</td>\n",
              "      <td>8.39</td>\n",
              "      <td>397.11</td>\n",
              "      <td>5</td>\n",
              "      <td>8 years</td>\n",
              "      <td>96011.0</td>\n",
              "      <td>Oct-2014</td>\n",
              "      <td>1</td>\n",
              "      <td>11.56</td>\n",
              "      <td>Apr-1981</td>\n",
              "      <td>9.0</td>\n",
              "      <td>0.0</td>\n",
              "      <td>20033.0</td>\n",
              "      <td>146.1</td>\n",
              "      <td>22.0</td>\n",
              "      <td>0</td>\n",
              "      <td>INDIVIDUAL</td>\n",
              "      <td>4.0</td>\n",
              "      <td>0.0</td>\n",
              "      <td>47969 Davis Divide Suite 571\\nLake Daniel, OK ...</td>\n",
              "      <td>0</td>\n",
              "      <td>1</td>\n",
              "      <td>0</td>\n",
              "      <td>0</td>\n",
              "      <td>0</td>\n",
              "      <td>0</td>\n",
              "      <td>1</td>\n",
              "      <td>0</td>\n",
              "      <td>0</td>\n",
              "      <td>0</td>\n",
              "      <td>0</td>\n",
              "      <td>1</td>\n",
              "      <td>0</td>\n",
              "      <td>0</td>\n",
              "      <td>0</td>\n",
              "      <td>0</td>\n",
              "      <td>0</td>\n",
              "      <td>0</td>\n",
              "      <td>0</td>\n",
              "      <td>0</td>\n",
              "      <td>0</td>\n",
              "      <td>0</td>\n",
              "      <td>0</td>\n",
              "    </tr>\n",
              "  </tbody>\n",
              "</table>\n",
              "</div>"
            ],
            "text/plain": [
              "   loan_amnt  60_mo_term  int_rate  ...  PPS_smallbus  PPS_vacation PPS_wedd\n",
              "0    35000.0           0     25.83  ...             0             0        0\n",
              "1    12000.0           1     16.55  ...             0             0        0\n",
              "2    10000.0           0     14.16  ...             0             0        0\n",
              "3    25000.0           1     20.49  ...             0             0        0\n",
              "4    12600.0           0      8.39  ...             0             0        0\n",
              "\n",
              "[5 rows x 44 columns]"
            ]
          },
          "metadata": {},
          "execution_count": 58
        }
      ]
    },
    {
      "cell_type": "markdown",
      "metadata": {
        "id": "8NIhTokReTti"
      },
      "source": [
        "## Replace 'application_type' with 1s & 0s"
      ]
    },
    {
      "cell_type": "code",
      "metadata": {
        "colab": {
          "base_uri": "https://localhost:8080/"
        },
        "id": "VZCHrGcLeMzB",
        "outputId": "34078385-d257-49e5-aace-4eff912f62b7"
      },
      "source": [
        "df['application_type'].unique()"
      ],
      "execution_count": null,
      "outputs": [
        {
          "output_type": "execute_result",
          "data": {
            "text/plain": [
              "array(['INDIVIDUAL', 'JOINT', 'DIRECT_PAY'], dtype=object)"
            ]
          },
          "metadata": {},
          "execution_count": 59
        }
      ]
    },
    {
      "cell_type": "code",
      "metadata": {
        "id": "BWazUTYVecan"
      },
      "source": [
        "cat_app_type = pd.get_dummies(df['application_type'])\n",
        "cat_app_type.rename(columns={'INDIVIDUAL':'APP_INDIVIDUAL', 'JOINT':'APP_JOINT', \n",
        "                            'DIRECT_PAY':'APP_DIRECTPAY'},inplace=True)"
      ],
      "execution_count": null,
      "outputs": []
    },
    {
      "cell_type": "code",
      "metadata": {
        "id": "NB61lBnvfGW5"
      },
      "source": [
        "df = pd.concat([df,cat_app_type],axis=1)\n",
        "df = df.drop('application_type',axis=1)"
      ],
      "execution_count": null,
      "outputs": []
    },
    {
      "cell_type": "code",
      "metadata": {
        "colab": {
          "base_uri": "https://localhost:8080/",
          "height": 486
        },
        "id": "hnetqX9MfNYt",
        "outputId": "9e0a3181-647b-4c1b-ed23-e305256e340d"
      },
      "source": [
        "df.head()"
      ],
      "execution_count": null,
      "outputs": [
        {
          "output_type": "execute_result",
          "data": {
            "text/html": [
              "<div>\n",
              "<style scoped>\n",
              "    .dataframe tbody tr th:only-of-type {\n",
              "        vertical-align: middle;\n",
              "    }\n",
              "\n",
              "    .dataframe tbody tr th {\n",
              "        vertical-align: top;\n",
              "    }\n",
              "\n",
              "    .dataframe thead th {\n",
              "        text-align: right;\n",
              "    }\n",
              "</style>\n",
              "<table border=\"1\" class=\"dataframe\">\n",
              "  <thead>\n",
              "    <tr style=\"text-align: right;\">\n",
              "      <th></th>\n",
              "      <th>loan_amnt</th>\n",
              "      <th>60_mo_term</th>\n",
              "      <th>int_rate</th>\n",
              "      <th>installment</th>\n",
              "      <th>sub_grade</th>\n",
              "      <th>emp_length</th>\n",
              "      <th>annual_inc</th>\n",
              "      <th>issue_d</th>\n",
              "      <th>loan_status</th>\n",
              "      <th>dti</th>\n",
              "      <th>earliest_cr_line</th>\n",
              "      <th>open_acc</th>\n",
              "      <th>pub_rec</th>\n",
              "      <th>revol_bal</th>\n",
              "      <th>revol_util</th>\n",
              "      <th>total_acc</th>\n",
              "      <th>initial_list_status</th>\n",
              "      <th>mort_acc</th>\n",
              "      <th>pub_rec_bankruptcies</th>\n",
              "      <th>address</th>\n",
              "      <th>HO_ANY</th>\n",
              "      <th>HO_MORTGAGE</th>\n",
              "      <th>HO_NONE</th>\n",
              "      <th>HO_OTHER</th>\n",
              "      <th>HO_OWN</th>\n",
              "      <th>HO_RENT</th>\n",
              "      <th>VS_Not Verified</th>\n",
              "      <th>VS_Source Verified</th>\n",
              "      <th>VS_Verified</th>\n",
              "      <th>PPS_car</th>\n",
              "      <th>PPS_cc</th>\n",
              "      <th>PPS_debtcons</th>\n",
              "      <th>PPS_edu</th>\n",
              "      <th>PPS_homeimp</th>\n",
              "      <th>PPS_house</th>\n",
              "      <th>PPS_majorprc</th>\n",
              "      <th>PPS_medical</th>\n",
              "      <th>PPS_moving</th>\n",
              "      <th>PPS_other</th>\n",
              "      <th>PPS_reneweng</th>\n",
              "      <th>PPS_smallbus</th>\n",
              "      <th>PPS_vacation</th>\n",
              "      <th>PPS_wedd</th>\n",
              "      <th>APP_DIRECTPAY</th>\n",
              "      <th>APP_INDIVIDUAL</th>\n",
              "      <th>APP_JOINT</th>\n",
              "    </tr>\n",
              "  </thead>\n",
              "  <tbody>\n",
              "    <tr>\n",
              "      <th>0</th>\n",
              "      <td>35000.0</td>\n",
              "      <td>0</td>\n",
              "      <td>25.83</td>\n",
              "      <td>1407.01</td>\n",
              "      <td>32</td>\n",
              "      <td>10+ years</td>\n",
              "      <td>165800.0</td>\n",
              "      <td>Mar-2014</td>\n",
              "      <td>1</td>\n",
              "      <td>7.42</td>\n",
              "      <td>Jul-2005</td>\n",
              "      <td>5.0</td>\n",
              "      <td>0.0</td>\n",
              "      <td>16521.0</td>\n",
              "      <td>153.0</td>\n",
              "      <td>5.0</td>\n",
              "      <td>1</td>\n",
              "      <td>0.0</td>\n",
              "      <td>0.0</td>\n",
              "      <td>7421 Pamela Pines Suite 835\\nSouth Kyletown, O...</td>\n",
              "      <td>0</td>\n",
              "      <td>0</td>\n",
              "      <td>0</td>\n",
              "      <td>0</td>\n",
              "      <td>0</td>\n",
              "      <td>1</td>\n",
              "      <td>0</td>\n",
              "      <td>0</td>\n",
              "      <td>1</td>\n",
              "      <td>0</td>\n",
              "      <td>0</td>\n",
              "      <td>1</td>\n",
              "      <td>0</td>\n",
              "      <td>0</td>\n",
              "      <td>0</td>\n",
              "      <td>0</td>\n",
              "      <td>0</td>\n",
              "      <td>0</td>\n",
              "      <td>0</td>\n",
              "      <td>0</td>\n",
              "      <td>0</td>\n",
              "      <td>0</td>\n",
              "      <td>0</td>\n",
              "      <td>0</td>\n",
              "      <td>1</td>\n",
              "      <td>0</td>\n",
              "    </tr>\n",
              "    <tr>\n",
              "      <th>1</th>\n",
              "      <td>12000.0</td>\n",
              "      <td>1</td>\n",
              "      <td>16.55</td>\n",
              "      <td>295.34</td>\n",
              "      <td>17</td>\n",
              "      <td>NaN</td>\n",
              "      <td>45600.0</td>\n",
              "      <td>Nov-2015</td>\n",
              "      <td>1</td>\n",
              "      <td>38.98</td>\n",
              "      <td>Apr-2002</td>\n",
              "      <td>5.0</td>\n",
              "      <td>0.0</td>\n",
              "      <td>13880.0</td>\n",
              "      <td>152.5</td>\n",
              "      <td>11.0</td>\n",
              "      <td>1</td>\n",
              "      <td>5.0</td>\n",
              "      <td>0.0</td>\n",
              "      <td>595 Hall Flat\\nPort Heatherbury, NE 48052</td>\n",
              "      <td>0</td>\n",
              "      <td>1</td>\n",
              "      <td>0</td>\n",
              "      <td>0</td>\n",
              "      <td>0</td>\n",
              "      <td>0</td>\n",
              "      <td>0</td>\n",
              "      <td>0</td>\n",
              "      <td>1</td>\n",
              "      <td>0</td>\n",
              "      <td>0</td>\n",
              "      <td>0</td>\n",
              "      <td>0</td>\n",
              "      <td>0</td>\n",
              "      <td>0</td>\n",
              "      <td>0</td>\n",
              "      <td>0</td>\n",
              "      <td>0</td>\n",
              "      <td>1</td>\n",
              "      <td>0</td>\n",
              "      <td>0</td>\n",
              "      <td>0</td>\n",
              "      <td>0</td>\n",
              "      <td>0</td>\n",
              "      <td>1</td>\n",
              "      <td>0</td>\n",
              "    </tr>\n",
              "    <tr>\n",
              "      <th>2</th>\n",
              "      <td>10000.0</td>\n",
              "      <td>0</td>\n",
              "      <td>14.16</td>\n",
              "      <td>342.56</td>\n",
              "      <td>12</td>\n",
              "      <td>10+ years</td>\n",
              "      <td>91000.0</td>\n",
              "      <td>Apr-2014</td>\n",
              "      <td>1</td>\n",
              "      <td>20.94</td>\n",
              "      <td>Jul-1997</td>\n",
              "      <td>9.0</td>\n",
              "      <td>0.0</td>\n",
              "      <td>9344.0</td>\n",
              "      <td>150.7</td>\n",
              "      <td>37.0</td>\n",
              "      <td>1</td>\n",
              "      <td>6.0</td>\n",
              "      <td>0.0</td>\n",
              "      <td>159 Melanie Rue Suite 337\\nJenniferview, WI 70466</td>\n",
              "      <td>0</td>\n",
              "      <td>0</td>\n",
              "      <td>0</td>\n",
              "      <td>0</td>\n",
              "      <td>1</td>\n",
              "      <td>0</td>\n",
              "      <td>1</td>\n",
              "      <td>0</td>\n",
              "      <td>0</td>\n",
              "      <td>0</td>\n",
              "      <td>0</td>\n",
              "      <td>1</td>\n",
              "      <td>0</td>\n",
              "      <td>0</td>\n",
              "      <td>0</td>\n",
              "      <td>0</td>\n",
              "      <td>0</td>\n",
              "      <td>0</td>\n",
              "      <td>0</td>\n",
              "      <td>0</td>\n",
              "      <td>0</td>\n",
              "      <td>0</td>\n",
              "      <td>0</td>\n",
              "      <td>0</td>\n",
              "      <td>1</td>\n",
              "      <td>0</td>\n",
              "    </tr>\n",
              "    <tr>\n",
              "      <th>3</th>\n",
              "      <td>25000.0</td>\n",
              "      <td>1</td>\n",
              "      <td>20.49</td>\n",
              "      <td>669.19</td>\n",
              "      <td>22</td>\n",
              "      <td>5 years</td>\n",
              "      <td>100000.0</td>\n",
              "      <td>Apr-2014</td>\n",
              "      <td>0</td>\n",
              "      <td>15.16</td>\n",
              "      <td>Nov-2001</td>\n",
              "      <td>5.0</td>\n",
              "      <td>0.0</td>\n",
              "      <td>20133.0</td>\n",
              "      <td>148.0</td>\n",
              "      <td>7.0</td>\n",
              "      <td>0</td>\n",
              "      <td>0.0</td>\n",
              "      <td>0.0</td>\n",
              "      <td>175 Martinez Corners Apt. 773\\nNicholsland, VA...</td>\n",
              "      <td>0</td>\n",
              "      <td>0</td>\n",
              "      <td>0</td>\n",
              "      <td>0</td>\n",
              "      <td>0</td>\n",
              "      <td>1</td>\n",
              "      <td>0</td>\n",
              "      <td>1</td>\n",
              "      <td>0</td>\n",
              "      <td>0</td>\n",
              "      <td>0</td>\n",
              "      <td>1</td>\n",
              "      <td>0</td>\n",
              "      <td>0</td>\n",
              "      <td>0</td>\n",
              "      <td>0</td>\n",
              "      <td>0</td>\n",
              "      <td>0</td>\n",
              "      <td>0</td>\n",
              "      <td>0</td>\n",
              "      <td>0</td>\n",
              "      <td>0</td>\n",
              "      <td>0</td>\n",
              "      <td>0</td>\n",
              "      <td>1</td>\n",
              "      <td>0</td>\n",
              "    </tr>\n",
              "    <tr>\n",
              "      <th>4</th>\n",
              "      <td>12600.0</td>\n",
              "      <td>0</td>\n",
              "      <td>8.39</td>\n",
              "      <td>397.11</td>\n",
              "      <td>5</td>\n",
              "      <td>8 years</td>\n",
              "      <td>96011.0</td>\n",
              "      <td>Oct-2014</td>\n",
              "      <td>1</td>\n",
              "      <td>11.56</td>\n",
              "      <td>Apr-1981</td>\n",
              "      <td>9.0</td>\n",
              "      <td>0.0</td>\n",
              "      <td>20033.0</td>\n",
              "      <td>146.1</td>\n",
              "      <td>22.0</td>\n",
              "      <td>0</td>\n",
              "      <td>4.0</td>\n",
              "      <td>0.0</td>\n",
              "      <td>47969 Davis Divide Suite 571\\nLake Daniel, OK ...</td>\n",
              "      <td>0</td>\n",
              "      <td>1</td>\n",
              "      <td>0</td>\n",
              "      <td>0</td>\n",
              "      <td>0</td>\n",
              "      <td>0</td>\n",
              "      <td>1</td>\n",
              "      <td>0</td>\n",
              "      <td>0</td>\n",
              "      <td>0</td>\n",
              "      <td>0</td>\n",
              "      <td>1</td>\n",
              "      <td>0</td>\n",
              "      <td>0</td>\n",
              "      <td>0</td>\n",
              "      <td>0</td>\n",
              "      <td>0</td>\n",
              "      <td>0</td>\n",
              "      <td>0</td>\n",
              "      <td>0</td>\n",
              "      <td>0</td>\n",
              "      <td>0</td>\n",
              "      <td>0</td>\n",
              "      <td>0</td>\n",
              "      <td>1</td>\n",
              "      <td>0</td>\n",
              "    </tr>\n",
              "  </tbody>\n",
              "</table>\n",
              "</div>"
            ],
            "text/plain": [
              "   loan_amnt  60_mo_term  int_rate  ...  APP_DIRECTPAY  APP_INDIVIDUAL APP_JOINT\n",
              "0    35000.0           0     25.83  ...              0               1         0\n",
              "1    12000.0           1     16.55  ...              0               1         0\n",
              "2    10000.0           0     14.16  ...              0               1         0\n",
              "3    25000.0           1     20.49  ...              0               1         0\n",
              "4    12600.0           0      8.39  ...              0               1         0\n",
              "\n",
              "[5 rows x 46 columns]"
            ]
          },
          "metadata": {},
          "execution_count": 62
        }
      ]
    },
    {
      "cell_type": "markdown",
      "metadata": {
        "id": "0i5g-xpacxwc"
      },
      "source": [
        "## Drop 'address'"
      ]
    },
    {
      "cell_type": "code",
      "metadata": {
        "id": "vTS7rik7c87O"
      },
      "source": [
        "# after looking at the data, there's 54 states, and it's distributed normally\n",
        "# at around 6800 data for each states, except 2 states.\n",
        "# it seems doesn't give much impact if we use categorical into 54 states."
      ],
      "execution_count": null,
      "outputs": []
    },
    {
      "cell_type": "code",
      "metadata": {
        "id": "ZK6Vr6zzc3W2"
      },
      "source": [
        "df = df.drop('address',axis=1)"
      ],
      "execution_count": null,
      "outputs": []
    },
    {
      "cell_type": "markdown",
      "metadata": {
        "id": "JoedTeB-k-td"
      },
      "source": [
        "## Impute 'emp_length' using SimpleImputer"
      ]
    },
    {
      "cell_type": "markdown",
      "metadata": {
        "id": "wc4yDStTHjIH"
      },
      "source": [
        "1.   Look at the data, which to impute\n",
        "2.   Normalize the data (non-binary)\n",
        "3.   Start impute with simpleimputer\n",
        "\n",
        "Source\n",
        "\n",
        "https://scikit-learn.org/stable/modules/impute.html\n",
        "\n",
        "https://medium.com/@kyawsawhtoon/a-guide-to-knn-imputation-95e2dc496e"
      ]
    },
    {
      "cell_type": "markdown",
      "metadata": {
        "id": "cnT0C9X6H8w9"
      },
      "source": [
        "### 1. Look at the data, which to impute"
      ]
    },
    {
      "cell_type": "code",
      "metadata": {
        "colab": {
          "base_uri": "https://localhost:8080/"
        },
        "id": "l-ycCoO5fOpB",
        "outputId": "88857d6e-83c2-4bd9-ab75-e453dee5c15a"
      },
      "source": [
        "df.info()"
      ],
      "execution_count": null,
      "outputs": [
        {
          "output_type": "stream",
          "name": "stdout",
          "text": [
            "<class 'pandas.core.frame.DataFrame'>\n",
            "RangeIndex: 391769 entries, 0 to 391768\n",
            "Data columns (total 45 columns):\n",
            " #   Column                Non-Null Count   Dtype  \n",
            "---  ------                --------------   -----  \n",
            " 0   loan_amnt             391769 non-null  float64\n",
            " 1   60_mo_term            391769 non-null  int8   \n",
            " 2   int_rate              391769 non-null  float64\n",
            " 3   installment           391769 non-null  float64\n",
            " 4   sub_grade             391769 non-null  int64  \n",
            " 5   emp_length            373507 non-null  object \n",
            " 6   annual_inc            391769 non-null  float64\n",
            " 7   issue_d               391769 non-null  object \n",
            " 8   loan_status           391769 non-null  int64  \n",
            " 9   dti                   391769 non-null  float64\n",
            " 10  earliest_cr_line      391769 non-null  object \n",
            " 11  open_acc              391769 non-null  float64\n",
            " 12  pub_rec               391769 non-null  float64\n",
            " 13  revol_bal             391769 non-null  float64\n",
            " 14  revol_util            391502 non-null  float64\n",
            " 15  total_acc             391769 non-null  float64\n",
            " 16  initial_list_status   391769 non-null  int64  \n",
            " 17  mort_acc              354308 non-null  float64\n",
            " 18  pub_rec_bankruptcies  391238 non-null  float64\n",
            " 19  HO_ANY                391769 non-null  uint8  \n",
            " 20  HO_MORTGAGE           391769 non-null  uint8  \n",
            " 21  HO_NONE               391769 non-null  uint8  \n",
            " 22  HO_OTHER              391769 non-null  uint8  \n",
            " 23  HO_OWN                391769 non-null  uint8  \n",
            " 24  HO_RENT               391769 non-null  uint8  \n",
            " 25  VS_Not Verified       391769 non-null  uint8  \n",
            " 26  VS_Source Verified    391769 non-null  uint8  \n",
            " 27  VS_Verified           391769 non-null  uint8  \n",
            " 28  PPS_car               391769 non-null  uint8  \n",
            " 29  PPS_cc                391769 non-null  uint8  \n",
            " 30  PPS_debtcons          391769 non-null  uint8  \n",
            " 31  PPS_edu               391769 non-null  uint8  \n",
            " 32  PPS_homeimp           391769 non-null  uint8  \n",
            " 33  PPS_house             391769 non-null  uint8  \n",
            " 34  PPS_majorprc          391769 non-null  uint8  \n",
            " 35  PPS_medical           391769 non-null  uint8  \n",
            " 36  PPS_moving            391769 non-null  uint8  \n",
            " 37  PPS_other             391769 non-null  uint8  \n",
            " 38  PPS_reneweng          391769 non-null  uint8  \n",
            " 39  PPS_smallbus          391769 non-null  uint8  \n",
            " 40  PPS_vacation          391769 non-null  uint8  \n",
            " 41  PPS_wedd              391769 non-null  uint8  \n",
            " 42  APP_DIRECTPAY         391769 non-null  uint8  \n",
            " 43  APP_INDIVIDUAL        391769 non-null  uint8  \n",
            " 44  APP_JOINT             391769 non-null  uint8  \n",
            "dtypes: float64(12), int64(3), int8(1), object(3), uint8(26)\n",
            "memory usage: 63.9+ MB\n"
          ]
        }
      ]
    },
    {
      "cell_type": "code",
      "metadata": {
        "colab": {
          "base_uri": "https://localhost:8080/"
        },
        "id": "zIwwP9Yypzlm",
        "outputId": "41bf4287-3c45-42ff-b695-786c52445edb"
      },
      "source": [
        "# count how many null values\n",
        "df['emp_length'].isnull().sum()"
      ],
      "execution_count": null,
      "outputs": [
        {
          "output_type": "execute_result",
          "data": {
            "text/plain": [
              "18262"
            ]
          },
          "metadata": {},
          "execution_count": 65
        }
      ]
    },
    {
      "cell_type": "code",
      "metadata": {
        "id": "DIvijsIioIez",
        "colab": {
          "base_uri": "https://localhost:8080/",
          "height": 283
        },
        "outputId": "9ff81027-a003-4751-c00b-95effc330ff2"
      },
      "source": [
        "df['emp_length'].value_counts().plot()"
      ],
      "execution_count": null,
      "outputs": [
        {
          "output_type": "execute_result",
          "data": {
            "text/plain": [
              "<matplotlib.axes._subplots.AxesSubplot at 0x7f85729b6110>"
            ]
          },
          "metadata": {},
          "execution_count": 66
        },
        {
          "output_type": "display_data",
          "data": {
            "image/png": "[encoded data removed]",
            "text/plain": [
              "<Figure size 432x288 with 1 Axes>"
            ]
          },
          "metadata": {
            "needs_background": "light"
          }
        }
      ]
    },
    {
      "cell_type": "code",
      "metadata": {
        "colab": {
          "base_uri": "https://localhost:8080/"
        },
        "id": "DXLct4EBg8B2",
        "outputId": "25d44bff-4ba2-4de1-ceb8-7269d1e204a4"
      },
      "source": [
        "# there's 'nan' a.k.a null data\n",
        "df['emp_length'].unique()"
      ],
      "execution_count": null,
      "outputs": [
        {
          "output_type": "execute_result",
          "data": {
            "text/plain": [
              "array(['10+ years', nan, '5 years', '8 years', '4 years', '2 years',\n",
              "       '6 years', '< 1 year', '7 years', '3 years', '9 years', '1 year'],\n",
              "      dtype=object)"
            ]
          },
          "metadata": {},
          "execution_count": 67
        }
      ]
    },
    {
      "cell_type": "code",
      "metadata": {
        "id": "gknjZA3TML_V"
      },
      "source": [
        "dict_emplength = {'10+ years':1, '4 years':2, '< 1 year':3, '6 years':4, '9 years':5,\n",
        "                  '2 years':6, '3 years':7, '8 years':8, '7 years':9, '5 years':10, '1 year':11}"
      ],
      "execution_count": null,
      "outputs": []
    },
    {
      "cell_type": "code",
      "metadata": {
        "id": "gTs0lF-0mw20"
      },
      "source": [
        "impute_df = df"
      ],
      "execution_count": null,
      "outputs": []
    },
    {
      "cell_type": "code",
      "metadata": {
        "id": "XvR_jMbgsDe0"
      },
      "source": [
        "# drop the date, only for impute\n",
        "impute_df = impute_df.drop('issue_d',axis=1)\n",
        "impute_df = impute_df.drop('earliest_cr_line',axis=1)"
      ],
      "execution_count": null,
      "outputs": []
    },
    {
      "cell_type": "code",
      "metadata": {
        "colab": {
          "base_uri": "https://localhost:8080/"
        },
        "id": "qr1ZiIDushgI",
        "outputId": "fe4995ae-da6f-40d2-bc96-0d7daf3f6844"
      },
      "source": [
        "impute_df['emp_length'].isnull().sum()"
      ],
      "execution_count": null,
      "outputs": [
        {
          "output_type": "execute_result",
          "data": {
            "text/plain": [
              "18262"
            ]
          },
          "metadata": {},
          "execution_count": 71
        }
      ]
    },
    {
      "cell_type": "markdown",
      "metadata": {
        "id": "KY7_GEzFHJ8y"
      },
      "source": [
        "### **(NOT USED)** Test_df for convert 'emp_length' to numerical with NaN intact"
      ]
    },
    {
      "cell_type": "markdown",
      "metadata": {
        "id": "rH6m8w1FNHD0"
      },
      "source": [
        "I'm not going to use it, but let's save this steps"
      ]
    },
    {
      "cell_type": "code",
      "metadata": {
        "id": "JvEkJOlkQyKb"
      },
      "source": [
        "#test_df = pd.DataFrame(impute_df['emp_length'])"
      ],
      "execution_count": null,
      "outputs": []
    },
    {
      "cell_type": "code",
      "metadata": {
        "id": "FT8tU9rSNrSN"
      },
      "source": [
        "# check if it's nan\n",
        "#np.isnan(test_df['emp_length'][35])==True"
      ],
      "execution_count": null,
      "outputs": []
    },
    {
      "cell_type": "code",
      "metadata": {
        "id": "Td2QSlzCSMOM"
      },
      "source": [
        "# check if it's a str\n",
        "#print(type(test_df['emp_length'][1])==str)\n",
        "# check if NaN is float\n",
        "#print(type(test_df['emp_length'][35]))"
      ],
      "execution_count": null,
      "outputs": []
    },
    {
      "cell_type": "code",
      "metadata": {
        "id": "bJdDpzRpJPFu"
      },
      "source": [
        "# df['loan_status']=df['loan_status'].apply(lambda i: i+1 if i==0 else i-1)\n",
        "#test_df['num_emp']=test_df['emp_length'].apply(lambda i: dict_emplength[i] if type(i)==str else i)"
      ],
      "execution_count": null,
      "outputs": []
    },
    {
      "cell_type": "code",
      "metadata": {
        "id": "_4p7WJUwFw63"
      },
      "source": [
        "#test_df.isnull().sum()"
      ],
      "execution_count": null,
      "outputs": []
    },
    {
      "cell_type": "markdown",
      "metadata": {
        "id": "vIEA53eFHPa1"
      },
      "source": [
        "### Impute with SimpleImputer"
      ]
    },
    {
      "cell_type": "code",
      "metadata": {
        "id": "mtlR8jJxshYF"
      },
      "source": [
        "# SimpleImputer can only works with 2 columns of data\n",
        "from sklearn.impute import SimpleImputer"
      ],
      "execution_count": null,
      "outputs": []
    },
    {
      "cell_type": "code",
      "metadata": {
        "id": "qk7YG0BDLjuK"
      },
      "source": [
        "simple = SimpleImputer(strategy=\"most_frequent\")"
      ],
      "execution_count": null,
      "outputs": []
    },
    {
      "cell_type": "code",
      "metadata": {
        "id": "5zKDHoqjLjsR"
      },
      "source": [
        "test_df = impute_df[['sub_grade','emp_length']]"
      ],
      "execution_count": null,
      "outputs": []
    },
    {
      "cell_type": "code",
      "metadata": {
        "id": "FL2ew9AuLjiv"
      },
      "source": [
        "# this'll result in array, not pd.DataFrame\n",
        "# it'll take quiet some time to impute\n",
        "test_df = simple.fit_transform(test_df)"
      ],
      "execution_count": null,
      "outputs": []
    },
    {
      "cell_type": "code",
      "metadata": {
        "id": "MEsfAfuRPOeM"
      },
      "source": [
        "test_df = pd.DataFrame(test_df,columns=('sub_grade','emp_length'))"
      ],
      "execution_count": null,
      "outputs": []
    },
    {
      "cell_type": "code",
      "metadata": {
        "colab": {
          "base_uri": "https://localhost:8080/"
        },
        "id": "0oy_l7hcPOZ4",
        "outputId": "86246d67-7b80-4596-9a44-b4257446a35f"
      },
      "source": [
        "# all missing data has been imputed\n",
        "test_df.isnull().sum()"
      ],
      "execution_count": null,
      "outputs": [
        {
          "output_type": "execute_result",
          "data": {
            "text/plain": [
              "sub_grade     0\n",
              "emp_length    0\n",
              "dtype: int64"
            ]
          },
          "metadata": {},
          "execution_count": 78
        }
      ]
    },
    {
      "cell_type": "code",
      "metadata": {
        "id": "M5bSDCNsPOS6"
      },
      "source": [
        "# back to df, replace the 'emp_length' columns with the test_df\n",
        "df['emp_length']= test_df['emp_length']"
      ],
      "execution_count": null,
      "outputs": []
    },
    {
      "cell_type": "code",
      "metadata": {
        "colab": {
          "base_uri": "https://localhost:8080/"
        },
        "id": "xbBnXTxTSYLn",
        "outputId": "7873e00f-9add-4892-9a68-bbb0341f144e"
      },
      "source": [
        "# Check if df 'emp_length' still has null\n",
        "df['emp_length'].isnull().sum()"
      ],
      "execution_count": null,
      "outputs": [
        {
          "output_type": "execute_result",
          "data": {
            "text/plain": [
              "0"
            ]
          },
          "metadata": {},
          "execution_count": 80
        }
      ]
    },
    {
      "cell_type": "code",
      "metadata": {
        "id": "S7nVh4BeSX5q"
      },
      "source": [
        ""
      ],
      "execution_count": null,
      "outputs": []
    },
    {
      "cell_type": "markdown",
      "metadata": {
        "id": "METTWLgbS4rI"
      },
      "source": [
        "### Replace 'emp_length' into categorical 1s & 0s"
      ]
    },
    {
      "cell_type": "code",
      "metadata": {
        "colab": {
          "base_uri": "https://localhost:8080/"
        },
        "id": "v7quSERkTdr6",
        "outputId": "d50bd66f-5536-43fe-ef2e-0fa8a0088382"
      },
      "source": [
        "df['emp_length'].unique()"
      ],
      "execution_count": null,
      "outputs": [
        {
          "output_type": "execute_result",
          "data": {
            "text/plain": [
              "array(['10+ years', '5 years', '8 years', '4 years', '2 years', '6 years',\n",
              "       '< 1 year', '7 years', '3 years', '9 years', '1 year'],\n",
              "      dtype=object)"
            ]
          },
          "metadata": {},
          "execution_count": 81
        }
      ]
    },
    {
      "cell_type": "code",
      "metadata": {
        "colab": {
          "base_uri": "https://localhost:8080/"
        },
        "id": "XX-gHdO-TLau",
        "outputId": "8adb300d-cb6f-4501-8a62-901a29ae87d8"
      },
      "source": [
        "cat_emplength = pd.get_dummies(df['emp_length'])\n",
        "cat_emplength.rename(columns={'10+ years':'EL_10+', '4 years':'EL_4', '< 1 year':'EL_less1', '6 years':'EL_6', \n",
        "                              '9 years':'EL_9','2 years':'EL_2', '3 years':'EL_3', '8 years':'EL_8', \n",
        "                              '7 years':'EL_7', '5 years':'EL_5', '1 year':'EL_1'},inplace=True)\n",
        "cat_emplength.head(2)"
      ],
      "execution_count": null,
      "outputs": [
        {
          "output_type": "execute_result",
          "data": {
            "text/html": [
              "<div>\n",
              "<style scoped>\n",
              "    .dataframe tbody tr th:only-of-type {\n",
              "        vertical-align: middle;\n",
              "    }\n",
              "\n",
              "    .dataframe tbody tr th {\n",
              "        vertical-align: top;\n",
              "    }\n",
              "\n",
              "    .dataframe thead th {\n",
              "        text-align: right;\n",
              "    }\n",
              "</style>\n",
              "<table border=\"1\" class=\"dataframe\">\n",
              "  <thead>\n",
              "    <tr style=\"text-align: right;\">\n",
              "      <th></th>\n",
              "      <th>EL_1</th>\n",
              "      <th>EL_10+</th>\n",
              "      <th>EL_2</th>\n",
              "      <th>EL_3</th>\n",
              "      <th>EL_4</th>\n",
              "      <th>EL_5</th>\n",
              "      <th>EL_6</th>\n",
              "      <th>EL_7</th>\n",
              "      <th>EL_8</th>\n",
              "      <th>EL_9</th>\n",
              "      <th>EL_less1</th>\n",
              "    </tr>\n",
              "  </thead>\n",
              "  <tbody>\n",
              "    <tr>\n",
              "      <th>0</th>\n",
              "      <td>0</td>\n",
              "      <td>1</td>\n",
              "      <td>0</td>\n",
              "      <td>0</td>\n",
              "      <td>0</td>\n",
              "      <td>0</td>\n",
              "      <td>0</td>\n",
              "      <td>0</td>\n",
              "      <td>0</td>\n",
              "      <td>0</td>\n",
              "      <td>0</td>\n",
              "    </tr>\n",
              "    <tr>\n",
              "      <th>1</th>\n",
              "      <td>0</td>\n",
              "      <td>1</td>\n",
              "      <td>0</td>\n",
              "      <td>0</td>\n",
              "      <td>0</td>\n",
              "      <td>0</td>\n",
              "      <td>0</td>\n",
              "      <td>0</td>\n",
              "      <td>0</td>\n",
              "      <td>0</td>\n",
              "      <td>0</td>\n",
              "    </tr>\n",
              "  </tbody>\n",
              "</table>\n",
              "</div>"
            ],
            "text/plain": [
              "   EL_1  EL_10+  EL_2  EL_3  EL_4  EL_5  EL_6  EL_7  EL_8  EL_9  EL_less1\n",
              "0     0       1     0     0     0     0     0     0     0     0         0\n",
              "1     0       1     0     0     0     0     0     0     0     0         0"
            ]
          },
          "metadata": {},
          "execution_count": 82
        }
      ]
    },
    {
      "cell_type": "code",
      "metadata": {
        "colab": {
          "base_uri": "https://localhost:8080/"
        },
        "id": "1mf6Y3_DTLMW",
        "outputId": "e06154e9-b3d6-48c0-f46d-20e97595633c"
      },
      "source": [
        "df = pd.concat([df,cat_emplength],axis=1)\n",
        "df = df.drop('emp_length',axis=1)\n",
        "df.head(2)"
      ],
      "execution_count": null,
      "outputs": [
        {
          "output_type": "execute_result",
          "data": {
            "text/html": [
              "<div>\n",
              "<style scoped>\n",
              "    .dataframe tbody tr th:only-of-type {\n",
              "        vertical-align: middle;\n",
              "    }\n",
              "\n",
              "    .dataframe tbody tr th {\n",
              "        vertical-align: top;\n",
              "    }\n",
              "\n",
              "    .dataframe thead th {\n",
              "        text-align: right;\n",
              "    }\n",
              "</style>\n",
              "<table border=\"1\" class=\"dataframe\">\n",
              "  <thead>\n",
              "    <tr style=\"text-align: right;\">\n",
              "      <th></th>\n",
              "      <th>loan_amnt</th>\n",
              "      <th>60_mo_term</th>\n",
              "      <th>int_rate</th>\n",
              "      <th>installment</th>\n",
              "      <th>sub_grade</th>\n",
              "      <th>annual_inc</th>\n",
              "      <th>issue_d</th>\n",
              "      <th>loan_status</th>\n",
              "      <th>dti</th>\n",
              "      <th>earliest_cr_line</th>\n",
              "      <th>open_acc</th>\n",
              "      <th>pub_rec</th>\n",
              "      <th>revol_bal</th>\n",
              "      <th>revol_util</th>\n",
              "      <th>total_acc</th>\n",
              "      <th>initial_list_status</th>\n",
              "      <th>mort_acc</th>\n",
              "      <th>pub_rec_bankruptcies</th>\n",
              "      <th>HO_ANY</th>\n",
              "      <th>HO_MORTGAGE</th>\n",
              "      <th>HO_NONE</th>\n",
              "      <th>HO_OTHER</th>\n",
              "      <th>HO_OWN</th>\n",
              "      <th>HO_RENT</th>\n",
              "      <th>VS_Not Verified</th>\n",
              "      <th>VS_Source Verified</th>\n",
              "      <th>VS_Verified</th>\n",
              "      <th>PPS_car</th>\n",
              "      <th>PPS_cc</th>\n",
              "      <th>PPS_debtcons</th>\n",
              "      <th>PPS_edu</th>\n",
              "      <th>PPS_homeimp</th>\n",
              "      <th>PPS_house</th>\n",
              "      <th>PPS_majorprc</th>\n",
              "      <th>PPS_medical</th>\n",
              "      <th>PPS_moving</th>\n",
              "      <th>PPS_other</th>\n",
              "      <th>PPS_reneweng</th>\n",
              "      <th>PPS_smallbus</th>\n",
              "      <th>PPS_vacation</th>\n",
              "      <th>PPS_wedd</th>\n",
              "      <th>APP_DIRECTPAY</th>\n",
              "      <th>APP_INDIVIDUAL</th>\n",
              "      <th>APP_JOINT</th>\n",
              "      <th>EL_1</th>\n",
              "      <th>EL_10+</th>\n",
              "      <th>EL_2</th>\n",
              "      <th>EL_3</th>\n",
              "      <th>EL_4</th>\n",
              "      <th>EL_5</th>\n",
              "      <th>EL_6</th>\n",
              "      <th>EL_7</th>\n",
              "      <th>EL_8</th>\n",
              "      <th>EL_9</th>\n",
              "      <th>EL_less1</th>\n",
              "    </tr>\n",
              "  </thead>\n",
              "  <tbody>\n",
              "    <tr>\n",
              "      <th>0</th>\n",
              "      <td>35000.0</td>\n",
              "      <td>0</td>\n",
              "      <td>25.83</td>\n",
              "      <td>1407.01</td>\n",
              "      <td>32</td>\n",
              "      <td>165800.0</td>\n",
              "      <td>Mar-2014</td>\n",
              "      <td>1</td>\n",
              "      <td>7.42</td>\n",
              "      <td>Jul-2005</td>\n",
              "      <td>5.0</td>\n",
              "      <td>0.0</td>\n",
              "      <td>16521.0</td>\n",
              "      <td>153.0</td>\n",
              "      <td>5.0</td>\n",
              "      <td>1</td>\n",
              "      <td>0.0</td>\n",
              "      <td>0.0</td>\n",
              "      <td>0</td>\n",
              "      <td>0</td>\n",
              "      <td>0</td>\n",
              "      <td>0</td>\n",
              "      <td>0</td>\n",
              "      <td>1</td>\n",
              "      <td>0</td>\n",
              "      <td>0</td>\n",
              "      <td>1</td>\n",
              "      <td>0</td>\n",
              "      <td>0</td>\n",
              "      <td>1</td>\n",
              "      <td>0</td>\n",
              "      <td>0</td>\n",
              "      <td>0</td>\n",
              "      <td>0</td>\n",
              "      <td>0</td>\n",
              "      <td>0</td>\n",
              "      <td>0</td>\n",
              "      <td>0</td>\n",
              "      <td>0</td>\n",
              "      <td>0</td>\n",
              "      <td>0</td>\n",
              "      <td>0</td>\n",
              "      <td>1</td>\n",
              "      <td>0</td>\n",
              "      <td>0</td>\n",
              "      <td>1</td>\n",
              "      <td>0</td>\n",
              "      <td>0</td>\n",
              "      <td>0</td>\n",
              "      <td>0</td>\n",
              "      <td>0</td>\n",
              "      <td>0</td>\n",
              "      <td>0</td>\n",
              "      <td>0</td>\n",
              "      <td>0</td>\n",
              "    </tr>\n",
              "    <tr>\n",
              "      <th>1</th>\n",
              "      <td>12000.0</td>\n",
              "      <td>1</td>\n",
              "      <td>16.55</td>\n",
              "      <td>295.34</td>\n",
              "      <td>17</td>\n",
              "      <td>45600.0</td>\n",
              "      <td>Nov-2015</td>\n",
              "      <td>1</td>\n",
              "      <td>38.98</td>\n",
              "      <td>Apr-2002</td>\n",
              "      <td>5.0</td>\n",
              "      <td>0.0</td>\n",
              "      <td>13880.0</td>\n",
              "      <td>152.5</td>\n",
              "      <td>11.0</td>\n",
              "      <td>1</td>\n",
              "      <td>5.0</td>\n",
              "      <td>0.0</td>\n",
              "      <td>0</td>\n",
              "      <td>1</td>\n",
              "      <td>0</td>\n",
              "      <td>0</td>\n",
              "      <td>0</td>\n",
              "      <td>0</td>\n",
              "      <td>0</td>\n",
              "      <td>0</td>\n",
              "      <td>1</td>\n",
              "      <td>0</td>\n",
              "      <td>0</td>\n",
              "      <td>0</td>\n",
              "      <td>0</td>\n",
              "      <td>0</td>\n",
              "      <td>0</td>\n",
              "      <td>0</td>\n",
              "      <td>0</td>\n",
              "      <td>0</td>\n",
              "      <td>1</td>\n",
              "      <td>0</td>\n",
              "      <td>0</td>\n",
              "      <td>0</td>\n",
              "      <td>0</td>\n",
              "      <td>0</td>\n",
              "      <td>1</td>\n",
              "      <td>0</td>\n",
              "      <td>0</td>\n",
              "      <td>1</td>\n",
              "      <td>0</td>\n",
              "      <td>0</td>\n",
              "      <td>0</td>\n",
              "      <td>0</td>\n",
              "      <td>0</td>\n",
              "      <td>0</td>\n",
              "      <td>0</td>\n",
              "      <td>0</td>\n",
              "      <td>0</td>\n",
              "    </tr>\n",
              "  </tbody>\n",
              "</table>\n",
              "</div>"
            ],
            "text/plain": [
              "   loan_amnt  60_mo_term  int_rate  installment  ...  EL_7  EL_8 EL_9  EL_less1\n",
              "0    35000.0           0     25.83      1407.01  ...     0     0    0         0\n",
              "1    12000.0           1     16.55       295.34  ...     0     0    0         0\n",
              "\n",
              "[2 rows x 55 columns]"
            ]
          },
          "metadata": {},
          "execution_count": 83
        }
      ]
    },
    {
      "cell_type": "markdown",
      "metadata": {
        "id": "Ouxz06CkVTlT"
      },
      "source": [
        "## Impute 'mort_acc' using SimpleImputer"
      ]
    },
    {
      "cell_type": "code",
      "metadata": {
        "colab": {
          "base_uri": "https://localhost:8080/"
        },
        "id": "MvmRmF7nVZHm",
        "outputId": "29734cd2-1185-486e-c125-90bbaa16b006"
      },
      "source": [
        "df['mort_acc'].isnull().sum()"
      ],
      "execution_count": null,
      "outputs": [
        {
          "output_type": "execute_result",
          "data": {
            "text/plain": [
              "37461"
            ]
          },
          "metadata": {},
          "execution_count": 84
        }
      ]
    },
    {
      "cell_type": "code",
      "metadata": {
        "id": "cQpLawrtVc5C"
      },
      "source": [
        "simple = SimpleImputer(strategy=\"most_frequent\")"
      ],
      "execution_count": null,
      "outputs": []
    },
    {
      "cell_type": "code",
      "metadata": {
        "id": "Paxkiz5AVjU2"
      },
      "source": [
        "impute_mort_acc_df = df[['total_acc']]"
      ],
      "execution_count": null,
      "outputs": []
    },
    {
      "cell_type": "code",
      "metadata": {
        "id": "WshfYFrnVjQ3",
        "colab": {
          "base_uri": "https://localhost:8080/"
        },
        "outputId": "5f6e660b-bf97-4cfe-d89a-22ed93dce51a"
      },
      "source": [
        "impute_mort_acc_df['mort_acc'] = df[['mort_acc']]"
      ],
      "execution_count": null,
      "outputs": [
        {
          "output_type": "stream",
          "name": "stderr",
          "text": [
            "/usr/local/lib/python3.7/dist-packages/ipykernel_launcher.py:1: SettingWithCopyWarning: \n",
            "A value is trying to be set on a copy of a slice from a DataFrame.\n",
            "Try using .loc[row_indexer,col_indexer] = value instead\n",
            "\n",
            "See the caveats in the documentation: https://pandas.pydata.org/pandas-docs/stable/user_guide/indexing.html#returning-a-view-versus-a-copy\n",
            "  \"\"\"Entry point for launching an IPython kernel.\n"
          ]
        }
      ]
    },
    {
      "cell_type": "code",
      "metadata": {
        "colab": {
          "base_uri": "https://localhost:8080/"
        },
        "id": "qtbrxbSJQU40",
        "outputId": "6630ac97-7b80-4b62-9cab-6e5d0140d09c"
      },
      "source": [
        "impute_mort_acc_df.isnull().sum()"
      ],
      "execution_count": null,
      "outputs": [
        {
          "output_type": "execute_result",
          "data": {
            "text/plain": [
              "total_acc        0\n",
              "mort_acc     37461\n",
              "dtype: int64"
            ]
          },
          "metadata": {},
          "execution_count": 91
        }
      ]
    },
    {
      "cell_type": "code",
      "metadata": {
        "id": "M2fz9paSVjM_"
      },
      "source": [
        "# impute using \"most_frequent\", since it mort_acc = Number of mortgage accounts.\n",
        "# it doesn't have any calculation behind it.\n",
        "impute_mort_acc_df = simple.fit_transform(impute_mort_acc_df)"
      ],
      "execution_count": null,
      "outputs": []
    },
    {
      "cell_type": "code",
      "metadata": {
        "id": "SK--1U9iVjK3"
      },
      "source": [
        "impute_mort_acc_df = pd.DataFrame(impute_mort_acc_df,columns=('total_acc','mort_acc'))"
      ],
      "execution_count": null,
      "outputs": []
    },
    {
      "cell_type": "code",
      "metadata": {
        "colab": {
          "base_uri": "https://localhost:8080/"
        },
        "id": "KdeTktc-VjH4",
        "outputId": "3e1b54be-a3f0-42ce-cda6-c6785a52166d"
      },
      "source": [
        "impute_mort_acc_df.isnull().sum()"
      ],
      "execution_count": null,
      "outputs": [
        {
          "output_type": "execute_result",
          "data": {
            "text/plain": [
              "total_acc    0\n",
              "mort_acc     0\n",
              "dtype: int64"
            ]
          },
          "metadata": {},
          "execution_count": 94
        }
      ]
    },
    {
      "cell_type": "code",
      "metadata": {
        "id": "YRRiHZ7zVjFo"
      },
      "source": [
        "# back to df, replace the 'mort_acc' columns with the impute_mort_acc_df\n",
        "df['mort_acc']= impute_mort_acc_df['mort_acc']"
      ],
      "execution_count": null,
      "outputs": []
    },
    {
      "cell_type": "code",
      "metadata": {
        "colab": {
          "base_uri": "https://localhost:8080/"
        },
        "id": "BnoW58RZVi1A",
        "outputId": "542b24f2-85f8-41c0-e7b7-34124b50d369"
      },
      "source": [
        "df['mort_acc'].isnull().sum()"
      ],
      "execution_count": null,
      "outputs": [
        {
          "output_type": "execute_result",
          "data": {
            "text/plain": [
              "0"
            ]
          },
          "metadata": {},
          "execution_count": 96
        }
      ]
    },
    {
      "cell_type": "markdown",
      "metadata": {
        "id": "YdUVNQnhYY5X"
      },
      "source": [
        "## Impute 'revol_util' using Mean"
      ]
    },
    {
      "cell_type": "code",
      "metadata": {
        "id": "F_03ioKOYIeT"
      },
      "source": [
        "simple_mean = SimpleImputer(missing_values=np.nan, strategy='mean')"
      ],
      "execution_count": null,
      "outputs": []
    },
    {
      "cell_type": "code",
      "metadata": {
        "id": "8HmFvuJdYIZw"
      },
      "source": [
        "revolutil_df = df[['revol_bal','revol_util']]"
      ],
      "execution_count": null,
      "outputs": []
    },
    {
      "cell_type": "code",
      "metadata": {
        "id": "jx-GYsyzYIXo"
      },
      "source": [
        "revolutil_df = pd.DataFrame(simple_mean.fit_transform(revolutil_df),columns=('revol_bal','revol_util'))"
      ],
      "execution_count": null,
      "outputs": []
    },
    {
      "cell_type": "code",
      "metadata": {
        "colab": {
          "base_uri": "https://localhost:8080/"
        },
        "id": "abaz_poRZceb",
        "outputId": "ee36863e-665b-4929-f781-aa7845881950"
      },
      "source": [
        "revolutil_df.isnull().sum()"
      ],
      "execution_count": null,
      "outputs": [
        {
          "output_type": "execute_result",
          "data": {
            "text/plain": [
              "revol_bal     0\n",
              "revol_util    0\n",
              "dtype: int64"
            ]
          },
          "metadata": {},
          "execution_count": 100
        }
      ]
    },
    {
      "cell_type": "code",
      "metadata": {
        "id": "VZz4kKFPZccl"
      },
      "source": [
        "# back to df, replace the 'revol_util' columns with the revolutil_df\n",
        "df['revol_util']= revolutil_df['revol_util']"
      ],
      "execution_count": null,
      "outputs": []
    },
    {
      "cell_type": "code",
      "metadata": {
        "colab": {
          "base_uri": "https://localhost:8080/"
        },
        "id": "Gxw3VRr6ZcXO",
        "outputId": "536a8659-19c7-4d17-bfaf-21be269593c7"
      },
      "source": [
        "df.isnull().sum()"
      ],
      "execution_count": null,
      "outputs": [
        {
          "output_type": "execute_result",
          "data": {
            "text/plain": [
              "loan_amnt                 0\n",
              "60_mo_term                0\n",
              "int_rate                  0\n",
              "installment               0\n",
              "sub_grade                 0\n",
              "annual_inc                0\n",
              "issue_d                   0\n",
              "loan_status               0\n",
              "dti                       0\n",
              "earliest_cr_line          0\n",
              "open_acc                  0\n",
              "pub_rec                   0\n",
              "revol_bal                 0\n",
              "revol_util                0\n",
              "total_acc                 0\n",
              "initial_list_status       0\n",
              "mort_acc                  0\n",
              "pub_rec_bankruptcies    531\n",
              "HO_ANY                    0\n",
              "HO_MORTGAGE               0\n",
              "HO_NONE                   0\n",
              "HO_OTHER                  0\n",
              "HO_OWN                    0\n",
              "HO_RENT                   0\n",
              "VS_Not Verified           0\n",
              "VS_Source Verified        0\n",
              "VS_Verified               0\n",
              "PPS_car                   0\n",
              "PPS_cc                    0\n",
              "PPS_debtcons              0\n",
              "PPS_edu                   0\n",
              "PPS_homeimp               0\n",
              "PPS_house                 0\n",
              "PPS_majorprc              0\n",
              "PPS_medical               0\n",
              "PPS_moving                0\n",
              "PPS_other                 0\n",
              "PPS_reneweng              0\n",
              "PPS_smallbus              0\n",
              "PPS_vacation              0\n",
              "PPS_wedd                  0\n",
              "APP_DIRECTPAY             0\n",
              "APP_INDIVIDUAL            0\n",
              "APP_JOINT                 0\n",
              "EL_1                      0\n",
              "EL_10+                    0\n",
              "EL_2                      0\n",
              "EL_3                      0\n",
              "EL_4                      0\n",
              "EL_5                      0\n",
              "EL_6                      0\n",
              "EL_7                      0\n",
              "EL_8                      0\n",
              "EL_9                      0\n",
              "EL_less1                  0\n",
              "dtype: int64"
            ]
          },
          "metadata": {},
          "execution_count": 102
        }
      ]
    },
    {
      "cell_type": "markdown",
      "metadata": {
        "id": "C2-ztFSifrbT"
      },
      "source": [
        "## Calculate the gap between 'issue_d' vs 'earliest_cr_line'"
      ]
    },
    {
      "cell_type": "code",
      "metadata": {
        "colab": {
          "base_uri": "https://localhost:8080/"
        },
        "id": "uOb8jxQ5f-3_",
        "outputId": "55207bc5-541f-4b90-c516-3befb89c415c"
      },
      "source": [
        "df.head(2)"
      ],
      "execution_count": null,
      "outputs": [
        {
          "output_type": "execute_result",
          "data": {
            "text/html": [
              "<div>\n",
              "<style scoped>\n",
              "    .dataframe tbody tr th:only-of-type {\n",
              "        vertical-align: middle;\n",
              "    }\n",
              "\n",
              "    .dataframe tbody tr th {\n",
              "        vertical-align: top;\n",
              "    }\n",
              "\n",
              "    .dataframe thead th {\n",
              "        text-align: right;\n",
              "    }\n",
              "</style>\n",
              "<table border=\"1\" class=\"dataframe\">\n",
              "  <thead>\n",
              "    <tr style=\"text-align: right;\">\n",
              "      <th></th>\n",
              "      <th>loan_amnt</th>\n",
              "      <th>60_mo_term</th>\n",
              "      <th>int_rate</th>\n",
              "      <th>installment</th>\n",
              "      <th>grade</th>\n",
              "      <th>sub_grade</th>\n",
              "      <th>annual_inc</th>\n",
              "      <th>issue_d</th>\n",
              "      <th>loan_status</th>\n",
              "      <th>dti</th>\n",
              "      <th>earliest_cr_line</th>\n",
              "      <th>open_acc</th>\n",
              "      <th>pub_rec</th>\n",
              "      <th>revol_bal</th>\n",
              "      <th>revol_util</th>\n",
              "      <th>total_acc</th>\n",
              "      <th>initial_list_status</th>\n",
              "      <th>mort_acc</th>\n",
              "      <th>pub_rec_bankruptcies</th>\n",
              "      <th>HO_ANY</th>\n",
              "      <th>HO_MORTGAGE</th>\n",
              "      <th>HO_NONE</th>\n",
              "      <th>HO_OTHER</th>\n",
              "      <th>HO_OWN</th>\n",
              "      <th>HO_RENT</th>\n",
              "      <th>VS_Not Verified</th>\n",
              "      <th>VS_Source Verified</th>\n",
              "      <th>VS_Verified</th>\n",
              "      <th>PPS_car</th>\n",
              "      <th>PPS_cc</th>\n",
              "      <th>PPS_debtcons</th>\n",
              "      <th>PPS_edu</th>\n",
              "      <th>PPS_homeimp</th>\n",
              "      <th>PPS_house</th>\n",
              "      <th>PPS_majorprc</th>\n",
              "      <th>PPS_medical</th>\n",
              "      <th>PPS_moving</th>\n",
              "      <th>PPS_other</th>\n",
              "      <th>PPS_reneweng</th>\n",
              "      <th>PPS_smallbus</th>\n",
              "      <th>PPS_vacation</th>\n",
              "      <th>PPS_wedd</th>\n",
              "      <th>APP_DIRECTPAY</th>\n",
              "      <th>APP_INDIVIDUAL</th>\n",
              "      <th>APP_JOINT</th>\n",
              "      <th>EL_1</th>\n",
              "      <th>EL_10+</th>\n",
              "      <th>EL_2</th>\n",
              "      <th>EL_3</th>\n",
              "      <th>EL_4</th>\n",
              "      <th>EL_5</th>\n",
              "      <th>EL_6</th>\n",
              "      <th>EL_7</th>\n",
              "      <th>EL_8</th>\n",
              "      <th>EL_9</th>\n",
              "      <th>EL_less1</th>\n",
              "    </tr>\n",
              "  </thead>\n",
              "  <tbody>\n",
              "    <tr>\n",
              "      <th>0</th>\n",
              "      <td>35000.0</td>\n",
              "      <td>0</td>\n",
              "      <td>25.83</td>\n",
              "      <td>1407.01</td>\n",
              "      <td>7</td>\n",
              "      <td>32</td>\n",
              "      <td>165800.0</td>\n",
              "      <td>Mar-2014</td>\n",
              "      <td>1</td>\n",
              "      <td>7.42</td>\n",
              "      <td>Jul-2005</td>\n",
              "      <td>5.0</td>\n",
              "      <td>0.0</td>\n",
              "      <td>16521.0</td>\n",
              "      <td>153.0</td>\n",
              "      <td>5.0</td>\n",
              "      <td>1</td>\n",
              "      <td>0</td>\n",
              "      <td>0.0</td>\n",
              "      <td>0</td>\n",
              "      <td>0</td>\n",
              "      <td>0</td>\n",
              "      <td>0</td>\n",
              "      <td>0</td>\n",
              "      <td>1</td>\n",
              "      <td>0</td>\n",
              "      <td>0</td>\n",
              "      <td>1</td>\n",
              "      <td>0</td>\n",
              "      <td>0</td>\n",
              "      <td>1</td>\n",
              "      <td>0</td>\n",
              "      <td>0</td>\n",
              "      <td>0</td>\n",
              "      <td>0</td>\n",
              "      <td>0</td>\n",
              "      <td>0</td>\n",
              "      <td>0</td>\n",
              "      <td>0</td>\n",
              "      <td>0</td>\n",
              "      <td>0</td>\n",
              "      <td>0</td>\n",
              "      <td>0</td>\n",
              "      <td>1</td>\n",
              "      <td>0</td>\n",
              "      <td>0</td>\n",
              "      <td>1</td>\n",
              "      <td>0</td>\n",
              "      <td>0</td>\n",
              "      <td>0</td>\n",
              "      <td>0</td>\n",
              "      <td>0</td>\n",
              "      <td>0</td>\n",
              "      <td>0</td>\n",
              "      <td>0</td>\n",
              "      <td>0</td>\n",
              "    </tr>\n",
              "    <tr>\n",
              "      <th>1</th>\n",
              "      <td>12000.0</td>\n",
              "      <td>1</td>\n",
              "      <td>16.55</td>\n",
              "      <td>295.34</td>\n",
              "      <td>4</td>\n",
              "      <td>17</td>\n",
              "      <td>45600.0</td>\n",
              "      <td>Nov-2015</td>\n",
              "      <td>1</td>\n",
              "      <td>38.98</td>\n",
              "      <td>Apr-2002</td>\n",
              "      <td>5.0</td>\n",
              "      <td>0.0</td>\n",
              "      <td>13880.0</td>\n",
              "      <td>152.5</td>\n",
              "      <td>11.0</td>\n",
              "      <td>1</td>\n",
              "      <td>5</td>\n",
              "      <td>0.0</td>\n",
              "      <td>0</td>\n",
              "      <td>1</td>\n",
              "      <td>0</td>\n",
              "      <td>0</td>\n",
              "      <td>0</td>\n",
              "      <td>0</td>\n",
              "      <td>0</td>\n",
              "      <td>0</td>\n",
              "      <td>1</td>\n",
              "      <td>0</td>\n",
              "      <td>0</td>\n",
              "      <td>0</td>\n",
              "      <td>0</td>\n",
              "      <td>0</td>\n",
              "      <td>0</td>\n",
              "      <td>0</td>\n",
              "      <td>0</td>\n",
              "      <td>0</td>\n",
              "      <td>1</td>\n",
              "      <td>0</td>\n",
              "      <td>0</td>\n",
              "      <td>0</td>\n",
              "      <td>0</td>\n",
              "      <td>0</td>\n",
              "      <td>1</td>\n",
              "      <td>0</td>\n",
              "      <td>0</td>\n",
              "      <td>1</td>\n",
              "      <td>0</td>\n",
              "      <td>0</td>\n",
              "      <td>0</td>\n",
              "      <td>0</td>\n",
              "      <td>0</td>\n",
              "      <td>0</td>\n",
              "      <td>0</td>\n",
              "      <td>0</td>\n",
              "      <td>0</td>\n",
              "    </tr>\n",
              "  </tbody>\n",
              "</table>\n",
              "</div>"
            ],
            "text/plain": [
              "   loan_amnt  60_mo_term  int_rate  installment  ...  EL_7  EL_8  EL_9 EL_less1\n",
              "0    35000.0           0     25.83      1407.01  ...     0     0     0        0\n",
              "1    12000.0           1     16.55       295.34  ...     0     0     0        0\n",
              "\n",
              "[2 rows x 56 columns]"
            ]
          },
          "metadata": {},
          "execution_count": 194
        }
      ]
    },
    {
      "cell_type": "code",
      "metadata": {
        "id": "5r7h8knXf-zl"
      },
      "source": [
        "dict_months = {'Jan':1,'Feb':2, 'Mar':3,'Apr':4,\n",
        "               'May':5,'Jun':6,'Jul':7,'Aug':8,\n",
        "               'Sep':9,'Oct':10,'Nov':11,'Dec':12}"
      ],
      "execution_count": null,
      "outputs": []
    },
    {
      "cell_type": "markdown",
      "metadata": {
        "id": "b7e65gIEvOQC"
      },
      "source": [
        "### convert 'issue_d' into date time format"
      ]
    },
    {
      "cell_type": "code",
      "metadata": {
        "id": "wCfPfLntf-xP"
      },
      "source": [
        "issue_df = df[['issue_d']]"
      ],
      "execution_count": null,
      "outputs": []
    },
    {
      "cell_type": "code",
      "metadata": {
        "id": "Faa2ns38kqpp"
      },
      "source": [
        "issue_df = pd.DataFrame(list(issue_df['issue_d'].apply(lambda x:x.split('-'))),columns=('iss_month','iss_year'))"
      ],
      "execution_count": null,
      "outputs": []
    },
    {
      "cell_type": "code",
      "metadata": {
        "id": "QwX9tGbglALF"
      },
      "source": [
        "# test_df['num_grade']=test_df['grade'].apply(lambda i: dict_grade[i])\n",
        "issue_df['month']=issue_df['iss_month'].apply(lambda i: dict_months[i])"
      ],
      "execution_count": null,
      "outputs": []
    },
    {
      "cell_type": "code",
      "metadata": {
        "id": "TiCZUQH2nuMP"
      },
      "source": [
        "#df['term'] = df['term'].astype('category')\n",
        "issue_df['year'] = issue_df['iss_year'].astype('int64')"
      ],
      "execution_count": null,
      "outputs": []
    },
    {
      "cell_type": "code",
      "metadata": {
        "id": "SqoG1VXsqBcv"
      },
      "source": [
        "issue_df['day'] = 1"
      ],
      "execution_count": null,
      "outputs": []
    },
    {
      "cell_type": "code",
      "metadata": {
        "id": "dPRukPMmtV-T"
      },
      "source": [
        "issue_df['timestamp']=pd.to_datetime(issue_df[[\"year\", \"month\", \"day\"]])"
      ],
      "execution_count": null,
      "outputs": []
    },
    {
      "cell_type": "code",
      "metadata": {
        "id": "Dffe7jSYq4Io"
      },
      "source": [
        "issue_df = issue_df.drop(columns=issue_df.columns[:5],axis=1)"
      ],
      "execution_count": null,
      "outputs": []
    },
    {
      "cell_type": "markdown",
      "metadata": {
        "id": "xEbuvlfkvX0i"
      },
      "source": [
        "### convert 'earliest_cr_line' into date time format"
      ]
    },
    {
      "cell_type": "code",
      "metadata": {
        "id": "-mOVWL7ZvIis"
      },
      "source": [
        "earlier_df = df[['earliest_cr_line']]\n",
        "earlier_df = pd.DataFrame(list(earlier_df['earliest_cr_line'].apply(lambda x:x.split('-'))),columns=('earl_month','year'))"
      ],
      "execution_count": null,
      "outputs": []
    },
    {
      "cell_type": "code",
      "metadata": {
        "id": "vF_2z4i8j63Z"
      },
      "source": [
        "earlier_df['month']= earlier_df['earl_month'].apply(lambda i: dict_months[i])\n",
        "earlier_df['year'] = earlier_df['year'].astype('int64')\n",
        "earlier_df['day'] = 1"
      ],
      "execution_count": null,
      "outputs": []
    },
    {
      "cell_type": "code",
      "metadata": {
        "id": "Xu1qV-mSj6y2"
      },
      "source": [
        "earlier_df['timestamp']=pd.to_datetime(earlier_df[[\"year\", \"month\", \"day\"]])"
      ],
      "execution_count": null,
      "outputs": []
    },
    {
      "cell_type": "code",
      "metadata": {
        "id": "_9jd8sBKj6vc"
      },
      "source": [
        "earlier_df = earlier_df.drop(columns=earlier_df.columns[:4],axis=1)"
      ],
      "execution_count": null,
      "outputs": []
    },
    {
      "cell_type": "markdown",
      "metadata": {
        "id": "5ox77Bjdwq7m"
      },
      "source": [
        "### Calculate months gap between 'issue_d' vs 'earliest_cr_line'"
      ]
    },
    {
      "cell_type": "markdown",
      "metadata": {
        "id": "hez6iz-8ySJI"
      },
      "source": [
        "source :\n",
        "\n",
        "https://stackoverflow.com/questions/42822768/pandas-number-of-months-between-two-dates"
      ]
    },
    {
      "cell_type": "code",
      "metadata": {
        "id": "DlrAobOlj6tV"
      },
      "source": [
        "timediff_df = issue_df"
      ],
      "execution_count": null,
      "outputs": []
    },
    {
      "cell_type": "code",
      "metadata": {
        "id": "zYBss59oj6nb"
      },
      "source": [
        "timediff_df['earliest_date']=earlier_df"
      ],
      "execution_count": null,
      "outputs": []
    },
    {
      "cell_type": "code",
      "metadata": {
        "id": "6HlpgbpIj6pv"
      },
      "source": [
        "timediff_df = timediff_df.rename(columns={'timestamp':'issue_date'})"
      ],
      "execution_count": null,
      "outputs": []
    },
    {
      "cell_type": "code",
      "metadata": {
        "id": "nX8NtlIij6hg"
      },
      "source": [
        "# df['nb_months'] = ((df.date2 - df.date1)/np.timedelta64(1, 'M'))\n",
        "timediff_df['month_diff']=((timediff_df['issue_date'] - timediff_df['earliest_date'])/np.timedelta64(1, 'M'))"
      ],
      "execution_count": null,
      "outputs": []
    },
    {
      "cell_type": "code",
      "metadata": {
        "id": "8GyxGd0wyFqR"
      },
      "source": [
        "# df['nb_months'] = df['nb_months'].astype(int)\n",
        "timediff_df['month_diff'] = timediff_df['month_diff'].astype(int)"
      ],
      "execution_count": null,
      "outputs": []
    },
    {
      "cell_type": "markdown",
      "metadata": {
        "id": "20pLNm9M0D8B"
      },
      "source": [
        "### Add month_diff into df & drop 'issue_d' & 'earliest_cr_line' columns"
      ]
    },
    {
      "cell_type": "code",
      "metadata": {
        "id": "97v3QcW8yFeU"
      },
      "source": [
        "df['month_diff']=timediff_df['month_diff']"
      ],
      "execution_count": null,
      "outputs": []
    },
    {
      "cell_type": "code",
      "metadata": {
        "id": "IwIs-UUjzxi2"
      },
      "source": [
        "df = df.drop('issue_d',axis=1)\n",
        "df = df.drop('earliest_cr_line',axis=1)"
      ],
      "execution_count": null,
      "outputs": []
    },
    {
      "cell_type": "markdown",
      "metadata": {
        "id": "Zd_XuqIsa5DT"
      },
      "source": [
        "## Let's Delete/Drop 'pub_rec_bankruptcies' index"
      ]
    },
    {
      "cell_type": "markdown",
      "metadata": {
        "id": "T2079z_Ob3Wc"
      },
      "source": [
        "since this is the last steps of Replace/Imputing steps, only 'pub_rec_bankruptcies' left. we will delete the index with this nan, since it's only 535 data it won't impact much"
      ]
    },
    {
      "cell_type": "code",
      "metadata": {
        "colab": {
          "base_uri": "https://localhost:8080/"
        },
        "id": "lIUbT6QGcIRr",
        "outputId": "a43902ab-df96-4e9a-921c-4a0bca877f69"
      },
      "source": [
        "df.info()"
      ],
      "execution_count": null,
      "outputs": [
        {
          "output_type": "stream",
          "name": "stdout",
          "text": [
            "<class 'pandas.core.frame.DataFrame'>\n",
            "RangeIndex: 391769 entries, 0 to 391768\n",
            "Data columns (total 53 columns):\n",
            " #   Column                Non-Null Count   Dtype  \n",
            "---  ------                --------------   -----  \n",
            " 0   loan_amnt             391769 non-null  float64\n",
            " 1   60_mo_term            391769 non-null  int8   \n",
            " 2   int_rate              391769 non-null  float64\n",
            " 3   installment           391769 non-null  float64\n",
            " 4   sub_grade             391769 non-null  int64  \n",
            " 5   annual_inc            391769 non-null  float64\n",
            " 6   loan_status           391769 non-null  int64  \n",
            " 7   dti                   391769 non-null  float64\n",
            " 8   open_acc              391769 non-null  float64\n",
            " 9   pub_rec               391769 non-null  float64\n",
            " 10  revol_bal             391769 non-null  float64\n",
            " 11  revol_util            391769 non-null  float64\n",
            " 12  total_acc             391769 non-null  float64\n",
            " 13  initial_list_status   391769 non-null  int64  \n",
            " 14  mort_acc              391769 non-null  float64\n",
            " 15  pub_rec_bankruptcies  391238 non-null  float64\n",
            " 16  HO_ANY                391769 non-null  uint8  \n",
            " 17  HO_MORTGAGE           391769 non-null  uint8  \n",
            " 18  HO_NONE               391769 non-null  uint8  \n",
            " 19  HO_OTHER              391769 non-null  uint8  \n",
            " 20  HO_OWN                391769 non-null  uint8  \n",
            " 21  HO_RENT               391769 non-null  uint8  \n",
            " 22  VS_Not Verified       391769 non-null  uint8  \n",
            " 23  VS_Source Verified    391769 non-null  uint8  \n",
            " 24  VS_Verified           391769 non-null  uint8  \n",
            " 25  PPS_car               391769 non-null  uint8  \n",
            " 26  PPS_cc                391769 non-null  uint8  \n",
            " 27  PPS_debtcons          391769 non-null  uint8  \n",
            " 28  PPS_edu               391769 non-null  uint8  \n",
            " 29  PPS_homeimp           391769 non-null  uint8  \n",
            " 30  PPS_house             391769 non-null  uint8  \n",
            " 31  PPS_majorprc          391769 non-null  uint8  \n",
            " 32  PPS_medical           391769 non-null  uint8  \n",
            " 33  PPS_moving            391769 non-null  uint8  \n",
            " 34  PPS_other             391769 non-null  uint8  \n",
            " 35  PPS_reneweng          391769 non-null  uint8  \n",
            " 36  PPS_smallbus          391769 non-null  uint8  \n",
            " 37  PPS_vacation          391769 non-null  uint8  \n",
            " 38  PPS_wedd              391769 non-null  uint8  \n",
            " 39  APP_DIRECTPAY         391769 non-null  uint8  \n",
            " 40  APP_INDIVIDUAL        391769 non-null  uint8  \n",
            " 41  APP_JOINT             391769 non-null  uint8  \n",
            " 42  EL_1                  391769 non-null  uint8  \n",
            " 43  EL_10+                391769 non-null  uint8  \n",
            " 44  EL_2                  391769 non-null  uint8  \n",
            " 45  EL_3                  391769 non-null  uint8  \n",
            " 46  EL_4                  391769 non-null  uint8  \n",
            " 47  EL_5                  391769 non-null  uint8  \n",
            " 48  EL_6                  391769 non-null  uint8  \n",
            " 49  EL_7                  391769 non-null  uint8  \n",
            " 50  EL_8                  391769 non-null  uint8  \n",
            " 51  EL_9                  391769 non-null  uint8  \n",
            " 52  EL_less1              391769 non-null  uint8  \n",
            "dtypes: float64(12), int64(3), int8(1), uint8(37)\n",
            "memory usage: 59.0 MB\n"
          ]
        }
      ]
    },
    {
      "cell_type": "code",
      "metadata": {
        "id": "0CVx0VDlZcTP"
      },
      "source": [
        "new_df = df.dropna(axis=0, subset=['pub_rec_bankruptcies'])"
      ],
      "execution_count": null,
      "outputs": []
    },
    {
      "cell_type": "code",
      "metadata": {
        "colab": {
          "base_uri": "https://localhost:8080/",
          "height": 243
        },
        "id": "XVD2uSkwffLU",
        "outputId": "919118ed-b103-40c6-80a0-3f30f9c58409"
      },
      "source": [
        "new_df.head()"
      ],
      "execution_count": null,
      "outputs": [
        {
          "output_type": "execute_result",
          "data": {
            "text/html": [
              "<div>\n",
              "<style scoped>\n",
              "    .dataframe tbody tr th:only-of-type {\n",
              "        vertical-align: middle;\n",
              "    }\n",
              "\n",
              "    .dataframe tbody tr th {\n",
              "        vertical-align: top;\n",
              "    }\n",
              "\n",
              "    .dataframe thead th {\n",
              "        text-align: right;\n",
              "    }\n",
              "</style>\n",
              "<table border=\"1\" class=\"dataframe\">\n",
              "  <thead>\n",
              "    <tr style=\"text-align: right;\">\n",
              "      <th></th>\n",
              "      <th>loan_amnt</th>\n",
              "      <th>60_mo_term</th>\n",
              "      <th>int_rate</th>\n",
              "      <th>installment</th>\n",
              "      <th>sub_grade</th>\n",
              "      <th>annual_inc</th>\n",
              "      <th>loan_status</th>\n",
              "      <th>dti</th>\n",
              "      <th>open_acc</th>\n",
              "      <th>pub_rec</th>\n",
              "      <th>revol_bal</th>\n",
              "      <th>revol_util</th>\n",
              "      <th>total_acc</th>\n",
              "      <th>initial_list_status</th>\n",
              "      <th>mort_acc</th>\n",
              "      <th>pub_rec_bankruptcies</th>\n",
              "      <th>HO_ANY</th>\n",
              "      <th>HO_MORTGAGE</th>\n",
              "      <th>HO_NONE</th>\n",
              "      <th>HO_OTHER</th>\n",
              "      <th>HO_OWN</th>\n",
              "      <th>HO_RENT</th>\n",
              "      <th>VS_Not Verified</th>\n",
              "      <th>VS_Source Verified</th>\n",
              "      <th>VS_Verified</th>\n",
              "      <th>PPS_car</th>\n",
              "      <th>PPS_cc</th>\n",
              "      <th>PPS_debtcons</th>\n",
              "      <th>PPS_edu</th>\n",
              "      <th>PPS_homeimp</th>\n",
              "      <th>PPS_house</th>\n",
              "      <th>PPS_majorprc</th>\n",
              "      <th>PPS_medical</th>\n",
              "      <th>PPS_moving</th>\n",
              "      <th>PPS_other</th>\n",
              "      <th>PPS_reneweng</th>\n",
              "      <th>PPS_smallbus</th>\n",
              "      <th>PPS_vacation</th>\n",
              "      <th>PPS_wedd</th>\n",
              "      <th>APP_DIRECTPAY</th>\n",
              "      <th>APP_INDIVIDUAL</th>\n",
              "      <th>APP_JOINT</th>\n",
              "      <th>EL_1</th>\n",
              "      <th>EL_10+</th>\n",
              "      <th>EL_2</th>\n",
              "      <th>EL_3</th>\n",
              "      <th>EL_4</th>\n",
              "      <th>EL_5</th>\n",
              "      <th>EL_6</th>\n",
              "      <th>EL_7</th>\n",
              "      <th>EL_8</th>\n",
              "      <th>EL_9</th>\n",
              "      <th>EL_less1</th>\n",
              "    </tr>\n",
              "  </thead>\n",
              "  <tbody>\n",
              "    <tr>\n",
              "      <th>0</th>\n",
              "      <td>35000.0</td>\n",
              "      <td>0</td>\n",
              "      <td>25.83</td>\n",
              "      <td>1407.01</td>\n",
              "      <td>32</td>\n",
              "      <td>165800.0</td>\n",
              "      <td>1</td>\n",
              "      <td>7.42</td>\n",
              "      <td>5.0</td>\n",
              "      <td>0.0</td>\n",
              "      <td>16521.0</td>\n",
              "      <td>153.0</td>\n",
              "      <td>5.0</td>\n",
              "      <td>1</td>\n",
              "      <td>0.0</td>\n",
              "      <td>0.0</td>\n",
              "      <td>0</td>\n",
              "      <td>0</td>\n",
              "      <td>0</td>\n",
              "      <td>0</td>\n",
              "      <td>0</td>\n",
              "      <td>1</td>\n",
              "      <td>0</td>\n",
              "      <td>0</td>\n",
              "      <td>1</td>\n",
              "      <td>0</td>\n",
              "      <td>0</td>\n",
              "      <td>1</td>\n",
              "      <td>0</td>\n",
              "      <td>0</td>\n",
              "      <td>0</td>\n",
              "      <td>0</td>\n",
              "      <td>0</td>\n",
              "      <td>0</td>\n",
              "      <td>0</td>\n",
              "      <td>0</td>\n",
              "      <td>0</td>\n",
              "      <td>0</td>\n",
              "      <td>0</td>\n",
              "      <td>0</td>\n",
              "      <td>1</td>\n",
              "      <td>0</td>\n",
              "      <td>0</td>\n",
              "      <td>1</td>\n",
              "      <td>0</td>\n",
              "      <td>0</td>\n",
              "      <td>0</td>\n",
              "      <td>0</td>\n",
              "      <td>0</td>\n",
              "      <td>0</td>\n",
              "      <td>0</td>\n",
              "      <td>0</td>\n",
              "      <td>0</td>\n",
              "    </tr>\n",
              "    <tr>\n",
              "      <th>1</th>\n",
              "      <td>12000.0</td>\n",
              "      <td>1</td>\n",
              "      <td>16.55</td>\n",
              "      <td>295.34</td>\n",
              "      <td>17</td>\n",
              "      <td>45600.0</td>\n",
              "      <td>1</td>\n",
              "      <td>38.98</td>\n",
              "      <td>5.0</td>\n",
              "      <td>0.0</td>\n",
              "      <td>13880.0</td>\n",
              "      <td>152.5</td>\n",
              "      <td>11.0</td>\n",
              "      <td>1</td>\n",
              "      <td>5.0</td>\n",
              "      <td>0.0</td>\n",
              "      <td>0</td>\n",
              "      <td>1</td>\n",
              "      <td>0</td>\n",
              "      <td>0</td>\n",
              "      <td>0</td>\n",
              "      <td>0</td>\n",
              "      <td>0</td>\n",
              "      <td>0</td>\n",
              "      <td>1</td>\n",
              "      <td>0</td>\n",
              "      <td>0</td>\n",
              "      <td>0</td>\n",
              "      <td>0</td>\n",
              "      <td>0</td>\n",
              "      <td>0</td>\n",
              "      <td>0</td>\n",
              "      <td>0</td>\n",
              "      <td>0</td>\n",
              "      <td>1</td>\n",
              "      <td>0</td>\n",
              "      <td>0</td>\n",
              "      <td>0</td>\n",
              "      <td>0</td>\n",
              "      <td>0</td>\n",
              "      <td>1</td>\n",
              "      <td>0</td>\n",
              "      <td>0</td>\n",
              "      <td>1</td>\n",
              "      <td>0</td>\n",
              "      <td>0</td>\n",
              "      <td>0</td>\n",
              "      <td>0</td>\n",
              "      <td>0</td>\n",
              "      <td>0</td>\n",
              "      <td>0</td>\n",
              "      <td>0</td>\n",
              "      <td>0</td>\n",
              "    </tr>\n",
              "    <tr>\n",
              "      <th>2</th>\n",
              "      <td>10000.0</td>\n",
              "      <td>0</td>\n",
              "      <td>14.16</td>\n",
              "      <td>342.56</td>\n",
              "      <td>12</td>\n",
              "      <td>91000.0</td>\n",
              "      <td>1</td>\n",
              "      <td>20.94</td>\n",
              "      <td>9.0</td>\n",
              "      <td>0.0</td>\n",
              "      <td>9344.0</td>\n",
              "      <td>150.7</td>\n",
              "      <td>37.0</td>\n",
              "      <td>1</td>\n",
              "      <td>6.0</td>\n",
              "      <td>0.0</td>\n",
              "      <td>0</td>\n",
              "      <td>0</td>\n",
              "      <td>0</td>\n",
              "      <td>0</td>\n",
              "      <td>1</td>\n",
              "      <td>0</td>\n",
              "      <td>1</td>\n",
              "      <td>0</td>\n",
              "      <td>0</td>\n",
              "      <td>0</td>\n",
              "      <td>0</td>\n",
              "      <td>1</td>\n",
              "      <td>0</td>\n",
              "      <td>0</td>\n",
              "      <td>0</td>\n",
              "      <td>0</td>\n",
              "      <td>0</td>\n",
              "      <td>0</td>\n",
              "      <td>0</td>\n",
              "      <td>0</td>\n",
              "      <td>0</td>\n",
              "      <td>0</td>\n",
              "      <td>0</td>\n",
              "      <td>0</td>\n",
              "      <td>1</td>\n",
              "      <td>0</td>\n",
              "      <td>0</td>\n",
              "      <td>1</td>\n",
              "      <td>0</td>\n",
              "      <td>0</td>\n",
              "      <td>0</td>\n",
              "      <td>0</td>\n",
              "      <td>0</td>\n",
              "      <td>0</td>\n",
              "      <td>0</td>\n",
              "      <td>0</td>\n",
              "      <td>0</td>\n",
              "    </tr>\n",
              "    <tr>\n",
              "      <th>3</th>\n",
              "      <td>25000.0</td>\n",
              "      <td>1</td>\n",
              "      <td>20.49</td>\n",
              "      <td>669.19</td>\n",
              "      <td>22</td>\n",
              "      <td>100000.0</td>\n",
              "      <td>0</td>\n",
              "      <td>15.16</td>\n",
              "      <td>5.0</td>\n",
              "      <td>0.0</td>\n",
              "      <td>20133.0</td>\n",
              "      <td>148.0</td>\n",
              "      <td>7.0</td>\n",
              "      <td>0</td>\n",
              "      <td>0.0</td>\n",
              "      <td>0.0</td>\n",
              "      <td>0</td>\n",
              "      <td>0</td>\n",
              "      <td>0</td>\n",
              "      <td>0</td>\n",
              "      <td>0</td>\n",
              "      <td>1</td>\n",
              "      <td>0</td>\n",
              "      <td>1</td>\n",
              "      <td>0</td>\n",
              "      <td>0</td>\n",
              "      <td>0</td>\n",
              "      <td>1</td>\n",
              "      <td>0</td>\n",
              "      <td>0</td>\n",
              "      <td>0</td>\n",
              "      <td>0</td>\n",
              "      <td>0</td>\n",
              "      <td>0</td>\n",
              "      <td>0</td>\n",
              "      <td>0</td>\n",
              "      <td>0</td>\n",
              "      <td>0</td>\n",
              "      <td>0</td>\n",
              "      <td>0</td>\n",
              "      <td>1</td>\n",
              "      <td>0</td>\n",
              "      <td>0</td>\n",
              "      <td>0</td>\n",
              "      <td>0</td>\n",
              "      <td>0</td>\n",
              "      <td>0</td>\n",
              "      <td>1</td>\n",
              "      <td>0</td>\n",
              "      <td>0</td>\n",
              "      <td>0</td>\n",
              "      <td>0</td>\n",
              "      <td>0</td>\n",
              "    </tr>\n",
              "    <tr>\n",
              "      <th>4</th>\n",
              "      <td>12600.0</td>\n",
              "      <td>0</td>\n",
              "      <td>8.39</td>\n",
              "      <td>397.11</td>\n",
              "      <td>5</td>\n",
              "      <td>96011.0</td>\n",
              "      <td>1</td>\n",
              "      <td>11.56</td>\n",
              "      <td>9.0</td>\n",
              "      <td>0.0</td>\n",
              "      <td>20033.0</td>\n",
              "      <td>146.1</td>\n",
              "      <td>22.0</td>\n",
              "      <td>0</td>\n",
              "      <td>4.0</td>\n",
              "      <td>0.0</td>\n",
              "      <td>0</td>\n",
              "      <td>1</td>\n",
              "      <td>0</td>\n",
              "      <td>0</td>\n",
              "      <td>0</td>\n",
              "      <td>0</td>\n",
              "      <td>1</td>\n",
              "      <td>0</td>\n",
              "      <td>0</td>\n",
              "      <td>0</td>\n",
              "      <td>0</td>\n",
              "      <td>1</td>\n",
              "      <td>0</td>\n",
              "      <td>0</td>\n",
              "      <td>0</td>\n",
              "      <td>0</td>\n",
              "      <td>0</td>\n",
              "      <td>0</td>\n",
              "      <td>0</td>\n",
              "      <td>0</td>\n",
              "      <td>0</td>\n",
              "      <td>0</td>\n",
              "      <td>0</td>\n",
              "      <td>0</td>\n",
              "      <td>1</td>\n",
              "      <td>0</td>\n",
              "      <td>0</td>\n",
              "      <td>0</td>\n",
              "      <td>0</td>\n",
              "      <td>0</td>\n",
              "      <td>0</td>\n",
              "      <td>0</td>\n",
              "      <td>0</td>\n",
              "      <td>0</td>\n",
              "      <td>1</td>\n",
              "      <td>0</td>\n",
              "      <td>0</td>\n",
              "    </tr>\n",
              "  </tbody>\n",
              "</table>\n",
              "</div>"
            ],
            "text/plain": [
              "   loan_amnt  60_mo_term  int_rate  installment  ...  EL_7  EL_8  EL_9  EL_less1\n",
              "0    35000.0           0     25.83      1407.01  ...     0     0     0         0\n",
              "1    12000.0           1     16.55       295.34  ...     0     0     0         0\n",
              "2    10000.0           0     14.16       342.56  ...     0     0     0         0\n",
              "3    25000.0           1     20.49       669.19  ...     0     0     0         0\n",
              "4    12600.0           0      8.39       397.11  ...     0     1     0         0\n",
              "\n",
              "[5 rows x 53 columns]"
            ]
          },
          "metadata": {},
          "execution_count": 108
        }
      ]
    },
    {
      "cell_type": "code",
      "metadata": {
        "colab": {
          "base_uri": "https://localhost:8080/"
        },
        "id": "cZ1xyLYs0thC",
        "outputId": "79f5d7d1-a464-4a96-d353-a8bc0fb02480"
      },
      "source": [
        "new_df.info()"
      ],
      "execution_count": null,
      "outputs": [
        {
          "output_type": "stream",
          "name": "stdout",
          "text": [
            "<class 'pandas.core.frame.DataFrame'>\n",
            "Int64Index: 391238 entries, 0 to 391768\n",
            "Data columns (total 53 columns):\n",
            " #   Column                Non-Null Count   Dtype  \n",
            "---  ------                --------------   -----  \n",
            " 0   loan_amnt             391238 non-null  float64\n",
            " 1   60_mo_term            391238 non-null  int8   \n",
            " 2   int_rate              391238 non-null  float64\n",
            " 3   installment           391238 non-null  float64\n",
            " 4   sub_grade             391238 non-null  int64  \n",
            " 5   annual_inc            391238 non-null  float64\n",
            " 6   loan_status           391238 non-null  int64  \n",
            " 7   dti                   391238 non-null  float64\n",
            " 8   open_acc              391238 non-null  float64\n",
            " 9   pub_rec               391238 non-null  float64\n",
            " 10  revol_bal             391238 non-null  float64\n",
            " 11  revol_util            391238 non-null  float64\n",
            " 12  total_acc             391238 non-null  float64\n",
            " 13  initial_list_status   391238 non-null  int64  \n",
            " 14  mort_acc              391238 non-null  float64\n",
            " 15  pub_rec_bankruptcies  391238 non-null  float64\n",
            " 16  HO_ANY                391238 non-null  uint8  \n",
            " 17  HO_MORTGAGE           391238 non-null  uint8  \n",
            " 18  HO_NONE               391238 non-null  uint8  \n",
            " 19  HO_OTHER              391238 non-null  uint8  \n",
            " 20  HO_OWN                391238 non-null  uint8  \n",
            " 21  HO_RENT               391238 non-null  uint8  \n",
            " 22  VS_Not Verified       391238 non-null  uint8  \n",
            " 23  VS_Source Verified    391238 non-null  uint8  \n",
            " 24  VS_Verified           391238 non-null  uint8  \n",
            " 25  PPS_car               391238 non-null  uint8  \n",
            " 26  PPS_cc                391238 non-null  uint8  \n",
            " 27  PPS_debtcons          391238 non-null  uint8  \n",
            " 28  PPS_edu               391238 non-null  uint8  \n",
            " 29  PPS_homeimp           391238 non-null  uint8  \n",
            " 30  PPS_house             391238 non-null  uint8  \n",
            " 31  PPS_majorprc          391238 non-null  uint8  \n",
            " 32  PPS_medical           391238 non-null  uint8  \n",
            " 33  PPS_moving            391238 non-null  uint8  \n",
            " 34  PPS_other             391238 non-null  uint8  \n",
            " 35  PPS_reneweng          391238 non-null  uint8  \n",
            " 36  PPS_smallbus          391238 non-null  uint8  \n",
            " 37  PPS_vacation          391238 non-null  uint8  \n",
            " 38  PPS_wedd              391238 non-null  uint8  \n",
            " 39  APP_DIRECTPAY         391238 non-null  uint8  \n",
            " 40  APP_INDIVIDUAL        391238 non-null  uint8  \n",
            " 41  APP_JOINT             391238 non-null  uint8  \n",
            " 42  EL_1                  391238 non-null  uint8  \n",
            " 43  EL_10+                391238 non-null  uint8  \n",
            " 44  EL_2                  391238 non-null  uint8  \n",
            " 45  EL_3                  391238 non-null  uint8  \n",
            " 46  EL_4                  391238 non-null  uint8  \n",
            " 47  EL_5                  391238 non-null  uint8  \n",
            " 48  EL_6                  391238 non-null  uint8  \n",
            " 49  EL_7                  391238 non-null  uint8  \n",
            " 50  EL_8                  391238 non-null  uint8  \n",
            " 51  EL_9                  391238 non-null  uint8  \n",
            " 52  EL_less1              391238 non-null  uint8  \n",
            "dtypes: float64(12), int64(3), int8(1), uint8(37)\n",
            "memory usage: 61.9 MB\n"
          ]
        }
      ]
    },
    {
      "cell_type": "markdown",
      "metadata": {
        "id": "kuT64Q8CfWnl"
      },
      "source": [
        "# Should you standardize binary (1 or 0) variables?"
      ]
    },
    {
      "cell_type": "markdown",
      "metadata": {
        "id": "SWvxS6LUhfQc"
      },
      "source": [
        "answer : no, based on this discussion link\n",
        "\n",
        "https://stats.stackexchange.com/questions/59392/should-you-ever-standardise-binary-variables"
      ]
    },
    {
      "cell_type": "markdown",
      "metadata": {
        "id": "4NV2-9xNdh6z"
      },
      "source": [
        "# EXPORT our new_df into csv to be processed with ML Model"
      ]
    },
    {
      "cell_type": "code",
      "metadata": {
        "id": "pwYWLzCfdpOw"
      },
      "source": [
        "folderpath ='/content/drive/MyDrive/13. Python/Machine Learning/TensorFlow_FILES/DATA/'"
      ],
      "execution_count": null,
      "outputs": []
    },
    {
      "cell_type": "code",
      "metadata": {
        "id": "fBe4s2Osdxjf"
      },
      "source": [
        "# df.to_csv(\"file.csv\", encoding=\"utf-8\") \n",
        "new_df.to_csv(folderpath+\"lending_club_clean_convert2.csv\", encoding=\"utf-8\", index=False)"
      ],
      "execution_count": null,
      "outputs": []
    },
    {
      "cell_type": "code",
      "metadata": {
        "id": "ggycs5pJeT68"
      },
      "source": [
        ""
      ],
      "execution_count": null,
      "outputs": []
    }
  ]
}