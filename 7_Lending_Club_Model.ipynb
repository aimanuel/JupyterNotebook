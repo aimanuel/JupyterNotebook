{
  "nbformat": 4,
  "nbformat_minor": 0,
  "metadata": {
    "colab": {
      "name": "7. Lending Club Model.ipynb",
      "provenance": [],
      "collapsed_sections": [],
      "toc_visible": true,
      "mount_file_id": "1gSXfY_BSe41NyYj5LBYUSjb1MekGcr0m",
      "authorship_tag": "ABX9TyPjm7jTiWMYOSKadA1FU7IK",
      "include_colab_link": true
    },
    "kernelspec": {
      "name": "python3",
      "display_name": "Python 3"
    },
    "language_info": {
      "name": "python"
    }
  },
  "cells": [
    {
      "cell_type": "markdown",
      "metadata": {
        "id": "view-in-github",
        "colab_type": "text"
      },
      "source": [
        "<a href=\"https://colab.research.google.com/github/aimanuel/JupyterNotebook/blob/main/7_Lending_Club_Model.ipynb\" target=\"_parent\"><img src=\"https://colab.research.google.com/assets/colab-badge.svg\" alt=\"Open In Colab\"/></a>"
      ]
    },
    {
      "cell_type": "markdown",
      "metadata": {
        "id": "O-BlznN-jDFx"
      },
      "source": [
        "# Import Libraries"
      ]
    },
    {
      "cell_type": "code",
      "metadata": {
        "id": "Kuqw6rAbhuAR"
      },
      "source": [
        "import pandas as pd\n",
        "import matplotlib.pyplot as plt\n",
        "import seaborn as sns\n",
        "import numpy as np\n",
        "\n",
        "%matplotlib inline"
      ],
      "execution_count": null,
      "outputs": []
    },
    {
      "cell_type": "markdown",
      "metadata": {
        "id": "SJXGdx_MjJzk"
      },
      "source": [
        "## Import standardization & train_test_split"
      ]
    },
    {
      "cell_type": "code",
      "metadata": {
        "id": "vDDgzy-9iZdi"
      },
      "source": [
        "from sklearn.model_selection import train_test_split\n",
        "from sklearn.preprocessing import MinMaxScaler"
      ],
      "execution_count": null,
      "outputs": []
    },
    {
      "cell_type": "markdown",
      "metadata": {
        "id": "uDhRWcmGiyeI"
      },
      "source": [
        "## Import Tensorflow"
      ]
    },
    {
      "cell_type": "code",
      "metadata": {
        "id": "dPXHMLUxiwZ1"
      },
      "source": [
        "from tensorflow.keras.models import Sequential\n",
        "from tensorflow.keras.layers import Dense, Dropout"
      ],
      "execution_count": null,
      "outputs": []
    },
    {
      "cell_type": "markdown",
      "metadata": {
        "id": "mv4w9jOdivOM"
      },
      "source": [
        "## Import Early Stopping"
      ]
    },
    {
      "cell_type": "code",
      "metadata": {
        "id": "Gd5EEM4dif5I"
      },
      "source": [
        "from tensorflow.keras.callbacks import EarlyStopping"
      ],
      "execution_count": null,
      "outputs": []
    },
    {
      "cell_type": "markdown",
      "metadata": {
        "id": "cmOTc5Cpi9SL"
      },
      "source": [
        "## Import Dropout"
      ]
    },
    {
      "cell_type": "code",
      "metadata": {
        "id": "CvcUbQVHjA53"
      },
      "source": [
        "from tensorflow.keras.layers import Dropout"
      ],
      "execution_count": null,
      "outputs": []
    },
    {
      "cell_type": "markdown",
      "metadata": {
        "id": "FtKXHnjICVjw"
      },
      "source": [
        "## Import Confusion & Classification Matrix"
      ]
    },
    {
      "cell_type": "code",
      "metadata": {
        "id": "CUikJmSkCUZi"
      },
      "source": [
        "from sklearn.metrics import classification_report, confusion_matrix"
      ],
      "execution_count": null,
      "outputs": []
    },
    {
      "cell_type": "markdown",
      "metadata": {
        "id": "hXLS0915jeYP"
      },
      "source": [
        "# Filepath"
      ]
    },
    {
      "cell_type": "code",
      "metadata": {
        "id": "Vo1IaFbfh1Mt"
      },
      "source": [
        "filepath = '/content/drive/MyDrive/13. Python/Machine Learning/TensorFlow_FILES/DATA/lending_club_clean_convert2.csv'"
      ],
      "execution_count": null,
      "outputs": []
    },
    {
      "cell_type": "code",
      "metadata": {
        "id": "x3Aqkq5_iTMI"
      },
      "source": [
        "df = pd.read_csv(filepath)"
      ],
      "execution_count": null,
      "outputs": []
    },
    {
      "cell_type": "code",
      "metadata": {
        "colab": {
          "base_uri": "https://localhost:8080/"
        },
        "id": "ozd-VpFRjj96",
        "outputId": "b6ed4891-fb87-42c7-976b-12866e0bc11c"
      },
      "source": [
        "df.info()"
      ],
      "execution_count": null,
      "outputs": [
        {
          "output_type": "stream",
          "name": "stdout",
          "text": [
            "<class 'pandas.core.frame.DataFrame'>\n",
            "RangeIndex: 391238 entries, 0 to 391237\n",
            "Data columns (total 53 columns):\n",
            " #   Column                Non-Null Count   Dtype  \n",
            "---  ------                --------------   -----  \n",
            " 0   loan_amnt             391238 non-null  float64\n",
            " 1   60_mo_term            391238 non-null  int64  \n",
            " 2   int_rate              391238 non-null  float64\n",
            " 3   installment           391238 non-null  float64\n",
            " 4   sub_grade             391238 non-null  int64  \n",
            " 5   annual_inc            391238 non-null  float64\n",
            " 6   loan_status           391238 non-null  int64  \n",
            " 7   dti                   391238 non-null  float64\n",
            " 8   open_acc              391238 non-null  float64\n",
            " 9   pub_rec               391238 non-null  float64\n",
            " 10  revol_bal             391238 non-null  float64\n",
            " 11  revol_util            391238 non-null  float64\n",
            " 12  total_acc             391238 non-null  float64\n",
            " 13  initial_list_status   391238 non-null  int64  \n",
            " 14  mort_acc              391238 non-null  float64\n",
            " 15  pub_rec_bankruptcies  391238 non-null  float64\n",
            " 16  HO_ANY                391238 non-null  int64  \n",
            " 17  HO_MORTGAGE           391238 non-null  int64  \n",
            " 18  HO_NONE               391238 non-null  int64  \n",
            " 19  HO_OTHER              391238 non-null  int64  \n",
            " 20  HO_OWN                391238 non-null  int64  \n",
            " 21  HO_RENT               391238 non-null  int64  \n",
            " 22  VS_Not Verified       391238 non-null  int64  \n",
            " 23  VS_Source Verified    391238 non-null  int64  \n",
            " 24  VS_Verified           391238 non-null  int64  \n",
            " 25  PPS_car               391238 non-null  int64  \n",
            " 26  PPS_cc                391238 non-null  int64  \n",
            " 27  PPS_debtcons          391238 non-null  int64  \n",
            " 28  PPS_edu               391238 non-null  int64  \n",
            " 29  PPS_homeimp           391238 non-null  int64  \n",
            " 30  PPS_house             391238 non-null  int64  \n",
            " 31  PPS_majorprc          391238 non-null  int64  \n",
            " 32  PPS_medical           391238 non-null  int64  \n",
            " 33  PPS_moving            391238 non-null  int64  \n",
            " 34  PPS_other             391238 non-null  int64  \n",
            " 35  PPS_reneweng          391238 non-null  int64  \n",
            " 36  PPS_smallbus          391238 non-null  int64  \n",
            " 37  PPS_vacation          391238 non-null  int64  \n",
            " 38  PPS_wedd              391238 non-null  int64  \n",
            " 39  APP_DIRECTPAY         391238 non-null  int64  \n",
            " 40  APP_INDIVIDUAL        391238 non-null  int64  \n",
            " 41  APP_JOINT             391238 non-null  int64  \n",
            " 42  EL_1                  391238 non-null  int64  \n",
            " 43  EL_10+                391238 non-null  int64  \n",
            " 44  EL_2                  391238 non-null  int64  \n",
            " 45  EL_3                  391238 non-null  int64  \n",
            " 46  EL_4                  391238 non-null  int64  \n",
            " 47  EL_5                  391238 non-null  int64  \n",
            " 48  EL_6                  391238 non-null  int64  \n",
            " 49  EL_7                  391238 non-null  int64  \n",
            " 50  EL_8                  391238 non-null  int64  \n",
            " 51  EL_9                  391238 non-null  int64  \n",
            " 52  EL_less1              391238 non-null  int64  \n",
            "dtypes: float64(12), int64(41)\n",
            "memory usage: 158.2 MB\n"
          ]
        }
      ]
    },
    {
      "cell_type": "code",
      "metadata": {
        "colab": {
          "base_uri": "https://localhost:8080/",
          "height": 243
        },
        "id": "kLLykyCHTANx",
        "outputId": "07c13143-df94-4be3-c5b1-e68bcca3e5e7"
      },
      "source": [
        "df.head()"
      ],
      "execution_count": null,
      "outputs": [
        {
          "output_type": "execute_result",
          "data": {
            "text/html": [
              "<div>\n",
              "<style scoped>\n",
              "    .dataframe tbody tr th:only-of-type {\n",
              "        vertical-align: middle;\n",
              "    }\n",
              "\n",
              "    .dataframe tbody tr th {\n",
              "        vertical-align: top;\n",
              "    }\n",
              "\n",
              "    .dataframe thead th {\n",
              "        text-align: right;\n",
              "    }\n",
              "</style>\n",
              "<table border=\"1\" class=\"dataframe\">\n",
              "  <thead>\n",
              "    <tr style=\"text-align: right;\">\n",
              "      <th></th>\n",
              "      <th>loan_amnt</th>\n",
              "      <th>60_mo_term</th>\n",
              "      <th>int_rate</th>\n",
              "      <th>installment</th>\n",
              "      <th>sub_grade</th>\n",
              "      <th>annual_inc</th>\n",
              "      <th>loan_status</th>\n",
              "      <th>dti</th>\n",
              "      <th>open_acc</th>\n",
              "      <th>pub_rec</th>\n",
              "      <th>revol_bal</th>\n",
              "      <th>revol_util</th>\n",
              "      <th>total_acc</th>\n",
              "      <th>initial_list_status</th>\n",
              "      <th>mort_acc</th>\n",
              "      <th>pub_rec_bankruptcies</th>\n",
              "      <th>HO_ANY</th>\n",
              "      <th>HO_MORTGAGE</th>\n",
              "      <th>HO_NONE</th>\n",
              "      <th>HO_OTHER</th>\n",
              "      <th>HO_OWN</th>\n",
              "      <th>HO_RENT</th>\n",
              "      <th>VS_Not Verified</th>\n",
              "      <th>VS_Source Verified</th>\n",
              "      <th>VS_Verified</th>\n",
              "      <th>PPS_car</th>\n",
              "      <th>PPS_cc</th>\n",
              "      <th>PPS_debtcons</th>\n",
              "      <th>PPS_edu</th>\n",
              "      <th>PPS_homeimp</th>\n",
              "      <th>PPS_house</th>\n",
              "      <th>PPS_majorprc</th>\n",
              "      <th>PPS_medical</th>\n",
              "      <th>PPS_moving</th>\n",
              "      <th>PPS_other</th>\n",
              "      <th>PPS_reneweng</th>\n",
              "      <th>PPS_smallbus</th>\n",
              "      <th>PPS_vacation</th>\n",
              "      <th>PPS_wedd</th>\n",
              "      <th>APP_DIRECTPAY</th>\n",
              "      <th>APP_INDIVIDUAL</th>\n",
              "      <th>APP_JOINT</th>\n",
              "      <th>EL_1</th>\n",
              "      <th>EL_10+</th>\n",
              "      <th>EL_2</th>\n",
              "      <th>EL_3</th>\n",
              "      <th>EL_4</th>\n",
              "      <th>EL_5</th>\n",
              "      <th>EL_6</th>\n",
              "      <th>EL_7</th>\n",
              "      <th>EL_8</th>\n",
              "      <th>EL_9</th>\n",
              "      <th>EL_less1</th>\n",
              "    </tr>\n",
              "  </thead>\n",
              "  <tbody>\n",
              "    <tr>\n",
              "      <th>0</th>\n",
              "      <td>35000.0</td>\n",
              "      <td>0</td>\n",
              "      <td>25.83</td>\n",
              "      <td>1407.01</td>\n",
              "      <td>32</td>\n",
              "      <td>165800.0</td>\n",
              "      <td>1</td>\n",
              "      <td>7.42</td>\n",
              "      <td>5.0</td>\n",
              "      <td>0.0</td>\n",
              "      <td>16521.0</td>\n",
              "      <td>153.0</td>\n",
              "      <td>5.0</td>\n",
              "      <td>1</td>\n",
              "      <td>0.0</td>\n",
              "      <td>0.0</td>\n",
              "      <td>0</td>\n",
              "      <td>0</td>\n",
              "      <td>0</td>\n",
              "      <td>0</td>\n",
              "      <td>0</td>\n",
              "      <td>1</td>\n",
              "      <td>0</td>\n",
              "      <td>0</td>\n",
              "      <td>1</td>\n",
              "      <td>0</td>\n",
              "      <td>0</td>\n",
              "      <td>1</td>\n",
              "      <td>0</td>\n",
              "      <td>0</td>\n",
              "      <td>0</td>\n",
              "      <td>0</td>\n",
              "      <td>0</td>\n",
              "      <td>0</td>\n",
              "      <td>0</td>\n",
              "      <td>0</td>\n",
              "      <td>0</td>\n",
              "      <td>0</td>\n",
              "      <td>0</td>\n",
              "      <td>0</td>\n",
              "      <td>1</td>\n",
              "      <td>0</td>\n",
              "      <td>0</td>\n",
              "      <td>1</td>\n",
              "      <td>0</td>\n",
              "      <td>0</td>\n",
              "      <td>0</td>\n",
              "      <td>0</td>\n",
              "      <td>0</td>\n",
              "      <td>0</td>\n",
              "      <td>0</td>\n",
              "      <td>0</td>\n",
              "      <td>0</td>\n",
              "    </tr>\n",
              "    <tr>\n",
              "      <th>1</th>\n",
              "      <td>12000.0</td>\n",
              "      <td>1</td>\n",
              "      <td>16.55</td>\n",
              "      <td>295.34</td>\n",
              "      <td>17</td>\n",
              "      <td>45600.0</td>\n",
              "      <td>1</td>\n",
              "      <td>38.98</td>\n",
              "      <td>5.0</td>\n",
              "      <td>0.0</td>\n",
              "      <td>13880.0</td>\n",
              "      <td>152.5</td>\n",
              "      <td>11.0</td>\n",
              "      <td>1</td>\n",
              "      <td>5.0</td>\n",
              "      <td>0.0</td>\n",
              "      <td>0</td>\n",
              "      <td>1</td>\n",
              "      <td>0</td>\n",
              "      <td>0</td>\n",
              "      <td>0</td>\n",
              "      <td>0</td>\n",
              "      <td>0</td>\n",
              "      <td>0</td>\n",
              "      <td>1</td>\n",
              "      <td>0</td>\n",
              "      <td>0</td>\n",
              "      <td>0</td>\n",
              "      <td>0</td>\n",
              "      <td>0</td>\n",
              "      <td>0</td>\n",
              "      <td>0</td>\n",
              "      <td>0</td>\n",
              "      <td>0</td>\n",
              "      <td>1</td>\n",
              "      <td>0</td>\n",
              "      <td>0</td>\n",
              "      <td>0</td>\n",
              "      <td>0</td>\n",
              "      <td>0</td>\n",
              "      <td>1</td>\n",
              "      <td>0</td>\n",
              "      <td>0</td>\n",
              "      <td>1</td>\n",
              "      <td>0</td>\n",
              "      <td>0</td>\n",
              "      <td>0</td>\n",
              "      <td>0</td>\n",
              "      <td>0</td>\n",
              "      <td>0</td>\n",
              "      <td>0</td>\n",
              "      <td>0</td>\n",
              "      <td>0</td>\n",
              "    </tr>\n",
              "    <tr>\n",
              "      <th>2</th>\n",
              "      <td>10000.0</td>\n",
              "      <td>0</td>\n",
              "      <td>14.16</td>\n",
              "      <td>342.56</td>\n",
              "      <td>12</td>\n",
              "      <td>91000.0</td>\n",
              "      <td>1</td>\n",
              "      <td>20.94</td>\n",
              "      <td>9.0</td>\n",
              "      <td>0.0</td>\n",
              "      <td>9344.0</td>\n",
              "      <td>150.7</td>\n",
              "      <td>37.0</td>\n",
              "      <td>1</td>\n",
              "      <td>6.0</td>\n",
              "      <td>0.0</td>\n",
              "      <td>0</td>\n",
              "      <td>0</td>\n",
              "      <td>0</td>\n",
              "      <td>0</td>\n",
              "      <td>1</td>\n",
              "      <td>0</td>\n",
              "      <td>1</td>\n",
              "      <td>0</td>\n",
              "      <td>0</td>\n",
              "      <td>0</td>\n",
              "      <td>0</td>\n",
              "      <td>1</td>\n",
              "      <td>0</td>\n",
              "      <td>0</td>\n",
              "      <td>0</td>\n",
              "      <td>0</td>\n",
              "      <td>0</td>\n",
              "      <td>0</td>\n",
              "      <td>0</td>\n",
              "      <td>0</td>\n",
              "      <td>0</td>\n",
              "      <td>0</td>\n",
              "      <td>0</td>\n",
              "      <td>0</td>\n",
              "      <td>1</td>\n",
              "      <td>0</td>\n",
              "      <td>0</td>\n",
              "      <td>1</td>\n",
              "      <td>0</td>\n",
              "      <td>0</td>\n",
              "      <td>0</td>\n",
              "      <td>0</td>\n",
              "      <td>0</td>\n",
              "      <td>0</td>\n",
              "      <td>0</td>\n",
              "      <td>0</td>\n",
              "      <td>0</td>\n",
              "    </tr>\n",
              "    <tr>\n",
              "      <th>3</th>\n",
              "      <td>25000.0</td>\n",
              "      <td>1</td>\n",
              "      <td>20.49</td>\n",
              "      <td>669.19</td>\n",
              "      <td>22</td>\n",
              "      <td>100000.0</td>\n",
              "      <td>0</td>\n",
              "      <td>15.16</td>\n",
              "      <td>5.0</td>\n",
              "      <td>0.0</td>\n",
              "      <td>20133.0</td>\n",
              "      <td>148.0</td>\n",
              "      <td>7.0</td>\n",
              "      <td>0</td>\n",
              "      <td>0.0</td>\n",
              "      <td>0.0</td>\n",
              "      <td>0</td>\n",
              "      <td>0</td>\n",
              "      <td>0</td>\n",
              "      <td>0</td>\n",
              "      <td>0</td>\n",
              "      <td>1</td>\n",
              "      <td>0</td>\n",
              "      <td>1</td>\n",
              "      <td>0</td>\n",
              "      <td>0</td>\n",
              "      <td>0</td>\n",
              "      <td>1</td>\n",
              "      <td>0</td>\n",
              "      <td>0</td>\n",
              "      <td>0</td>\n",
              "      <td>0</td>\n",
              "      <td>0</td>\n",
              "      <td>0</td>\n",
              "      <td>0</td>\n",
              "      <td>0</td>\n",
              "      <td>0</td>\n",
              "      <td>0</td>\n",
              "      <td>0</td>\n",
              "      <td>0</td>\n",
              "      <td>1</td>\n",
              "      <td>0</td>\n",
              "      <td>0</td>\n",
              "      <td>0</td>\n",
              "      <td>0</td>\n",
              "      <td>0</td>\n",
              "      <td>0</td>\n",
              "      <td>1</td>\n",
              "      <td>0</td>\n",
              "      <td>0</td>\n",
              "      <td>0</td>\n",
              "      <td>0</td>\n",
              "      <td>0</td>\n",
              "    </tr>\n",
              "    <tr>\n",
              "      <th>4</th>\n",
              "      <td>12600.0</td>\n",
              "      <td>0</td>\n",
              "      <td>8.39</td>\n",
              "      <td>397.11</td>\n",
              "      <td>5</td>\n",
              "      <td>96011.0</td>\n",
              "      <td>1</td>\n",
              "      <td>11.56</td>\n",
              "      <td>9.0</td>\n",
              "      <td>0.0</td>\n",
              "      <td>20033.0</td>\n",
              "      <td>146.1</td>\n",
              "      <td>22.0</td>\n",
              "      <td>0</td>\n",
              "      <td>4.0</td>\n",
              "      <td>0.0</td>\n",
              "      <td>0</td>\n",
              "      <td>1</td>\n",
              "      <td>0</td>\n",
              "      <td>0</td>\n",
              "      <td>0</td>\n",
              "      <td>0</td>\n",
              "      <td>1</td>\n",
              "      <td>0</td>\n",
              "      <td>0</td>\n",
              "      <td>0</td>\n",
              "      <td>0</td>\n",
              "      <td>1</td>\n",
              "      <td>0</td>\n",
              "      <td>0</td>\n",
              "      <td>0</td>\n",
              "      <td>0</td>\n",
              "      <td>0</td>\n",
              "      <td>0</td>\n",
              "      <td>0</td>\n",
              "      <td>0</td>\n",
              "      <td>0</td>\n",
              "      <td>0</td>\n",
              "      <td>0</td>\n",
              "      <td>0</td>\n",
              "      <td>1</td>\n",
              "      <td>0</td>\n",
              "      <td>0</td>\n",
              "      <td>0</td>\n",
              "      <td>0</td>\n",
              "      <td>0</td>\n",
              "      <td>0</td>\n",
              "      <td>0</td>\n",
              "      <td>0</td>\n",
              "      <td>0</td>\n",
              "      <td>1</td>\n",
              "      <td>0</td>\n",
              "      <td>0</td>\n",
              "    </tr>\n",
              "  </tbody>\n",
              "</table>\n",
              "</div>"
            ],
            "text/plain": [
              "   loan_amnt  60_mo_term  int_rate  installment  ...  EL_7  EL_8  EL_9  EL_less1\n",
              "0    35000.0           0     25.83      1407.01  ...     0     0     0         0\n",
              "1    12000.0           1     16.55       295.34  ...     0     0     0         0\n",
              "2    10000.0           0     14.16       342.56  ...     0     0     0         0\n",
              "3    25000.0           1     20.49       669.19  ...     0     0     0         0\n",
              "4    12600.0           0      8.39       397.11  ...     0     1     0         0\n",
              "\n",
              "[5 rows x 53 columns]"
            ]
          },
          "metadata": {},
          "execution_count": 139
        }
      ]
    },
    {
      "cell_type": "code",
      "metadata": {
        "colab": {
          "base_uri": "https://localhost:8080/"
        },
        "id": "PDRPBQ6rlebP",
        "outputId": "b176e1e0-222b-48b0-815a-c1fccf1b82ee"
      },
      "source": [
        "df.shape"
      ],
      "execution_count": null,
      "outputs": [
        {
          "output_type": "execute_result",
          "data": {
            "text/plain": [
              "(391238, 53)"
            ]
          },
          "metadata": {},
          "execution_count": 129
        }
      ]
    },
    {
      "cell_type": "code",
      "metadata": {
        "colab": {
          "base_uri": "https://localhost:8080/"
        },
        "id": "28VkcCLV5MTE",
        "outputId": "c8bdb839-6011-423d-92f5-955bf6fd940b"
      },
      "source": [
        "print(df['loan_status'].value_counts())\n",
        "print('1 = ',(100*63029/(63029+15219)))\n",
        "print('0 = ',(100*15219/(63029+15219)))"
      ],
      "execution_count": null,
      "outputs": [
        {
          "output_type": "stream",
          "name": "stdout",
          "text": [
            "1    314218\n",
            "0     77020\n",
            "Name: loan_status, dtype: int64\n",
            "1 =  80.55030160515285\n",
            "0 =  19.449698394847154\n"
          ]
        }
      ]
    },
    {
      "cell_type": "markdown",
      "metadata": {
        "id": "3-54B66h6RhF"
      },
      "source": [
        "# '>>' Imbalanced Data"
      ]
    },
    {
      "cell_type": "markdown",
      "metadata": {
        "id": "wPgzG_DfD8Se"
      },
      "source": [
        "## Sampling your dataset instead of this giant number"
      ]
    },
    {
      "cell_type": "code",
      "metadata": {
        "id": "jogpfSgrEDMM"
      },
      "source": [
        "sampling_df = df.sample(frac=0.2, random_state=101)"
      ],
      "execution_count": null,
      "outputs": []
    },
    {
      "cell_type": "markdown",
      "metadata": {
        "id": "2XwcIHIsjxxd"
      },
      "source": [
        "## Split X, y train & test"
      ]
    },
    {
      "cell_type": "code",
      "metadata": {
        "id": "DH-BhHKrjlrb"
      },
      "source": [
        "X = sampling_df.drop('loan_status',axis=1).values\n",
        "y = sampling_df['loan_status'].values"
      ],
      "execution_count": null,
      "outputs": []
    },
    {
      "cell_type": "code",
      "metadata": {
        "id": "bc8Q_uGgj3uF"
      },
      "source": [
        "X_train, X_test, y_train, y_test = train_test_split(X,y,test_size=0.3,random_state=101)"
      ],
      "execution_count": null,
      "outputs": []
    },
    {
      "cell_type": "code",
      "metadata": {
        "colab": {
          "base_uri": "https://localhost:8080/"
        },
        "id": "zPWUpPgkkCoL",
        "outputId": "c527d0a8-4058-4a52-9fa3-5440ff2fcaff"
      },
      "source": [
        "print('train data :',X_train.shape)\n",
        "print('test data :',X_test.shape)"
      ],
      "execution_count": null,
      "outputs": [
        {
          "output_type": "stream",
          "name": "stdout",
          "text": [
            "train data : (54773, 54)\n",
            "test data : (23475, 54)\n"
          ]
        }
      ]
    },
    {
      "cell_type": "markdown",
      "metadata": {
        "id": "chMXYWmDkcI_"
      },
      "source": [
        "## Standardization/Normalize the data using MinMaxScaler"
      ]
    },
    {
      "cell_type": "code",
      "metadata": {
        "id": "PwO_sJhokGUQ"
      },
      "source": [
        "scaler = MinMaxScaler()"
      ],
      "execution_count": null,
      "outputs": []
    },
    {
      "cell_type": "code",
      "metadata": {
        "id": "FqQa4Ym5kivy"
      },
      "source": [
        "X_train = scaler.fit_transform(X_train)"
      ],
      "execution_count": null,
      "outputs": []
    },
    {
      "cell_type": "code",
      "metadata": {
        "id": "SL-fm5v0kkfz"
      },
      "source": [
        "X_test = scaler.transform(X_test)"
      ],
      "execution_count": null,
      "outputs": []
    },
    {
      "cell_type": "markdown",
      "metadata": {
        "id": "h4d03cxsF-kZ"
      },
      "source": [
        "## Tensor Deep Learning model"
      ]
    },
    {
      "cell_type": "markdown",
      "metadata": {
        "id": "8tyDFWydlZ2c"
      },
      "source": [
        "since we had a 54 columns, we can plot 3 layers of neural networks, each layer (54,36,18).<br>\n",
        "and This is a binary classification"
      ]
    },
    {
      "cell_type": "code",
      "metadata": {
        "id": "Hq5o5XaouSGG"
      },
      "source": [
        "model = Sequential()\n",
        "\n",
        "model.add(Dense(54,activation='relu'))\n",
        "model.add(Dropout(0.2))\n",
        "\n",
        "model.add(Dense(36,activation='relu'))\n",
        "model.add(Dropout(0.2))\n",
        "\n",
        "model.add(Dense(18,activation='relu'))\n",
        "model.add(Dropout(0.2))\n",
        "\n",
        "model.add(Dense(9,activation='relu'))\n",
        "model.add(Dropout(0.2))\n",
        "\n",
        "# BINARY CLASSIFICATION\n",
        "model.add(Dense(1,activation='sigmoid'))\n",
        "\n",
        "model.compile(optimizer='adam',loss='binary_crossentropy')"
      ],
      "execution_count": null,
      "outputs": []
    },
    {
      "cell_type": "code",
      "metadata": {
        "id": "-zeBNHJNu8FQ"
      },
      "source": [
        "early_stop = EarlyStopping(monitor='val_loss',mode='min',verbose=1,patience=25)"
      ],
      "execution_count": null,
      "outputs": []
    },
    {
      "cell_type": "code",
      "metadata": {
        "colab": {
          "base_uri": "https://localhost:8080/"
        },
        "id": "GCt_qM50vAy9",
        "outputId": "3a532a3b-cd8d-4a27-b1c3-50d34f6c4cb4"
      },
      "source": [
        "model.fit(x=X_train,y=y_train,epochs=50, batch_size=256,validation_data=(X_test,y_test),\n",
        "           callbacks=[early_stop])"
      ],
      "execution_count": null,
      "outputs": [
        {
          "output_type": "stream",
          "name": "stdout",
          "text": [
            "Epoch 1/50\n",
            "214/214 [==============================] - 2s 4ms/step - loss: 0.5049 - val_loss: 0.4551\n",
            "Epoch 2/50\n",
            "214/214 [==============================] - 1s 4ms/step - loss: 0.4720 - val_loss: 0.4546\n",
            "Epoch 3/50\n",
            "214/214 [==============================] - 1s 3ms/step - loss: 0.4666 - val_loss: 0.4516\n",
            "Epoch 4/50\n",
            "214/214 [==============================] - 1s 4ms/step - loss: 0.4635 - val_loss: 0.4538\n",
            "Epoch 5/50\n",
            "214/214 [==============================] - 1s 4ms/step - loss: 0.4614 - val_loss: 0.4520\n",
            "Epoch 6/50\n",
            "214/214 [==============================] - 1s 3ms/step - loss: 0.4588 - val_loss: 0.4512\n",
            "Epoch 7/50\n",
            "214/214 [==============================] - 1s 4ms/step - loss: 0.4584 - val_loss: 0.4494\n",
            "Epoch 8/50\n",
            "214/214 [==============================] - 1s 3ms/step - loss: 0.4569 - val_loss: 0.4494\n",
            "Epoch 9/50\n",
            "214/214 [==============================] - 1s 3ms/step - loss: 0.4555 - val_loss: 0.4494\n",
            "Epoch 10/50\n",
            "214/214 [==============================] - 1s 3ms/step - loss: 0.4556 - val_loss: 0.4495\n",
            "Epoch 11/50\n",
            "214/214 [==============================] - 1s 4ms/step - loss: 0.4559 - val_loss: 0.4492\n",
            "Epoch 12/50\n",
            "214/214 [==============================] - 1s 4ms/step - loss: 0.4532 - val_loss: 0.4490\n",
            "Epoch 13/50\n",
            "214/214 [==============================] - 1s 4ms/step - loss: 0.4533 - val_loss: 0.4485\n",
            "Epoch 14/50\n",
            "214/214 [==============================] - 1s 4ms/step - loss: 0.4525 - val_loss: 0.4499\n",
            "Epoch 15/50\n",
            "214/214 [==============================] - 1s 4ms/step - loss: 0.4515 - val_loss: 0.4494\n",
            "Epoch 16/50\n",
            "214/214 [==============================] - 1s 4ms/step - loss: 0.4521 - val_loss: 0.4489\n",
            "Epoch 17/50\n",
            "214/214 [==============================] - 1s 3ms/step - loss: 0.4512 - val_loss: 0.4492\n",
            "Epoch 18/50\n",
            "214/214 [==============================] - 1s 3ms/step - loss: 0.4510 - val_loss: 0.4493\n",
            "Epoch 19/50\n",
            "214/214 [==============================] - 1s 4ms/step - loss: 0.4512 - val_loss: 0.4491\n",
            "Epoch 20/50\n",
            "214/214 [==============================] - 1s 3ms/step - loss: 0.4502 - val_loss: 0.4483\n",
            "Epoch 21/50\n",
            "214/214 [==============================] - 1s 3ms/step - loss: 0.4502 - val_loss: 0.4489\n",
            "Epoch 22/50\n",
            "214/214 [==============================] - 1s 3ms/step - loss: 0.4495 - val_loss: 0.4487\n",
            "Epoch 23/50\n",
            "214/214 [==============================] - 1s 3ms/step - loss: 0.4488 - val_loss: 0.4488\n",
            "Epoch 24/50\n",
            "214/214 [==============================] - 1s 4ms/step - loss: 0.4494 - val_loss: 0.4495\n",
            "Epoch 25/50\n",
            "214/214 [==============================] - 1s 4ms/step - loss: 0.4485 - val_loss: 0.4489\n",
            "Epoch 26/50\n",
            "214/214 [==============================] - 1s 3ms/step - loss: 0.4486 - val_loss: 0.4494\n",
            "Epoch 27/50\n",
            "214/214 [==============================] - 1s 3ms/step - loss: 0.4482 - val_loss: 0.4501\n",
            "Epoch 28/50\n",
            "214/214 [==============================] - 1s 3ms/step - loss: 0.4478 - val_loss: 0.4488\n",
            "Epoch 29/50\n",
            "214/214 [==============================] - 1s 3ms/step - loss: 0.4471 - val_loss: 0.4487\n",
            "Epoch 30/50\n",
            "214/214 [==============================] - 1s 4ms/step - loss: 0.4478 - val_loss: 0.4488\n",
            "Epoch 31/50\n",
            "214/214 [==============================] - 1s 4ms/step - loss: 0.4466 - val_loss: 0.4490\n",
            "Epoch 32/50\n",
            "214/214 [==============================] - 1s 3ms/step - loss: 0.4469 - val_loss: 0.4484\n",
            "Epoch 33/50\n",
            "214/214 [==============================] - 1s 4ms/step - loss: 0.4472 - val_loss: 0.4494\n",
            "Epoch 34/50\n",
            "214/214 [==============================] - 1s 4ms/step - loss: 0.4474 - val_loss: 0.4489\n",
            "Epoch 35/50\n",
            "214/214 [==============================] - 1s 3ms/step - loss: 0.4461 - val_loss: 0.4495\n",
            "Epoch 36/50\n",
            "214/214 [==============================] - 1s 3ms/step - loss: 0.4450 - val_loss: 0.4495\n",
            "Epoch 37/50\n",
            "214/214 [==============================] - 1s 4ms/step - loss: 0.4456 - val_loss: 0.4497\n",
            "Epoch 38/50\n",
            "214/214 [==============================] - 1s 4ms/step - loss: 0.4454 - val_loss: 0.4497\n",
            "Epoch 39/50\n",
            "214/214 [==============================] - 1s 4ms/step - loss: 0.4455 - val_loss: 0.4490\n",
            "Epoch 40/50\n",
            "214/214 [==============================] - 1s 3ms/step - loss: 0.4457 - val_loss: 0.4492\n",
            "Epoch 41/50\n",
            "214/214 [==============================] - 1s 3ms/step - loss: 0.4449 - val_loss: 0.4502\n",
            "Epoch 42/50\n",
            "214/214 [==============================] - 1s 3ms/step - loss: 0.4446 - val_loss: 0.4499\n",
            "Epoch 43/50\n",
            "214/214 [==============================] - 1s 4ms/step - loss: 0.4448 - val_loss: 0.4498\n",
            "Epoch 44/50\n",
            "214/214 [==============================] - 1s 3ms/step - loss: 0.4440 - val_loss: 0.4496\n",
            "Epoch 45/50\n",
            "214/214 [==============================] - 1s 4ms/step - loss: 0.4443 - val_loss: 0.4506\n",
            "Epoch 00045: early stopping\n"
          ]
        },
        {
          "output_type": "execute_result",
          "data": {
            "text/plain": [
              "<keras.callbacks.History at 0x7f93105a1490>"
            ]
          },
          "metadata": {},
          "execution_count": 31
        }
      ]
    },
    {
      "cell_type": "markdown",
      "metadata": {
        "id": "kZt_3SNXGC9u"
      },
      "source": [
        "## Plot out the losses"
      ]
    },
    {
      "cell_type": "code",
      "metadata": {
        "id": "zhFIvO4YvR4x"
      },
      "source": [
        "losses = pd.DataFrame(model.history.history)"
      ],
      "execution_count": null,
      "outputs": []
    },
    {
      "cell_type": "code",
      "metadata": {
        "colab": {
          "base_uri": "https://localhost:8080/",
          "height": 283
        },
        "id": "lqw0L-8G1ibn",
        "outputId": "419c12ec-79ae-4fef-a2dc-dfa03a24cc92"
      },
      "source": [
        "losses.plot()"
      ],
      "execution_count": null,
      "outputs": [
        {
          "output_type": "execute_result",
          "data": {
            "text/plain": [
              "<matplotlib.axes._subplots.AxesSubplot at 0x7f930bc43110>"
            ]
          },
          "metadata": {},
          "execution_count": 33
        },
        {
          "output_type": "display_data",
          "data": {
            "image/png": "[encoded data removed]",
            "text/plain": [
              "<Figure size 432x288 with 1 Axes>"
            ]
          },
          "metadata": {
            "needs_background": "light"
          }
        }
      ]
    },
    {
      "cell_type": "markdown",
      "metadata": {
        "id": "j5c8hCXoGH5G"
      },
      "source": [
        "## Predict the X_test"
      ]
    },
    {
      "cell_type": "code",
      "metadata": {
        "id": "hqz7NgMv1j_M"
      },
      "source": [
        "predictions = (model.predict(X_test) >0.5).astype(\"int32\")"
      ],
      "execution_count": null,
      "outputs": []
    },
    {
      "cell_type": "code",
      "metadata": {
        "id": "QihkyhpQ17qU"
      },
      "source": [
        "from sklearn.metrics import classification_report, confusion_matrix"
      ],
      "execution_count": null,
      "outputs": []
    },
    {
      "cell_type": "markdown",
      "metadata": {
        "id": "dPq0fQ6lGLXg"
      },
      "source": [
        "## Bad result of Confusion & Classification Matrix"
      ]
    },
    {
      "cell_type": "code",
      "metadata": {
        "id": "frJGZ2bk2Cu1",
        "colab": {
          "base_uri": "https://localhost:8080/"
        },
        "outputId": "67cb69c3-555c-4c94-f763-5d3cabc18696"
      },
      "source": [
        "print(confusion_matrix(y_test,predictions))"
      ],
      "execution_count": null,
      "outputs": [
        {
          "output_type": "stream",
          "name": "stdout",
          "text": [
            "[[  172  4388]\n",
            " [  154 18761]]\n"
          ]
        }
      ]
    },
    {
      "cell_type": "code",
      "metadata": {
        "colab": {
          "base_uri": "https://localhost:8080/"
        },
        "id": "xv15BqV-10wB",
        "outputId": "5860112f-828b-42fd-963d-330f72765294"
      },
      "source": [
        "print(classification_report(y_test,predictions))"
      ],
      "execution_count": null,
      "outputs": [
        {
          "output_type": "stream",
          "name": "stdout",
          "text": [
            "              precision    recall  f1-score   support\n",
            "\n",
            "           0       0.53      0.04      0.07      4560\n",
            "           1       0.81      0.99      0.89     18915\n",
            "\n",
            "    accuracy                           0.81     23475\n",
            "   macro avg       0.67      0.51      0.48     23475\n",
            "weighted avg       0.76      0.81      0.73     23475\n",
            "\n"
          ]
        }
      ]
    },
    {
      "cell_type": "markdown",
      "metadata": {
        "id": "OH9MQSzn7LtF"
      },
      "source": [
        "This is clearly not good, and imbalanced, F1 score of default is very bad"
      ]
    },
    {
      "cell_type": "markdown",
      "metadata": {
        "id": "Re1kiWdU7Rnt"
      },
      "source": [
        "# '>>' Imbalance Handling : SMOTE Algorithm (Oversampling)"
      ]
    },
    {
      "cell_type": "code",
      "metadata": {
        "id": "LZMui-fS7YP3"
      },
      "source": [
        "from imblearn.over_sampling import SMOTE"
      ],
      "execution_count": null,
      "outputs": []
    },
    {
      "cell_type": "markdown",
      "metadata": {
        "id": "qweOv1UtDu_V"
      },
      "source": [
        "## Sampling your model for SMOTE"
      ]
    },
    {
      "cell_type": "code",
      "metadata": {
        "id": "L6EIw65E9fu3"
      },
      "source": [
        "sampling_df2 = df.sample(frac=0.5, random_state=101)"
      ],
      "execution_count": null,
      "outputs": []
    },
    {
      "cell_type": "markdown",
      "metadata": {
        "id": "46Jlrv8CD2mR"
      },
      "source": [
        "## Set the X & y, then train test split for SMOTE"
      ]
    },
    {
      "cell_type": "code",
      "metadata": {
        "id": "Ew-TGMrM78BI"
      },
      "source": [
        "smote_X = sampling_df2.drop('loan_status',axis=1).values\n",
        "smote_y = sampling_df2['loan_status'].values"
      ],
      "execution_count": null,
      "outputs": []
    },
    {
      "cell_type": "code",
      "metadata": {
        "id": "cwWGZrAj7zrt"
      },
      "source": [
        "X_train, X_test, y_train, y_test = train_test_split(smote_X,smote_y,test_size=0.2,random_state=101)"
      ],
      "execution_count": null,
      "outputs": []
    },
    {
      "cell_type": "code",
      "metadata": {
        "colab": {
          "base_uri": "https://localhost:8080/"
        },
        "id": "zohmw5is85EF",
        "outputId": "15ac1f24-3b4d-4ec3-fcd6-0fb9bc15c301"
      },
      "source": [
        "print(\"Before OverSampling, counts of label '1' TRAIN set: {}\".format(sum(y_train == 1)))\n",
        "print(\"Before OverSampling, counts of label '0' TRAIN set: {} \\n\".format(sum(y_train == 0)))\n",
        "print(\"Before OverSampling, counts of label '1' TEST set: {}\".format(sum(y_test == 1)))\n",
        "print(\"Before OverSampling, counts of label '0' TEST set: {} \\n\".format(sum(y_test == 0)))"
      ],
      "execution_count": null,
      "outputs": [
        {
          "output_type": "stream",
          "name": "stdout",
          "text": [
            "Before OverSampling, counts of label '1' TRAIN set: 125695\n",
            "Before OverSampling, counts of label '0' TRAIN set: 30800 \n",
            "\n",
            "Before OverSampling, counts of label '1' TEST set: 31420\n",
            "Before OverSampling, counts of label '0' TEST set: 7704 \n",
            "\n"
          ]
        }
      ]
    },
    {
      "cell_type": "markdown",
      "metadata": {
        "id": "iU5eP_boEegT"
      },
      "source": [
        "## Apply SMOTE to our train data both X & y"
      ]
    },
    {
      "cell_type": "code",
      "metadata": {
        "colab": {
          "base_uri": "https://localhost:8080/"
        },
        "id": "eQY94pmc7YKi",
        "outputId": "77e1b485-22a7-4b66-a7ad-d06189b38b7d"
      },
      "source": [
        "sm = SMOTE(random_state = 2)\n",
        "X_train_res, y_train_res = sm.fit_sample(X_train, y_train.ravel())"
      ],
      "execution_count": null,
      "outputs": [
        {
          "output_type": "stream",
          "name": "stderr",
          "text": [
            "/usr/local/lib/python3.7/dist-packages/sklearn/utils/deprecation.py:87: FutureWarning: Function safe_indexing is deprecated; safe_indexing is deprecated in version 0.22 and will be removed in version 0.24.\n",
            "  warnings.warn(msg, category=FutureWarning)\n"
          ]
        }
      ]
    },
    {
      "cell_type": "code",
      "metadata": {
        "colab": {
          "base_uri": "https://localhost:8080/"
        },
        "id": "RL9OllJ0_1KQ",
        "outputId": "84c2cf41-a0fb-421d-ac97-6f5928739e00"
      },
      "source": [
        "#X_test_res, y_test_res = sm.fit_sample(X_test,y_test.ravel())"
      ],
      "execution_count": null,
      "outputs": [
        {
          "output_type": "stream",
          "name": "stderr",
          "text": [
            "/usr/local/lib/python3.7/dist-packages/sklearn/utils/deprecation.py:87: FutureWarning: Function safe_indexing is deprecated; safe_indexing is deprecated in version 0.22 and will be removed in version 0.24.\n",
            "  warnings.warn(msg, category=FutureWarning)\n"
          ]
        }
      ]
    },
    {
      "cell_type": "code",
      "metadata": {
        "colab": {
          "base_uri": "https://localhost:8080/"
        },
        "id": "4g8hU2f97YDd",
        "outputId": "c9590da9-3c48-4892-8e3f-b7e79e92fa78"
      },
      "source": [
        "print('After OverSampling, the shape of train_X: {}'.format(X_train_res.shape))\n",
        "print('After OverSampling, the shape of train_y: {} \\n'.format(y_train_res.shape))\n",
        " \n",
        "print(\"After OverSampling, counts of label '1': {}\".format(sum(y_train_res == 1)))\n",
        "print(\"After OverSampling, counts of label '0': {}\".format(sum(y_train_res == 0)))"
      ],
      "execution_count": null,
      "outputs": [
        {
          "output_type": "stream",
          "name": "stdout",
          "text": [
            "After OverSampling, the shape of train_X: (251390, 52)\n",
            "After OverSampling, the shape of train_y: (251390,) \n",
            "\n",
            "After OverSampling, counts of label '1': 125695\n",
            "After OverSampling, counts of label '0': 125695\n"
          ]
        }
      ]
    },
    {
      "cell_type": "code",
      "metadata": {
        "id": "eJCTyzHmCeNo"
      },
      "source": [
        "#print('After OverSampling, the shape of test_X: {}'.format(X_test_res.shape))\n",
        "#print('After OverSampling, the shape of test_y: {} \\n'.format(y_test_res.shape))\n",
        " \n",
        "#print(\"After OverSampling, counts of label '1': {}\".format(sum(y_test_res == 1)))\n",
        "#print(\"After OverSampling, counts of label '0': {}\".format(sum(y_test_res == 0)))"
      ],
      "execution_count": null,
      "outputs": []
    },
    {
      "cell_type": "markdown",
      "metadata": {
        "id": "3W5tvyCyEx0U"
      },
      "source": [
        "## Standardization/Normalize the data using MinMaxScaler"
      ]
    },
    {
      "cell_type": "code",
      "metadata": {
        "id": "pypv73wa7YBf"
      },
      "source": [
        "scaler_smote = MinMaxScaler()\n",
        "X_train_res = scaler_smote.fit_transform(X_train_res)"
      ],
      "execution_count": null,
      "outputs": []
    },
    {
      "cell_type": "code",
      "metadata": {
        "id": "I8wFVZoy9NRl"
      },
      "source": [
        "X_test = scaler_smote.transform(X_test)"
      ],
      "execution_count": null,
      "outputs": []
    },
    {
      "cell_type": "markdown",
      "metadata": {
        "id": "rE5b2uvhFDh-"
      },
      "source": [
        "## Tensor Deep Learning"
      ]
    },
    {
      "cell_type": "code",
      "metadata": {
        "id": "29PxQGOO9NHz"
      },
      "source": [
        "model_smote = Sequential()\n",
        "\n",
        "model_smote.add(Dense(53,activation='relu'))\n",
        "model_smote.add(Dropout(0.2))\n",
        "\n",
        "model_smote.add(Dense(36,activation='relu'))\n",
        "model_smote.add(Dropout(0.2))\n",
        "\n",
        "model_smote.add(Dense(18,activation='relu'))\n",
        "model_smote.add(Dropout(0.2))\n",
        "\n",
        "model_smote.add(Dense(9,activation='relu'))\n",
        "model_smote.add(Dropout(0.2))\n",
        "\n",
        "# BINARY CLASSIFICATION\n",
        "model_smote.add(Dense(1,activation='sigmoid'))\n",
        "\n",
        "model_smote.compile(optimizer='adam',loss='binary_crossentropy')"
      ],
      "execution_count": null,
      "outputs": []
    },
    {
      "cell_type": "code",
      "metadata": {
        "id": "-qJ4ZEo3BF7k"
      },
      "source": [
        "early_stop = EarlyStopping(monitor='val_loss',mode='min',verbose=1,patience=25)"
      ],
      "execution_count": null,
      "outputs": []
    },
    {
      "cell_type": "code",
      "metadata": {
        "colab": {
          "base_uri": "https://localhost:8080/"
        },
        "id": "ogCU-1m09NGU",
        "outputId": "e602ab3b-15d6-4722-f33b-1c8c73acb227"
      },
      "source": [
        "model_smote.fit(x=X_train_res,y=y_train_res,epochs=50, batch_size=256,validation_data=(X_test,y_test),\n",
        "           callbacks=[early_stop])"
      ],
      "execution_count": null,
      "outputs": [
        {
          "output_type": "stream",
          "name": "stdout",
          "text": [
            "Epoch 1/50\n",
            "982/982 [==============================] - 4s 3ms/step - loss: 0.5628 - val_loss: 0.4909\n",
            "Epoch 2/50\n",
            "982/982 [==============================] - 3s 3ms/step - loss: 0.4622 - val_loss: 0.4960\n",
            "Epoch 3/50\n",
            "982/982 [==============================] - 3s 3ms/step - loss: 0.4229 - val_loss: 0.4655\n",
            "Epoch 4/50\n",
            "982/982 [==============================] - 3s 3ms/step - loss: 0.4014 - val_loss: 0.4656\n",
            "Epoch 5/50\n",
            "982/982 [==============================] - 3s 3ms/step - loss: 0.3888 - val_loss: 0.4718\n",
            "Epoch 6/50\n",
            "982/982 [==============================] - 3s 3ms/step - loss: 0.3791 - val_loss: 0.4618\n",
            "Epoch 7/50\n",
            "982/982 [==============================] - 3s 3ms/step - loss: 0.3735 - val_loss: 0.4664\n",
            "Epoch 8/50\n",
            "982/982 [==============================] - 3s 3ms/step - loss: 0.3685 - val_loss: 0.4651\n",
            "Epoch 9/50\n",
            "982/982 [==============================] - 3s 3ms/step - loss: 0.3649 - val_loss: 0.4608\n",
            "Epoch 10/50\n",
            "982/982 [==============================] - 3s 3ms/step - loss: 0.3611 - val_loss: 0.4809\n",
            "Epoch 11/50\n",
            "982/982 [==============================] - 3s 3ms/step - loss: 0.3590 - val_loss: 0.4696\n",
            "Epoch 12/50\n",
            "982/982 [==============================] - 3s 3ms/step - loss: 0.3567 - val_loss: 0.4583\n",
            "Epoch 13/50\n",
            "982/982 [==============================] - 3s 3ms/step - loss: 0.3550 - val_loss: 0.4629\n",
            "Epoch 14/50\n",
            "982/982 [==============================] - 3s 3ms/step - loss: 0.3532 - val_loss: 0.4640\n",
            "Epoch 15/50\n",
            "982/982 [==============================] - 3s 3ms/step - loss: 0.3519 - val_loss: 0.4690\n",
            "Epoch 16/50\n",
            "982/982 [==============================] - 3s 3ms/step - loss: 0.3500 - val_loss: 0.4619\n",
            "Epoch 17/50\n",
            "982/982 [==============================] - 3s 3ms/step - loss: 0.3495 - val_loss: 0.4659\n",
            "Epoch 18/50\n",
            "982/982 [==============================] - 3s 3ms/step - loss: 0.3477 - val_loss: 0.4625\n",
            "Epoch 19/50\n",
            "982/982 [==============================] - 3s 3ms/step - loss: 0.3470 - val_loss: 0.4646\n",
            "Epoch 20/50\n",
            "982/982 [==============================] - 3s 3ms/step - loss: 0.3459 - val_loss: 0.4578\n",
            "Epoch 21/50\n",
            "982/982 [==============================] - 3s 3ms/step - loss: 0.3452 - val_loss: 0.4685\n",
            "Epoch 22/50\n",
            "982/982 [==============================] - 3s 3ms/step - loss: 0.3450 - val_loss: 0.4617\n",
            "Epoch 23/50\n",
            "982/982 [==============================] - 3s 3ms/step - loss: 0.3445 - val_loss: 0.4594\n",
            "Epoch 24/50\n",
            "982/982 [==============================] - 3s 3ms/step - loss: 0.3432 - val_loss: 0.4643\n",
            "Epoch 25/50\n",
            "982/982 [==============================] - 3s 3ms/step - loss: 0.3431 - val_loss: 0.4640\n",
            "Epoch 26/50\n",
            "982/982 [==============================] - 3s 3ms/step - loss: 0.3432 - val_loss: 0.4634\n",
            "Epoch 27/50\n",
            "982/982 [==============================] - 3s 3ms/step - loss: 0.3415 - val_loss: 0.4566\n",
            "Epoch 28/50\n",
            "982/982 [==============================] - 3s 3ms/step - loss: 0.3412 - val_loss: 0.4653\n",
            "Epoch 29/50\n",
            "982/982 [==============================] - 3s 3ms/step - loss: 0.3412 - val_loss: 0.4590\n",
            "Epoch 30/50\n",
            "982/982 [==============================] - 3s 3ms/step - loss: 0.3404 - val_loss: 0.4603\n",
            "Epoch 31/50\n",
            "982/982 [==============================] - 3s 3ms/step - loss: 0.3405 - val_loss: 0.4622\n",
            "Epoch 32/50\n",
            "982/982 [==============================] - 3s 3ms/step - loss: 0.3396 - val_loss: 0.4645\n",
            "Epoch 33/50\n",
            "982/982 [==============================] - 3s 3ms/step - loss: 0.3407 - val_loss: 0.4568\n",
            "Epoch 34/50\n",
            "982/982 [==============================] - 3s 3ms/step - loss: 0.3391 - val_loss: 0.4650\n",
            "Epoch 35/50\n",
            "982/982 [==============================] - 3s 3ms/step - loss: 0.3398 - val_loss: 0.4577\n",
            "Epoch 36/50\n",
            "982/982 [==============================] - 3s 3ms/step - loss: 0.3404 - val_loss: 0.4637\n",
            "Epoch 37/50\n",
            "982/982 [==============================] - 3s 3ms/step - loss: 0.3388 - val_loss: 0.4628\n",
            "Epoch 38/50\n",
            "982/982 [==============================] - 3s 3ms/step - loss: 0.3384 - val_loss: 0.4624\n",
            "Epoch 39/50\n",
            "982/982 [==============================] - 3s 3ms/step - loss: 0.3379 - val_loss: 0.4577\n",
            "Epoch 40/50\n",
            "982/982 [==============================] - 3s 3ms/step - loss: 0.3375 - val_loss: 0.4593\n",
            "Epoch 41/50\n",
            "982/982 [==============================] - 3s 3ms/step - loss: 0.3379 - val_loss: 0.4588\n",
            "Epoch 42/50\n",
            "982/982 [==============================] - 3s 3ms/step - loss: 0.3383 - val_loss: 0.4572\n",
            "Epoch 43/50\n",
            "982/982 [==============================] - 3s 3ms/step - loss: 0.3380 - val_loss: 0.4576\n",
            "Epoch 44/50\n",
            "982/982 [==============================] - 3s 3ms/step - loss: 0.3369 - val_loss: 0.4569\n",
            "Epoch 45/50\n",
            "982/982 [==============================] - 3s 3ms/step - loss: 0.3366 - val_loss: 0.4737\n",
            "Epoch 46/50\n",
            "982/982 [==============================] - 3s 3ms/step - loss: 0.3368 - val_loss: 0.4594\n",
            "Epoch 47/50\n",
            "982/982 [==============================] - 3s 3ms/step - loss: 0.3373 - val_loss: 0.4581\n",
            "Epoch 48/50\n",
            "982/982 [==============================] - 3s 3ms/step - loss: 0.3356 - val_loss: 0.4633\n",
            "Epoch 49/50\n",
            "982/982 [==============================] - 3s 3ms/step - loss: 0.3353 - val_loss: 0.4586\n",
            "Epoch 50/50\n",
            "982/982 [==============================] - 3s 3ms/step - loss: 0.3354 - val_loss: 0.4594\n"
          ]
        },
        {
          "output_type": "execute_result",
          "data": {
            "text/plain": [
              "<keras.callbacks.History at 0x7fe46c5b7fd0>"
            ]
          },
          "metadata": {},
          "execution_count": 142
        }
      ]
    },
    {
      "cell_type": "markdown",
      "metadata": {
        "id": "nC1oC_WRFWES"
      },
      "source": [
        "## Plot out the losses"
      ]
    },
    {
      "cell_type": "code",
      "metadata": {
        "id": "HHuXCw0D-kDX"
      },
      "source": [
        "losses_smote = pd.DataFrame(model_smote.history.history)"
      ],
      "execution_count": null,
      "outputs": []
    },
    {
      "cell_type": "code",
      "metadata": {
        "colab": {
          "base_uri": "https://localhost:8080/",
          "height": 283
        },
        "id": "rQp_mqMz-kAN",
        "outputId": "b4bb5bc6-8931-4eb7-cb8f-5077e28aec17"
      },
      "source": [
        "losses_smote.plot()"
      ],
      "execution_count": null,
      "outputs": [
        {
          "output_type": "execute_result",
          "data": {
            "text/plain": [
              "<matplotlib.axes._subplots.AxesSubplot at 0x7fe440e788d0>"
            ]
          },
          "metadata": {},
          "execution_count": 144
        },
        {
          "output_type": "display_data",
          "data": {
            "image/png": "[encoded data removed]",
            "text/plain": [
              "<Figure size 432x288 with 1 Axes>"
            ]
          },
          "metadata": {
            "needs_background": "light"
          }
        }
      ]
    },
    {
      "cell_type": "markdown",
      "metadata": {
        "id": "o8tovi6MFZP-"
      },
      "source": [
        "## Predict the X_test_res"
      ]
    },
    {
      "cell_type": "code",
      "metadata": {
        "id": "AlVmK4Kq-j7K"
      },
      "source": [
        "predictions_smote = (model_smote.predict(X_test) >0.5).astype(\"int32\")"
      ],
      "execution_count": null,
      "outputs": []
    },
    {
      "cell_type": "markdown",
      "metadata": {
        "id": "HkhEAte2FeoO"
      },
      "source": [
        "## Voila Confusion & Classification Reports by SMOTE"
      ]
    },
    {
      "cell_type": "code",
      "metadata": {
        "colab": {
          "base_uri": "https://localhost:8080/"
        },
        "id": "h0kv5KyV-j5F",
        "outputId": "975a8a63-3cfc-4e94-8425-69f341f3453c"
      },
      "source": [
        "print(confusion_matrix(y_test,predictions_smote))"
      ],
      "execution_count": null,
      "outputs": [
        {
          "output_type": "stream",
          "name": "stdout",
          "text": [
            "[[  271  7433]\n",
            " [  248 31172]]\n"
          ]
        }
      ]
    },
    {
      "cell_type": "code",
      "metadata": {
        "colab": {
          "base_uri": "https://localhost:8080/"
        },
        "id": "gk5Sv8v8Bpbx",
        "outputId": "e606bfb7-ed2a-4dfc-935b-d7011e9d0886"
      },
      "source": [
        "print(classification_report(y_test,predictions_smote))"
      ],
      "execution_count": null,
      "outputs": [
        {
          "output_type": "stream",
          "name": "stdout",
          "text": [
            "              precision    recall  f1-score   support\n",
            "\n",
            "           0       0.52      0.04      0.07      7704\n",
            "           1       0.81      0.99      0.89     31420\n",
            "\n",
            "    accuracy                           0.80     39124\n",
            "   macro avg       0.66      0.51      0.48     39124\n",
            "weighted avg       0.75      0.80      0.73     39124\n",
            "\n"
          ]
        }
      ]
    },
    {
      "cell_type": "code",
      "metadata": {
        "id": "xdGe-h-mBpO6"
      },
      "source": [
        ""
      ],
      "execution_count": null,
      "outputs": []
    },
    {
      "cell_type": "markdown",
      "metadata": {
        "id": "y74FXet0Fwuo"
      },
      "source": [
        "# '>>' Imbalance Handling : Near Miss Algorithm (Undersampling)"
      ]
    },
    {
      "cell_type": "code",
      "metadata": {
        "id": "TbEtk87nF3wl"
      },
      "source": [
        "from imblearn.under_sampling import NearMiss"
      ],
      "execution_count": null,
      "outputs": []
    },
    {
      "cell_type": "code",
      "metadata": {
        "id": "uchVWcGWF3ta"
      },
      "source": [
        "nearmi_X = sampling_df2.drop('loan_status',axis=1).values\n",
        "nearmi_y = sampling_df2['loan_status'].values"
      ],
      "execution_count": null,
      "outputs": []
    },
    {
      "cell_type": "code",
      "metadata": {
        "id": "TtNJDqP5GMHY"
      },
      "source": [
        "X_train, X_test, y_train, y_test = train_test_split(nearmi_X,nearmi_y,test_size=0.2,random_state=101)"
      ],
      "execution_count": null,
      "outputs": []
    },
    {
      "cell_type": "code",
      "metadata": {
        "id": "dd9kl2CUF3rP"
      },
      "source": [
        "nr = NearMiss()"
      ],
      "execution_count": null,
      "outputs": []
    },
    {
      "cell_type": "code",
      "metadata": {
        "colab": {
          "base_uri": "https://localhost:8080/"
        },
        "id": "DqDch0ztGY48",
        "outputId": "aff5426a-07ad-4455-b043-8207adf950fe"
      },
      "source": [
        "print(\"Before Undersampling, counts of label '1': {}\".format(sum(y_train == 1)))\n",
        "print(\"Before Undersampling, counts of label '0': {} \\n\".format(sum(y_train == 0)))"
      ],
      "execution_count": null,
      "outputs": [
        {
          "output_type": "stream",
          "name": "stdout",
          "text": [
            "Before Undersampling, counts of label '1': 125695\n",
            "Before Undersampling, counts of label '0': 30800 \n",
            "\n"
          ]
        }
      ]
    },
    {
      "cell_type": "code",
      "metadata": {
        "colab": {
          "base_uri": "https://localhost:8080/"
        },
        "id": "ZKUr4FUTF3o-",
        "outputId": "069a3885-b102-4802-e3a8-605bfdc75132"
      },
      "source": [
        "X_train_miss, y_train_miss = nr.fit_sample(X_train, y_train.ravel())"
      ],
      "execution_count": null,
      "outputs": [
        {
          "output_type": "stream",
          "name": "stderr",
          "text": [
            "/usr/local/lib/python3.7/dist-packages/sklearn/utils/deprecation.py:87: FutureWarning: Function safe_indexing is deprecated; safe_indexing is deprecated in version 0.22 and will be removed in version 0.24.\n",
            "  warnings.warn(msg, category=FutureWarning)\n",
            "/usr/local/lib/python3.7/dist-packages/sklearn/utils/deprecation.py:87: FutureWarning: Function safe_indexing is deprecated; safe_indexing is deprecated in version 0.22 and will be removed in version 0.24.\n",
            "  warnings.warn(msg, category=FutureWarning)\n",
            "/usr/local/lib/python3.7/dist-packages/sklearn/utils/deprecation.py:87: FutureWarning: Function safe_indexing is deprecated; safe_indexing is deprecated in version 0.22 and will be removed in version 0.24.\n",
            "  warnings.warn(msg, category=FutureWarning)\n"
          ]
        }
      ]
    },
    {
      "cell_type": "code",
      "metadata": {
        "colab": {
          "base_uri": "https://localhost:8080/"
        },
        "id": "-eY5hrp3F3mR",
        "outputId": "23837bf6-b1c5-4abe-b332-3502a3f596ca"
      },
      "source": [
        "print('After Undersampling, the shape of train_X: {}'.format(X_train_miss.shape))\n",
        "print('After Undersampling, the shape of train_y: {} \\n'.format(y_train_miss.shape))\n",
        " \n",
        "print(\"After Undersampling, counts of label '1': {}\".format(sum(y_train_miss == 1)))\n",
        "print(\"After Undersampling, counts of label '0': {}\".format(sum(y_train_miss == 0)))"
      ],
      "execution_count": null,
      "outputs": [
        {
          "output_type": "stream",
          "name": "stdout",
          "text": [
            "After Undersampling, the shape of train_X: (61600, 54)\n",
            "After Undersampling, the shape of train_y: (61600,) \n",
            "\n",
            "After Undersampling, counts of label '1': 30800\n",
            "After Undersampling, counts of label '0': 30800\n"
          ]
        }
      ]
    },
    {
      "cell_type": "code",
      "metadata": {
        "id": "lrYFd6ZCF3ke"
      },
      "source": [
        "nearmi_scaler = MinMaxScaler()"
      ],
      "execution_count": null,
      "outputs": []
    },
    {
      "cell_type": "code",
      "metadata": {
        "id": "K3x99AC-F3fJ"
      },
      "source": [
        "X_train_miss = nearmi_scaler.fit_transform(X_train_miss)"
      ],
      "execution_count": null,
      "outputs": []
    },
    {
      "cell_type": "code",
      "metadata": {
        "id": "b4zR5GODF3dR"
      },
      "source": [
        "X_test = nearmi_scaler.transform(X_test)"
      ],
      "execution_count": null,
      "outputs": []
    },
    {
      "cell_type": "code",
      "metadata": {
        "id": "1MW2Q4AaF3ap"
      },
      "source": [
        "model_nearmi = Sequential()\n",
        "\n",
        "model_nearmi.add(Dense(54,activation='relu'))\n",
        "model_nearmi.add(Dropout(0.2))\n",
        "\n",
        "model_nearmi.add(Dense(36,activation='relu'))\n",
        "model_nearmi.add(Dropout(0.2))\n",
        "\n",
        "model_nearmi.add(Dense(18,activation='relu'))\n",
        "#model_nearmi.add(Dropout(0.2))\n",
        "\n",
        "# BINARY CLASSIFICATION\n",
        "model_nearmi.add(Dense(1,activation='sigmoid'))\n",
        "\n",
        "model_nearmi.compile(optimizer='adam',loss='binary_crossentropy')"
      ],
      "execution_count": null,
      "outputs": []
    },
    {
      "cell_type": "code",
      "metadata": {
        "colab": {
          "base_uri": "https://localhost:8080/"
        },
        "id": "9CN6jF9kHQqe",
        "outputId": "00afd1cb-3ac6-48b2-ccfb-91cb4ac00323"
      },
      "source": [
        "model_nearmi.fit(x=X_train_miss,y=y_train_miss,epochs=100, batch_size=256,validation_data=(X_test,y_test),\n",
        "           callbacks=[early_stop])"
      ],
      "execution_count": null,
      "outputs": [
        {
          "output_type": "stream",
          "name": "stdout",
          "text": [
            "Epoch 1/100\n",
            "241/241 [==============================] - 1s 4ms/step - loss: 0.6305 - val_loss: 0.4851\n",
            "Epoch 2/100\n",
            "241/241 [==============================] - 1s 3ms/step - loss: 0.5987 - val_loss: 0.5044\n",
            "Epoch 3/100\n",
            "241/241 [==============================] - 1s 3ms/step - loss: 0.5884 - val_loss: 0.5366\n",
            "Epoch 4/100\n",
            "241/241 [==============================] - 1s 4ms/step - loss: 0.5814 - val_loss: 0.5352\n",
            "Epoch 5/100\n",
            "241/241 [==============================] - 1s 3ms/step - loss: 0.5754 - val_loss: 0.5488\n",
            "Epoch 6/100\n",
            "241/241 [==============================] - 1s 3ms/step - loss: 0.5725 - val_loss: 0.5538\n",
            "Epoch 7/100\n",
            "241/241 [==============================] - 1s 4ms/step - loss: 0.5687 - val_loss: 0.5600\n",
            "Epoch 8/100\n",
            "241/241 [==============================] - 1s 3ms/step - loss: 0.5646 - val_loss: 0.5717\n",
            "Epoch 9/100\n",
            "241/241 [==============================] - 1s 3ms/step - loss: 0.5606 - val_loss: 0.5431\n",
            "Epoch 10/100\n",
            "241/241 [==============================] - 1s 3ms/step - loss: 0.5578 - val_loss: 0.5589\n",
            "Epoch 11/100\n",
            "241/241 [==============================] - 1s 3ms/step - loss: 0.5546 - val_loss: 0.5357\n",
            "Epoch 12/100\n",
            "241/241 [==============================] - 1s 3ms/step - loss: 0.5537 - val_loss: 0.5392\n",
            "Epoch 13/100\n",
            "241/241 [==============================] - 1s 3ms/step - loss: 0.5512 - val_loss: 0.5479\n",
            "Epoch 14/100\n",
            "241/241 [==============================] - 1s 3ms/step - loss: 0.5487 - val_loss: 0.5539\n",
            "Epoch 15/100\n",
            "241/241 [==============================] - 1s 4ms/step - loss: 0.5473 - val_loss: 0.5545\n",
            "Epoch 16/100\n",
            "241/241 [==============================] - 1s 3ms/step - loss: 0.5450 - val_loss: 0.5486\n",
            "Epoch 17/100\n",
            "241/241 [==============================] - 1s 3ms/step - loss: 0.5443 - val_loss: 0.5538\n",
            "Epoch 18/100\n",
            "241/241 [==============================] - 1s 4ms/step - loss: 0.5427 - val_loss: 0.5381\n",
            "Epoch 19/100\n",
            "241/241 [==============================] - 1s 3ms/step - loss: 0.5404 - val_loss: 0.5375\n",
            "Epoch 20/100\n",
            "241/241 [==============================] - 1s 3ms/step - loss: 0.5382 - val_loss: 0.5234\n",
            "Epoch 21/100\n",
            "241/241 [==============================] - 1s 3ms/step - loss: 0.5372 - val_loss: 0.5136\n",
            "Epoch 22/100\n",
            "241/241 [==============================] - 1s 3ms/step - loss: 0.5364 - val_loss: 0.5105\n",
            "Epoch 23/100\n",
            "241/241 [==============================] - 1s 4ms/step - loss: 0.5353 - val_loss: 0.5176\n",
            "Epoch 24/100\n",
            "241/241 [==============================] - 1s 3ms/step - loss: 0.5347 - val_loss: 0.5225\n",
            "Epoch 25/100\n",
            "241/241 [==============================] - 1s 3ms/step - loss: 0.5329 - val_loss: 0.4949\n",
            "Epoch 26/100\n",
            "241/241 [==============================] - 1s 3ms/step - loss: 0.5315 - val_loss: 0.5023\n",
            "Epoch 00026: early stopping\n"
          ]
        },
        {
          "output_type": "execute_result",
          "data": {
            "text/plain": [
              "<keras.callbacks.History at 0x7fe454863590>"
            ]
          },
          "metadata": {},
          "execution_count": 100
        }
      ]
    },
    {
      "cell_type": "code",
      "metadata": {
        "id": "_gen7XUSHQoz"
      },
      "source": [
        "losses_nearmi = pd.DataFrame(model_nearmi.history.history)"
      ],
      "execution_count": null,
      "outputs": []
    },
    {
      "cell_type": "code",
      "metadata": {
        "colab": {
          "base_uri": "https://localhost:8080/",
          "height": 283
        },
        "id": "cFY3bcX3HQm9",
        "outputId": "6ac53ef9-5404-49bb-b186-33b857072be9"
      },
      "source": [
        "losses_nearmi.plot()"
      ],
      "execution_count": null,
      "outputs": [
        {
          "output_type": "execute_result",
          "data": {
            "text/plain": [
              "<matplotlib.axes._subplots.AxesSubplot at 0x7fe44aecad50>"
            ]
          },
          "metadata": {},
          "execution_count": 102
        },
        {
          "output_type": "display_data",
          "data": {
            "image/png": "[encoded data removed]",
            "text/plain": [
              "<Figure size 432x288 with 1 Axes>"
            ]
          },
          "metadata": {
            "needs_background": "light"
          }
        }
      ]
    },
    {
      "cell_type": "code",
      "metadata": {
        "id": "SVJ21P53IKBZ"
      },
      "source": [
        "predictions_nearmi = (model_nearmi.predict(X_test) >0.5).astype(\"int32\")"
      ],
      "execution_count": null,
      "outputs": []
    },
    {
      "cell_type": "code",
      "metadata": {
        "colab": {
          "base_uri": "https://localhost:8080/"
        },
        "id": "vmmLfnMQHQhK",
        "outputId": "f28f4b88-198b-46be-8514-b673f2148f2a"
      },
      "source": [
        "print(confusion_matrix(y_test,predictions_nearmi))"
      ],
      "execution_count": null,
      "outputs": [
        {
          "output_type": "stream",
          "name": "stdout",
          "text": [
            "[[   37  7667]\n",
            " [   85 31335]]\n"
          ]
        }
      ]
    },
    {
      "cell_type": "code",
      "metadata": {
        "colab": {
          "base_uri": "https://localhost:8080/"
        },
        "id": "06XNwaq_HQfS",
        "outputId": "2e1d406d-d935-413e-c6a6-5d74fd48a876"
      },
      "source": [
        "print(classification_report(y_test,predictions_nearmi))"
      ],
      "execution_count": null,
      "outputs": [
        {
          "output_type": "stream",
          "name": "stdout",
          "text": [
            "              precision    recall  f1-score   support\n",
            "\n",
            "           0       0.31      0.09      0.14      7704\n",
            "           1       0.81      0.95      0.87     31420\n",
            "\n",
            "    accuracy                           0.78     39124\n",
            "   macro avg       0.56      0.52      0.51     39124\n",
            "weighted avg       0.71      0.78      0.73     39124\n",
            "\n"
          ]
        }
      ]
    },
    {
      "cell_type": "code",
      "metadata": {
        "id": "1QtQWIHMF3YI"
      },
      "source": [
        ""
      ],
      "execution_count": null,
      "outputs": []
    },
    {
      "cell_type": "markdown",
      "metadata": {
        "id": "hlBEy461Cufr"
      },
      "source": [
        "# '>>' Logistic Regression Method with SMOTE"
      ]
    },
    {
      "cell_type": "code",
      "metadata": {
        "id": "gykuIaN1Czrw"
      },
      "source": [
        "from sklearn.linear_model import LogisticRegression"
      ],
      "execution_count": null,
      "outputs": []
    },
    {
      "cell_type": "code",
      "metadata": {
        "id": "4-rS7SqdCzl5"
      },
      "source": [
        "logres_X = sampling_df2.drop('loan_status',axis=1).values\n",
        "logres_y = sampling_df2['loan_status'].values"
      ],
      "execution_count": null,
      "outputs": []
    },
    {
      "cell_type": "code",
      "metadata": {
        "id": "2FJ-wUsFCzjs"
      },
      "source": [
        "X_train, X_test, y_train, y_test = train_test_split(logres_X,logres_y,test_size=0.3,random_state=101)"
      ],
      "execution_count": null,
      "outputs": []
    },
    {
      "cell_type": "code",
      "metadata": {
        "id": "OyZ5YFsgDxwW"
      },
      "source": [
        "logres_scaler = MinMaxScaler()"
      ],
      "execution_count": null,
      "outputs": []
    },
    {
      "cell_type": "code",
      "metadata": {
        "id": "I1pVyRR9DxuL"
      },
      "source": [
        "X_train = logres_scaler.fit_transform(X_train)"
      ],
      "execution_count": null,
      "outputs": []
    },
    {
      "cell_type": "code",
      "metadata": {
        "id": "fGqTIzzADxpG"
      },
      "source": [
        "X_test = logres_scaler.transform(X_test)"
      ],
      "execution_count": null,
      "outputs": []
    },
    {
      "cell_type": "code",
      "metadata": {
        "id": "kaWOB5ISDxnD"
      },
      "source": [
        "logmodel = LogisticRegression(max_iter=10000)"
      ],
      "execution_count": null,
      "outputs": []
    },
    {
      "cell_type": "code",
      "metadata": {
        "colab": {
          "base_uri": "https://localhost:8080/"
        },
        "id": "CRWpSuwfCzgn",
        "outputId": "e13a7297-0fdf-4c19-dc0b-e66486cb19a0"
      },
      "source": [
        "logmodel.fit(X_train,y_train)"
      ],
      "execution_count": null,
      "outputs": [
        {
          "output_type": "execute_result",
          "data": {
            "text/plain": [
              "LogisticRegression(C=1.0, class_weight=None, dual=False, fit_intercept=True,\n",
              "                   intercept_scaling=1, l1_ratio=None, max_iter=10000,\n",
              "                   multi_class='auto', n_jobs=None, penalty='l2',\n",
              "                   random_state=None, solver='lbfgs', tol=0.0001, verbose=0,\n",
              "                   warm_start=False)"
            ]
          },
          "metadata": {},
          "execution_count": 41
        }
      ]
    },
    {
      "cell_type": "code",
      "metadata": {
        "id": "I_xpZmMzCzeq"
      },
      "source": [
        "logres_predictions = logmodel.predict(X_test)"
      ],
      "execution_count": null,
      "outputs": []
    },
    {
      "cell_type": "code",
      "metadata": {
        "colab": {
          "base_uri": "https://localhost:8080/"
        },
        "id": "uxKYh5imCzaN",
        "outputId": "04548460-6618-4a86-8114-431a9f725c60"
      },
      "source": [
        "confusion_matrix(y_test,logres_predictions)"
      ],
      "execution_count": null,
      "outputs": [
        {
          "output_type": "execute_result",
          "data": {
            "text/plain": [
              "array([[  872, 10732],\n",
              "       [  846, 46236]])"
            ]
          },
          "metadata": {},
          "execution_count": 44
        }
      ]
    },
    {
      "cell_type": "code",
      "metadata": {
        "colab": {
          "base_uri": "https://localhost:8080/"
        },
        "id": "5Izb5fJuCzXh",
        "outputId": "ba350950-8a99-4686-a5cc-6ccf8cd7cb6e"
      },
      "source": [
        "print(classification_report(y_test,logres_predictions))"
      ],
      "execution_count": null,
      "outputs": [
        {
          "output_type": "stream",
          "name": "stdout",
          "text": [
            "              precision    recall  f1-score   support\n",
            "\n",
            "           0       0.51      0.08      0.13     11604\n",
            "           1       0.81      0.98      0.89     47082\n",
            "\n",
            "    accuracy                           0.80     58686\n",
            "   macro avg       0.66      0.53      0.51     58686\n",
            "weighted avg       0.75      0.80      0.74     58686\n",
            "\n"
          ]
        }
      ]
    },
    {
      "cell_type": "code",
      "metadata": {
        "id": "TEU9EjP6CzUY"
      },
      "source": [
        ""
      ],
      "execution_count": null,
      "outputs": []
    },
    {
      "cell_type": "code",
      "metadata": {
        "id": "ee26LPVcCzQ-"
      },
      "source": [
        ""
      ],
      "execution_count": null,
      "outputs": []
    },
    {
      "cell_type": "markdown",
      "metadata": {
        "id": "bdJxoRxuGFsr"
      },
      "source": [
        "# Save my model"
      ]
    },
    {
      "cell_type": "code",
      "metadata": {
        "id": "bfRCieH613K-"
      },
      "source": [
        "from tensorflow.keras.models import load_model"
      ],
      "execution_count": null,
      "outputs": []
    },
    {
      "cell_type": "code",
      "metadata": {
        "id": "2Ob-oxnqGm6m"
      },
      "source": [
        "folderpath = '/content/drive/MyDrive/13. Python/Machine Learning/TensorFlow_FILES/DATA/'"
      ],
      "execution_count": null,
      "outputs": []
    },
    {
      "cell_type": "code",
      "metadata": {
        "id": "dD5Qy7trGMAo"
      },
      "source": [
        "model2.save(folderpath+'LendingClub_model.h5')"
      ],
      "execution_count": null,
      "outputs": []
    },
    {
      "cell_type": "code",
      "metadata": {
        "id": "5CKCkyRnGtmu"
      },
      "source": [
        ""
      ],
      "execution_count": null,
      "outputs": []
    },
    {
      "cell_type": "markdown",
      "metadata": {
        "id": "-ahUMGwrnNlD"
      },
      "source": [
        "# Further read for imbalanced dataset"
      ]
    },
    {
      "cell_type": "markdown",
      "metadata": {
        "id": "fh62hvf-nTBy"
      },
      "source": [
        "https://www.kdnuggets.com/2018/12/handling-imbalanced-datasets-deep-learning.html\n",
        "\n",
        "https://stackoverflow.com/questions/35049379/training-on-imbalanced-data-using-tensorflow\n",
        "\n",
        "https://www.tensorflow.org/tutorials/structured_data/imbalanced_data\n",
        "\n",
        "https://machinelearningmastery.com/smote-oversampling-for-imbalanced-classification/\n",
        "\n",
        "https://www.geeksforgeeks.org/ml-handling-imbalanced-data-with-smote-and-near-miss-algorithm-in-python/\n",
        "\n",
        "https://www.machinecurve.com/index.php/2020/11/10/working-with-imbalanced-datasets-with-tensorflow-and-keras/"
      ]
    },
    {
      "cell_type": "code",
      "metadata": {
        "id": "ABZbCve54WRT"
      },
      "source": [
        ""
      ],
      "execution_count": null,
      "outputs": []
    },
    {
      "cell_type": "code",
      "metadata": {
        "id": "1bDIIhrU2pAk"
      },
      "source": [
        ""
      ],
      "execution_count": null,
      "outputs": []
    }
  ]
}